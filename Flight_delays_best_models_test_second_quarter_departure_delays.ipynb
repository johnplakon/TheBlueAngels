{
 "cells": [
  {
   "cell_type": "markdown",
   "metadata": {},
   "source": [
    "#### A Test to See How Our Best Models Predict Delays with the Real Data from the Second Quarter 2019!"
   ]
  },
  {
   "cell_type": "code",
   "execution_count": 2,
   "metadata": {},
   "outputs": [],
   "source": [
    "import pandas as pd\n",
    "import numpy as np\n",
    "import seaborn as sns\n",
    "import matplotlib.pyplot as plt\n",
    "%matplotlib inline\n",
    "\n",
    "import seaborn as sns\n",
    "import time\n",
    "\n",
    "import warnings\n",
    "warnings.simplefilter('ignore')\n",
    "\n",
    "# RNG used for seeding\n",
    "rng = int(np.random.randint(low=1, high=2000, size=1))"
   ]
  },
  {
   "cell_type": "code",
   "execution_count": 7,
   "metadata": {
    "scrolled": false
   },
   "outputs": [
    {
     "data": {
      "text/html": [
       "<div>\n",
       "<style scoped>\n",
       "    .dataframe tbody tr th:only-of-type {\n",
       "        vertical-align: middle;\n",
       "    }\n",
       "\n",
       "    .dataframe tbody tr th {\n",
       "        vertical-align: top;\n",
       "    }\n",
       "\n",
       "    .dataframe thead th {\n",
       "        text-align: right;\n",
       "    }\n",
       "</style>\n",
       "<table border=\"1\" class=\"dataframe\">\n",
       "  <thead>\n",
       "    <tr style=\"text-align: right;\">\n",
       "      <th></th>\n",
       "      <th>Machine Learning Procedure</th>\n",
       "      <th>Model Variable</th>\n",
       "      <th>Model Type</th>\n",
       "      <th>Features</th>\n",
       "      <th>Test Data R2</th>\n",
       "    </tr>\n",
       "  </thead>\n",
       "  <tbody>\n",
       "    <tr>\n",
       "      <th>0</th>\n",
       "      <td>Linear Regression</td>\n",
       "      <td>Depature Delay</td>\n",
       "      <td>Linear Regression</td>\n",
       "      <td>19</td>\n",
       "      <td>0.95420</td>\n",
       "    </tr>\n",
       "    <tr>\n",
       "      <th>1</th>\n",
       "      <td></td>\n",
       "      <td>Arrival Delay</td>\n",
       "      <td>Linear Regression</td>\n",
       "      <td>19</td>\n",
       "      <td>0.95370</td>\n",
       "    </tr>\n",
       "    <tr>\n",
       "      <th>2</th>\n",
       "      <td>Logistic Regression</td>\n",
       "      <td>Departure Delay</td>\n",
       "      <td>Logistic Regression</td>\n",
       "      <td>10</td>\n",
       "      <td>0.95860</td>\n",
       "    </tr>\n",
       "    <tr>\n",
       "      <th>3</th>\n",
       "      <td></td>\n",
       "      <td>Departure Delay Over 15 Minutes</td>\n",
       "      <td>Logistic Regression</td>\n",
       "      <td>10</td>\n",
       "      <td>0.99000</td>\n",
       "    </tr>\n",
       "    <tr>\n",
       "      <th>4</th>\n",
       "      <td></td>\n",
       "      <td>Arrival Delay</td>\n",
       "      <td>Logistic Regression</td>\n",
       "      <td>18</td>\n",
       "      <td>0.88540</td>\n",
       "    </tr>\n",
       "    <tr>\n",
       "      <th>5</th>\n",
       "      <td>Decision Tree</td>\n",
       "      <td>Departure Delay</td>\n",
       "      <td>Decision Tree + PCA</td>\n",
       "      <td>10</td>\n",
       "      <td>0.98665</td>\n",
       "    </tr>\n",
       "    <tr>\n",
       "      <th>6</th>\n",
       "      <td>Random Forest</td>\n",
       "      <td>Arrival Delay</td>\n",
       "      <td>Random Forest</td>\n",
       "      <td>18</td>\n",
       "      <td>0.84300</td>\n",
       "    </tr>\n",
       "    <tr>\n",
       "      <th>7</th>\n",
       "      <td></td>\n",
       "      <td>Arrival Delay 3 Categories</td>\n",
       "      <td>Random Forest</td>\n",
       "      <td>18</td>\n",
       "      <td>0.85860</td>\n",
       "    </tr>\n",
       "    <tr>\n",
       "      <th>8</th>\n",
       "      <td>Stochastic Gradient Boosting</td>\n",
       "      <td>Departure Delay Over 15 Minutes</td>\n",
       "      <td>Scaled Stochastic Gradient Boosting</td>\n",
       "      <td>10</td>\n",
       "      <td>0.99000</td>\n",
       "    </tr>\n",
       "    <tr>\n",
       "      <th>9</th>\n",
       "      <td></td>\n",
       "      <td>Departure Delay 3 Categories</td>\n",
       "      <td>Scaled Stochastic Gradient Boosting</td>\n",
       "      <td>23</td>\n",
       "      <td>0.81210</td>\n",
       "    </tr>\n",
       "    <tr>\n",
       "      <th>10</th>\n",
       "      <td></td>\n",
       "      <td>Arrival Delay</td>\n",
       "      <td>Scaled Stochastic Gradient Boosting</td>\n",
       "      <td>26</td>\n",
       "      <td>0.88950</td>\n",
       "    </tr>\n",
       "    <tr>\n",
       "      <th>11</th>\n",
       "      <td></td>\n",
       "      <td>Arrival Delay Over 15 Minutes</td>\n",
       "      <td>Scaled Stochastic Gradient Boosting</td>\n",
       "      <td>26</td>\n",
       "      <td>0.99770</td>\n",
       "    </tr>\n",
       "    <tr>\n",
       "      <th>12</th>\n",
       "      <td>Stochastic Gradient Descending</td>\n",
       "      <td>Departure Delay Over 15 Minutes</td>\n",
       "      <td>Scaled Stochastic Gradient Descending + PCA</td>\n",
       "      <td>10</td>\n",
       "      <td>0.99000</td>\n",
       "    </tr>\n",
       "    <tr>\n",
       "      <th>13</th>\n",
       "      <td></td>\n",
       "      <td>Arrival Delay Over 15 Minutes</td>\n",
       "      <td>Scaled Stochastic Gradient Descending</td>\n",
       "      <td>33</td>\n",
       "      <td>0.83730</td>\n",
       "    </tr>\n",
       "  </tbody>\n",
       "</table>\n",
       "</div>"
      ],
      "text/plain": [
       "        Machine Learning Procedure                   Model Variable  \\\n",
       "0                Linear Regression                   Depature Delay   \n",
       "1                                                     Arrival Delay   \n",
       "2              Logistic Regression                  Departure Delay   \n",
       "3                                   Departure Delay Over 15 Minutes   \n",
       "4                                                     Arrival Delay   \n",
       "5                    Decision Tree                  Departure Delay   \n",
       "6                    Random Forest                    Arrival Delay   \n",
       "7                                        Arrival Delay 3 Categories   \n",
       "8     Stochastic Gradient Boosting  Departure Delay Over 15 Minutes   \n",
       "9                                      Departure Delay 3 Categories   \n",
       "10                                                    Arrival Delay   \n",
       "11                                    Arrival Delay Over 15 Minutes   \n",
       "12  Stochastic Gradient Descending  Departure Delay Over 15 Minutes   \n",
       "13                                    Arrival Delay Over 15 Minutes   \n",
       "\n",
       "                                     Model Type  Features  Test Data R2  \n",
       "0                             Linear Regression        19       0.95420  \n",
       "1                             Linear Regression        19       0.95370  \n",
       "2                           Logistic Regression        10       0.95860  \n",
       "3                           Logistic Regression        10       0.99000  \n",
       "4                           Logistic Regression        18       0.88540  \n",
       "5                           Decision Tree + PCA        10       0.98665  \n",
       "6                                 Random Forest        18       0.84300  \n",
       "7                                 Random Forest        18       0.85860  \n",
       "8           Scaled Stochastic Gradient Boosting        10       0.99000  \n",
       "9           Scaled Stochastic Gradient Boosting        23       0.81210  \n",
       "10          Scaled Stochastic Gradient Boosting        26       0.88950  \n",
       "11          Scaled Stochastic Gradient Boosting        26       0.99770  \n",
       "12  Scaled Stochastic Gradient Descending + PCA        10       0.99000  \n",
       "13        Scaled Stochastic Gradient Descending        33       0.83730  "
      ]
     },
     "execution_count": 7,
     "metadata": {},
     "output_type": "execute_result"
    }
   ],
   "source": [
    "# Best models of all techniques tested\n",
    "Best_model_outcomes = {\n",
    "    \"Machine Learning Procedure\": [\"Linear Regression\", \"\", \"Logistic Regression\", \"\", \"\", \"Decision Tree\", \"Random Forest\", \\\n",
    "                     \"\", \"Stochastic Gradient Boosting\", \"\", \"\", \"\", \"Stochastic Gradient Descending\", \"\"],\n",
    "    \n",
    "    \n",
    "    \"Model Variable\": [\"Depature Delay\", \"Arrival Delay\", \\\n",
    "              \"Departure Delay\", \"Departure Delay Over 15 Minutes\", \"Arrival Delay\", \\\n",
    "              \"Departure Delay\", \"Arrival Delay\", \"Arrival Delay 3 Categories\", \\\n",
    "              \"Departure Delay Over 15 Minutes\", \"Departure Delay 3 Categories\", \\\n",
    "              \"Arrival Delay\", \"Arrival Delay Over 15 Minutes\", \\\n",
    "              \"Departure Delay Over 15 Minutes\", \"Arrival Delay Over 15 Minutes\"],\n",
    "    \n",
    "    \n",
    "    \"Model Type\": [\"Linear Regression\", \"Linear Regression\", \\\n",
    "                    \"Logistic Regression\", \"Logistic Regression\", \"Logistic Regression\", \\\n",
    "                    \"Decision Tree + PCA\", \"Random Forest\", \"Random Forest\", \\\n",
    "                    \"Scaled Stochastic Gradient Boosting\", \"Scaled Stochastic Gradient Boosting\", \\\n",
    "                    \"Scaled Stochastic Gradient Boosting\", \"Scaled Stochastic Gradient Boosting\", \\\n",
    "                    \"Scaled Stochastic Gradient Descending + PCA\", \"Scaled Stochastic Gradient Descending\"],\n",
    "    \n",
    "    \n",
    "    \"Features\": [19, 19, 10, 10, 18, 10, 18, 18, 10, 23, 26, 26, 10, 33],\n",
    "    \n",
    "    \"Test Data R2\": [.9542, .9537, .9586, .99, .8854, .98665, .843, .8586, .99, .8121, .8895, .9977, .99, .8373]\n",
    "    \n",
    "                }\n",
    "\n",
    "Best_model_outcomes_df = pd.DataFrame(Best_model_outcomes)\n",
    "Best_model_outcomes_df"
   ]
  },
  {
   "cell_type": "code",
   "execution_count": 2,
   "metadata": {},
   "outputs": [
    {
     "data": {
      "text/html": [
       "<div>\n",
       "<style scoped>\n",
       "    .dataframe tbody tr th:only-of-type {\n",
       "        vertical-align: middle;\n",
       "    }\n",
       "\n",
       "    .dataframe tbody tr th {\n",
       "        vertical-align: top;\n",
       "    }\n",
       "\n",
       "    .dataframe thead th {\n",
       "        text-align: right;\n",
       "    }\n",
       "</style>\n",
       "<table border=\"1\" class=\"dataframe\">\n",
       "  <thead>\n",
       "    <tr style=\"text-align: right;\">\n",
       "      <th></th>\n",
       "      <th>Model Variable</th>\n",
       "      <th>Model Type</th>\n",
       "      <th>Features</th>\n",
       "      <th>Test Data R2</th>\n",
       "      <th>Second Quarter R2</th>\n",
       "    </tr>\n",
       "  </thead>\n",
       "  <tbody>\n",
       "    <tr>\n",
       "      <th>0</th>\n",
       "      <td>Depature Delay</td>\n",
       "      <td>Linear Regression</td>\n",
       "      <td>10</td>\n",
       "      <td>0.9431</td>\n",
       "      <td>0.94</td>\n",
       "    </tr>\n",
       "    <tr>\n",
       "      <th>1</th>\n",
       "      <td>Departure Delay Over 15 Minutes</td>\n",
       "      <td>Scaled Stochastic Gradient Descending + PCA</td>\n",
       "      <td>10</td>\n",
       "      <td>0.99</td>\n",
       "      <td>0.9977</td>\n",
       "    </tr>\n",
       "    <tr>\n",
       "      <th>2</th>\n",
       "      <td>Departure Delay 3 Categories</td>\n",
       "      <td>Scaled Stochastic Gradient Boosting</td>\n",
       "      <td>23</td>\n",
       "      <td>0.8121</td>\n",
       "      <td>0.5776</td>\n",
       "    </tr>\n",
       "    <tr>\n",
       "      <th>3</th>\n",
       "      <td></td>\n",
       "      <td></td>\n",
       "      <td></td>\n",
       "      <td></td>\n",
       "      <td></td>\n",
       "    </tr>\n",
       "    <tr>\n",
       "      <th>4</th>\n",
       "      <td>Arrival Delay</td>\n",
       "      <td>Linear Regression</td>\n",
       "      <td>16</td>\n",
       "      <td>0.9537</td>\n",
       "      <td>0.9609</td>\n",
       "    </tr>\n",
       "    <tr>\n",
       "      <th>5</th>\n",
       "      <td>Arrival Delay</td>\n",
       "      <td>Logistic Regression</td>\n",
       "      <td>18</td>\n",
       "      <td>0.8847</td>\n",
       "      <td>0.5172</td>\n",
       "    </tr>\n",
       "    <tr>\n",
       "      <th>6</th>\n",
       "      <td>Arrival Delay Over 15 Minutes</td>\n",
       "      <td>Scaled Stochastic Gradient Boosting</td>\n",
       "      <td>26</td>\n",
       "      <td>0.9977</td>\n",
       "      <td>0.7079</td>\n",
       "    </tr>\n",
       "    <tr>\n",
       "      <th>7</th>\n",
       "      <td>Arrival Delay 3 Categories</td>\n",
       "      <td>Logistic Regression</td>\n",
       "      <td>32</td>\n",
       "      <td>0.8981</td>\n",
       "      <td>0.5088</td>\n",
       "    </tr>\n",
       "    <tr>\n",
       "      <th>8</th>\n",
       "      <td></td>\n",
       "      <td></td>\n",
       "      <td></td>\n",
       "      <td></td>\n",
       "      <td></td>\n",
       "    </tr>\n",
       "  </tbody>\n",
       "</table>\n",
       "</div>"
      ],
      "text/plain": [
       "                    Model Variable  \\\n",
       "0                   Depature Delay   \n",
       "1  Departure Delay Over 15 Minutes   \n",
       "2     Departure Delay 3 Categories   \n",
       "3                                    \n",
       "4                    Arrival Delay   \n",
       "5                    Arrival Delay   \n",
       "6    Arrival Delay Over 15 Minutes   \n",
       "7       Arrival Delay 3 Categories   \n",
       "8                                    \n",
       "\n",
       "                                    Model Type Features Test Data R2  \\\n",
       "0                            Linear Regression       10       0.9431   \n",
       "1  Scaled Stochastic Gradient Descending + PCA       10         0.99   \n",
       "2          Scaled Stochastic Gradient Boosting       23       0.8121   \n",
       "3                                                                      \n",
       "4                            Linear Regression       16       0.9537   \n",
       "5                          Logistic Regression       18       0.8847   \n",
       "6          Scaled Stochastic Gradient Boosting       26       0.9977   \n",
       "7                          Logistic Regression       32       0.8981   \n",
       "8                                                                      \n",
       "\n",
       "  Second Quarter R2  \n",
       "0              0.94  \n",
       "1            0.9977  \n",
       "2            0.5776  \n",
       "3                    \n",
       "4            0.9609  \n",
       "5            0.5172  \n",
       "6            0.7079  \n",
       "7            0.5088  \n",
       "8                    "
      ]
     },
     "execution_count": 2,
     "metadata": {},
     "output_type": "execute_result"
    }
   ],
   "source": [
    "# Best models for the 6 tested dependent variables.\n",
    "# 4 over 95%, the other two over 89% and 81%.  Seems like it is time to compare with the real data.\n",
    "Best_model = {\n",
    "    \"Model Variable\": [\"Depature Delay\", \"Departure Delay Over 15 Minutes\", \"Departure Delay 3 Categories\", \"\", \\\n",
    "              \"Arrival Delay\", \"Arrival Delay\", \"Arrival Delay Over 15 Minutes\", \"Arrival Delay 3 Categories\", \"\"],\n",
    "    \n",
    "    \n",
    "    \n",
    "    \"Model Type\": [\"Linear Regression\", \"Scaled Stochastic Gradient Descending + PCA\", \\\n",
    "                   \"Scaled Stochastic Gradient Boosting\", \"\", \"Linear Regression\", \"Logistic Regression\", \\\n",
    "                   \"Scaled Stochastic Gradient Boosting\", \"Logistic Regression\", \"\"],\n",
    "    \n",
    "    \n",
    "    \n",
    "    \"Features\": [10, 10, 23, \"\", 16, 18, 26, 32, \"\"],\n",
    "    \n",
    "    \"Test Data R2\": [.9431, .99, .8121, \"\", .9537, .8847, .9977, .8981, \"\"],\n",
    "    \n",
    "    \"Second Quarter R2\": [.94, .9977, .5776, \"\", .9609, .5172, .7079, .5088, \"\"]\n",
    "    \n",
    "                }\n",
    "\n",
    "Best_model_df = pd.DataFrame(Best_model)\n",
    "Best_model_df"
   ]
  },
  {
   "cell_type": "code",
   "execution_count": 2,
   "metadata": {},
   "outputs": [],
   "source": [
    "# Get the second quarter in for compare with the best models\n",
    "delays_df = pd.read_csv(\"Delay_second_quarter.csv\")"
   ]
  },
  {
   "cell_type": "markdown",
   "metadata": {},
   "source": [
    "#### All of the following cells are additional cleaning and variables added so the second quarter will match up with the first quarter.  Utilizing it as X_test should not create any issues after these are done.  "
   ]
  },
  {
   "cell_type": "code",
   "execution_count": 3,
   "metadata": {},
   "outputs": [],
   "source": [
    "# Blank all Nan rows\n",
    "delays_df = delays_df.fillna(0)"
   ]
  },
  {
   "cell_type": "code",
   "execution_count": 4,
   "metadata": {},
   "outputs": [],
   "source": [
    "# Dummy variables for east/west coast.  Fixed to use longitude.\n",
    "\n",
    "delays_df['EAST_COAST_ORIGIN'] = 1*np.ravel(delays_df[\"ORIGIN_LONGITUDE\"] >= -83)\n",
    "delays_df['EAST_COAST_DEST'] = 1*np.ravel(delays_df[\"DEST_LONGITUDE\"] >= -83)\n",
    "delays_df['WEST_COAST_ORIGIN'] = 1*np.ravel(delays_df[\"ORIGIN_LONGITUDE\"] <= -114)\n",
    "delays_df['WEST_COAST_DEST'] = 1*np.ravel(delays_df[\"DEST_LONGITUDE\"] <= -114)"
   ]
  },
  {
   "cell_type": "code",
   "execution_count": 5,
   "metadata": {},
   "outputs": [],
   "source": [
    "# pd.get_dummies was using too much memory so the following methods are used in its place for dummy variables.\n",
    "# Create more dummy variables for categorical data:\n",
    "\n",
    "Weekday = {\n",
    "           \"Monday\": 1,\n",
    "           \"Tueday\": 2, \n",
    "           \"Wednesday\": 3, \n",
    "           \"Thursday\" : 4,\n",
    "           \"Friday\": 5,\n",
    "           \"Saturday\": 6,\n",
    "           \"Sunday\": 7\n",
    "          }\n",
    "\n",
    "Airline = {\n",
    "        \"UA\": 1,\n",
    "        \"AA\": 2,\n",
    "        \"9E\": 3,\n",
    "        \"B6\": 4,\n",
    "        \"EV\": 5,\n",
    "        \"F9\": 6,\n",
    "        \"G4\": 7,\n",
    "        \"HA\": 8,\n",
    "        \"MQ\": 9,\n",
    "        \"NK\": 10,\n",
    "        \"OH\": 11,\n",
    "        \"OO\": 12,\n",
    "        \"VX\": 13,\n",
    "        \"WN\": 14,\n",
    "        \"YV\": 15,\n",
    "        \"YX\": 16,\n",
    "        \"AS\": 17,\n",
    "        \"DL\": 18\n",
    "}"
   ]
  },
  {
   "cell_type": "code",
   "execution_count": 6,
   "metadata": {},
   "outputs": [],
   "source": [
    "# Create the weekday dummy variable\n",
    "delays_df['WEEKDAY_DUMMY'] = delays_df['WEEKDAY'].apply(  \\\n",
    "                            lambda x: next((y for z, y in Weekday.items() if x in z), 0))"
   ]
  },
  {
   "cell_type": "code",
   "execution_count": 7,
   "metadata": {},
   "outputs": [],
   "source": [
    "# Create the airline dummy variable\n",
    "delays_df['AIRLINE_DUMMY'] = delays_df['OP_CARRIER'].apply(  \\\n",
    "                            lambda x: next((y for z, y in Airline.items() if x in z), 0))"
   ]
  },
  {
   "cell_type": "code",
   "execution_count": 8,
   "metadata": {},
   "outputs": [],
   "source": [
    "# Create a categorical departure delay dummy variable.\n",
    "delay_dict = {0: \"On Time\", 1: \"Delayed\"}\n",
    "delays_df[\"DEPARTURE_DELAY_DUMMY\"]=delays_df[\"DEPARTURE_DELAY\"].copy()\n",
    "delays_df[\"DEPARTURE_DELAY\"].replace(delay_dict, inplace = True)"
   ]
  },
  {
   "cell_type": "code",
   "execution_count": 9,
   "metadata": {},
   "outputs": [],
   "source": [
    "# Create a categorical arrival delay dummy variable.\n",
    "arrive_dict = {0: \"On Time\", 1: \"Delayed\"}\n",
    "delays_df[\"ARRIVAL_DELAY_DUMMY\"]=delays_df[\"ARRIVAL_DELAY\"].copy()\n",
    "delays_df[\"ARRIVAL_DELAY\"].replace(delay_dict, inplace = True)"
   ]
  },
  {
   "cell_type": "code",
   "execution_count": 10,
   "metadata": {},
   "outputs": [],
   "source": [
    "# Dictionary for on time, small delay of less than 15 minutes and long delay of over 15 minutes.\n",
    "Delay_dict = {range(-4000, 1): \"On Time\",\n",
    "               range(1, 16): 'Small Delay', \n",
    "               range(16, 4000): 'Long Delay',}"
   ]
  },
  {
   "cell_type": "code",
   "execution_count": 11,
   "metadata": {},
   "outputs": [
    {
     "name": "stdout",
     "output_type": "stream",
     "text": [
      "538.5294439792633 seconds\n"
     ]
    }
   ],
   "source": [
    "# Apply the delay dictionary to categorize departing and arriving delays.\n",
    "# These both take quite a bit of time to process but use very little system resources.  \n",
    "# Such is the tradeoff of dealing with big data...\n",
    "\n",
    "start = time.time()\n",
    "delays_df['DEPARTURE_DELAY_TEST'] = delays_df['DEP_DELAY'].apply(  \\\n",
    "                            lambda x: next((y for z, y in Delay_dict.items() if x in z), 0))\n",
    "end = time.time()\n",
    "print(f\"{end-start} seconds\")"
   ]
  },
  {
   "cell_type": "code",
   "execution_count": 12,
   "metadata": {},
   "outputs": [
    {
     "name": "stdout",
     "output_type": "stream",
     "text": [
      "544.191000699997 seconds\n"
     ]
    }
   ],
   "source": [
    "start = time.time()\n",
    "delays_df['ARRIVAL_DELAY_TEST'] = delays_df['ARR_DELAY'].apply(  \\\n",
    "                            lambda x: next((y for z, y in Delay_dict.items() if x in z), 0))\n",
    "end = time.time()\n",
    "print(f\"{end-start} seconds\")"
   ]
  },
  {
   "cell_type": "code",
   "execution_count": 3,
   "metadata": {},
   "outputs": [
    {
     "ename": "NameError",
     "evalue": "name 'delays_df' is not defined",
     "output_type": "error",
     "traceback": [
      "\u001b[1;31m---------------------------------------------------------------------------\u001b[0m",
      "\u001b[1;31mNameError\u001b[0m                                 Traceback (most recent call last)",
      "\u001b[1;32m<ipython-input-3-e0895a4af083>\u001b[0m in \u001b[0;36m<module>\u001b[1;34m\u001b[0m\n\u001b[0;32m      1\u001b[0m \u001b[1;31m# Output as new csv.\u001b[0m\u001b[1;33m\u001b[0m\u001b[1;33m\u001b[0m\u001b[1;33m\u001b[0m\u001b[0m\n\u001b[1;32m----> 2\u001b[1;33m \u001b[0mdelays_df\u001b[0m\u001b[1;33m.\u001b[0m\u001b[0mto_csv\u001b[0m\u001b[1;33m(\u001b[0m\u001b[1;34m\"Delay_second_quarter2.csv\"\u001b[0m\u001b[1;33m,\u001b[0m\u001b[0mindex\u001b[0m\u001b[1;33m=\u001b[0m\u001b[1;32mFalse\u001b[0m\u001b[1;33m)\u001b[0m\u001b[1;33m\u001b[0m\u001b[1;33m\u001b[0m\u001b[0m\n\u001b[0m",
      "\u001b[1;31mNameError\u001b[0m: name 'delays_df' is not defined"
     ]
    }
   ],
   "source": [
    "# Output as new csv.\n",
    "delays_df.to_csv(\"Delay_second_quarter2.csv\",index=False)"
   ]
  },
  {
   "cell_type": "code",
   "execution_count": 14,
   "metadata": {},
   "outputs": [],
   "source": [
    "# Check to make sure everything worked\n",
    "delays_df2 = pd.read_csv(\"Delay_second_quarter2.csv\")"
   ]
  },
  {
   "cell_type": "code",
   "execution_count": 15,
   "metadata": {},
   "outputs": [
    {
     "data": {
      "text/html": [
       "<div>\n",
       "<style scoped>\n",
       "    .dataframe tbody tr th:only-of-type {\n",
       "        vertical-align: middle;\n",
       "    }\n",
       "\n",
       "    .dataframe tbody tr th {\n",
       "        vertical-align: top;\n",
       "    }\n",
       "\n",
       "    .dataframe thead th {\n",
       "        text-align: right;\n",
       "    }\n",
       "</style>\n",
       "<table border=\"1\" class=\"dataframe\">\n",
       "  <thead>\n",
       "    <tr style=\"text-align: right;\">\n",
       "      <th></th>\n",
       "      <th>FL_DATE</th>\n",
       "      <th>DAY</th>\n",
       "      <th>MONTH</th>\n",
       "      <th>WEEKDAY</th>\n",
       "      <th>OP_CARRIER</th>\n",
       "      <th>AIRLINE</th>\n",
       "      <th>OP_CARRIER_FL_NUM</th>\n",
       "      <th>ORIGIN</th>\n",
       "      <th>ORIGIN_AIRPORT</th>\n",
       "      <th>ORIGIN_CITY</th>\n",
       "      <th>...</th>\n",
       "      <th>WEATHER_DELAY</th>\n",
       "      <th>NAS_DELAY</th>\n",
       "      <th>SECURITY_DELAY</th>\n",
       "      <th>LATE_AIRCRAFT_DELAY</th>\n",
       "      <th>WEEKDAY_DUMMY</th>\n",
       "      <th>AIRLINE_DUMMY</th>\n",
       "      <th>DEPARTURE_DELAY_DUMMY</th>\n",
       "      <th>ARRIVAL_DELAY_DUMMY</th>\n",
       "      <th>DEPARTURE_DELAY_TEST</th>\n",
       "      <th>ARRIVAL_DELAY_TEST</th>\n",
       "    </tr>\n",
       "  </thead>\n",
       "  <tbody>\n",
       "    <tr>\n",
       "      <th>0</th>\n",
       "      <td>2018-04-01</td>\n",
       "      <td>1</td>\n",
       "      <td>4</td>\n",
       "      <td>Sunday</td>\n",
       "      <td>F9</td>\n",
       "      <td>Frontier Airlines</td>\n",
       "      <td>459</td>\n",
       "      <td>MSP</td>\n",
       "      <td>Minneapolis-Saint Paul International Airport</td>\n",
       "      <td>Minneapolis</td>\n",
       "      <td>...</td>\n",
       "      <td>0.0</td>\n",
       "      <td>0.0</td>\n",
       "      <td>0.0</td>\n",
       "      <td>0.0</td>\n",
       "      <td>7</td>\n",
       "      <td>6</td>\n",
       "      <td>0</td>\n",
       "      <td>0</td>\n",
       "      <td>On Time</td>\n",
       "      <td>On Time</td>\n",
       "    </tr>\n",
       "    <tr>\n",
       "      <th>1</th>\n",
       "      <td>2018-04-02</td>\n",
       "      <td>2</td>\n",
       "      <td>4</td>\n",
       "      <td>Monday</td>\n",
       "      <td>F9</td>\n",
       "      <td>Frontier Airlines</td>\n",
       "      <td>463</td>\n",
       "      <td>MSP</td>\n",
       "      <td>Minneapolis-Saint Paul International Airport</td>\n",
       "      <td>Minneapolis</td>\n",
       "      <td>...</td>\n",
       "      <td>5.0</td>\n",
       "      <td>77.0</td>\n",
       "      <td>0.0</td>\n",
       "      <td>0.0</td>\n",
       "      <td>1</td>\n",
       "      <td>6</td>\n",
       "      <td>1</td>\n",
       "      <td>1</td>\n",
       "      <td>Small Delay</td>\n",
       "      <td>Long Delay</td>\n",
       "    </tr>\n",
       "    <tr>\n",
       "      <th>2</th>\n",
       "      <td>2018-04-02</td>\n",
       "      <td>2</td>\n",
       "      <td>4</td>\n",
       "      <td>Monday</td>\n",
       "      <td>F9</td>\n",
       "      <td>Frontier Airlines</td>\n",
       "      <td>459</td>\n",
       "      <td>MSP</td>\n",
       "      <td>Minneapolis-Saint Paul International Airport</td>\n",
       "      <td>Minneapolis</td>\n",
       "      <td>...</td>\n",
       "      <td>0.0</td>\n",
       "      <td>0.0</td>\n",
       "      <td>0.0</td>\n",
       "      <td>0.0</td>\n",
       "      <td>1</td>\n",
       "      <td>6</td>\n",
       "      <td>0</td>\n",
       "      <td>1</td>\n",
       "      <td>On Time</td>\n",
       "      <td>Small Delay</td>\n",
       "    </tr>\n",
       "    <tr>\n",
       "      <th>3</th>\n",
       "      <td>2018-04-03</td>\n",
       "      <td>3</td>\n",
       "      <td>4</td>\n",
       "      <td>Tuesday</td>\n",
       "      <td>F9</td>\n",
       "      <td>Frontier Airlines</td>\n",
       "      <td>459</td>\n",
       "      <td>MSP</td>\n",
       "      <td>Minneapolis-Saint Paul International Airport</td>\n",
       "      <td>Minneapolis</td>\n",
       "      <td>...</td>\n",
       "      <td>0.0</td>\n",
       "      <td>42.0</td>\n",
       "      <td>0.0</td>\n",
       "      <td>0.0</td>\n",
       "      <td>0</td>\n",
       "      <td>6</td>\n",
       "      <td>1</td>\n",
       "      <td>1</td>\n",
       "      <td>Small Delay</td>\n",
       "      <td>Long Delay</td>\n",
       "    </tr>\n",
       "    <tr>\n",
       "      <th>4</th>\n",
       "      <td>2018-04-04</td>\n",
       "      <td>4</td>\n",
       "      <td>4</td>\n",
       "      <td>Wednesday</td>\n",
       "      <td>F9</td>\n",
       "      <td>Frontier Airlines</td>\n",
       "      <td>459</td>\n",
       "      <td>MSP</td>\n",
       "      <td>Minneapolis-Saint Paul International Airport</td>\n",
       "      <td>Minneapolis</td>\n",
       "      <td>...</td>\n",
       "      <td>0.0</td>\n",
       "      <td>0.0</td>\n",
       "      <td>0.0</td>\n",
       "      <td>0.0</td>\n",
       "      <td>3</td>\n",
       "      <td>6</td>\n",
       "      <td>0</td>\n",
       "      <td>0</td>\n",
       "      <td>On Time</td>\n",
       "      <td>On Time</td>\n",
       "    </tr>\n",
       "  </tbody>\n",
       "</table>\n",
       "<p>5 rows × 65 columns</p>\n",
       "</div>"
      ],
      "text/plain": [
       "      FL_DATE  DAY  MONTH    WEEKDAY OP_CARRIER            AIRLINE  \\\n",
       "0  2018-04-01    1      4     Sunday         F9  Frontier Airlines   \n",
       "1  2018-04-02    2      4     Monday         F9  Frontier Airlines   \n",
       "2  2018-04-02    2      4     Monday         F9  Frontier Airlines   \n",
       "3  2018-04-03    3      4    Tuesday         F9  Frontier Airlines   \n",
       "4  2018-04-04    4      4  Wednesday         F9  Frontier Airlines   \n",
       "\n",
       "   OP_CARRIER_FL_NUM ORIGIN                                ORIGIN_AIRPORT  \\\n",
       "0                459    MSP  Minneapolis-Saint Paul International Airport   \n",
       "1                463    MSP  Minneapolis-Saint Paul International Airport   \n",
       "2                459    MSP  Minneapolis-Saint Paul International Airport   \n",
       "3                459    MSP  Minneapolis-Saint Paul International Airport   \n",
       "4                459    MSP  Minneapolis-Saint Paul International Airport   \n",
       "\n",
       "   ORIGIN_CITY  ... WEATHER_DELAY  NAS_DELAY  SECURITY_DELAY  \\\n",
       "0  Minneapolis  ...           0.0        0.0             0.0   \n",
       "1  Minneapolis  ...           5.0       77.0             0.0   \n",
       "2  Minneapolis  ...           0.0        0.0             0.0   \n",
       "3  Minneapolis  ...           0.0       42.0             0.0   \n",
       "4  Minneapolis  ...           0.0        0.0             0.0   \n",
       "\n",
       "   LATE_AIRCRAFT_DELAY  WEEKDAY_DUMMY  AIRLINE_DUMMY  DEPARTURE_DELAY_DUMMY  \\\n",
       "0                  0.0              7              6                      0   \n",
       "1                  0.0              1              6                      1   \n",
       "2                  0.0              1              6                      0   \n",
       "3                  0.0              0              6                      1   \n",
       "4                  0.0              3              6                      0   \n",
       "\n",
       "  ARRIVAL_DELAY_DUMMY  DEPARTURE_DELAY_TEST  ARRIVAL_DELAY_TEST  \n",
       "0                   0               On Time             On Time  \n",
       "1                   1           Small Delay          Long Delay  \n",
       "2                   1               On Time         Small Delay  \n",
       "3                   1           Small Delay          Long Delay  \n",
       "4                   0               On Time             On Time  \n",
       "\n",
       "[5 rows x 65 columns]"
      ]
     },
     "execution_count": 15,
     "metadata": {},
     "output_type": "execute_result"
    }
   ],
   "source": [
    "delays_df2.head()"
   ]
  },
  {
   "cell_type": "code",
   "execution_count": 17,
   "metadata": {},
   "outputs": [
    {
     "data": {
      "text/plain": [
       "1816125"
      ]
     },
     "execution_count": 17,
     "metadata": {},
     "output_type": "execute_result"
    }
   ],
   "source": [
    "len(delays_df2)"
   ]
  },
  {
   "cell_type": "code",
   "execution_count": 4,
   "metadata": {},
   "outputs": [],
   "source": [
    "# Get the first and second quarter in for comparision.\n",
    "delays_df = pd.read_csv(\"Delay_first_quarter1.csv\")"
   ]
  },
  {
   "cell_type": "code",
   "execution_count": 11,
   "metadata": {},
   "outputs": [],
   "source": [
    "delays_df2 = pd.read_csv(\"Delay_second_quarter2.csv\") "
   ]
  },
  {
   "cell_type": "markdown",
   "metadata": {},
   "source": [
    "#### BEST DEPARTURE DELAY MODEL -> DEPARTURE DELAY TIMES\n",
    "\n",
    "#### LINEAR REGRESSION WITH 17 FEATURES (94%)"
   ]
  },
  {
   "cell_type": "code",
   "execution_count": 4,
   "metadata": {},
   "outputs": [
    {
     "name": "stdout",
     "output_type": "stream",
     "text": [
      "(1683475, 17) (1683475, 1)\n"
     ]
    }
   ],
   "source": [
    "X = delays_df[[\"DAY\", \"MONTH\", \"CRS_DEP_TIME\", \"DEPARTURE_TIME_OF_DAY_DUMMY\", \\\n",
    "              \"OP_CARRIER_FL_NUM\", \"TAXI_OUT\", \"WHEELS_OFF\", \"AIR_TIME\", \"WHEELS_ON\", \"TAXI_IN\", \\\n",
    "              \"CRS_ARR_TIME\", \"ARRIVAL_TIME_OF_DAY_DUMMY\", \"CARRIER_DELAY\", \\\n",
    "       \"WEATHER_DELAY\", \"NAS_DELAY\", \"SECURITY_DELAY\", \"LATE_AIRCRAFT_DELAY\"]]\n",
    "\n",
    "y = delays_df[\"DEP_DELAY\"].values.reshape(-1, 1)\n",
    "print(X.shape, y.shape)"
   ]
  },
  {
   "cell_type": "code",
   "execution_count": 5,
   "metadata": {},
   "outputs": [
    {
     "name": "stdout",
     "output_type": "stream",
     "text": [
      "0.7760090827941895 seconds\n"
     ]
    }
   ],
   "source": [
    "# Scale the data\n",
    "from sklearn.model_selection import train_test_split\n",
    "start = time.time()\n",
    "\n",
    "X_train, X_test, y_train, y_test = train_test_split(X, y, random_state=255)\n",
    "end = time.time()\n",
    "print(f\"{end-start} seconds\")"
   ]
  },
  {
   "cell_type": "code",
   "execution_count": 6,
   "metadata": {},
   "outputs": [],
   "source": [
    "from sklearn.preprocessing import StandardScaler\n",
    "\n",
    "X_scaler = StandardScaler().fit(X_train)\n",
    "y_scaler = StandardScaler().fit(y_train)\n",
    "\n",
    "X_train_scaled = X_scaler.transform(X_train)\n",
    "X_test_scaled = X_scaler.transform(X_test)\n",
    "y_train_scaled = y_scaler.transform(y_train)\n",
    "y_test_scaled = y_scaler.transform(y_test)"
   ]
  },
  {
   "cell_type": "code",
   "execution_count": 7,
   "metadata": {},
   "outputs": [
    {
     "name": "stdout",
     "output_type": "stream",
     "text": [
      "0.9569876194000244 seconds\n"
     ]
    }
   ],
   "source": [
    "from sklearn.linear_model import LinearRegression\n",
    "start = time.time()\n",
    "\n",
    "model = LinearRegression()\n",
    "model.fit(X_train_scaled, y_train_scaled)\n",
    "end = time.time()\n",
    "print(f\"{end-start} seconds\")"
   ]
  },
  {
   "cell_type": "code",
   "execution_count": 9,
   "metadata": {},
   "outputs": [
    {
     "name": "stdout",
     "output_type": "stream",
     "text": [
      "MSE: 0.05712342290001597, R2: 0.9431201567906724\n",
      "0.12295889854431152 seconds\n"
     ]
    }
   ],
   "source": [
    "# 94.31% is pretty good.\n",
    "from sklearn.metrics import mean_squared_error\n",
    "start = time.time()\n",
    "\n",
    "predictions = model.predict(X_test_scaled)\n",
    "MSE = mean_squared_error(y_test_scaled, predictions)\n",
    "r2 = model.score(X_test_scaled, y_test_scaled)\n",
    "print(f\"MSE: {MSE}, R2: {r2}\")\n",
    "end = time.time()\n",
    "print(f\"{end-start} seconds\")"
   ]
  },
  {
   "cell_type": "code",
   "execution_count": 10,
   "metadata": {},
   "outputs": [
    {
     "name": "stdout",
     "output_type": "stream",
     "text": [
      "(1816125, 17) (1816125, 1)\n"
     ]
    }
   ],
   "source": [
    "# Use second quarter data\n",
    "X = delays_df2[[\"DAY\", \"MONTH\", \"CRS_DEP_TIME\", \"DEPARTURE_TIME_OF_DAY_DUMMY\", \\\n",
    "              \"OP_CARRIER_FL_NUM\", \"TAXI_OUT\", \"WHEELS_OFF\", \"AIR_TIME\", \"WHEELS_ON\", \"TAXI_IN\", \\\n",
    "              \"CRS_ARR_TIME\", \"ARRIVAL_TIME_OF_DAY_DUMMY\", \"CARRIER_DELAY\", \\\n",
    "       \"WEATHER_DELAY\", \"NAS_DELAY\", \"SECURITY_DELAY\", \"LATE_AIRCRAFT_DELAY\"]]\n",
    "\n",
    "y = delays_df2[\"DEP_DELAY\"].values.reshape(-1, 1)\n",
    "print(X.shape, y.shape)"
   ]
  },
  {
   "cell_type": "code",
   "execution_count": 11,
   "metadata": {},
   "outputs": [
    {
     "name": "stdout",
     "output_type": "stream",
     "text": [
      "0.8950047492980957 seconds\n"
     ]
    }
   ],
   "source": [
    "# Scale the data\n",
    "from sklearn.model_selection import train_test_split\n",
    "start = time.time()\n",
    "\n",
    "X_train, X_test, y_train, y_test = train_test_split(X, y, random_state=rng)\n",
    "end = time.time()\n",
    "print(f\"{end-start} seconds\")"
   ]
  },
  {
   "cell_type": "code",
   "execution_count": 12,
   "metadata": {},
   "outputs": [],
   "source": [
    "from sklearn.preprocessing import StandardScaler\n",
    "\n",
    "X_scaler = StandardScaler().fit(X_train)\n",
    "y_scaler = StandardScaler().fit(y_train)\n",
    "\n",
    "X_train_scaled = X_scaler.transform(X_train)\n",
    "X_test_scaled = X_scaler.transform(X_test)\n",
    "y_train_scaled = y_scaler.transform(y_train)\n",
    "y_test_scaled = y_scaler.transform(y_test)"
   ]
  },
  {
   "cell_type": "code",
   "execution_count": 13,
   "metadata": {
    "scrolled": false
   },
   "outputs": [
    {
     "name": "stdout",
     "output_type": "stream",
     "text": [
      "MSE: 1.9068766068323617, R2: 0.9454795172325134\n",
      "0.056999921798706055 seconds\n"
     ]
    }
   ],
   "source": [
    "# X_test_scaled and y_test_scaled are from the second quarter while the predictions are from the first quarter.\n",
    "# 94% accuracy while using the first 100,000 flights from the second quarter.  Not a bad start.\n",
    "\n",
    "from sklearn.metrics import mean_squared_error\n",
    "start = time.time()\n",
    "\n",
    "MSE = mean_squared_error(y_test_scaled[:100000], predictions[:100000])\n",
    "r2 = model.score(X_test_scaled[:100000], y_test_scaled[:100000])\n",
    "print(f\"MSE: {MSE}, R2: {r2}\")\n",
    "end = time.time()\n",
    "print(f\"{end-start} seconds\")"
   ]
  },
  {
   "cell_type": "markdown",
   "metadata": {},
   "source": [
    "#### BEST DEPARTURE DELAY OVER 15 MINUTES\n",
    "\n",
    "#### 10 FEATURES SGBCLASSIFIER PCA SCALED (97.2%)"
   ]
  },
  {
   "cell_type": "code",
   "execution_count": 62,
   "metadata": {},
   "outputs": [
    {
     "name": "stdout",
     "output_type": "stream",
     "text": [
      "(1683475, 10) (1683475, 1)\n"
     ]
    }
   ],
   "source": [
    "X = delays_df[[\"DAY\", \"MONTH\", \"DEP_TIME\", \"DEPARTURE_TIME_OF_DAY_DUMMY\", \"WEEKDAY_DUMMY\", \"AIRLINE_DUMMY\", \\\n",
    "               \"OP_CARRIER_FL_NUM\", \"TAXI_OUT\", \"WHEELS_OFF\",\"WEATHER_DELAY\",]]\n",
    "\n",
    "y = delays_df[\"DEPARTURE_DELAY_OVER_15_MINUTES\"].values.reshape(-1, 1)\n",
    "print(X.shape, y.shape)"
   ]
  },
  {
   "cell_type": "code",
   "execution_count": 63,
   "metadata": {},
   "outputs": [],
   "source": [
    "from sklearn.model_selection import train_test_split\n",
    "\n",
    "X_train, X_test, y_train, y_test = train_test_split(X, y, random_state=rng)"
   ]
  },
  {
   "cell_type": "code",
   "execution_count": 64,
   "metadata": {},
   "outputs": [
    {
     "name": "stdout",
     "output_type": "stream",
     "text": [
      "2.3719191551208496 seconds\n"
     ]
    }
   ],
   "source": [
    "# Try out PCA if needed\n",
    "from sklearn.decomposition import PCA\n",
    "start = time.time()\n",
    "\n",
    "pca = PCA(.95)\n",
    "pca.fit(X)\n",
    "X_train = pca.transform(X_train)\n",
    "X_test = pca.transform(X_test)\n",
    "end = time.time()\n",
    "print(f\"{end-start} seconds\")"
   ]
  },
  {
   "cell_type": "code",
   "execution_count": 65,
   "metadata": {},
   "outputs": [
    {
     "name": "stdout",
     "output_type": "stream",
     "text": [
      "0.34800076484680176 seconds\n"
     ]
    }
   ],
   "source": [
    "# Try out a min/max scaler for the data if needed\n",
    "from sklearn.preprocessing import MinMaxScaler\n",
    "start = time.time()\n",
    "\n",
    "scaler = MinMaxScaler()\n",
    "X_train = scaler.fit_transform(X_train)\n",
    "X_test = scaler.transform(X_test)\n",
    "end = time.time()\n",
    "print(f\"{end-start} seconds\")"
   ]
  },
  {
   "cell_type": "code",
   "execution_count": 66,
   "metadata": {},
   "outputs": [
    {
     "name": "stdout",
     "output_type": "stream",
     "text": [
      "1.7320270538330078 seconds\n"
     ]
    }
   ],
   "source": [
    "# SGDClassifier\n",
    "from sklearn.linear_model import SGDClassifier\n",
    "from sklearn.model_selection import GridSearchCV\n",
    "start = time.time()\n",
    "\n",
    "sgd = SGDClassifier(random_state=rng)\n",
    "sgd.fit(X_train, y_train)\n",
    "end = time.time()\n",
    "print(f\"{end-start} seconds\")"
   ]
  },
  {
   "cell_type": "code",
   "execution_count": 67,
   "metadata": {},
   "outputs": [
    {
     "name": "stdout",
     "output_type": "stream",
     "text": [
      "Accuracy Score: 99.00990569512128\n",
      "0.1609971523284912 seconds\n"
     ]
    }
   ],
   "source": [
    "# This model seems to hold up.\n",
    "from sklearn.metrics import accuracy_score\n",
    "start = time.time()\n",
    "\n",
    "predictions = sgd.predict(X_test)\n",
    "y_transposed = (np.transpose(y_test)).flatten()\n",
    "print(f\"Accuracy Score: {accuracy_score(y_transposed, predictions)*100}\")\n",
    "end = time.time()\n",
    "print(f\"{end-start} seconds\")"
   ]
  },
  {
   "cell_type": "code",
   "execution_count": 68,
   "metadata": {},
   "outputs": [
    {
     "name": "stdout",
     "output_type": "stream",
     "text": [
      "(1816125, 10) (1816125, 1)\n"
     ]
    }
   ],
   "source": [
    "# Set up with second quarter data\n",
    "X = delays_df2[[\"DAY\", \"MONTH\", \"DEP_TIME\", \"DEPARTURE_TIME_OF_DAY_DUMMY\", \"WEEKDAY_DUMMY\", \"AIRLINE_DUMMY\", \\\n",
    "               \"OP_CARRIER_FL_NUM\", \"TAXI_OUT\", \"WHEELS_OFF\",\"WEATHER_DELAY\",]]\n",
    "\n",
    "y = delays_df2[\"DEPARTURE_DELAY_OVER_15_MINUTES\"].values.reshape(-1, 1)\n",
    "print(X.shape, y.shape)"
   ]
  },
  {
   "cell_type": "code",
   "execution_count": 69,
   "metadata": {},
   "outputs": [],
   "source": [
    "from sklearn.model_selection import train_test_split\n",
    "\n",
    "X_train, X_test, y_train, y_test = train_test_split(X, y, random_state=rng)"
   ]
  },
  {
   "cell_type": "code",
   "execution_count": 70,
   "metadata": {},
   "outputs": [
    {
     "name": "stdout",
     "output_type": "stream",
     "text": [
      "2.4749326705932617 seconds\n"
     ]
    }
   ],
   "source": [
    "# Try out PCA if needed\n",
    "from sklearn.decomposition import PCA\n",
    "start = time.time()\n",
    "\n",
    "pca = PCA(.95)\n",
    "pca.fit(X)\n",
    "X_train = pca.transform(X_train)\n",
    "X_test = pca.transform(X_test)\n",
    "end = time.time()\n",
    "print(f\"{end-start} seconds\")"
   ]
  },
  {
   "cell_type": "code",
   "execution_count": 71,
   "metadata": {
    "scrolled": true
   },
   "outputs": [
    {
     "name": "stdout",
     "output_type": "stream",
     "text": [
      "0.371992826461792 seconds\n"
     ]
    }
   ],
   "source": [
    "# Try out a min/max scaler for the data if needed\n",
    "from sklearn.preprocessing import MinMaxScaler\n",
    "start = time.time()\n",
    "\n",
    "scaler = MinMaxScaler()\n",
    "X_train = scaler.fit_transform(X_train)\n",
    "X_test = scaler.transform(X_test)\n",
    "end = time.time()\n",
    "print(f\"{end-start} seconds\")"
   ]
  },
  {
   "cell_type": "code",
   "execution_count": 73,
   "metadata": {},
   "outputs": [
    {
     "name": "stdout",
     "output_type": "stream",
     "text": [
      "Accuracy Score: 99.274\n",
      "0.023998022079467773 seconds\n"
     ]
    }
   ],
   "source": [
    "# y_test is using second quarter data while predictions are from the first quarter model.\n",
    "# This seems a little fishy.  Perhaps look into it more later if possible.  97.274% seems a bit too good.\n",
    "from sklearn.metrics import accuracy_score\n",
    "start = time.time()\n",
    "\n",
    "#predictions = sgd.predict(X_test)\n",
    "y_transposed = (np.transpose(y_test)).flatten()\n",
    "print(f\"Accuracy Score: {accuracy_score(y_transposed[:100000], predictions[:100000])*100}\")\n",
    "end = time.time()\n",
    "print(f\"{end-start} seconds\")"
   ]
  },
  {
   "cell_type": "code",
   "execution_count": 75,
   "metadata": {
    "scrolled": false
   },
   "outputs": [
    {
     "data": {
      "text/html": [
       "<div>\n",
       "<style scoped>\n",
       "    .dataframe tbody tr th:only-of-type {\n",
       "        vertical-align: middle;\n",
       "    }\n",
       "\n",
       "    .dataframe tbody tr th {\n",
       "        vertical-align: top;\n",
       "    }\n",
       "\n",
       "    .dataframe thead th {\n",
       "        text-align: right;\n",
       "    }\n",
       "</style>\n",
       "<table border=\"1\" class=\"dataframe\">\n",
       "  <thead>\n",
       "    <tr style=\"text-align: right;\">\n",
       "      <th>Predicted Delays</th>\n",
       "      <th>0</th>\n",
       "    </tr>\n",
       "    <tr>\n",
       "      <th>Actual Delays</th>\n",
       "      <th></th>\n",
       "    </tr>\n",
       "  </thead>\n",
       "  <tbody>\n",
       "    <tr>\n",
       "      <th>0</th>\n",
       "      <td>99274</td>\n",
       "    </tr>\n",
       "    <tr>\n",
       "      <th>1</th>\n",
       "      <td>726</td>\n",
       "    </tr>\n",
       "  </tbody>\n",
       "</table>\n",
       "</div>"
      ],
      "text/plain": [
       "Predicted Delays      0\n",
       "Actual Delays          \n",
       "0                 99274\n",
       "1                   726"
      ]
     },
     "execution_count": 75,
     "metadata": {},
     "output_type": "execute_result"
    }
   ],
   "source": [
    "pd.crosstab(y_transposed[:100000], predictions[:100000], rownames=[\"Actual Delays\"], colnames=[\"Predicted Delays\"])"
   ]
  },
  {
   "cell_type": "code",
   "execution_count": 5,
   "metadata": {},
   "outputs": [],
   "source": [
    "delays_df_ua = delays_df.loc[delays_df[\"OP_CARRIER\"]==\"UA\",:]"
   ]
  },
  {
   "cell_type": "code",
   "execution_count": 9,
   "metadata": {
    "scrolled": true
   },
   "outputs": [
    {
     "ename": "NameError",
     "evalue": "name 'delays_df2' is not defined",
     "output_type": "error",
     "traceback": [
      "\u001b[1;31m---------------------------------------------------------------------------\u001b[0m",
      "\u001b[1;31mNameError\u001b[0m                                 Traceback (most recent call last)",
      "\u001b[1;32m<ipython-input-9-392c97178dd4>\u001b[0m in \u001b[0;36m<module>\u001b[1;34m\u001b[0m\n\u001b[1;32m----> 1\u001b[1;33m \u001b[0mdelays_df_ua2\u001b[0m \u001b[1;33m=\u001b[0m \u001b[0mdelays_df2\u001b[0m\u001b[1;33m.\u001b[0m\u001b[0mloc\u001b[0m\u001b[1;33m[\u001b[0m\u001b[0mdelays_df2\u001b[0m\u001b[1;33m[\u001b[0m\u001b[1;34m\"OP_CARRIER\"\u001b[0m\u001b[1;33m]\u001b[0m\u001b[1;33m==\u001b[0m\u001b[1;34m\"UA\"\u001b[0m\u001b[1;33m,\u001b[0m\u001b[1;33m:\u001b[0m\u001b[1;33m]\u001b[0m\u001b[1;33m\u001b[0m\u001b[1;33m\u001b[0m\u001b[0m\n\u001b[0m",
      "\u001b[1;31mNameError\u001b[0m: name 'delays_df2' is not defined"
     ]
    }
   ],
   "source": [
    "delays_df_ua2 = delays_df2.loc[delays_df2[\"OP_CARRIER\"]==\"UA\",:]"
   ]
  },
  {
   "cell_type": "markdown",
   "metadata": {},
   "source": [
    "#### BEST DEPARTURE DELAY 3 CATEGORIES\n",
    "\n",
    "#### 23 FEATURES STOCHASTIC GRADIENT BOOSTING SCALED (57.76%)"
   ]
  },
  {
   "cell_type": "code",
   "execution_count": 76,
   "metadata": {},
   "outputs": [
    {
     "name": "stdout",
     "output_type": "stream",
     "text": [
      "(1683475, 23) (1683475, 1)\n"
     ]
    }
   ],
   "source": [
    "X = delays_df[[\"DAY\", \"MONTH\", \"CRS_DEP_TIME\", \"DEPARTURE_TIME_OF_DAY_DUMMY\", \"AIRLINE_DUMMY\",\\\n",
    "              \"OP_CARRIER_FL_NUM\", \"TAXI_OUT\", \"WHEELS_OFF\", \"AIR_TIME\", \"DISTANCE\", \"WEEKDAY_DUMMY\",\\\n",
    "              \"ARR_TIME\", \"CRS_ARR_TIME\", \"ARRIVAL_TIME_OF_DAY_DUMMY\", \"CARRIER_DELAY\", \\\n",
    "       \"WEATHER_DELAY\", \"NAS_DELAY\", \"SECURITY_DELAY\", \"LATE_AIRCRAFT_DELAY\",\n",
    "       \"EAST_COAST_ORIGIN\", \"WEST_COAST_ORIGIN\", \"EAST_COAST_DEST\", \"WEST_COAST_DEST\"]]\n",
    "\n",
    "y = delays_df[\"DEPARTURE_DELAY_TEST\"].values.reshape(-1, 1)\n",
    "print(X.shape, y.shape)"
   ]
  },
  {
   "cell_type": "code",
   "execution_count": 77,
   "metadata": {},
   "outputs": [
    {
     "name": "stdout",
     "output_type": "stream",
     "text": [
      "1.1299278736114502 seconds\n"
     ]
    }
   ],
   "source": [
    "# Split for train and test datasets\n",
    "from sklearn.model_selection import train_test_split\n",
    "start = time.time()\n",
    "\n",
    "X_train, X_test, y_train, y_test = train_test_split(X, y, random_state=rng)\n",
    "end = time.time()\n",
    "print(f\"{end-start} seconds\")"
   ]
  },
  {
   "cell_type": "code",
   "execution_count": 78,
   "metadata": {},
   "outputs": [],
   "source": [
    "# Try out a min/max scaler for the data\n",
    "from sklearn.preprocessing import MinMaxScaler\n",
    "\n",
    "scaler = MinMaxScaler()\n",
    "X_train = scaler.fit_transform(X_train)\n",
    "X_test = scaler.transform(X_test)"
   ]
  },
  {
   "cell_type": "code",
   "execution_count": 79,
   "metadata": {},
   "outputs": [
    {
     "name": "stdout",
     "output_type": "stream",
     "text": [
      "1528.1254584789276 seconds\n"
     ]
    }
   ],
   "source": [
    "# Set up and fit the Gradient Booster\n",
    "\n",
    "from sklearn.ensemble import GradientBoostingClassifier\n",
    "start = time.time()\n",
    "\n",
    "gbc = GradientBoostingClassifier(n_estimators=100, random_state=rng)\n",
    "gbc.fit(X_train, y_train)\n",
    "end = time.time()\n",
    "print(f\"{end-start} seconds\")"
   ]
  },
  {
   "cell_type": "code",
   "execution_count": 80,
   "metadata": {},
   "outputs": [
    {
     "name": "stdout",
     "output_type": "stream",
     "text": [
      "Accuracy Score: 81.37781589995937\n"
     ]
    }
   ],
   "source": [
    "#\n",
    "from sklearn.metrics import accuracy_score\n",
    "predictions = gbc.predict(X_test)\n",
    "prediction_p = gbc.predict_proba(X_test)\n",
    "y_transposed = (np.transpose(y_test)).flatten()\n",
    "print(f\"Accuracy Score: {accuracy_score(y_transposed, predictions)*100}\")"
   ]
  },
  {
   "cell_type": "code",
   "execution_count": 81,
   "metadata": {},
   "outputs": [
    {
     "name": "stdout",
     "output_type": "stream",
     "text": [
      "(1816125, 23) (1816125, 1)\n"
     ]
    }
   ],
   "source": [
    "# Set with the second quarter data\n",
    "X = delays_df2[[\"DAY\", \"MONTH\", \"CRS_DEP_TIME\", \"DEPARTURE_TIME_OF_DAY_DUMMY\", \"AIRLINE_DUMMY\",\\\n",
    "              \"OP_CARRIER_FL_NUM\", \"TAXI_OUT\", \"WHEELS_OFF\", \"AIR_TIME\", \"DISTANCE\", \"WEEKDAY_DUMMY\",\\\n",
    "              \"ARR_TIME\", \"CRS_ARR_TIME\", \"ARRIVAL_TIME_OF_DAY_DUMMY\", \"CARRIER_DELAY\", \\\n",
    "       \"WEATHER_DELAY\", \"NAS_DELAY\", \"SECURITY_DELAY\", \"LATE_AIRCRAFT_DELAY\",\n",
    "       \"EAST_COAST_ORIGIN\", \"WEST_COAST_ORIGIN\", \"EAST_COAST_DEST\", \"WEST_COAST_DEST\"]]\n",
    "\n",
    "y = delays_df2[\"DEPARTURE_DELAY_TEST\"].values.reshape(-1, 1)\n",
    "print(X.shape, y.shape)"
   ]
  },
  {
   "cell_type": "code",
   "execution_count": 82,
   "metadata": {},
   "outputs": [
    {
     "name": "stdout",
     "output_type": "stream",
     "text": [
      "1.262979507446289 seconds\n"
     ]
    }
   ],
   "source": [
    "# Split for train and test datasets\n",
    "from sklearn.model_selection import train_test_split\n",
    "start = time.time()\n",
    "\n",
    "X_train, X_test, y_train, y_test = train_test_split(X, y, random_state=rng)\n",
    "end = time.time()\n",
    "print(f\"{end-start} seconds\")"
   ]
  },
  {
   "cell_type": "code",
   "execution_count": 83,
   "metadata": {},
   "outputs": [],
   "source": [
    "# Try out a min/max scaler for the data\n",
    "from sklearn.preprocessing import MinMaxScaler\n",
    "\n",
    "scaler = MinMaxScaler()\n",
    "X_train = scaler.fit_transform(X_train)\n",
    "X_test = scaler.transform(X_test)"
   ]
  },
  {
   "cell_type": "code",
   "execution_count": 89,
   "metadata": {},
   "outputs": [
    {
     "name": "stdout",
     "output_type": "stream",
     "text": [
      "Accuracy Score: 57.768\n"
     ]
    }
   ],
   "source": [
    "# Using predictions for the first quarter model and y_test from the second quarter dataset.\n",
    "# So this one does not hold up for predictions.\n",
    "\n",
    "from sklearn.metrics import accuracy_score\n",
    "# predictions = gbc.predict(X_test)\n",
    "# prediction_p = gbc.predict_proba(X_test)\n",
    "y_transposed = (np.transpose(y_test)).flatten()\n",
    "print(f\"Accuracy Score: {accuracy_score(y_transposed[:100000], predictions[:100000])*100}\")"
   ]
  },
  {
   "cell_type": "code",
   "execution_count": 86,
   "metadata": {},
   "outputs": [
    {
     "data": {
      "text/html": [
       "<div>\n",
       "<style scoped>\n",
       "    .dataframe tbody tr th:only-of-type {\n",
       "        vertical-align: middle;\n",
       "    }\n",
       "\n",
       "    .dataframe tbody tr th {\n",
       "        vertical-align: top;\n",
       "    }\n",
       "\n",
       "    .dataframe thead th {\n",
       "        text-align: right;\n",
       "    }\n",
       "</style>\n",
       "<table border=\"1\" class=\"dataframe\">\n",
       "  <thead>\n",
       "    <tr style=\"text-align: right;\">\n",
       "      <th>Predicted Delays</th>\n",
       "      <th>Long Delay</th>\n",
       "      <th>On Time</th>\n",
       "      <th>Small Delay</th>\n",
       "    </tr>\n",
       "    <tr>\n",
       "      <th>Actual Delays</th>\n",
       "      <th></th>\n",
       "      <th></th>\n",
       "      <th></th>\n",
       "    </tr>\n",
       "  </thead>\n",
       "  <tbody>\n",
       "    <tr>\n",
       "      <th>Long Delay</th>\n",
       "      <td>2348</td>\n",
       "      <td>15576</td>\n",
       "      <td>416</td>\n",
       "    </tr>\n",
       "    <tr>\n",
       "      <th>On Time</th>\n",
       "      <td>8335</td>\n",
       "      <td>55083</td>\n",
       "      <td>1471</td>\n",
       "    </tr>\n",
       "    <tr>\n",
       "      <th>Small Delay</th>\n",
       "      <td>2228</td>\n",
       "      <td>14206</td>\n",
       "      <td>337</td>\n",
       "    </tr>\n",
       "  </tbody>\n",
       "</table>\n",
       "</div>"
      ],
      "text/plain": [
       "Predicted Delays  Long Delay  On Time  Small Delay\n",
       "Actual Delays                                     \n",
       "Long Delay              2348    15576          416\n",
       "On Time                 8335    55083         1471\n",
       "Small Delay             2228    14206          337"
      ]
     },
     "execution_count": 86,
     "metadata": {},
     "output_type": "execute_result"
    }
   ],
   "source": [
    "pd.crosstab(y_transposed[:100000], predictions[:100000], rownames=[\"Actual Delays\"], colnames=[\"Predicted Delays\"])"
   ]
  }
 ],
 "metadata": {
  "kernelspec": {
   "display_name": "Python 3",
   "language": "python",
   "name": "python3"
  },
  "language_info": {
   "codemirror_mode": {
    "name": "ipython",
    "version": 3
   },
   "file_extension": ".py",
   "mimetype": "text/x-python",
   "name": "python",
   "nbconvert_exporter": "python",
   "pygments_lexer": "ipython3",
   "version": "3.7.4"
  }
 },
 "nbformat": 4,
 "nbformat_minor": 2
}
