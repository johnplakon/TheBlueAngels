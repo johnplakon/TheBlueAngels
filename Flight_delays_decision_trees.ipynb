{
 "cells": [
  {
   "cell_type": "markdown",
   "metadata": {},
   "source": [
    "Random Forest and Decision Trees did not end up being useful for this dataset.  14 Models were tested and those 14, 13 produced an R2 less than 85%.  Not terrible but not nothing to inspire confidence for predictions.\n",
    "\n",
    "The one model to break the cycle was prediction Departure Delays that were 15 minutes or more.  Utilizing the previous best model with 18 features, this model produced an R2 of 98.665% by far the best score of any model tested of all the different procedures so far."
   ]
  },
  {
   "cell_type": "code",
   "execution_count": 1,
   "metadata": {},
   "outputs": [],
   "source": [
    "import pandas as pd\n",
    "import numpy as np\n",
    "import seaborn as sns\n",
    "import matplotlib.pyplot as plt\n",
    "%matplotlib inline\n",
    "\n",
    "import seaborn as sns\n",
    "\n",
    "import warnings\n",
    "warnings.simplefilter('ignore')\n",
    "\n",
    "# RNG used for seeding\n",
    "rng = int(np.random.randint(low=1, high=2000, size=1))"
   ]
  },
  {
   "cell_type": "code",
   "execution_count": 2,
   "metadata": {},
   "outputs": [],
   "source": [
    "# Read in first quarter dataset\n",
    "delays_df = pd.read_csv(\"Delay_first_quarter.csv\")"
   ]
  },
  {
   "cell_type": "code",
   "execution_count": 3,
   "metadata": {},
   "outputs": [],
   "source": [
    "# Do some additional cleaning\n",
    "delays_df = delays_df.fillna(0)"
   ]
  },
  {
   "cell_type": "code",
   "execution_count": 4,
   "metadata": {},
   "outputs": [],
   "source": [
    "# Dummy variables for flights of east coast origin/destination \n",
    "# Dummy variables for flights of west coast origin/destination -> both fixed\n",
    "\n",
    "delays_df['EAST_COAST_ORIGIN'] = 1*np.ravel(delays_df[\"ORIGIN_LONGITUDE\"] >= -83)\n",
    "delays_df['EAST_COAST_DEST'] = 1*np.ravel(delays_df[\"DEST_LONGITUDE\"] >= -83)\n",
    "delays_df['WEST_COAST_ORIGIN'] = 1*np.ravel(delays_df[\"ORIGIN_LONGITUDE\"] <= -114)\n",
    "delays_df['WEST_COAST_DEST'] = 1*np.ravel(delays_df[\"DEST_LONGITUDE\"] <= -114)"
   ]
  },
  {
   "cell_type": "code",
   "execution_count": 5,
   "metadata": {},
   "outputs": [],
   "source": [
    "# Create more dummy variables for categorical data:\n",
    "\n",
    "Weekday = {\n",
    "           \"Monday\": 1,\n",
    "           \"Tueday\": 2, \n",
    "           \"Wednesday\": 3, \n",
    "           \"Thursday\" : 4,\n",
    "           \"Friday\": 5,\n",
    "           \"Saturday\": 6,\n",
    "           \"Sunday\": 7\n",
    "          }\n",
    "\n",
    "Airline = {\n",
    "        \"UA\": 1,\n",
    "        \"AA\": 2,\n",
    "        \"9E\": 3,\n",
    "        \"B6\": 4,\n",
    "        \"EV\": 5,\n",
    "        \"F9\": 6,\n",
    "        \"G4\": 7,\n",
    "        \"HA\": 8,\n",
    "        \"MQ\": 9,\n",
    "        \"NK\": 10,\n",
    "        \"OH\": 11,\n",
    "        \"OO\": 12,\n",
    "        \"VX\": 13,\n",
    "        \"WN\": 14,\n",
    "        \"YV\": 15,\n",
    "        \"YX\": 16,\n",
    "        \"AS\": 17,\n",
    "        \"DL\": 18\n",
    "}"
   ]
  },
  {
   "cell_type": "code",
   "execution_count": 6,
   "metadata": {},
   "outputs": [],
   "source": [
    "delays_df['WEEKDAY_DUMMY'] = delays_df['WEEKDAY'].apply(  \\\n",
    "                            lambda x: next((y for z, y in Weekday.items() if x in z), 0))"
   ]
  },
  {
   "cell_type": "code",
   "execution_count": 7,
   "metadata": {},
   "outputs": [],
   "source": [
    "delays_df['AIRLINE_DUMMY'] = delays_df['OP_CARRIER'].apply(  \\\n",
    "                            lambda x: next((y for z, y in Airline.items() if x in z), 0))"
   ]
  },
  {
   "cell_type": "code",
   "execution_count": 8,
   "metadata": {},
   "outputs": [],
   "source": [
    "# Make a proper categorical delay dummy variable\n",
    "# Get Month into a categorical value\n",
    "# This uses less memory than using lambda.\n",
    "\n",
    "delay_dict = {0: \"On Time\", 1: \"Delayed\"}\n",
    "delays_df[\"DEPARTURE_DELAY_DUMMY\"]=delays_df[\"DEPARTURE_DELAY\"].copy()\n",
    "delays_df[\"DEPARTURE_DELAY\"].replace(delay_dict, inplace = True)"
   ]
  },
  {
   "cell_type": "code",
   "execution_count": 9,
   "metadata": {},
   "outputs": [],
   "source": [
    "arrive_dict = {0: \"On Time\", 1: \"Delayed\"}\n",
    "delays_df[\"ARRIVAL_DELAY_DUMMY\"]=delays_df[\"ARRIVAL_DELAY\"].copy()\n",
    "delays_df[\"ARRIVAL_DELAY\"].replace(delay_dict, inplace = True)"
   ]
  },
  {
   "cell_type": "code",
   "execution_count": 10,
   "metadata": {},
   "outputs": [],
   "source": [
    "Delay_dict = {range(-2000, 1): \"On Time\",\n",
    "               range(1, 16): 'Small Delay', \n",
    "               range(16, 2000): 'Long Delay',}"
   ]
  },
  {
   "cell_type": "code",
   "execution_count": 11,
   "metadata": {},
   "outputs": [],
   "source": [
    "delays_df['DEPARTURE_DELAY_TEST'] = delays_df['DEP_DELAY'].apply(  \\\n",
    "                            lambda x: next((y for z, y in Delay_dict.items() if x in z), 0))"
   ]
  },
  {
   "cell_type": "code",
   "execution_count": 12,
   "metadata": {},
   "outputs": [],
   "source": [
    "delays_df['ARRIVAL_DELAY_TEST'] = delays_df['ARR_DELAY'].apply(  \\\n",
    "                            lambda x: next((y for z, y in Delay_dict.items() if x in z), 0))"
   ]
  },
  {
   "cell_type": "markdown",
   "metadata": {},
   "source": [
    "FIRST DEPARTURE MODEL  - BOTH DECISION TREE (68%) AND RANDOM FOREST (68.24)%"
   ]
  },
  {
   "cell_type": "code",
   "execution_count": 13,
   "metadata": {},
   "outputs": [
    {
     "name": "stdout",
     "output_type": "stream",
     "text": [
      "(1683475, 10) (1683475, 1)\n"
     ]
    }
   ],
   "source": [
    "# As this follows a similar path to logistic regression, the same initial steps will be used.\n",
    "# Start with first model\n",
    "\n",
    "# Departure delay logistic ML model -> 10 features\n",
    "\n",
    "X = delays_df[[\"DAY\", \"MONTH\", \"DEP_TIME\", \"DEPARTURE_TIME_OF_DAY_DUMMY\", \"WEEKDAY_DUMMY\", \"AIRLINE_DUMMY\", \\\n",
    "               \"OP_CARRIER_FL_NUM\", \"TAXI_OUT\", \"WHEELS_OFF\",\"WEATHER_DELAY\",]]\n",
    "\n",
    "y = delays_df[\"DEPARTURE_DELAY\"].values.reshape(-1, 1)\n",
    "print(X.shape, y.shape)"
   ]
  },
  {
   "cell_type": "code",
   "execution_count": 14,
   "metadata": {},
   "outputs": [],
   "source": [
    "# Split for train and test datasets\n",
    "from sklearn.model_selection import train_test_split\n",
    "\n",
    "X_train, X_test, y_train, y_test = train_test_split(X, y, random_state=rng, stratify=y)"
   ]
  },
  {
   "cell_type": "code",
   "execution_count": 15,
   "metadata": {
    "scrolled": false
   },
   "outputs": [
    {
     "data": {
      "text/plain": [
       "RandomForestClassifier(bootstrap=True, class_weight=None, criterion='gini',\n",
       "                       max_depth=2, max_features='auto', max_leaf_nodes=None,\n",
       "                       min_impurity_decrease=0.0, min_impurity_split=None,\n",
       "                       min_samples_leaf=1, min_samples_split=2,\n",
       "                       min_weight_fraction_leaf=0.0, n_estimators=100,\n",
       "                       n_jobs=None, oob_score=True, random_state=263, verbose=0,\n",
       "                       warm_start=False)"
      ]
     },
     "execution_count": 15,
     "metadata": {},
     "output_type": "execute_result"
    }
   ],
   "source": [
    "# Set up the random forest classifier\n",
    "\n",
    "from sklearn.ensemble import RandomForestClassifier\n",
    "\n",
    "clf = RandomForestClassifier(n_estimators=100, max_depth=2, random_state=rng, oob_score=True)\n",
    "clf.fit(X_train, y_train) "
   ]
  },
  {
   "cell_type": "code",
   "execution_count": 16,
   "metadata": {
    "scrolled": false
   },
   "outputs": [
    {
     "name": "stdout",
     "output_type": "stream",
     "text": [
      "[1.45541134e-02 3.14812073e-07 2.99546628e-01 1.78531886e-01\n",
      " 3.16942750e-05 1.59597439e-02 1.36454548e-03 5.46013824e-02\n",
      " 2.83306557e-01 1.52103135e-01]\n"
     ]
    }
   ],
   "source": [
    "print(clf.feature_importances_)"
   ]
  },
  {
   "cell_type": "code",
   "execution_count": 18,
   "metadata": {},
   "outputs": [
    {
     "name": "stdout",
     "output_type": "stream",
     "text": [
      "Accuracy Score: 68.05371742751308\n"
     ]
    }
   ],
   "source": [
    "from sklearn.metrics import accuracy_score\n",
    "predictions = clf.predict(X_test)\n",
    "y_transposed = (np.transpose(y_test)).flatten()\n",
    "print(f\"Accuracy Score: {accuracy_score(y_test, predictions)*100}\")"
   ]
  },
  {
   "cell_type": "code",
   "execution_count": 19,
   "metadata": {
    "scrolled": true
   },
   "outputs": [
    {
     "data": {
      "text/html": [
       "<div>\n",
       "<style scoped>\n",
       "    .dataframe tbody tr th:only-of-type {\n",
       "        vertical-align: middle;\n",
       "    }\n",
       "\n",
       "    .dataframe tbody tr th {\n",
       "        vertical-align: top;\n",
       "    }\n",
       "\n",
       "    .dataframe thead th {\n",
       "        text-align: right;\n",
       "    }\n",
       "</style>\n",
       "<table border=\"1\" class=\"dataframe\">\n",
       "  <thead>\n",
       "    <tr style=\"text-align: right;\">\n",
       "      <th>Predicted Delays</th>\n",
       "      <th>Delayed</th>\n",
       "      <th>On Time</th>\n",
       "    </tr>\n",
       "    <tr>\n",
       "      <th>Actual Delays</th>\n",
       "      <th></th>\n",
       "      <th></th>\n",
       "    </tr>\n",
       "  </thead>\n",
       "  <tbody>\n",
       "    <tr>\n",
       "      <th>Delayed</th>\n",
       "      <td>3606</td>\n",
       "      <td>134446</td>\n",
       "    </tr>\n",
       "    <tr>\n",
       "      <th>On Time</th>\n",
       "      <td>6</td>\n",
       "      <td>282811</td>\n",
       "    </tr>\n",
       "  </tbody>\n",
       "</table>\n",
       "</div>"
      ],
      "text/plain": [
       "Predicted Delays  Delayed  On Time\n",
       "Actual Delays                     \n",
       "Delayed              3606   134446\n",
       "On Time                 6   282811"
      ]
     },
     "execution_count": 19,
     "metadata": {},
     "output_type": "execute_result"
    }
   ],
   "source": [
    "# Um good at predicting on time but not delays?\n",
    "pd.crosstab(y_transposed, predictions, rownames=[\"Actual Delays\"], colnames=[\"Predicted Delays\"])"
   ]
  },
  {
   "cell_type": "code",
   "execution_count": 24,
   "metadata": {},
   "outputs": [
    {
     "data": {
      "text/plain": [
       "DecisionTreeClassifier(class_weight=None, criterion='entropy', max_depth=None,\n",
       "                       max_features=None, max_leaf_nodes=None,\n",
       "                       min_impurity_decrease=0.0, min_impurity_split=None,\n",
       "                       min_samples_leaf=1, min_samples_split=2,\n",
       "                       min_weight_fraction_leaf=0.0, presort=False,\n",
       "                       random_state=552, splitter='best')"
      ]
     },
     "execution_count": 24,
     "metadata": {},
     "output_type": "execute_result"
    }
   ],
   "source": [
    "from sklearn.tree import DecisionTreeClassifier\n",
    "from sklearn.metrics import accuracy_score\n",
    "from sklearn import tree\n",
    "\n",
    "clf = DecisionTreeClassifier(criterion = \"entropy\", random_state=rng)\n",
    "clf.fit(X_train, y_train)"
   ]
  },
  {
   "cell_type": "code",
   "execution_count": 25,
   "metadata": {},
   "outputs": [],
   "source": [
    "y_transposed = (np.transpose(y_test)).flatten()"
   ]
  },
  {
   "cell_type": "code",
   "execution_count": 26,
   "metadata": {},
   "outputs": [],
   "source": [
    "predictions = clf.predict(X_test)"
   ]
  },
  {
   "cell_type": "code",
   "execution_count": 27,
   "metadata": {
    "scrolled": true
   },
   "outputs": [
    {
     "name": "stdout",
     "output_type": "stream",
     "text": [
      "Accuracy Score: 72.70148193380838\n"
     ]
    }
   ],
   "source": [
    "print(f\"Accuracy Score: {accuracy_score(y_test, predictions)*100}\")"
   ]
  },
  {
   "cell_type": "code",
   "execution_count": 28,
   "metadata": {
    "scrolled": true
   },
   "outputs": [
    {
     "data": {
      "text/html": [
       "<div>\n",
       "<style scoped>\n",
       "    .dataframe tbody tr th:only-of-type {\n",
       "        vertical-align: middle;\n",
       "    }\n",
       "\n",
       "    .dataframe tbody tr th {\n",
       "        vertical-align: top;\n",
       "    }\n",
       "\n",
       "    .dataframe thead th {\n",
       "        text-align: right;\n",
       "    }\n",
       "</style>\n",
       "<table border=\"1\" class=\"dataframe\">\n",
       "  <thead>\n",
       "    <tr style=\"text-align: right;\">\n",
       "      <th>Predicted Delays</th>\n",
       "      <th>Delayed</th>\n",
       "      <th>On Time</th>\n",
       "    </tr>\n",
       "    <tr>\n",
       "      <th>Actual Delays</th>\n",
       "      <th></th>\n",
       "      <th></th>\n",
       "    </tr>\n",
       "  </thead>\n",
       "  <tbody>\n",
       "    <tr>\n",
       "      <th>Delayed</th>\n",
       "      <td>79726</td>\n",
       "      <td>58326</td>\n",
       "    </tr>\n",
       "    <tr>\n",
       "      <th>On Time</th>\n",
       "      <td>56565</td>\n",
       "      <td>226252</td>\n",
       "    </tr>\n",
       "  </tbody>\n",
       "</table>\n",
       "</div>"
      ],
      "text/plain": [
       "Predicted Delays  Delayed  On Time\n",
       "Actual Delays                     \n",
       "Delayed             79726    58326\n",
       "On Time             56565   226252"
      ]
     },
     "execution_count": 28,
     "metadata": {},
     "output_type": "execute_result"
    }
   ],
   "source": [
    "pd.crosstab(y_transposed, predictions, rownames=[\"Actual Delays\"], colnames=[\"Predicted Delays\"])"
   ]
  },
  {
   "cell_type": "code",
   "execution_count": null,
   "metadata": {},
   "outputs": [],
   "source": [
    "SECOND DEPARTURE DELAY 4 FEATURES -> RANDOM FOREST (68%)"
   ]
  },
  {
   "cell_type": "code",
   "execution_count": 20,
   "metadata": {
    "scrolled": true
   },
   "outputs": [
    {
     "name": "stdout",
     "output_type": "stream",
     "text": [
      "(1683475, 4) (1683475, 1)\n"
     ]
    }
   ],
   "source": [
    "# A complete stripdown to see if any useful analysis can be done with this method on delay data.\n",
    "# Only 4 features\n",
    "\n",
    "X = delays_df[[\"DEP_TIME\", \"WEEKDAY_DUMMY\", \"AIRLINE_DUMMY\", \"WEATHER_DELAY\",]]\n",
    "\n",
    "y = delays_df[\"DEPARTURE_DELAY\"].values.reshape(-1, 1)\n",
    "print(X.shape, y.shape)"
   ]
  },
  {
   "cell_type": "code",
   "execution_count": 21,
   "metadata": {},
   "outputs": [],
   "source": [
    "# Split for train and test datasets\n",
    "from sklearn.model_selection import train_test_split\n",
    "\n",
    "X_train, X_test, y_train, y_test = train_test_split(X, y, random_state=rng, stratify=y)"
   ]
  },
  {
   "cell_type": "code",
   "execution_count": 22,
   "metadata": {},
   "outputs": [
    {
     "data": {
      "text/plain": [
       "RandomForestClassifier(bootstrap=True, class_weight=None, criterion='gini',\n",
       "                       max_depth=2, max_features='auto', max_leaf_nodes=None,\n",
       "                       min_impurity_decrease=0.0, min_impurity_split=None,\n",
       "                       min_samples_leaf=1, min_samples_split=2,\n",
       "                       min_weight_fraction_leaf=0.0, n_estimators=100,\n",
       "                       n_jobs=None, oob_score=True, random_state=263, verbose=0,\n",
       "                       warm_start=False)"
      ]
     },
     "execution_count": 22,
     "metadata": {},
     "output_type": "execute_result"
    }
   ],
   "source": [
    "# Set up the random forest classifier\n",
    "\n",
    "from sklearn.ensemble import RandomForestClassifier\n",
    "\n",
    "clf = RandomForestClassifier(n_estimators=100, max_depth=2, random_state=rng, oob_score=True)\n",
    "clf.fit(X_train, y_train)"
   ]
  },
  {
   "cell_type": "code",
   "execution_count": 23,
   "metadata": {},
   "outputs": [
    {
     "name": "stdout",
     "output_type": "stream",
     "text": [
      "[0.58423113 0.00058848 0.09236184 0.32281855]\n"
     ]
    }
   ],
   "source": [
    "# Hey look at that.  Numbers greater than 0.00001\n",
    "print(clf.feature_importances_)"
   ]
  },
  {
   "cell_type": "code",
   "execution_count": 24,
   "metadata": {},
   "outputs": [
    {
     "name": "stdout",
     "output_type": "stream",
     "text": [
      "Accuracy Score: 68.24926521079006\n"
     ]
    }
   ],
   "source": [
    "predictions = clf.predict(X_test)\n",
    "y_transposed = (np.transpose(y_test)).flatten()\n",
    "print(f\"Accuracy Score: {accuracy_score(y_test, predictions)*100}\")"
   ]
  },
  {
   "cell_type": "code",
   "execution_count": 25,
   "metadata": {
    "scrolled": true
   },
   "outputs": [
    {
     "data": {
      "text/html": [
       "<div>\n",
       "<style scoped>\n",
       "    .dataframe tbody tr th:only-of-type {\n",
       "        vertical-align: middle;\n",
       "    }\n",
       "\n",
       "    .dataframe tbody tr th {\n",
       "        vertical-align: top;\n",
       "    }\n",
       "\n",
       "    .dataframe thead th {\n",
       "        text-align: right;\n",
       "    }\n",
       "</style>\n",
       "<table border=\"1\" class=\"dataframe\">\n",
       "  <thead>\n",
       "    <tr style=\"text-align: right;\">\n",
       "      <th>Predicted Delays</th>\n",
       "      <th>Delayed</th>\n",
       "      <th>On Time</th>\n",
       "    </tr>\n",
       "    <tr>\n",
       "      <th>Actual Delays</th>\n",
       "      <th></th>\n",
       "      <th></th>\n",
       "    </tr>\n",
       "  </thead>\n",
       "  <tbody>\n",
       "    <tr>\n",
       "      <th>Delayed</th>\n",
       "      <td>4429</td>\n",
       "      <td>133623</td>\n",
       "    </tr>\n",
       "    <tr>\n",
       "      <th>On Time</th>\n",
       "      <td>6</td>\n",
       "      <td>282811</td>\n",
       "    </tr>\n",
       "  </tbody>\n",
       "</table>\n",
       "</div>"
      ],
      "text/plain": [
       "Predicted Delays  Delayed  On Time\n",
       "Actual Delays                     \n",
       "Delayed              4429   133623\n",
       "On Time                 6   282811"
      ]
     },
     "execution_count": 25,
     "metadata": {},
     "output_type": "execute_result"
    }
   ],
   "source": [
    "# As predicted, not useful.\n",
    "pd.crosstab(y_transposed, predictions, rownames=[\"Actual Delays\"], colnames=[\"Predicted Delays\"])"
   ]
  },
  {
   "cell_type": "markdown",
   "metadata": {},
   "source": [
    "ARRIVAL DELAYS WITH 18 FEATURES -> RANDOM FOREST (84.3%)"
   ]
  },
  {
   "cell_type": "code",
   "execution_count": 26,
   "metadata": {},
   "outputs": [
    {
     "name": "stdout",
     "output_type": "stream",
     "text": [
      "(1683475, 18) (1683475, 1)\n"
     ]
    }
   ],
   "source": [
    "# Trying out Arrival data before utilizing a PCA.\n",
    "\n",
    "X = delays_df[[\"DAY\", \"MONTH\", \"DEP_TIME\", \"DEP_DELAY\", \"DEPARTURE_TIME_OF_DAY_DUMMY\", \\\n",
    "              \"OP_CARRIER_FL_NUM\", \"TAXI_OUT\", \"AIR_TIME\", \"TAXI_IN\", \\\n",
    "              \"ARRIVAL_TIME_OF_DAY_DUMMY\", \"CARRIER_DELAY\", \"DISTANCE\", \"WEEKDAY_DUMMY\", \"AIRLINE_DUMMY\", \\\n",
    "       \"WEATHER_DELAY\", \"NAS_DELAY\", \"SECURITY_DELAY\", \"LATE_AIRCRAFT_DELAY\",]]\n",
    "y = delays_df[\"ARRIVAL_DELAY\"].values.reshape(-1, 1)\n",
    "print(X.shape, y.shape)"
   ]
  },
  {
   "cell_type": "code",
   "execution_count": 27,
   "metadata": {},
   "outputs": [],
   "source": [
    "# Split for train and test datasets\n",
    "from sklearn.model_selection import train_test_split\n",
    "\n",
    "X_train, X_test, y_train, y_test = train_test_split(X, y, random_state=rng, stratify=y)"
   ]
  },
  {
   "cell_type": "code",
   "execution_count": 30,
   "metadata": {},
   "outputs": [
    {
     "data": {
      "text/plain": [
       "RandomForestClassifier(bootstrap=True, class_weight=None, criterion='gini',\n",
       "                       max_depth=2, max_features='auto', max_leaf_nodes=None,\n",
       "                       min_impurity_decrease=0.0, min_impurity_split=None,\n",
       "                       min_samples_leaf=1, min_samples_split=2,\n",
       "                       min_weight_fraction_leaf=0.0, n_estimators=100,\n",
       "                       n_jobs=None, oob_score=True, random_state=263, verbose=0,\n",
       "                       warm_start=False)"
      ]
     },
     "execution_count": 30,
     "metadata": {},
     "output_type": "execute_result"
    }
   ],
   "source": [
    "# Set up the random forest classifier\n",
    "\n",
    "from sklearn.ensemble import RandomForestClassifier\n",
    "\n",
    "clf = RandomForestClassifier(n_estimators=100, max_depth=2, random_state=rng, oob_score=True)\n",
    "clf.fit(X_train, y_train)"
   ]
  },
  {
   "cell_type": "code",
   "execution_count": 31,
   "metadata": {},
   "outputs": [
    {
     "name": "stdout",
     "output_type": "stream",
     "text": [
      "[2.38248330e-03 0.00000000e+00 2.21831389e-02 3.46906273e-01\n",
      " 7.59596161e-03 0.00000000e+00 7.62767784e-02 1.04203195e-02\n",
      " 4.41071562e-03 8.00889291e-04 1.30628755e-01 0.00000000e+00\n",
      " 0.00000000e+00 1.57298067e-04 2.27499549e-02 1.78827198e-01\n",
      " 0.00000000e+00 1.96660234e-01]\n"
     ]
    }
   ],
   "source": [
    "print(clf.feature_importances_)"
   ]
  },
  {
   "cell_type": "code",
   "execution_count": 32,
   "metadata": {},
   "outputs": [
    {
     "name": "stdout",
     "output_type": "stream",
     "text": [
      "Accuracy Score: 84.297251638871\n"
     ]
    }
   ],
   "source": [
    "# Well that is better\n",
    "predictions = clf.predict(X_test)\n",
    "y_transposed = (np.transpose(y_test)).flatten()\n",
    "print(f\"Accuracy Score: {accuracy_score(y_test, predictions)*100}\")"
   ]
  },
  {
   "cell_type": "code",
   "execution_count": 33,
   "metadata": {
    "scrolled": true
   },
   "outputs": [
    {
     "data": {
      "text/html": [
       "<div>\n",
       "<style scoped>\n",
       "    .dataframe tbody tr th:only-of-type {\n",
       "        vertical-align: middle;\n",
       "    }\n",
       "\n",
       "    .dataframe tbody tr th {\n",
       "        vertical-align: top;\n",
       "    }\n",
       "\n",
       "    .dataframe thead th {\n",
       "        text-align: right;\n",
       "    }\n",
       "</style>\n",
       "<table border=\"1\" class=\"dataframe\">\n",
       "  <thead>\n",
       "    <tr style=\"text-align: right;\">\n",
       "      <th>Predicted Delays</th>\n",
       "      <th>Delayed</th>\n",
       "      <th>On Time</th>\n",
       "    </tr>\n",
       "    <tr>\n",
       "      <th>Actual Delays</th>\n",
       "      <th></th>\n",
       "      <th></th>\n",
       "    </tr>\n",
       "  </thead>\n",
       "  <tbody>\n",
       "    <tr>\n",
       "      <th>Delayed</th>\n",
       "      <td>72321</td>\n",
       "      <td>65388</td>\n",
       "    </tr>\n",
       "    <tr>\n",
       "      <th>On Time</th>\n",
       "      <td>700</td>\n",
       "      <td>282460</td>\n",
       "    </tr>\n",
       "  </tbody>\n",
       "</table>\n",
       "</div>"
      ],
      "text/plain": [
       "Predicted Delays  Delayed  On Time\n",
       "Actual Delays                     \n",
       "Delayed             72321    65388\n",
       "On Time               700   282460"
      ]
     },
     "execution_count": 33,
     "metadata": {},
     "output_type": "execute_result"
    }
   ],
   "source": [
    "pd.crosstab(y_transposed, predictions, rownames=[\"Actual Delays\"], colnames=[\"Predicted Delays\"])"
   ]
  },
  {
   "cell_type": "markdown",
   "metadata": {},
   "source": [
    "ARRIVAL DELAYS WITH 8 FEATURES -> RANDOM FOREST (82.62%)"
   ]
  },
  {
   "cell_type": "code",
   "execution_count": 34,
   "metadata": {},
   "outputs": [
    {
     "name": "stdout",
     "output_type": "stream",
     "text": [
      "(1683475, 8) (1683475, 1)\n"
     ]
    }
   ],
   "source": [
    "# Strip features down further.\n",
    "\n",
    "X = delays_df[[\"DEP_TIME\", \"DEP_DELAY\", \"DEPARTURE_TIME_OF_DAY_DUMMY\", \\\n",
    "              \"OP_CARRIER_FL_NUM\", \"AIR_TIME\",\n",
    "              \"ARRIVAL_TIME_OF_DAY_DUMMY\",\"WEEKDAY_DUMMY\", \"AIRLINE_DUMMY\", ]]\n",
    "y = delays_df[\"ARRIVAL_DELAY\"].values.reshape(-1, 1)\n",
    "print(X.shape, y.shape)"
   ]
  },
  {
   "cell_type": "code",
   "execution_count": 35,
   "metadata": {},
   "outputs": [],
   "source": [
    "# Split for train and test datasets\n",
    "from sklearn.model_selection import train_test_split\n",
    "\n",
    "X_train, X_test, y_train, y_test = train_test_split(X, y, random_state=rng, stratify=y)"
   ]
  },
  {
   "cell_type": "code",
   "execution_count": 36,
   "metadata": {},
   "outputs": [
    {
     "data": {
      "text/plain": [
       "RandomForestClassifier(bootstrap=True, class_weight=None, criterion='gini',\n",
       "                       max_depth=2, max_features='auto', max_leaf_nodes=None,\n",
       "                       min_impurity_decrease=0.0, min_impurity_split=None,\n",
       "                       min_samples_leaf=1, min_samples_split=2,\n",
       "                       min_weight_fraction_leaf=0.0, n_estimators=100,\n",
       "                       n_jobs=None, oob_score=True, random_state=263, verbose=0,\n",
       "                       warm_start=False)"
      ]
     },
     "execution_count": 36,
     "metadata": {},
     "output_type": "execute_result"
    }
   ],
   "source": [
    "# Set up the random forest classifier\n",
    "\n",
    "from sklearn.ensemble import RandomForestClassifier\n",
    "\n",
    "clf = RandomForestClassifier(n_estimators=100, max_depth=2, random_state=rng, oob_score=True)\n",
    "clf.fit(X_train, y_train)"
   ]
  },
  {
   "cell_type": "code",
   "execution_count": 37,
   "metadata": {},
   "outputs": [
    {
     "name": "stdout",
     "output_type": "stream",
     "text": [
      "[0.20364205 0.44558092 0.08063153 0.0218261  0.11859745 0.05763265\n",
      " 0.00220724 0.06988208]\n"
     ]
    }
   ],
   "source": [
    "print(clf.feature_importances_)"
   ]
  },
  {
   "cell_type": "code",
   "execution_count": 38,
   "metadata": {},
   "outputs": [
    {
     "name": "stdout",
     "output_type": "stream",
     "text": [
      "Accuracy Score: 82.61573078558887\n"
     ]
    }
   ],
   "source": [
    "# Stripping out the variables made the model worse.\n",
    "predictions = clf.predict(X_test)\n",
    "y_transposed = (np.transpose(y_test)).flatten()\n",
    "print(f\"Accuracy Score: {accuracy_score(y_test, predictions)*100}\")"
   ]
  },
  {
   "cell_type": "code",
   "execution_count": 39,
   "metadata": {
    "scrolled": false
   },
   "outputs": [
    {
     "data": {
      "text/html": [
       "<div>\n",
       "<style scoped>\n",
       "    .dataframe tbody tr th:only-of-type {\n",
       "        vertical-align: middle;\n",
       "    }\n",
       "\n",
       "    .dataframe tbody tr th {\n",
       "        vertical-align: top;\n",
       "    }\n",
       "\n",
       "    .dataframe thead th {\n",
       "        text-align: right;\n",
       "    }\n",
       "</style>\n",
       "<table border=\"1\" class=\"dataframe\">\n",
       "  <thead>\n",
       "    <tr style=\"text-align: right;\">\n",
       "      <th>Predicted Delays</th>\n",
       "      <th>Delayed</th>\n",
       "      <th>On Time</th>\n",
       "    </tr>\n",
       "    <tr>\n",
       "      <th>Actual Delays</th>\n",
       "      <th></th>\n",
       "      <th></th>\n",
       "    </tr>\n",
       "  </thead>\n",
       "  <tbody>\n",
       "    <tr>\n",
       "      <th>Delayed</th>\n",
       "      <td>73709</td>\n",
       "      <td>64000</td>\n",
       "    </tr>\n",
       "    <tr>\n",
       "      <th>On Time</th>\n",
       "      <td>9165</td>\n",
       "      <td>273995</td>\n",
       "    </tr>\n",
       "  </tbody>\n",
       "</table>\n",
       "</div>"
      ],
      "text/plain": [
       "Predicted Delays  Delayed  On Time\n",
       "Actual Delays                     \n",
       "Delayed             73709    64000\n",
       "On Time              9165   273995"
      ]
     },
     "execution_count": 39,
     "metadata": {},
     "output_type": "execute_result"
    }
   ],
   "source": [
    "pd.crosstab(y_transposed, predictions, rownames=[\"Actual Delays\"], colnames=[\"Predicted Delays\"])"
   ]
  },
  {
   "cell_type": "markdown",
   "metadata": {},
   "source": [
    "ARRIVAL DELAYS WITH 3 FEATURES -> RANDOM FOREST (83.67%)"
   ]
  },
  {
   "cell_type": "code",
   "execution_count": 40,
   "metadata": {},
   "outputs": [
    {
     "name": "stdout",
     "output_type": "stream",
     "text": [
      "(1683475, 3) (1683475, 1)\n"
     ]
    }
   ],
   "source": [
    "# Strip features down further. Going with the feature importance recommendation.\n",
    "\n",
    "X = delays_df[[\"DEP_TIME\", \"DEP_DELAY\", \"AIR_TIME\"]]\n",
    "y = delays_df[\"ARRIVAL_DELAY\"].values.reshape(-1, 1)\n",
    "print(X.shape, y.shape)"
   ]
  },
  {
   "cell_type": "code",
   "execution_count": 41,
   "metadata": {},
   "outputs": [],
   "source": [
    "# Split for train and test datasets\n",
    "from sklearn.model_selection import train_test_split\n",
    "\n",
    "X_train, X_test, y_train, y_test = train_test_split(X, y, random_state=rng, stratify=y)"
   ]
  },
  {
   "cell_type": "code",
   "execution_count": 42,
   "metadata": {},
   "outputs": [
    {
     "data": {
      "text/plain": [
       "RandomForestClassifier(bootstrap=True, class_weight=None, criterion='gini',\n",
       "                       max_depth=2, max_features='auto', max_leaf_nodes=None,\n",
       "                       min_impurity_decrease=0.0, min_impurity_split=None,\n",
       "                       min_samples_leaf=1, min_samples_split=2,\n",
       "                       min_weight_fraction_leaf=0.0, n_estimators=100,\n",
       "                       n_jobs=None, oob_score=True, random_state=263, verbose=0,\n",
       "                       warm_start=False)"
      ]
     },
     "execution_count": 42,
     "metadata": {},
     "output_type": "execute_result"
    }
   ],
   "source": [
    "# Set up the random forest classifier\n",
    "\n",
    "from sklearn.ensemble import RandomForestClassifier\n",
    "\n",
    "clf = RandomForestClassifier(n_estimators=100, max_depth=2, random_state=rng, oob_score=True)\n",
    "clf.fit(X_test, y_test)"
   ]
  },
  {
   "cell_type": "code",
   "execution_count": 43,
   "metadata": {},
   "outputs": [
    {
     "name": "stdout",
     "output_type": "stream",
     "text": [
      "[0.18859445 0.61788045 0.1935251 ]\n"
     ]
    }
   ],
   "source": [
    "print(clf.feature_importances_)"
   ]
  },
  {
   "cell_type": "code",
   "execution_count": 44,
   "metadata": {},
   "outputs": [
    {
     "name": "stdout",
     "output_type": "stream",
     "text": [
      "Accuracy Score: 83.67425493443328\n"
     ]
    }
   ],
   "source": [
    "# Well this is the best model so far.  This may be the best we can get.\n",
    "predictions = clf.predict(X_test)\n",
    "y_transposed = (np.transpose(y_test)).flatten()\n",
    "print(f\"Accuracy Score: {accuracy_score(y_test, predictions)*100}\")"
   ]
  },
  {
   "cell_type": "code",
   "execution_count": 64,
   "metadata": {
    "scrolled": false
   },
   "outputs": [
    {
     "data": {
      "text/html": [
       "<div>\n",
       "<style scoped>\n",
       "    .dataframe tbody tr th:only-of-type {\n",
       "        vertical-align: middle;\n",
       "    }\n",
       "\n",
       "    .dataframe tbody tr th {\n",
       "        vertical-align: top;\n",
       "    }\n",
       "\n",
       "    .dataframe thead th {\n",
       "        text-align: right;\n",
       "    }\n",
       "</style>\n",
       "<table border=\"1\" class=\"dataframe\">\n",
       "  <thead>\n",
       "    <tr style=\"text-align: right;\">\n",
       "      <th>Predicted Delays</th>\n",
       "      <th>Delayed</th>\n",
       "      <th>On Time</th>\n",
       "    </tr>\n",
       "    <tr>\n",
       "      <th>Actual Delays</th>\n",
       "      <th></th>\n",
       "      <th></th>\n",
       "    </tr>\n",
       "  </thead>\n",
       "  <tbody>\n",
       "    <tr>\n",
       "      <th>Delayed</th>\n",
       "      <td>80028</td>\n",
       "      <td>57681</td>\n",
       "    </tr>\n",
       "    <tr>\n",
       "      <th>On Time</th>\n",
       "      <td>10663</td>\n",
       "      <td>272497</td>\n",
       "    </tr>\n",
       "  </tbody>\n",
       "</table>\n",
       "</div>"
      ],
      "text/plain": [
       "Predicted Delays  Delayed  On Time\n",
       "Actual Delays                     \n",
       "Delayed             80028    57681\n",
       "On Time             10663   272497"
      ]
     },
     "execution_count": 64,
     "metadata": {},
     "output_type": "execute_result"
    }
   ],
   "source": [
    "pd.crosstab(y_transposed, predictions, rownames=[\"Actual Delays\"], colnames=[\"Predicted Delays\"])"
   ]
  },
  {
   "cell_type": "markdown",
   "metadata": {},
   "source": [
    "DEPARTURE DELAY 10 FEATURES DECISION TREE WITH PCA -> (79.4%)"
   ]
  },
  {
   "cell_type": "code",
   "execution_count": 45,
   "metadata": {},
   "outputs": [
    {
     "name": "stdout",
     "output_type": "stream",
     "text": [
      "(1683475, 10) (1683475, 1)\n"
     ]
    }
   ],
   "source": [
    "# Try out best departure and arrival models with pca\n",
    "# Start with Departure delay logistic ML model -> 10 features\n",
    "\n",
    "X = delays_df[[\"DAY\", \"MONTH\", \"DEP_TIME\", \"DEPARTURE_TIME_OF_DAY_DUMMY\", \"WEEKDAY_DUMMY\", \"AIRLINE_DUMMY\", \\\n",
    "               \"OP_CARRIER_FL_NUM\", \"TAXI_OUT\", \"WHEELS_OFF\",\"WEATHER_DELAY\",]]\n",
    "\n",
    "y = delays_df[\"DEPARTURE_DELAY\"].values.reshape(-1, 1)\n",
    "print(X.shape, y.shape)"
   ]
  },
  {
   "cell_type": "code",
   "execution_count": 46,
   "metadata": {
    "scrolled": true
   },
   "outputs": [
    {
     "data": {
      "text/plain": [
       "PCA(copy=True, iterated_power='auto', n_components=0.95, random_state=None,\n",
       "    svd_solver='auto', tol=0.0, whiten=False)"
      ]
     },
     "execution_count": 46,
     "metadata": {},
     "output_type": "execute_result"
    }
   ],
   "source": [
    "from sklearn.decomposition import PCA\n",
    "pca = PCA(.95)\n",
    "pca.fit(X)"
   ]
  },
  {
   "cell_type": "code",
   "execution_count": 47,
   "metadata": {},
   "outputs": [],
   "source": [
    "# Split for train and test datasets\n",
    "from sklearn.model_selection import train_test_split\n",
    "\n",
    "X_train, X_test, y_train, y_test = train_test_split(X, y, random_state=rng, stratify=y)"
   ]
  },
  {
   "cell_type": "code",
   "execution_count": 58,
   "metadata": {},
   "outputs": [],
   "source": [
    "X_train_transformed = pca.transform(X_train)"
   ]
  },
  {
   "cell_type": "code",
   "execution_count": 60,
   "metadata": {},
   "outputs": [],
   "source": [
    "X_test_transformed = pca.transform(X_test)"
   ]
  },
  {
   "cell_type": "code",
   "execution_count": 59,
   "metadata": {},
   "outputs": [
    {
     "data": {
      "text/plain": [
       "DecisionTreeClassifier(class_weight=None, criterion='gini', max_depth=None,\n",
       "                       max_features=None, max_leaf_nodes=None,\n",
       "                       min_impurity_decrease=0.0, min_impurity_split=None,\n",
       "                       min_samples_leaf=1, min_samples_split=2,\n",
       "                       min_weight_fraction_leaf=0.0, presort=False,\n",
       "                       random_state=263, splitter='best')"
      ]
     },
     "execution_count": 59,
     "metadata": {},
     "output_type": "execute_result"
    }
   ],
   "source": [
    "from sklearn.tree import DecisionTreeClassifier\n",
    "from sklearn.metrics import accuracy_score\n",
    "from sklearn import tree\n",
    "\n",
    "clf = DecisionTreeClassifier(random_state=rng)\n",
    "clf.fit(X_train_transformed, y_train)"
   ]
  },
  {
   "cell_type": "code",
   "execution_count": 61,
   "metadata": {},
   "outputs": [
    {
     "name": "stdout",
     "output_type": "stream",
     "text": [
      "Accuracy Score: 79.39596406482778\n"
     ]
    }
   ],
   "source": [
    "predictions = clf.predict(X_test_transformed)\n",
    "y_transposed = (np.transpose(y_test)).flatten()\n",
    "print(f\"Accuracy Score: {accuracy_score(y_transposed, predictions)*100}\")"
   ]
  },
  {
   "cell_type": "code",
   "execution_count": 62,
   "metadata": {
    "scrolled": true
   },
   "outputs": [
    {
     "data": {
      "text/html": [
       "<div>\n",
       "<style scoped>\n",
       "    .dataframe tbody tr th:only-of-type {\n",
       "        vertical-align: middle;\n",
       "    }\n",
       "\n",
       "    .dataframe tbody tr th {\n",
       "        vertical-align: top;\n",
       "    }\n",
       "\n",
       "    .dataframe thead th {\n",
       "        text-align: right;\n",
       "    }\n",
       "</style>\n",
       "<table border=\"1\" class=\"dataframe\">\n",
       "  <thead>\n",
       "    <tr style=\"text-align: right;\">\n",
       "      <th>Predicted Delays</th>\n",
       "      <th>Delayed</th>\n",
       "      <th>On Time</th>\n",
       "    </tr>\n",
       "    <tr>\n",
       "      <th>Actual Delays</th>\n",
       "      <th></th>\n",
       "      <th></th>\n",
       "    </tr>\n",
       "  </thead>\n",
       "  <tbody>\n",
       "    <tr>\n",
       "      <th>Delayed</th>\n",
       "      <td>91909</td>\n",
       "      <td>46143</td>\n",
       "    </tr>\n",
       "    <tr>\n",
       "      <th>On Time</th>\n",
       "      <td>40573</td>\n",
       "      <td>242244</td>\n",
       "    </tr>\n",
       "  </tbody>\n",
       "</table>\n",
       "</div>"
      ],
      "text/plain": [
       "Predicted Delays  Delayed  On Time\n",
       "Actual Delays                     \n",
       "Delayed             91909    46143\n",
       "On Time             40573   242244"
      ]
     },
     "execution_count": 62,
     "metadata": {},
     "output_type": "execute_result"
    }
   ],
   "source": [
    "pd.crosstab(y_transposed, predictions, rownames=[\"Actual Delays\"], colnames=[\"Predicted Delays\"])"
   ]
  },
  {
   "cell_type": "markdown",
   "metadata": {},
   "source": [
    "ARRIVAL DELAYS 3 FEATURES DECISION TREE WITH PCA (69.97%)"
   ]
  },
  {
   "cell_type": "code",
   "execution_count": 66,
   "metadata": {},
   "outputs": [
    {
     "name": "stdout",
     "output_type": "stream",
     "text": [
      "(1683475, 3) (1683475, 1)\n"
     ]
    }
   ],
   "source": [
    "# Try out the PCA with arrival delays using the best previous model (3 features)\n",
    "\n",
    "X = delays_df[[\"DEP_TIME\", \"DEP_DELAY\", \"AIR_TIME\"]]\n",
    "y = delays_df[\"ARRIVAL_DELAY\"].values.reshape(-1, 1)\n",
    "print(X.shape, y.shape)"
   ]
  },
  {
   "cell_type": "code",
   "execution_count": 67,
   "metadata": {
    "scrolled": true
   },
   "outputs": [
    {
     "data": {
      "text/plain": [
       "PCA(copy=True, iterated_power='auto', n_components=0.95, random_state=None,\n",
       "    svd_solver='auto', tol=0.0, whiten=False)"
      ]
     },
     "execution_count": 67,
     "metadata": {},
     "output_type": "execute_result"
    }
   ],
   "source": [
    "from sklearn.decomposition import PCA\n",
    "pca = PCA(.95)\n",
    "pca.fit(X)"
   ]
  },
  {
   "cell_type": "code",
   "execution_count": 68,
   "metadata": {},
   "outputs": [],
   "source": [
    "# Split for train and test datasets\n",
    "from sklearn.model_selection import train_test_split\n",
    "\n",
    "X_train, X_test, y_train, y_test = train_test_split(X, y, random_state=rng, stratify=y)"
   ]
  },
  {
   "cell_type": "code",
   "execution_count": 69,
   "metadata": {},
   "outputs": [],
   "source": [
    "X_train_transformed = pca.transform(X_train)"
   ]
  },
  {
   "cell_type": "code",
   "execution_count": 70,
   "metadata": {},
   "outputs": [],
   "source": [
    "X_test_transformed = pca.transform(X_test)"
   ]
  },
  {
   "cell_type": "code",
   "execution_count": 71,
   "metadata": {},
   "outputs": [
    {
     "data": {
      "text/plain": [
       "DecisionTreeClassifier(class_weight=None, criterion='gini', max_depth=None,\n",
       "                       max_features=None, max_leaf_nodes=None,\n",
       "                       min_impurity_decrease=0.0, min_impurity_split=None,\n",
       "                       min_samples_leaf=1, min_samples_split=2,\n",
       "                       min_weight_fraction_leaf=0.0, presort=False,\n",
       "                       random_state=263, splitter='best')"
      ]
     },
     "execution_count": 71,
     "metadata": {},
     "output_type": "execute_result"
    }
   ],
   "source": [
    "from sklearn.tree import DecisionTreeClassifier\n",
    "from sklearn.metrics import accuracy_score\n",
    "from sklearn import tree\n",
    "\n",
    "clf = DecisionTreeClassifier(random_state=rng)\n",
    "clf.fit(X_train_transformed, y_train)"
   ]
  },
  {
   "cell_type": "code",
   "execution_count": 72,
   "metadata": {},
   "outputs": [
    {
     "name": "stdout",
     "output_type": "stream",
     "text": [
      "Accuracy Score: 69.97450513105028\n"
     ]
    }
   ],
   "source": [
    "predictions = clf.predict(X_test_transformed)\n",
    "y_transposed = (np.transpose(y_test)).flatten()\n",
    "print(f\"Accuracy Score: {accuracy_score(y_transposed, predictions)*100}\")"
   ]
  },
  {
   "cell_type": "code",
   "execution_count": 73,
   "metadata": {
    "scrolled": true
   },
   "outputs": [
    {
     "data": {
      "text/html": [
       "<div>\n",
       "<style scoped>\n",
       "    .dataframe tbody tr th:only-of-type {\n",
       "        vertical-align: middle;\n",
       "    }\n",
       "\n",
       "    .dataframe tbody tr th {\n",
       "        vertical-align: top;\n",
       "    }\n",
       "\n",
       "    .dataframe thead th {\n",
       "        text-align: right;\n",
       "    }\n",
       "</style>\n",
       "<table border=\"1\" class=\"dataframe\">\n",
       "  <thead>\n",
       "    <tr style=\"text-align: right;\">\n",
       "      <th>Predicted Delays</th>\n",
       "      <th>Delayed</th>\n",
       "      <th>On Time</th>\n",
       "    </tr>\n",
       "    <tr>\n",
       "      <th>Actual Delays</th>\n",
       "      <th></th>\n",
       "      <th></th>\n",
       "    </tr>\n",
       "  </thead>\n",
       "  <tbody>\n",
       "    <tr>\n",
       "      <th>Delayed</th>\n",
       "      <td>67488</td>\n",
       "      <td>70221</td>\n",
       "    </tr>\n",
       "    <tr>\n",
       "      <th>On Time</th>\n",
       "      <td>56147</td>\n",
       "      <td>227013</td>\n",
       "    </tr>\n",
       "  </tbody>\n",
       "</table>\n",
       "</div>"
      ],
      "text/plain": [
       "Predicted Delays  Delayed  On Time\n",
       "Actual Delays                     \n",
       "Delayed             67488    70221\n",
       "On Time             56147   227013"
      ]
     },
     "execution_count": 73,
     "metadata": {},
     "output_type": "execute_result"
    }
   ],
   "source": [
    "pd.crosstab(y_transposed, predictions, rownames=[\"Actual Delays\"], colnames=[\"Predicted Delays\"])"
   ]
  },
  {
   "cell_type": "markdown",
   "metadata": {},
   "source": [
    "ARRIVAL MODEL 18 FEATURES DECISION TREE WITH PCA (76.06%)"
   ]
  },
  {
   "cell_type": "code",
   "execution_count": 74,
   "metadata": {},
   "outputs": [
    {
     "name": "stdout",
     "output_type": "stream",
     "text": [
      "(1683475, 18) (1683475, 1)\n"
     ]
    }
   ],
   "source": [
    "# Try out the original arrival model with 18 features as it was indifferent to the one with 3 features in accuracy\n",
    "\n",
    "X = delays_df[[\"DAY\", \"MONTH\", \"DEP_TIME\", \"DEP_DELAY\", \"DEPARTURE_TIME_OF_DAY_DUMMY\", \\\n",
    "              \"OP_CARRIER_FL_NUM\", \"TAXI_OUT\", \"AIR_TIME\", \"TAXI_IN\", \\\n",
    "              \"ARRIVAL_TIME_OF_DAY_DUMMY\", \"CARRIER_DELAY\", \"DISTANCE\", \"WEEKDAY_DUMMY\", \"AIRLINE_DUMMY\", \\\n",
    "       \"WEATHER_DELAY\", \"NAS_DELAY\", \"SECURITY_DELAY\", \"LATE_AIRCRAFT_DELAY\",]]\n",
    "y = delays_df[\"ARRIVAL_DELAY\"].values.reshape(-1, 1)\n",
    "print(X.shape, y.shape)"
   ]
  },
  {
   "cell_type": "code",
   "execution_count": 75,
   "metadata": {},
   "outputs": [
    {
     "data": {
      "text/plain": [
       "PCA(copy=True, iterated_power='auto', n_components=0.95, random_state=None,\n",
       "    svd_solver='auto', tol=0.0, whiten=False)"
      ]
     },
     "execution_count": 75,
     "metadata": {},
     "output_type": "execute_result"
    }
   ],
   "source": [
    "from sklearn.decomposition import PCA\n",
    "pca = PCA(.95)\n",
    "pca.fit(X)"
   ]
  },
  {
   "cell_type": "code",
   "execution_count": 76,
   "metadata": {},
   "outputs": [],
   "source": [
    "# Split for train and test datasets\n",
    "from sklearn.model_selection import train_test_split\n",
    "\n",
    "X_train, X_test, y_train, y_test = train_test_split(X, y, random_state=rng, stratify=y)"
   ]
  },
  {
   "cell_type": "code",
   "execution_count": 77,
   "metadata": {},
   "outputs": [],
   "source": [
    "X_train_transformed = pca.transform(X_train)"
   ]
  },
  {
   "cell_type": "code",
   "execution_count": 78,
   "metadata": {},
   "outputs": [],
   "source": [
    "X_test_transformed = pca.transform(X_test)"
   ]
  },
  {
   "cell_type": "code",
   "execution_count": 80,
   "metadata": {},
   "outputs": [
    {
     "data": {
      "text/plain": [
       "DecisionTreeClassifier(class_weight=None, criterion='gini', max_depth=None,\n",
       "                       max_features=None, max_leaf_nodes=None,\n",
       "                       min_impurity_decrease=0.0, min_impurity_split=None,\n",
       "                       min_samples_leaf=1, min_samples_split=2,\n",
       "                       min_weight_fraction_leaf=0.0, presort=False,\n",
       "                       random_state=263, splitter='best')"
      ]
     },
     "execution_count": 80,
     "metadata": {},
     "output_type": "execute_result"
    }
   ],
   "source": [
    "from sklearn.tree import DecisionTreeClassifier\n",
    "from sklearn.metrics import accuracy_score\n",
    "from sklearn import tree\n",
    "\n",
    "clf = DecisionTreeClassifier(random_state=rng)\n",
    "clf.fit(X_train_transformed, y_train)"
   ]
  },
  {
   "cell_type": "code",
   "execution_count": 81,
   "metadata": {},
   "outputs": [
    {
     "name": "stdout",
     "output_type": "stream",
     "text": [
      "Accuracy Score: 76.06119718962432\n"
     ]
    }
   ],
   "source": [
    "predictions = clf.predict(X_test_transformed)\n",
    "y_transposed = (np.transpose(y_test)).flatten()\n",
    "print(f\"Accuracy Score: {accuracy_score(y_transposed, predictions)*100}\")"
   ]
  },
  {
   "cell_type": "code",
   "execution_count": 82,
   "metadata": {
    "scrolled": true
   },
   "outputs": [
    {
     "data": {
      "text/html": [
       "<div>\n",
       "<style scoped>\n",
       "    .dataframe tbody tr th:only-of-type {\n",
       "        vertical-align: middle;\n",
       "    }\n",
       "\n",
       "    .dataframe tbody tr th {\n",
       "        vertical-align: top;\n",
       "    }\n",
       "\n",
       "    .dataframe thead th {\n",
       "        text-align: right;\n",
       "    }\n",
       "</style>\n",
       "<table border=\"1\" class=\"dataframe\">\n",
       "  <thead>\n",
       "    <tr style=\"text-align: right;\">\n",
       "      <th>Predicted Delays</th>\n",
       "      <th>Delayed</th>\n",
       "      <th>On Time</th>\n",
       "    </tr>\n",
       "    <tr>\n",
       "      <th>Actual Delays</th>\n",
       "      <th></th>\n",
       "      <th></th>\n",
       "    </tr>\n",
       "  </thead>\n",
       "  <tbody>\n",
       "    <tr>\n",
       "      <th>Delayed</th>\n",
       "      <td>84424</td>\n",
       "      <td>53285</td>\n",
       "    </tr>\n",
       "    <tr>\n",
       "      <th>On Time</th>\n",
       "      <td>47466</td>\n",
       "      <td>235694</td>\n",
       "    </tr>\n",
       "  </tbody>\n",
       "</table>\n",
       "</div>"
      ],
      "text/plain": [
       "Predicted Delays  Delayed  On Time\n",
       "Actual Delays                     \n",
       "Delayed             84424    53285\n",
       "On Time             47466   235694"
      ]
     },
     "execution_count": 82,
     "metadata": {},
     "output_type": "execute_result"
    }
   ],
   "source": [
    "pd.crosstab(y_transposed, predictions, rownames=[\"Actual Delays\"], colnames=[\"Predicted Delays\"])"
   ]
  },
  {
   "cell_type": "markdown",
   "metadata": {},
   "source": [
    "DEPATURE DELAYS 10 FEATURES RANDOM FOREST WITH GRID SEARCH (68.42%)"
   ]
  },
  {
   "cell_type": "code",
   "execution_count": 83,
   "metadata": {},
   "outputs": [
    {
     "name": "stdout",
     "output_type": "stream",
     "text": [
      "(1683475, 10) (1683475, 1)\n"
     ]
    }
   ],
   "source": [
    "# Try out the grid search with the random forest classifier as a final test\n",
    "# Departure Delay with 10 features\n",
    "\n",
    "X = delays_df[[\"DAY\", \"MONTH\", \"DEP_TIME\", \"DEPARTURE_TIME_OF_DAY_DUMMY\", \"WEEKDAY_DUMMY\", \"AIRLINE_DUMMY\", \\\n",
    "               \"OP_CARRIER_FL_NUM\", \"TAXI_OUT\", \"WHEELS_OFF\",\"WEATHER_DELAY\",]]\n",
    "\n",
    "y = delays_df[\"DEPARTURE_DELAY\"].values.reshape(-1, 1)\n",
    "print(X.shape, y.shape)"
   ]
  },
  {
   "cell_type": "code",
   "execution_count": 56,
   "metadata": {},
   "outputs": [],
   "source": [
    "# Split for train and test datasets\n",
    "from sklearn.model_selection import train_test_split\n",
    "\n",
    "X_train, X_test, y_train, y_test = train_test_split(X, y, random_state=rng, stratify=y)"
   ]
  },
  {
   "cell_type": "code",
   "execution_count": 73,
   "metadata": {
    "scrolled": true
   },
   "outputs": [
    {
     "data": {
      "text/plain": [
       "GridSearchCV(cv=2, error_score='raise-deprecating',\n",
       "             estimator=RandomForestClassifier(bootstrap=True, class_weight=None,\n",
       "                                              criterion='gini', max_depth=2,\n",
       "                                              max_features='auto',\n",
       "                                              max_leaf_nodes=None,\n",
       "                                              min_impurity_decrease=0.0,\n",
       "                                              min_impurity_split=None,\n",
       "                                              min_samples_leaf=1,\n",
       "                                              min_samples_split=2,\n",
       "                                              min_weight_fraction_leaf=0.0,\n",
       "                                              n_estimators=100, n_jobs=None,\n",
       "                                              oob_score=True, random_state=1767,\n",
       "                                              verbose=0, warm_start=False),\n",
       "             iid='warn', n_jobs=None, param_grid={'n_estimators': [1, 6, 11]},\n",
       "             pre_dispatch='2*n_jobs', refit=True, return_train_score=True,\n",
       "             scoring='roc_auc', verbose=0)"
      ]
     },
     "execution_count": 73,
     "metadata": {},
     "output_type": "execute_result"
    }
   ],
   "source": [
    "# Set up the random forest classifier\n",
    "\n",
    "from sklearn.ensemble import RandomForestClassifier\n",
    "from sklearn.model_selection import GridSearchCV\n",
    "\n",
    "clf = RandomForestClassifier(n_estimators=100, max_depth=2, random_state=rng, oob_score=True)\n",
    "\n",
    "grid_search = GridSearchCV(clf, {'n_estimators': [1,6,11]}, cv = 2, scoring = \"roc_auc\", return_train_score=True)\n",
    "\n",
    "grid_search.fit(X_test, y_test)"
   ]
  },
  {
   "cell_type": "code",
   "execution_count": 74,
   "metadata": {},
   "outputs": [
    {
     "name": "stdout",
     "output_type": "stream",
     "text": [
      "Accuracy Score: 68.42319106420287\n"
     ]
    }
   ],
   "source": [
    "# This is about the same as the original model.\n",
    "clf_model = grid_search.best_estimator_\n",
    "predictions = clf_model.predict(X_test)\n",
    "prediction_p = clf_model.predict_proba(X_test)\n",
    "y_transposed = (np.transpose(y_test)).flatten()\n",
    "print(f\"Accuracy Score: {accuracy_score(y_transposed, predictions)*100}\")"
   ]
  },
  {
   "cell_type": "code",
   "execution_count": 75,
   "metadata": {
    "scrolled": true
   },
   "outputs": [
    {
     "data": {
      "text/html": [
       "<div>\n",
       "<style scoped>\n",
       "    .dataframe tbody tr th:only-of-type {\n",
       "        vertical-align: middle;\n",
       "    }\n",
       "\n",
       "    .dataframe tbody tr th {\n",
       "        vertical-align: top;\n",
       "    }\n",
       "\n",
       "    .dataframe thead th {\n",
       "        text-align: right;\n",
       "    }\n",
       "</style>\n",
       "<table border=\"1\" class=\"dataframe\">\n",
       "  <thead>\n",
       "    <tr style=\"text-align: right;\">\n",
       "      <th>Predicted Delays</th>\n",
       "      <th>Delayed</th>\n",
       "      <th>On Time</th>\n",
       "    </tr>\n",
       "    <tr>\n",
       "      <th>Actual Delays</th>\n",
       "      <th></th>\n",
       "      <th></th>\n",
       "    </tr>\n",
       "  </thead>\n",
       "  <tbody>\n",
       "    <tr>\n",
       "      <th>Delayed</th>\n",
       "      <td>5164</td>\n",
       "      <td>132888</td>\n",
       "    </tr>\n",
       "    <tr>\n",
       "      <th>On Time</th>\n",
       "      <td>9</td>\n",
       "      <td>282808</td>\n",
       "    </tr>\n",
       "  </tbody>\n",
       "</table>\n",
       "</div>"
      ],
      "text/plain": [
       "Predicted Delays  Delayed  On Time\n",
       "Actual Delays                     \n",
       "Delayed              5164   132888\n",
       "On Time                 9   282808"
      ]
     },
     "execution_count": 75,
     "metadata": {},
     "output_type": "execute_result"
    }
   ],
   "source": [
    "pd.crosstab(y_transposed, predictions, rownames=[\"Actual Delays\"], colnames=[\"Predicted Delays\"])"
   ]
  },
  {
   "cell_type": "markdown",
   "metadata": {},
   "source": [
    "ARRIVAL DELAYS 3 FEATURES RANDOM FOREST WITH GRID SEARCH (83.6%)"
   ]
  },
  {
   "cell_type": "code",
   "execution_count": 87,
   "metadata": {},
   "outputs": [
    {
     "name": "stdout",
     "output_type": "stream",
     "text": [
      "(1683475, 3) (1683475, 1)\n"
     ]
    }
   ],
   "source": [
    "# Try out the random forest classifier with grid search on the best arrival delay model.\n",
    "\n",
    "X = delays_df[[\"DEP_TIME\", \"DEP_DELAY\", \"AIR_TIME\"]]\n",
    "y = delays_df[\"ARRIVAL_DELAY\"].values.reshape(-1, 1)\n",
    "print(X.shape, y.shape)"
   ]
  },
  {
   "cell_type": "code",
   "execution_count": 88,
   "metadata": {},
   "outputs": [],
   "source": [
    "# Split for train and test datasets\n",
    "from sklearn.model_selection import train_test_split\n",
    "\n",
    "X_train, X_test, y_train, y_test = train_test_split(X, y, random_state=rng, stratify=y)"
   ]
  },
  {
   "cell_type": "code",
   "execution_count": 91,
   "metadata": {},
   "outputs": [
    {
     "data": {
      "text/plain": [
       "GridSearchCV(cv='warn', error_score='raise-deprecating',\n",
       "             estimator=RandomForestClassifier(bootstrap=True, class_weight=None,\n",
       "                                              criterion='gini', max_depth=2,\n",
       "                                              max_features='auto',\n",
       "                                              max_leaf_nodes=None,\n",
       "                                              min_impurity_decrease=0.0,\n",
       "                                              min_impurity_split=None,\n",
       "                                              min_samples_leaf=1,\n",
       "                                              min_samples_split=2,\n",
       "                                              min_weight_fraction_leaf=0.0,\n",
       "                                              n_estimators=100, n_jobs=None,\n",
       "                                              oob_score=True, random_state=1767,\n",
       "                                              verbose=0, warm_start=False),\n",
       "             iid='warn', n_jobs=None, param_grid={'n_estimators': [1, 6, 11]},\n",
       "             pre_dispatch='2*n_jobs', refit=True, return_train_score=True,\n",
       "             scoring=None, verbose=0)"
      ]
     },
     "execution_count": 91,
     "metadata": {},
     "output_type": "execute_result"
    }
   ],
   "source": [
    "# Set up the random forest classifier\n",
    "\n",
    "from sklearn.ensemble import RandomForestClassifier\n",
    "from sklearn.model_selection import GridSearchCV\n",
    "\n",
    "clf = RandomForestClassifier(n_estimators=100, max_depth=2, random_state=rng, oob_score=True)\n",
    "\n",
    "grid_search = GridSearchCV(clf, {'n_estimators': [1,6,11]}, return_train_score=True)\n",
    "\n",
    "grid_search.fit(X_test, y_test)"
   ]
  },
  {
   "cell_type": "code",
   "execution_count": 90,
   "metadata": {},
   "outputs": [
    {
     "name": "stdout",
     "output_type": "stream",
     "text": [
      "Accuracy Score: 83.60653790134222\n"
     ]
    }
   ],
   "source": [
    "# This is about the same as the original model as well.\n",
    "clf_model = grid_search.best_estimator_\n",
    "predictions = clf_model.predict(X_test)\n",
    "prediction_p = clf_model.predict_proba(X_test)\n",
    "y_transposed = (np.transpose(y_test)).flatten()\n",
    "print(f\"Accuracy Score: {accuracy_score(y_transposed, predictions)*100}\")"
   ]
  },
  {
   "cell_type": "code",
   "execution_count": 92,
   "metadata": {
    "scrolled": false
   },
   "outputs": [
    {
     "data": {
      "text/html": [
       "<div>\n",
       "<style scoped>\n",
       "    .dataframe tbody tr th:only-of-type {\n",
       "        vertical-align: middle;\n",
       "    }\n",
       "\n",
       "    .dataframe tbody tr th {\n",
       "        vertical-align: top;\n",
       "    }\n",
       "\n",
       "    .dataframe thead th {\n",
       "        text-align: right;\n",
       "    }\n",
       "</style>\n",
       "<table border=\"1\" class=\"dataframe\">\n",
       "  <thead>\n",
       "    <tr style=\"text-align: right;\">\n",
       "      <th>Predicted Delays</th>\n",
       "      <th>Delayed</th>\n",
       "      <th>On Time</th>\n",
       "    </tr>\n",
       "    <tr>\n",
       "      <th>Actual Delays</th>\n",
       "      <th></th>\n",
       "      <th></th>\n",
       "    </tr>\n",
       "  </thead>\n",
       "  <tbody>\n",
       "    <tr>\n",
       "      <th>Delayed</th>\n",
       "      <td>79541</td>\n",
       "      <td>58168</td>\n",
       "    </tr>\n",
       "    <tr>\n",
       "      <th>On Time</th>\n",
       "      <td>10827</td>\n",
       "      <td>272333</td>\n",
       "    </tr>\n",
       "  </tbody>\n",
       "</table>\n",
       "</div>"
      ],
      "text/plain": [
       "Predicted Delays  Delayed  On Time\n",
       "Actual Delays                     \n",
       "Delayed             79541    58168\n",
       "On Time             10827   272333"
      ]
     },
     "execution_count": 92,
     "metadata": {},
     "output_type": "execute_result"
    }
   ],
   "source": [
    "pd.crosstab(y_transposed, predictions, rownames=[\"Actual Delays\"], colnames=[\"Predicted Delays\"])"
   ]
  },
  {
   "cell_type": "markdown",
   "metadata": {},
   "source": [
    "DEPARTURE DELAYS 15+ MINUTES DECSION TREE WITH PCA (98.665%)"
   ]
  },
  {
   "cell_type": "code",
   "execution_count": 84,
   "metadata": {},
   "outputs": [
    {
     "name": "stdout",
     "output_type": "stream",
     "text": [
      "(1683475, 10) (1683475, 1)\n"
     ]
    }
   ],
   "source": [
    "# Test if the Decision Tree with PCA can predict departure delays of 15 minutes+\n",
    "\n",
    "X = delays_df[[\"DAY\", \"MONTH\", \"DEP_TIME\", \"DEPARTURE_TIME_OF_DAY_DUMMY\", \"WEEKDAY_DUMMY\", \"AIRLINE_DUMMY\", \\\n",
    "               \"OP_CARRIER_FL_NUM\", \"TAXI_OUT\", \"WHEELS_OFF\",\"WEATHER_DELAY\",]]\n",
    "\n",
    "y = delays_df[\"DEPARTURE_DELAY_OVER_15_MINUTES\"].values.reshape(-1, 1)\n",
    "print(X.shape, y.shape)"
   ]
  },
  {
   "cell_type": "code",
   "execution_count": 85,
   "metadata": {},
   "outputs": [
    {
     "data": {
      "text/plain": [
       "PCA(copy=True, iterated_power='auto', n_components=0.95, random_state=None,\n",
       "    svd_solver='auto', tol=0.0, whiten=False)"
      ]
     },
     "execution_count": 85,
     "metadata": {},
     "output_type": "execute_result"
    }
   ],
   "source": [
    "from sklearn.decomposition import PCA\n",
    "pca = PCA(.95)\n",
    "pca.fit(X)"
   ]
  },
  {
   "cell_type": "code",
   "execution_count": 86,
   "metadata": {},
   "outputs": [],
   "source": [
    "# Split for train and test datasets\n",
    "from sklearn.model_selection import train_test_split\n",
    "\n",
    "X_train, X_test, y_train, y_test = train_test_split(X, y, random_state=rng, stratify=y)"
   ]
  },
  {
   "cell_type": "code",
   "execution_count": 87,
   "metadata": {},
   "outputs": [],
   "source": [
    "X_train_transformed = pca.transform(X_train)"
   ]
  },
  {
   "cell_type": "code",
   "execution_count": 88,
   "metadata": {},
   "outputs": [],
   "source": [
    "X_test_transformed = pca.transform(X_test)"
   ]
  },
  {
   "cell_type": "code",
   "execution_count": 89,
   "metadata": {},
   "outputs": [
    {
     "data": {
      "text/plain": [
       "DecisionTreeClassifier(class_weight=None, criterion='gini', max_depth=None,\n",
       "                       max_features=None, max_leaf_nodes=None,\n",
       "                       min_impurity_decrease=0.0, min_impurity_split=None,\n",
       "                       min_samples_leaf=1, min_samples_split=2,\n",
       "                       min_weight_fraction_leaf=0.0, presort=False,\n",
       "                       random_state=263, splitter='best')"
      ]
     },
     "execution_count": 89,
     "metadata": {},
     "output_type": "execute_result"
    }
   ],
   "source": [
    "from sklearn.tree import DecisionTreeClassifier\n",
    "from sklearn.metrics import accuracy_score\n",
    "from sklearn import tree\n",
    "\n",
    "clf = DecisionTreeClassifier(random_state=rng)\n",
    "clf.fit(X_train_transformed, y_train)"
   ]
  },
  {
   "cell_type": "code",
   "execution_count": 90,
   "metadata": {},
   "outputs": [
    {
     "name": "stdout",
     "output_type": "stream",
     "text": [
      "Accuracy Score: 98.6551634831741\n"
     ]
    }
   ],
   "source": [
    "predictions = clf.predict(X_test_transformed)\n",
    "prediction_p = clf.predict_proba(X_test_transformed)\n",
    "y_transposed = (np.transpose(y_test)).flatten()\n",
    "print(f\"Accuracy Score: {accuracy_score(y_transposed, predictions)*100}\")"
   ]
  },
  {
   "cell_type": "code",
   "execution_count": 91,
   "metadata": {
    "scrolled": true
   },
   "outputs": [
    {
     "data": {
      "text/html": [
       "<div>\n",
       "<style scoped>\n",
       "    .dataframe tbody tr th:only-of-type {\n",
       "        vertical-align: middle;\n",
       "    }\n",
       "\n",
       "    .dataframe tbody tr th {\n",
       "        vertical-align: top;\n",
       "    }\n",
       "\n",
       "    .dataframe thead th {\n",
       "        text-align: right;\n",
       "    }\n",
       "</style>\n",
       "<table border=\"1\" class=\"dataframe\">\n",
       "  <thead>\n",
       "    <tr style=\"text-align: right;\">\n",
       "      <th>Predicted Delays</th>\n",
       "      <th>0</th>\n",
       "      <th>1</th>\n",
       "    </tr>\n",
       "    <tr>\n",
       "      <th>Actual Delays</th>\n",
       "      <th></th>\n",
       "      <th></th>\n",
       "    </tr>\n",
       "  </thead>\n",
       "  <tbody>\n",
       "    <tr>\n",
       "      <th>0</th>\n",
       "      <td>413909</td>\n",
       "      <td>2764</td>\n",
       "    </tr>\n",
       "    <tr>\n",
       "      <th>1</th>\n",
       "      <td>2896</td>\n",
       "      <td>1300</td>\n",
       "    </tr>\n",
       "  </tbody>\n",
       "</table>\n",
       "</div>"
      ],
      "text/plain": [
       "Predicted Delays       0     1\n",
       "Actual Delays                 \n",
       "0                 413909  2764\n",
       "1                   2896  1300"
      ]
     },
     "execution_count": 91,
     "metadata": {},
     "output_type": "execute_result"
    }
   ],
   "source": [
    "pd.crosstab(y_transposed, predictions, rownames=[\"Actual Delays\"], colnames=[\"Predicted Delays\"])"
   ]
  },
  {
   "cell_type": "markdown",
   "metadata": {},
   "source": [
    "ARRIVAL DELAYS 15+ MINUTES DECISION TRESS WITH PCA (100%)"
   ]
  },
  {
   "cell_type": "code",
   "execution_count": 92,
   "metadata": {},
   "outputs": [
    {
     "name": "stdout",
     "output_type": "stream",
     "text": [
      "(1683475, 18) (1683475, 1)\n"
     ]
    }
   ],
   "source": [
    "# Try it out for arrival delays of 15 minutes+\n",
    "\n",
    "X = delays_df[[\"DAY\", \"MONTH\", \"DEP_TIME\", \"DEP_DELAY\", \"DEPARTURE_TIME_OF_DAY_DUMMY\", \\\n",
    "              \"OP_CARRIER_FL_NUM\", \"TAXI_OUT\", \"AIR_TIME\", \"TAXI_IN\", \\\n",
    "              \"ARRIVAL_TIME_OF_DAY_DUMMY\", \"CARRIER_DELAY\", \"DISTANCE\", \"WEEKDAY_DUMMY\", \"AIRLINE_DUMMY\", \\\n",
    "       \"WEATHER_DELAY\", \"NAS_DELAY\", \"SECURITY_DELAY\", \"LATE_AIRCRAFT_DELAY\",]]\n",
    "y = delays_df[\"ARRIVAL_DELAY_OVER_15_MINUTES\"].values.reshape(-1, 1)\n",
    "print(X.shape, y.shape)"
   ]
  },
  {
   "cell_type": "code",
   "execution_count": 93,
   "metadata": {},
   "outputs": [
    {
     "data": {
      "text/plain": [
       "PCA(copy=True, iterated_power='auto', n_components=0.95, random_state=None,\n",
       "    svd_solver='auto', tol=0.0, whiten=False)"
      ]
     },
     "execution_count": 93,
     "metadata": {},
     "output_type": "execute_result"
    }
   ],
   "source": [
    "from sklearn.decomposition import PCA\n",
    "pca = PCA(.95)\n",
    "pca.fit(X)"
   ]
  },
  {
   "cell_type": "code",
   "execution_count": 94,
   "metadata": {},
   "outputs": [],
   "source": [
    "# Split for train and test datasets\n",
    "from sklearn.model_selection import train_test_split\n",
    "\n",
    "X_train, X_test, y_train, y_test = train_test_split(X, y, random_state=rng, stratify=y)"
   ]
  },
  {
   "cell_type": "code",
   "execution_count": 95,
   "metadata": {},
   "outputs": [],
   "source": [
    "X_train_transformed = pca.transform(X_train)"
   ]
  },
  {
   "cell_type": "code",
   "execution_count": 96,
   "metadata": {},
   "outputs": [],
   "source": [
    "X_test_transformed = pca.transform(X_test)"
   ]
  },
  {
   "cell_type": "code",
   "execution_count": 97,
   "metadata": {},
   "outputs": [
    {
     "data": {
      "text/plain": [
       "DecisionTreeClassifier(class_weight=None, criterion='gini', max_depth=None,\n",
       "                       max_features=None, max_leaf_nodes=None,\n",
       "                       min_impurity_decrease=0.0, min_impurity_split=None,\n",
       "                       min_samples_leaf=1, min_samples_split=2,\n",
       "                       min_weight_fraction_leaf=0.0, presort=False,\n",
       "                       random_state=263, splitter='best')"
      ]
     },
     "execution_count": 97,
     "metadata": {},
     "output_type": "execute_result"
    }
   ],
   "source": [
    "from sklearn.tree import DecisionTreeClassifier\n",
    "from sklearn.metrics import accuracy_score\n",
    "from sklearn import tree\n",
    "\n",
    "clf = DecisionTreeClassifier(random_state=rng)\n",
    "clf.fit(X_train_transformed, y_train)"
   ]
  },
  {
   "cell_type": "code",
   "execution_count": 98,
   "metadata": {},
   "outputs": [
    {
     "name": "stdout",
     "output_type": "stream",
     "text": [
      "Accuracy Score: 77.2632339278968\n"
     ]
    }
   ],
   "source": [
    "predictions = clf.predict(X_test_transformed)\n",
    "prediction_p = clf.predict_proba(X_test_transformed)\n",
    "y_transposed = (np.transpose(y_test)).flatten()\n",
    "print(f\"Accuracy Score: {accuracy_score(y_transposed, predictions)*100}\")"
   ]
  },
  {
   "cell_type": "code",
   "execution_count": 99,
   "metadata": {
    "scrolled": false
   },
   "outputs": [
    {
     "data": {
      "text/html": [
       "<div>\n",
       "<style scoped>\n",
       "    .dataframe tbody tr th:only-of-type {\n",
       "        vertical-align: middle;\n",
       "    }\n",
       "\n",
       "    .dataframe tbody tr th {\n",
       "        vertical-align: top;\n",
       "    }\n",
       "\n",
       "    .dataframe thead th {\n",
       "        text-align: right;\n",
       "    }\n",
       "</style>\n",
       "<table border=\"1\" class=\"dataframe\">\n",
       "  <thead>\n",
       "    <tr style=\"text-align: right;\">\n",
       "      <th>Predicted Delays</th>\n",
       "      <th>0</th>\n",
       "      <th>1</th>\n",
       "    </tr>\n",
       "    <tr>\n",
       "      <th>Actual Delays</th>\n",
       "      <th></th>\n",
       "      <th></th>\n",
       "    </tr>\n",
       "  </thead>\n",
       "  <tbody>\n",
       "    <tr>\n",
       "      <th>0</th>\n",
       "      <td>256111</td>\n",
       "      <td>49061</td>\n",
       "    </tr>\n",
       "    <tr>\n",
       "      <th>1</th>\n",
       "      <td>46631</td>\n",
       "      <td>69066</td>\n",
       "    </tr>\n",
       "  </tbody>\n",
       "</table>\n",
       "</div>"
      ],
      "text/plain": [
       "Predicted Delays       0      1\n",
       "Actual Delays                  \n",
       "0                 256111  49061\n",
       "1                  46631  69066"
      ]
     },
     "execution_count": 99,
     "metadata": {},
     "output_type": "execute_result"
    }
   ],
   "source": [
    "pd.crosstab(y_transposed, predictions, rownames=[\"Actual Delays\"], colnames=[\"Predicted Delays\"])"
   ]
  },
  {
   "cell_type": "markdown",
   "metadata": {},
   "source": [
    "ARRIVAL DELAY 8 FEATURES DECISION TREE WITH PCA"
   ]
  },
  {
   "cell_type": "code",
   "execution_count": 123,
   "metadata": {},
   "outputs": [
    {
     "name": "stdout",
     "output_type": "stream",
     "text": [
      "(1683475, 8) (1683475, 1)\n"
     ]
    }
   ],
   "source": [
    "# Since the departure delay 15+ minutes model was by far the best, more arrival delay models will be tested to try to match it\n",
    "\n",
    "X = delays_df[[\"DEP_TIME\", \"DEP_DELAY\", \"DEPARTURE_TIME_OF_DAY_DUMMY\", \\\n",
    "              \"OP_CARRIER_FL_NUM\", \"AIR_TIME\",\n",
    "              \"ARRIVAL_TIME_OF_DAY_DUMMY\",\"WEEKDAY_DUMMY\", \"AIRLINE_DUMMY\", ]]\n",
    "y = delays_df[\"ARRIVAL_DELAY\"].values.reshape(-1, 1)\n",
    "print(X.shape, y.shape)"
   ]
  },
  {
   "cell_type": "code",
   "execution_count": 124,
   "metadata": {},
   "outputs": [
    {
     "data": {
      "text/plain": [
       "PCA(copy=True, iterated_power='auto', n_components=0.95, random_state=None,\n",
       "    svd_solver='auto', tol=0.0, whiten=False)"
      ]
     },
     "execution_count": 124,
     "metadata": {},
     "output_type": "execute_result"
    }
   ],
   "source": [
    "from sklearn.decomposition import PCA\n",
    "pca = PCA(.95)\n",
    "pca.fit(X)"
   ]
  },
  {
   "cell_type": "code",
   "execution_count": 125,
   "metadata": {},
   "outputs": [],
   "source": [
    "# Split for train and test datasets\n",
    "from sklearn.model_selection import train_test_split\n",
    "\n",
    "X_train, X_test, y_train, y_test = train_test_split(X, y, random_state=rng, stratify=y)"
   ]
  },
  {
   "cell_type": "code",
   "execution_count": 126,
   "metadata": {},
   "outputs": [],
   "source": [
    "X_train_transformed = pca.transform(X_train)\n",
    "X_test_transformed = pca.transform(X_test)"
   ]
  },
  {
   "cell_type": "code",
   "execution_count": 127,
   "metadata": {},
   "outputs": [
    {
     "data": {
      "text/plain": [
       "DecisionTreeClassifier(class_weight=None, criterion='gini', max_depth=None,\n",
       "                       max_features=None, max_leaf_nodes=None,\n",
       "                       min_impurity_decrease=0.0, min_impurity_split=None,\n",
       "                       min_samples_leaf=1, min_samples_split=2,\n",
       "                       min_weight_fraction_leaf=0.0, presort=False,\n",
       "                       random_state=263, splitter='best')"
      ]
     },
     "execution_count": 127,
     "metadata": {},
     "output_type": "execute_result"
    }
   ],
   "source": [
    "from sklearn.tree import DecisionTreeClassifier\n",
    "from sklearn.metrics import accuracy_score\n",
    "from sklearn import tree\n",
    "\n",
    "clf = DecisionTreeClassifier(random_state=rng)\n",
    "clf.fit(X_train_transformed, y_train)"
   ]
  },
  {
   "cell_type": "code",
   "execution_count": 128,
   "metadata": {},
   "outputs": [
    {
     "name": "stdout",
     "output_type": "stream",
     "text": [
      "Accuracy Score: 72.4897771040395\n"
     ]
    }
   ],
   "source": [
    "predictions = clf.predict(X_test_transformed)\n",
    "prediction_p = clf.predict_proba(X_test_transformed)\n",
    "y_transposed = (np.transpose(y_test)).flatten()\n",
    "print(f\"Accuracy Score: {accuracy_score(y_transposed, predictions)*100}\")"
   ]
  },
  {
   "cell_type": "code",
   "execution_count": 122,
   "metadata": {},
   "outputs": [
    {
     "data": {
      "text/html": [
       "<div>\n",
       "<style scoped>\n",
       "    .dataframe tbody tr th:only-of-type {\n",
       "        vertical-align: middle;\n",
       "    }\n",
       "\n",
       "    .dataframe tbody tr th {\n",
       "        vertical-align: top;\n",
       "    }\n",
       "\n",
       "    .dataframe thead th {\n",
       "        text-align: right;\n",
       "    }\n",
       "</style>\n",
       "<table border=\"1\" class=\"dataframe\">\n",
       "  <thead>\n",
       "    <tr style=\"text-align: right;\">\n",
       "      <th>Predicted Delays</th>\n",
       "      <th>Delayed</th>\n",
       "      <th>On Time</th>\n",
       "    </tr>\n",
       "    <tr>\n",
       "      <th>Actual Delays</th>\n",
       "      <th></th>\n",
       "      <th></th>\n",
       "    </tr>\n",
       "  </thead>\n",
       "  <tbody>\n",
       "    <tr>\n",
       "      <th>Delayed</th>\n",
       "      <td>67488</td>\n",
       "      <td>70221</td>\n",
       "    </tr>\n",
       "    <tr>\n",
       "      <th>On Time</th>\n",
       "      <td>56147</td>\n",
       "      <td>227013</td>\n",
       "    </tr>\n",
       "  </tbody>\n",
       "</table>\n",
       "</div>"
      ],
      "text/plain": [
       "Predicted Delays  Delayed  On Time\n",
       "Actual Delays                     \n",
       "Delayed             67488    70221\n",
       "On Time             56147   227013"
      ]
     },
     "execution_count": 122,
     "metadata": {},
     "output_type": "execute_result"
    }
   ],
   "source": [
    "pd.crosstab(y_transposed, predictions, rownames=[\"Actual Delays\"], colnames=[\"Predicted Delays\"])"
   ]
  },
  {
   "cell_type": "markdown",
   "metadata": {},
   "source": [
    "DEPARTURE DELAY 3 CATEGORY SPLIT DECISION TREE (66.5%)"
   ]
  },
  {
   "cell_type": "code",
   "execution_count": 103,
   "metadata": {},
   "outputs": [
    {
     "name": "stdout",
     "output_type": "stream",
     "text": [
      "(1683475, 10) (1683475, 1)\n"
     ]
    }
   ],
   "source": [
    "# A final test for predictions of on times, small delays (<15 minutes) and long delays (15+ minutes)\n",
    "\n",
    "X = delays_df[[\"DAY\", \"MONTH\", \"DEP_TIME\", \"DEPARTURE_TIME_OF_DAY_DUMMY\", \"WEEKDAY_DUMMY\", \"AIRLINE_DUMMY\", \\\n",
    "               \"OP_CARRIER_FL_NUM\", \"TAXI_OUT\", \"WHEELS_OFF\",\"WEATHER_DELAY\",]]\n",
    "\n",
    "y = delays_df[\"DEPARTURE_DELAY_TEST\"].values.reshape(-1, 1)\n",
    "print(X.shape, y.shape)"
   ]
  },
  {
   "cell_type": "code",
   "execution_count": 104,
   "metadata": {},
   "outputs": [],
   "source": [
    "y = pd.factorize(delays_df[\"DEPARTURE_DELAY_TEST\"])[0]"
   ]
  },
  {
   "cell_type": "code",
   "execution_count": 105,
   "metadata": {},
   "outputs": [],
   "source": [
    "# Split for train and test datasets\n",
    "from sklearn.model_selection import train_test_split\n",
    "\n",
    "X_train, X_test, y_train, y_test = train_test_split(X, y, random_state=rng, stratify=y)"
   ]
  },
  {
   "cell_type": "code",
   "execution_count": 106,
   "metadata": {},
   "outputs": [
    {
     "data": {
      "text/plain": [
       "DecisionTreeClassifier(class_weight=None, criterion='gini', max_depth=None,\n",
       "                       max_features=None, max_leaf_nodes=None,\n",
       "                       min_impurity_decrease=0.0, min_impurity_split=None,\n",
       "                       min_samples_leaf=1, min_samples_split=2,\n",
       "                       min_weight_fraction_leaf=0.0, presort=False,\n",
       "                       random_state=263, splitter='best')"
      ]
     },
     "execution_count": 106,
     "metadata": {},
     "output_type": "execute_result"
    }
   ],
   "source": [
    "from sklearn.tree import DecisionTreeClassifier\n",
    "from sklearn.metrics import accuracy_score\n",
    "from sklearn import tree\n",
    "\n",
    "clf = DecisionTreeClassifier(random_state=rng)\n",
    "clf.fit(X_train, y_train)"
   ]
  },
  {
   "cell_type": "code",
   "execution_count": 107,
   "metadata": {},
   "outputs": [
    {
     "name": "stdout",
     "output_type": "stream",
     "text": [
      "Accuracy Score: 66.49693847729341\n"
     ]
    }
   ],
   "source": [
    "predictions = clf.predict(X_test)\n",
    "prediction_p = clf.predict_proba(X_test)\n",
    "y_transposed = (np.transpose(y_test)).flatten()\n",
    "print(f\"Accuracy Score: {accuracy_score(y_transposed, predictions)*100}\")"
   ]
  },
  {
   "cell_type": "code",
   "execution_count": 108,
   "metadata": {
    "scrolled": false
   },
   "outputs": [
    {
     "data": {
      "text/html": [
       "<div>\n",
       "<style scoped>\n",
       "    .dataframe tbody tr th:only-of-type {\n",
       "        vertical-align: middle;\n",
       "    }\n",
       "\n",
       "    .dataframe tbody tr th {\n",
       "        vertical-align: top;\n",
       "    }\n",
       "\n",
       "    .dataframe thead th {\n",
       "        text-align: right;\n",
       "    }\n",
       "</style>\n",
       "<table border=\"1\" class=\"dataframe\">\n",
       "  <thead>\n",
       "    <tr style=\"text-align: right;\">\n",
       "      <th>Predicted Delays</th>\n",
       "      <th>0</th>\n",
       "      <th>1</th>\n",
       "      <th>2</th>\n",
       "      <th>3</th>\n",
       "    </tr>\n",
       "    <tr>\n",
       "      <th>Actual Delays</th>\n",
       "      <th></th>\n",
       "      <th></th>\n",
       "      <th></th>\n",
       "      <th></th>\n",
       "    </tr>\n",
       "  </thead>\n",
       "  <tbody>\n",
       "    <tr>\n",
       "      <th>0</th>\n",
       "      <td>224018</td>\n",
       "      <td>24099</td>\n",
       "      <td>34700</td>\n",
       "      <td>0</td>\n",
       "    </tr>\n",
       "    <tr>\n",
       "      <th>1</th>\n",
       "      <td>23910</td>\n",
       "      <td>32119</td>\n",
       "      <td>13042</td>\n",
       "      <td>3</td>\n",
       "    </tr>\n",
       "    <tr>\n",
       "      <th>2</th>\n",
       "      <td>32663</td>\n",
       "      <td>12586</td>\n",
       "      <td>23728</td>\n",
       "      <td>0</td>\n",
       "    </tr>\n",
       "    <tr>\n",
       "      <th>3</th>\n",
       "      <td>0</td>\n",
       "      <td>1</td>\n",
       "      <td>0</td>\n",
       "      <td>0</td>\n",
       "    </tr>\n",
       "  </tbody>\n",
       "</table>\n",
       "</div>"
      ],
      "text/plain": [
       "Predicted Delays       0      1      2  3\n",
       "Actual Delays                            \n",
       "0                 224018  24099  34700  0\n",
       "1                  23910  32119  13042  3\n",
       "2                  32663  12586  23728  0\n",
       "3                      0      1      0  0"
      ]
     },
     "execution_count": 108,
     "metadata": {},
     "output_type": "execute_result"
    }
   ],
   "source": [
    "# Figure out why there is a 4th dummy variable\n",
    "pd.crosstab(y_transposed, predictions, rownames=[\"Actual Delays\"], colnames=[\"Predicted Delays\"])"
   ]
  },
  {
   "cell_type": "markdown",
   "metadata": {},
   "source": [
    "ARRIVAL DELAY 3 CATEGORIES DECISION TREE (100%)"
   ]
  },
  {
   "cell_type": "code",
   "execution_count": 109,
   "metadata": {
    "scrolled": true
   },
   "outputs": [
    {
     "name": "stdout",
     "output_type": "stream",
     "text": [
      "(1683475, 18) (1683475, 1)\n"
     ]
    }
   ],
   "source": [
    "# Test out on Arrival Delays with 3 categories\n",
    "\n",
    "X = delays_df[[\"DAY\", \"MONTH\", \"DEP_TIME\", \"DEP_DELAY\", \"DEPARTURE_TIME_OF_DAY_DUMMY\", \\\n",
    "              \"OP_CARRIER_FL_NUM\", \"TAXI_OUT\", \"AIR_TIME\", \"TAXI_IN\", \\\n",
    "              \"ARRIVAL_TIME_OF_DAY_DUMMY\", \"CARRIER_DELAY\", \"DISTANCE\", \"WEEKDAY_DUMMY\", \"AIRLINE_DUMMY\", \\\n",
    "       \"WEATHER_DELAY\", \"NAS_DELAY\", \"SECURITY_DELAY\", \"LATE_AIRCRAFT_DELAY\",]]\n",
    "y = delays_df[\"ARRIVAL_DELAY_TEST\"].values.reshape(-1, 1)\n",
    "print(X.shape, y.shape)"
   ]
  },
  {
   "cell_type": "code",
   "execution_count": 110,
   "metadata": {},
   "outputs": [],
   "source": [
    "y = pd.factorize(delays_df[\"ARRIVAL_DELAY_TEST\"])[0]"
   ]
  },
  {
   "cell_type": "code",
   "execution_count": 111,
   "metadata": {},
   "outputs": [],
   "source": [
    "# Split for train and test datasets\n",
    "from sklearn.model_selection import train_test_split\n",
    "\n",
    "X_train, X_test, y_train, y_test = train_test_split(X, y, random_state=rng, stratify=y)"
   ]
  },
  {
   "cell_type": "code",
   "execution_count": 112,
   "metadata": {},
   "outputs": [
    {
     "data": {
      "text/plain": [
       "DecisionTreeClassifier(class_weight=None, criterion='gini', max_depth=None,\n",
       "                       max_features=None, max_leaf_nodes=None,\n",
       "                       min_impurity_decrease=0.0, min_impurity_split=None,\n",
       "                       min_samples_leaf=1, min_samples_split=2,\n",
       "                       min_weight_fraction_leaf=0.0, presort=False,\n",
       "                       random_state=263, splitter='best')"
      ]
     },
     "execution_count": 112,
     "metadata": {},
     "output_type": "execute_result"
    }
   ],
   "source": [
    "from sklearn.tree import DecisionTreeClassifier\n",
    "from sklearn.metrics import accuracy_score\n",
    "from sklearn import tree\n",
    "\n",
    "clf = DecisionTreeClassifier(random_state=rng)\n",
    "clf.fit(X_train, y_train)"
   ]
  },
  {
   "cell_type": "code",
   "execution_count": 113,
   "metadata": {},
   "outputs": [
    {
     "name": "stdout",
     "output_type": "stream",
     "text": [
      "Accuracy Score: 85.85902026521318\n"
     ]
    }
   ],
   "source": [
    "predictions = clf.predict(X_test)\n",
    "prediction_p = clf.predict_proba(X_test)\n",
    "y_transposed = (np.transpose(y_test)).flatten()\n",
    "print(f\"Accuracy Score: {accuracy_score(y_transposed, predictions)*100}\")"
   ]
  },
  {
   "cell_type": "code",
   "execution_count": 114,
   "metadata": {
    "scrolled": true
   },
   "outputs": [
    {
     "data": {
      "text/html": [
       "<div>\n",
       "<style scoped>\n",
       "    .dataframe tbody tr th:only-of-type {\n",
       "        vertical-align: middle;\n",
       "    }\n",
       "\n",
       "    .dataframe tbody tr th {\n",
       "        vertical-align: top;\n",
       "    }\n",
       "\n",
       "    .dataframe thead th {\n",
       "        text-align: right;\n",
       "    }\n",
       "</style>\n",
       "<table border=\"1\" class=\"dataframe\">\n",
       "  <thead>\n",
       "    <tr style=\"text-align: right;\">\n",
       "      <th>Predicted Delays</th>\n",
       "      <th>0</th>\n",
       "      <th>1</th>\n",
       "      <th>2</th>\n",
       "      <th>3</th>\n",
       "    </tr>\n",
       "    <tr>\n",
       "      <th>Actual Delays</th>\n",
       "      <th></th>\n",
       "      <th></th>\n",
       "      <th></th>\n",
       "      <th></th>\n",
       "    </tr>\n",
       "  </thead>\n",
       "  <tbody>\n",
       "    <tr>\n",
       "      <th>0</th>\n",
       "      <td>252944</td>\n",
       "      <td>14</td>\n",
       "      <td>30202</td>\n",
       "      <td>0</td>\n",
       "    </tr>\n",
       "    <tr>\n",
       "      <th>1</th>\n",
       "      <td>23</td>\n",
       "      <td>69600</td>\n",
       "      <td>152</td>\n",
       "      <td>0</td>\n",
       "    </tr>\n",
       "    <tr>\n",
       "      <th>2</th>\n",
       "      <td>29019</td>\n",
       "      <td>105</td>\n",
       "      <td>38809</td>\n",
       "      <td>0</td>\n",
       "    </tr>\n",
       "    <tr>\n",
       "      <th>3</th>\n",
       "      <td>0</td>\n",
       "      <td>0</td>\n",
       "      <td>0</td>\n",
       "      <td>1</td>\n",
       "    </tr>\n",
       "  </tbody>\n",
       "</table>\n",
       "</div>"
      ],
      "text/plain": [
       "Predicted Delays       0      1      2  3\n",
       "Actual Delays                            \n",
       "0                 252944     14  30202  0\n",
       "1                     23  69600    152  0\n",
       "2                  29019    105  38809  0\n",
       "3                      0      0      0  1"
      ]
     },
     "execution_count": 114,
     "metadata": {},
     "output_type": "execute_result"
    }
   ],
   "source": [
    "pd.crosstab(y_transposed, predictions, rownames=[\"Actual Delays\"], colnames=[\"Predicted Delays\"])"
   ]
  },
  {
   "cell_type": "code",
   "execution_count": 115,
   "metadata": {},
   "outputs": [
    {
     "data": {
      "text/html": [
       "<div>\n",
       "<style scoped>\n",
       "    .dataframe tbody tr th:only-of-type {\n",
       "        vertical-align: middle;\n",
       "    }\n",
       "\n",
       "    .dataframe tbody tr th {\n",
       "        vertical-align: top;\n",
       "    }\n",
       "\n",
       "    .dataframe thead th {\n",
       "        text-align: right;\n",
       "    }\n",
       "</style>\n",
       "<table border=\"1\" class=\"dataframe\">\n",
       "  <thead>\n",
       "    <tr style=\"text-align: right;\">\n",
       "      <th></th>\n",
       "      <th>Model</th>\n",
       "      <th>Model Type</th>\n",
       "      <th>Features</th>\n",
       "      <th>Test Data R2</th>\n",
       "    </tr>\n",
       "  </thead>\n",
       "  <tbody>\n",
       "    <tr>\n",
       "      <th>0</th>\n",
       "      <td>Depature Delay</td>\n",
       "      <td>Decision Tree</td>\n",
       "      <td>10</td>\n",
       "      <td>0.68000</td>\n",
       "    </tr>\n",
       "    <tr>\n",
       "      <th>1</th>\n",
       "      <td></td>\n",
       "      <td>Random Forest</td>\n",
       "      <td>10</td>\n",
       "      <td>0.68240</td>\n",
       "    </tr>\n",
       "    <tr>\n",
       "      <th>2</th>\n",
       "      <td></td>\n",
       "      <td>Random Forest</td>\n",
       "      <td>4</td>\n",
       "      <td>0.68230</td>\n",
       "    </tr>\n",
       "    <tr>\n",
       "      <th>3</th>\n",
       "      <td></td>\n",
       "      <td>Decision Tree with PCA</td>\n",
       "      <td>10</td>\n",
       "      <td>0.79900</td>\n",
       "    </tr>\n",
       "    <tr>\n",
       "      <th>4</th>\n",
       "      <td></td>\n",
       "      <td>Random Forest with Grid Search</td>\n",
       "      <td>10</td>\n",
       "      <td>0.68420</td>\n",
       "    </tr>\n",
       "    <tr>\n",
       "      <th>5</th>\n",
       "      <td>Departure Delay 15+ Minutes</td>\n",
       "      <td>Decision Tree with PCA</td>\n",
       "      <td>10</td>\n",
       "      <td>0.98665</td>\n",
       "    </tr>\n",
       "    <tr>\n",
       "      <th>6</th>\n",
       "      <td>Departure Delay 3 Categories</td>\n",
       "      <td>Decision TreeRandom Forest</td>\n",
       "      <td>10</td>\n",
       "      <td>0.66500</td>\n",
       "    </tr>\n",
       "    <tr>\n",
       "      <th>7</th>\n",
       "      <td>Arrival Delay</td>\n",
       "      <td>Random Forest</td>\n",
       "      <td>18</td>\n",
       "      <td>0.84300</td>\n",
       "    </tr>\n",
       "    <tr>\n",
       "      <th>8</th>\n",
       "      <td></td>\n",
       "      <td>Random Forest</td>\n",
       "      <td>8</td>\n",
       "      <td>0.82620</td>\n",
       "    </tr>\n",
       "    <tr>\n",
       "      <th>9</th>\n",
       "      <td></td>\n",
       "      <td>Decision Tree with PCA</td>\n",
       "      <td>3</td>\n",
       "      <td>0.83670</td>\n",
       "    </tr>\n",
       "    <tr>\n",
       "      <th>10</th>\n",
       "      <td></td>\n",
       "      <td>Decision Tree with PCA</td>\n",
       "      <td>3</td>\n",
       "      <td>0.69970</td>\n",
       "    </tr>\n",
       "    <tr>\n",
       "      <th>11</th>\n",
       "      <td></td>\n",
       "      <td>Forest with Grid Search</td>\n",
       "      <td>18</td>\n",
       "      <td>0.76060</td>\n",
       "    </tr>\n",
       "    <tr>\n",
       "      <th>12</th>\n",
       "      <td></td>\n",
       "      <td>Random Forest</td>\n",
       "      <td>3</td>\n",
       "      <td>0.83600</td>\n",
       "    </tr>\n",
       "    <tr>\n",
       "      <th>13</th>\n",
       "      <td>Arrival Delay 15+ Minutes</td>\n",
       "      <td>Random Forest</td>\n",
       "      <td>18</td>\n",
       "      <td>0.77260</td>\n",
       "    </tr>\n",
       "    <tr>\n",
       "      <th>14</th>\n",
       "      <td>Arrival Delay 3 Categories</td>\n",
       "      <td>Random Forest</td>\n",
       "      <td>18</td>\n",
       "      <td>0.85860</td>\n",
       "    </tr>\n",
       "  </tbody>\n",
       "</table>\n",
       "</div>"
      ],
      "text/plain": [
       "                           Model                      Model Type  Features  \\\n",
       "0                 Depature Delay                   Decision Tree        10   \n",
       "1                                                  Random Forest        10   \n",
       "2                                                  Random Forest         4   \n",
       "3                                         Decision Tree with PCA        10   \n",
       "4                                 Random Forest with Grid Search        10   \n",
       "5    Departure Delay 15+ Minutes          Decision Tree with PCA        10   \n",
       "6   Departure Delay 3 Categories      Decision TreeRandom Forest        10   \n",
       "7                  Arrival Delay                   Random Forest        18   \n",
       "8                                                  Random Forest         8   \n",
       "9                                         Decision Tree with PCA         3   \n",
       "10                                        Decision Tree with PCA         3   \n",
       "11                                       Forest with Grid Search        18   \n",
       "12                                                 Random Forest         3   \n",
       "13     Arrival Delay 15+ Minutes                   Random Forest        18   \n",
       "14    Arrival Delay 3 Categories                   Random Forest        18   \n",
       "\n",
       "    Test Data R2  \n",
       "0        0.68000  \n",
       "1        0.68240  \n",
       "2        0.68230  \n",
       "3        0.79900  \n",
       "4        0.68420  \n",
       "5        0.98665  \n",
       "6        0.66500  \n",
       "7        0.84300  \n",
       "8        0.82620  \n",
       "9        0.83670  \n",
       "10       0.69970  \n",
       "11       0.76060  \n",
       "12       0.83600  \n",
       "13       0.77260  \n",
       "14       0.85860  "
      ]
     },
     "execution_count": 115,
     "metadata": {},
     "output_type": "execute_result"
    }
   ],
   "source": [
    "Decision_Trees_ML_outcomes = {\n",
    "    \"Model\": [\"Depature Delay\", \"\", \"\", \"\", \"\", \"Departure Delay 15+ Minutes\", \"Departure Delay 3 Categories\", \\\n",
    "              \"Arrival Delay\", \"\", \"\", \"\", \"\", \"\", \"Arrival Delay 15+ Minutes\", \"Arrival Delay 3 Categories\"],\n",
    "    \n",
    "    \"Model Type\": [\"Decision Tree\", \"Random Forest\", \"Random Forest\", \\\n",
    "                   \"Decision Tree with PCA\", \"Random Forest with Grid Search\", \\\n",
    "                   \"Decision Tree with PCA\", \"Decision Tree\"\n",
    "                   \"Random Forest\", \"Random Forest\", \"Random Forest\", \\\n",
    "                   \"Decision Tree with PCA\", \"Decision Tree with PCA\", \"Forest with Grid Search\", \\\n",
    "                   \"Random Forest\", \"Random Forest\", \"Random Forest\"],\n",
    "    \n",
    "    \"Features\": [10, 10, 4, 10, 10, 10, 10, 18, 8, 3, 3, 18, 3, 18, 18],\n",
    "    \n",
    "    \"Test Data R2\": [.68, .6824, .6823, .799, .6842, .98665, .665, .843, .8262, .8367, .6997, .7606, .836, .7726, .8586]\n",
    "    \n",
    "                }\n",
    "\n",
    "Decision_Trees_ML_outcomes_df = pd.DataFrame(Decision_Trees_ML_outcomes)\n",
    "Decision_Trees_ML_outcomes_df"
   ]
  }
 ],
 "metadata": {
  "kernelspec": {
   "display_name": "Python 3",
   "language": "python",
   "name": "python3"
  },
  "language_info": {
   "codemirror_mode": {
    "name": "ipython",
    "version": 3
   },
   "file_extension": ".py",
   "mimetype": "text/x-python",
   "name": "python",
   "nbconvert_exporter": "python",
   "pygments_lexer": "ipython3",
   "version": "3.7.4"
  }
 },
 "nbformat": 4,
 "nbformat_minor": 2
}
