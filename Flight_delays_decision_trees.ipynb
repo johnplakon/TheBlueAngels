{
 "cells": [
  {
   "cell_type": "markdown",
   "metadata": {},
   "source": [
    "Testing the data with decision trees and random forests was frustrating.  Many models were tried and it took until the 8th model tested to produce an R2 value greater than 83%.  However, 6 of the subsequent 8 models produced R2 values of 99.99%+!  After finally getting a good working model, further testing under different conditions to see if the results could be replicated could not be resisted. The following produced the best results:\n",
    "\n",
    "1) Departure Delays 10 Features -> Decision Tree using PCA -> R2 = 99.99%\n",
    "2) Arrival Delays 18 Features -> Decision Tree using PCA -> R2 = 100%\n",
    "\n",
    "These two models also produced the same result when delays of 15+ minutes was used.  Perhaps multicollinearity was a much bigger factor than intially anticipated which the PCA transform helped soften significantly.\n",
    "\n",
    "A final model was test:  Delays were split into 3 categorical values and factorized:\n",
    "1) On Time -> Delay =< 0 minutes\n",
    "2) Small Delay -> Delay =< 15 Minutes\n",
    "3) Long Delay -> Delay > 15 minutes\n",
    "\n",
    "To our surprise, while using the best above models for arriving and departing delays, both subsequent models produced R2 scores of 100% each for predicting the 3 delay categories.\n",
    "\n",
    "This is a great example of trying to utlitize too many models however this was due to trying out both decision trees and random forests with the latter not producing any meaningful results.  Perhaps this was due to the binary nature of our dependent variable."
   ]
  },
  {
   "cell_type": "code",
   "execution_count": 1,
   "metadata": {},
   "outputs": [],
   "source": [
    "import pandas as pd\n",
    "import numpy as np\n",
    "import seaborn as sns\n",
    "import matplotlib.pyplot as plt\n",
    "%matplotlib inline\n",
    "\n",
    "import seaborn as sns\n",
    "\n",
    "import warnings\n",
    "warnings.simplefilter('ignore')\n",
    "\n",
    "# RNG used for seeding\n",
    "rng = int(np.random.randint(low=1, high=2000, size=1))"
   ]
  },
  {
   "cell_type": "code",
   "execution_count": 2,
   "metadata": {},
   "outputs": [],
   "source": [
    "# Read in first quarter dataset\n",
    "delays_df = pd.read_csv(\"Delay_first_quarter.csv\")"
   ]
  },
  {
   "cell_type": "code",
   "execution_count": 3,
   "metadata": {},
   "outputs": [],
   "source": [
    "# Do some additional cleaning\n",
    "delays_df = delays_df.fillna(0)"
   ]
  },
  {
   "cell_type": "code",
   "execution_count": 4,
   "metadata": {},
   "outputs": [],
   "source": [
    "# Dummy variables for flights of east coast origin/destination \n",
    "# Dummy variables for flights of west coast origin/destination -> both fixed\n",
    "\n",
    "delays_df['EAST_COAST_ORIGIN'] = 1*np.ravel(delays_df[\"ORIGIN_LONGITUDE\"] >= -83)\n",
    "delays_df['EAST_COAST_DEST'] = 1*np.ravel(delays_df[\"DEST_LONGITUDE\"] >= -83)\n",
    "delays_df['WEST_COAST_ORIGIN'] = 1*np.ravel(delays_df[\"ORIGIN_LONGITUDE\"] <= -114)\n",
    "delays_df['WEST_COAST_DEST'] = 1*np.ravel(delays_df[\"DEST_LONGITUDE\"] <= -114)"
   ]
  },
  {
   "cell_type": "code",
   "execution_count": 5,
   "metadata": {},
   "outputs": [],
   "source": [
    "# Create more dummy variables for categorical data:\n",
    "\n",
    "Weekday = {\n",
    "           \"Monday\": 1,\n",
    "           \"Tueday\": 2, \n",
    "           \"Wednesday\": 3, \n",
    "           \"Thursday\" : 4,\n",
    "           \"Friday\": 5,\n",
    "           \"Saturday\": 6,\n",
    "           \"Sunday\": 7\n",
    "          }\n",
    "\n",
    "Airline = {\n",
    "        \"UA\": 1,\n",
    "        \"AA\": 2,\n",
    "        \"9E\": 3,\n",
    "        \"B6\": 4,\n",
    "        \"EV\": 5,\n",
    "        \"F9\": 6,\n",
    "        \"G4\": 7,\n",
    "        \"HA\": 8,\n",
    "        \"MQ\": 9,\n",
    "        \"NK\": 10,\n",
    "        \"OH\": 11,\n",
    "        \"OO\": 12,\n",
    "        \"VX\": 13,\n",
    "        \"WN\": 14,\n",
    "        \"YV\": 15,\n",
    "        \"YX\": 16,\n",
    "        \"AS\": 17,\n",
    "        \"DL\": 18\n",
    "}"
   ]
  },
  {
   "cell_type": "code",
   "execution_count": 6,
   "metadata": {},
   "outputs": [],
   "source": [
    "delays_df['WEEKDAY_DUMMY'] = delays_df['WEEKDAY'].apply(  \\\n",
    "                            lambda x: next((y for z, y in Weekday.items() if x in z), 0))"
   ]
  },
  {
   "cell_type": "code",
   "execution_count": 7,
   "metadata": {},
   "outputs": [],
   "source": [
    "delays_df['AIRLINE_DUMMY'] = delays_df['OP_CARRIER'].apply(  \\\n",
    "                            lambda x: next((y for z, y in Airline.items() if x in z), 0))"
   ]
  },
  {
   "cell_type": "code",
   "execution_count": 8,
   "metadata": {},
   "outputs": [],
   "source": [
    "# Make a proper categorical delay dummy variable\n",
    "# Get Month into a categorical value\n",
    "# This uses less memory than using lambda.\n",
    "\n",
    "delay_dict = {0: \"On Time\", 1: \"Delayed\"}\n",
    "delays_df[\"DEPARTURE_DELAY_DUMMY\"]=delays_df[\"DEPARTURE_DELAY\"].copy()\n",
    "delays_df[\"DEPARTURE_DELAY\"].replace(delay_dict, inplace = True)"
   ]
  },
  {
   "cell_type": "code",
   "execution_count": 9,
   "metadata": {},
   "outputs": [],
   "source": [
    "arrive_dict = {0: \"On Time\", 1: \"Delayed\"}\n",
    "delays_df[\"ARRIVAL_DELAY_DUMMY\"]=delays_df[\"ARRIVAL_DELAY\"].copy()\n",
    "delays_df[\"ARRIVAL_DELAY\"].replace(delay_dict, inplace = True)"
   ]
  },
  {
   "cell_type": "code",
   "execution_count": 15,
   "metadata": {},
   "outputs": [],
   "source": [
    "Delay_dict = {range(-2000, 1): \"On Time\",\n",
    "               range(1, 16): 'Small Delay', \n",
    "               range(16, 2000): 'Long Delay',}"
   ]
  },
  {
   "cell_type": "code",
   "execution_count": 17,
   "metadata": {},
   "outputs": [],
   "source": [
    "delays_df['DEPARTURE_DELAY_TEST'] = delays_df['DEP_DELAY'].apply(  \\\n",
    "                            lambda x: next((y for z, y in Delay_dict.items() if x in z), 0))"
   ]
  },
  {
   "cell_type": "code",
   "execution_count": 20,
   "metadata": {},
   "outputs": [],
   "source": [
    "delays_df['ARRIVAL_DELAY_TEST'] = delays_df['ARR_DELAY'].apply(  \\\n",
    "                            lambda x: next((y for z, y in Delay_dict.items() if x in z), 0))"
   ]
  },
  {
   "cell_type": "markdown",
   "metadata": {},
   "source": [
    "FIRST DEPARTURE MODEL  - BOTH DECISION TREE (72.7%) AND RANDOM FOREST (68)%"
   ]
  },
  {
   "cell_type": "code",
   "execution_count": 9,
   "metadata": {},
   "outputs": [
    {
     "name": "stdout",
     "output_type": "stream",
     "text": [
      "(1683475, 10) (1683475, 1)\n"
     ]
    }
   ],
   "source": [
    "# As this follows a similar path to logistic regression, the same initial steps will be used.\n",
    "# Start with first model\n",
    "\n",
    "# Departure delay logistic ML model -> 10 features\n",
    "\n",
    "X = delays_df[[\"DAY\", \"MONTH\", \"DEP_TIME\", \"DEPARTURE_TIME_OF_DAY_DUMMY\", \"WEEKDAY_DUMMY\", \"AIRLINE_DUMMY\", \\\n",
    "               \"OP_CARRIER_FL_NUM\", \"TAXI_OUT\", \"WHEELS_OFF\",\"WEATHER_DELAY\",]]\n",
    "\n",
    "y = delays_df[\"DEPARTURE_DELAY\"].values.reshape(-1, 1)\n",
    "print(X.shape, y.shape)"
   ]
  },
  {
   "cell_type": "code",
   "execution_count": 10,
   "metadata": {},
   "outputs": [],
   "source": [
    "# Split for train and test datasets\n",
    "from sklearn.model_selection import train_test_split\n",
    "\n",
    "X_train, X_test, y_train, y_test = train_test_split(X, y, random_state=rng, stratify=y)"
   ]
  },
  {
   "cell_type": "code",
   "execution_count": 29,
   "metadata": {
    "scrolled": false
   },
   "outputs": [
    {
     "data": {
      "text/plain": [
       "RandomForestClassifier(bootstrap=True, class_weight=None, criterion='gini',\n",
       "                       max_depth=2, max_features='auto', max_leaf_nodes=None,\n",
       "                       min_impurity_decrease=0.0, min_impurity_split=None,\n",
       "                       min_samples_leaf=1, min_samples_split=2,\n",
       "                       min_weight_fraction_leaf=0.0, n_estimators=100,\n",
       "                       n_jobs=None, oob_score=True, random_state=552, verbose=0,\n",
       "                       warm_start=False)"
      ]
     },
     "execution_count": 29,
     "metadata": {},
     "output_type": "execute_result"
    }
   ],
   "source": [
    "# Set up the random forest classifier\n",
    "\n",
    "from sklearn.ensemble import RandomForestClassifier\n",
    "\n",
    "clf = RandomForestClassifier(n_estimators=100, max_depth=2, random_state=rng, oob_score=True)\n",
    "clf.fit(X_test, y_test) "
   ]
  },
  {
   "cell_type": "code",
   "execution_count": 30,
   "metadata": {
    "scrolled": false
   },
   "outputs": [
    {
     "name": "stdout",
     "output_type": "stream",
     "text": [
      "[1.01942146e-02 8.39816741e-04 3.10909307e-01 1.60446742e-01\n",
      " 4.10788513e-05 1.04169516e-02 1.29436184e-04 5.16579186e-02\n",
      " 3.02235443e-01 1.53129091e-01]\n"
     ]
    }
   ],
   "source": [
    "print(clf.feature_importances_)"
   ]
  },
  {
   "cell_type": "code",
   "execution_count": 31,
   "metadata": {},
   "outputs": [],
   "source": [
    "predictions = clf.predict(X_test)"
   ]
  },
  {
   "cell_type": "code",
   "execution_count": 32,
   "metadata": {},
   "outputs": [],
   "source": [
    "y_transposed = (np.transpose(y_test)).flatten()"
   ]
  },
  {
   "cell_type": "code",
   "execution_count": 33,
   "metadata": {},
   "outputs": [
    {
     "name": "stdout",
     "output_type": "stream",
     "text": [
      "Accuracy Score: 68.01570084753213\n"
     ]
    }
   ],
   "source": [
    "print(f\"Accuracy Score: {accuracy_score(y_test, predictions)*100}\")"
   ]
  },
  {
   "cell_type": "code",
   "execution_count": 34,
   "metadata": {
    "scrolled": true
   },
   "outputs": [
    {
     "data": {
      "text/html": [
       "<div>\n",
       "<style scoped>\n",
       "    .dataframe tbody tr th:only-of-type {\n",
       "        vertical-align: middle;\n",
       "    }\n",
       "\n",
       "    .dataframe tbody tr th {\n",
       "        vertical-align: top;\n",
       "    }\n",
       "\n",
       "    .dataframe thead th {\n",
       "        text-align: right;\n",
       "    }\n",
       "</style>\n",
       "<table border=\"1\" class=\"dataframe\">\n",
       "  <thead>\n",
       "    <tr style=\"text-align: right;\">\n",
       "      <th>Predicted Delays</th>\n",
       "      <th>Delayed</th>\n",
       "      <th>On Time</th>\n",
       "    </tr>\n",
       "    <tr>\n",
       "      <th>Actual Delays</th>\n",
       "      <th></th>\n",
       "      <th></th>\n",
       "    </tr>\n",
       "  </thead>\n",
       "  <tbody>\n",
       "    <tr>\n",
       "      <th>Delayed</th>\n",
       "      <td>3449</td>\n",
       "      <td>134603</td>\n",
       "    </tr>\n",
       "    <tr>\n",
       "      <th>On Time</th>\n",
       "      <td>9</td>\n",
       "      <td>282808</td>\n",
       "    </tr>\n",
       "  </tbody>\n",
       "</table>\n",
       "</div>"
      ],
      "text/plain": [
       "Predicted Delays  Delayed  On Time\n",
       "Actual Delays                     \n",
       "Delayed              3449   134603\n",
       "On Time                 9   282808"
      ]
     },
     "execution_count": 34,
     "metadata": {},
     "output_type": "execute_result"
    }
   ],
   "source": [
    "# Um good at predicting on time but not delays?\n",
    "pd.crosstab(y_transposed, predictions, rownames=[\"Actual Delays\"], colnames=[\"Predicted Delays\"])"
   ]
  },
  {
   "cell_type": "code",
   "execution_count": 24,
   "metadata": {},
   "outputs": [
    {
     "data": {
      "text/plain": [
       "DecisionTreeClassifier(class_weight=None, criterion='entropy', max_depth=None,\n",
       "                       max_features=None, max_leaf_nodes=None,\n",
       "                       min_impurity_decrease=0.0, min_impurity_split=None,\n",
       "                       min_samples_leaf=1, min_samples_split=2,\n",
       "                       min_weight_fraction_leaf=0.0, presort=False,\n",
       "                       random_state=552, splitter='best')"
      ]
     },
     "execution_count": 24,
     "metadata": {},
     "output_type": "execute_result"
    }
   ],
   "source": [
    "from sklearn.tree import DecisionTreeClassifier\n",
    "from sklearn.metrics import accuracy_score\n",
    "from sklearn import tree\n",
    "\n",
    "clf = DecisionTreeClassifier(criterion = \"entropy\", random_state=rng)\n",
    "clf.fit(X_train, y_train)"
   ]
  },
  {
   "cell_type": "code",
   "execution_count": 25,
   "metadata": {},
   "outputs": [],
   "source": [
    "y_transposed = (np.transpose(y_test)).flatten()"
   ]
  },
  {
   "cell_type": "code",
   "execution_count": 26,
   "metadata": {},
   "outputs": [],
   "source": [
    "predictions = clf.predict(X_test)"
   ]
  },
  {
   "cell_type": "code",
   "execution_count": 27,
   "metadata": {
    "scrolled": true
   },
   "outputs": [
    {
     "name": "stdout",
     "output_type": "stream",
     "text": [
      "Accuracy Score: 72.70148193380838\n"
     ]
    }
   ],
   "source": [
    "print(f\"Accuracy Score: {accuracy_score(y_test, predictions)*100}\")"
   ]
  },
  {
   "cell_type": "code",
   "execution_count": 28,
   "metadata": {
    "scrolled": true
   },
   "outputs": [
    {
     "data": {
      "text/html": [
       "<div>\n",
       "<style scoped>\n",
       "    .dataframe tbody tr th:only-of-type {\n",
       "        vertical-align: middle;\n",
       "    }\n",
       "\n",
       "    .dataframe tbody tr th {\n",
       "        vertical-align: top;\n",
       "    }\n",
       "\n",
       "    .dataframe thead th {\n",
       "        text-align: right;\n",
       "    }\n",
       "</style>\n",
       "<table border=\"1\" class=\"dataframe\">\n",
       "  <thead>\n",
       "    <tr style=\"text-align: right;\">\n",
       "      <th>Predicted Delays</th>\n",
       "      <th>Delayed</th>\n",
       "      <th>On Time</th>\n",
       "    </tr>\n",
       "    <tr>\n",
       "      <th>Actual Delays</th>\n",
       "      <th></th>\n",
       "      <th></th>\n",
       "    </tr>\n",
       "  </thead>\n",
       "  <tbody>\n",
       "    <tr>\n",
       "      <th>Delayed</th>\n",
       "      <td>79726</td>\n",
       "      <td>58326</td>\n",
       "    </tr>\n",
       "    <tr>\n",
       "      <th>On Time</th>\n",
       "      <td>56565</td>\n",
       "      <td>226252</td>\n",
       "    </tr>\n",
       "  </tbody>\n",
       "</table>\n",
       "</div>"
      ],
      "text/plain": [
       "Predicted Delays  Delayed  On Time\n",
       "Actual Delays                     \n",
       "Delayed             79726    58326\n",
       "On Time             56565   226252"
      ]
     },
     "execution_count": 28,
     "metadata": {},
     "output_type": "execute_result"
    }
   ],
   "source": [
    "pd.crosstab(y_transposed, predictions, rownames=[\"Actual Delays\"], colnames=[\"Predicted Delays\"])"
   ]
  },
  {
   "cell_type": "code",
   "execution_count": null,
   "metadata": {},
   "outputs": [],
   "source": [
    "SECOND DEPARTURE DELAY 4 FEATURES -> RANDOM FOREST (68%)"
   ]
  },
  {
   "cell_type": "code",
   "execution_count": 36,
   "metadata": {
    "scrolled": true
   },
   "outputs": [
    {
     "name": "stdout",
     "output_type": "stream",
     "text": [
      "(1683475, 4) (1683475, 1)\n"
     ]
    }
   ],
   "source": [
    "# A complete stripdown to see if any useful analysis can be done with this method on delay data.\n",
    "# Only 4 features\n",
    "\n",
    "X = delays_df[[\"DEP_TIME\", \"WEEKDAY_DUMMY\", \"AIRLINE_DUMMY\", \"WEATHER_DELAY\",]]\n",
    "\n",
    "y = delays_df[\"DEPARTURE_DELAY\"].values.reshape(-1, 1)\n",
    "print(X.shape, y.shape)"
   ]
  },
  {
   "cell_type": "code",
   "execution_count": 37,
   "metadata": {},
   "outputs": [],
   "source": [
    "# Split for train and test datasets\n",
    "from sklearn.model_selection import train_test_split\n",
    "\n",
    "X_train, X_test, y_train, y_test = train_test_split(X, y, random_state=rng, stratify=y)"
   ]
  },
  {
   "cell_type": "code",
   "execution_count": 38,
   "metadata": {},
   "outputs": [
    {
     "data": {
      "text/plain": [
       "RandomForestClassifier(bootstrap=True, class_weight=None, criterion='gini',\n",
       "                       max_depth=2, max_features='auto', max_leaf_nodes=None,\n",
       "                       min_impurity_decrease=0.0, min_impurity_split=None,\n",
       "                       min_samples_leaf=1, min_samples_split=2,\n",
       "                       min_weight_fraction_leaf=0.0, n_estimators=100,\n",
       "                       n_jobs=None, oob_score=True, random_state=552, verbose=0,\n",
       "                       warm_start=False)"
      ]
     },
     "execution_count": 38,
     "metadata": {},
     "output_type": "execute_result"
    }
   ],
   "source": [
    "# Set up the random forest classifier\n",
    "\n",
    "from sklearn.ensemble import RandomForestClassifier\n",
    "\n",
    "clf = RandomForestClassifier(n_estimators=100, max_depth=2, random_state=rng, oob_score=True)\n",
    "clf.fit(X_test, y_test)"
   ]
  },
  {
   "cell_type": "code",
   "execution_count": 39,
   "metadata": {},
   "outputs": [
    {
     "name": "stdout",
     "output_type": "stream",
     "text": [
      "[0.6179831  0.00112584 0.10440218 0.27648889]\n"
     ]
    }
   ],
   "source": [
    "# Hey look at that.  Numbers greater than 0.00001\n",
    "print(clf.feature_importances_)"
   ]
  },
  {
   "cell_type": "code",
   "execution_count": 40,
   "metadata": {},
   "outputs": [],
   "source": [
    "predictions = clf.predict(X_test)"
   ]
  },
  {
   "cell_type": "code",
   "execution_count": 41,
   "metadata": {},
   "outputs": [],
   "source": [
    "y_transposed = (np.transpose(y_test)).flatten()"
   ]
  },
  {
   "cell_type": "code",
   "execution_count": 42,
   "metadata": {},
   "outputs": [
    {
     "name": "stdout",
     "output_type": "stream",
     "text": [
      "Accuracy Score: 68.2326329570484\n"
     ]
    }
   ],
   "source": [
    "print(f\"Accuracy Score: {accuracy_score(y_test, predictions)*100}\")"
   ]
  },
  {
   "cell_type": "code",
   "execution_count": 43,
   "metadata": {
    "scrolled": true
   },
   "outputs": [
    {
     "data": {
      "text/html": [
       "<div>\n",
       "<style scoped>\n",
       "    .dataframe tbody tr th:only-of-type {\n",
       "        vertical-align: middle;\n",
       "    }\n",
       "\n",
       "    .dataframe tbody tr th {\n",
       "        vertical-align: top;\n",
       "    }\n",
       "\n",
       "    .dataframe thead th {\n",
       "        text-align: right;\n",
       "    }\n",
       "</style>\n",
       "<table border=\"1\" class=\"dataframe\">\n",
       "  <thead>\n",
       "    <tr style=\"text-align: right;\">\n",
       "      <th>Predicted Delays</th>\n",
       "      <th>Delayed</th>\n",
       "      <th>On Time</th>\n",
       "    </tr>\n",
       "    <tr>\n",
       "      <th>Actual Delays</th>\n",
       "      <th></th>\n",
       "      <th></th>\n",
       "    </tr>\n",
       "  </thead>\n",
       "  <tbody>\n",
       "    <tr>\n",
       "      <th>Delayed</th>\n",
       "      <td>4363</td>\n",
       "      <td>133689</td>\n",
       "    </tr>\n",
       "    <tr>\n",
       "      <th>On Time</th>\n",
       "      <td>10</td>\n",
       "      <td>282807</td>\n",
       "    </tr>\n",
       "  </tbody>\n",
       "</table>\n",
       "</div>"
      ],
      "text/plain": [
       "Predicted Delays  Delayed  On Time\n",
       "Actual Delays                     \n",
       "Delayed              4363   133689\n",
       "On Time                10   282807"
      ]
     },
     "execution_count": 43,
     "metadata": {},
     "output_type": "execute_result"
    }
   ],
   "source": [
    "# As predicted, not useful.\n",
    "pd.crosstab(y_transposed, predictions, rownames=[\"Actual Delays\"], colnames=[\"Predicted Delays\"])"
   ]
  },
  {
   "cell_type": "markdown",
   "metadata": {},
   "source": [
    "ARRIVAL DELAYS WITH 18 FEATURES -> RANDOM FOREST (83.7%)"
   ]
  },
  {
   "cell_type": "code",
   "execution_count": 58,
   "metadata": {},
   "outputs": [
    {
     "name": "stdout",
     "output_type": "stream",
     "text": [
      "(1683475, 18) (1683475, 1)\n"
     ]
    }
   ],
   "source": [
    "# Trying out Arrival data before utilizing a PCA.\n",
    "\n",
    "X = delays_df[[\"DAY\", \"MONTH\", \"DEP_TIME\", \"DEP_DELAY\", \"DEPARTURE_TIME_OF_DAY_DUMMY\", \\\n",
    "              \"OP_CARRIER_FL_NUM\", \"TAXI_OUT\", \"AIR_TIME\", \"TAXI_IN\", \\\n",
    "              \"ARRIVAL_TIME_OF_DAY_DUMMY\", \"CARRIER_DELAY\", \"DISTANCE\", \"WEEKDAY_DUMMY\", \"AIRLINE_DUMMY\", \\\n",
    "       \"WEATHER_DELAY\", \"NAS_DELAY\", \"SECURITY_DELAY\", \"LATE_AIRCRAFT_DELAY\",]]\n",
    "y = delays_df[\"ARRIVAL_DELAY\"].values.reshape(-1, 1)\n",
    "print(X.shape, y.shape)"
   ]
  },
  {
   "cell_type": "code",
   "execution_count": 46,
   "metadata": {},
   "outputs": [],
   "source": [
    "# Split for train and test datasets\n",
    "from sklearn.model_selection import train_test_split\n",
    "\n",
    "X_train, X_test, y_train, y_test = train_test_split(X, y, random_state=rng, stratify=y)"
   ]
  },
  {
   "cell_type": "code",
   "execution_count": 47,
   "metadata": {},
   "outputs": [
    {
     "data": {
      "text/plain": [
       "RandomForestClassifier(bootstrap=True, class_weight=None, criterion='gini',\n",
       "                       max_depth=2, max_features='auto', max_leaf_nodes=None,\n",
       "                       min_impurity_decrease=0.0, min_impurity_split=None,\n",
       "                       min_samples_leaf=1, min_samples_split=2,\n",
       "                       min_weight_fraction_leaf=0.0, n_estimators=100,\n",
       "                       n_jobs=None, oob_score=True, random_state=552, verbose=0,\n",
       "                       warm_start=False)"
      ]
     },
     "execution_count": 47,
     "metadata": {},
     "output_type": "execute_result"
    }
   ],
   "source": [
    "# Set up the random forest classifier\n",
    "\n",
    "from sklearn.ensemble import RandomForestClassifier\n",
    "\n",
    "clf = RandomForestClassifier(n_estimators=100, max_depth=2, random_state=rng, oob_score=True)\n",
    "clf.fit(X_test, y_test)"
   ]
  },
  {
   "cell_type": "code",
   "execution_count": 48,
   "metadata": {},
   "outputs": [
    {
     "name": "stdout",
     "output_type": "stream",
     "text": [
      "[1.43593371e-03 0.00000000e+00 1.74217006e-02 3.03704467e-01\n",
      " 8.02006973e-03 2.94857369e-04 8.72869937e-02 9.97959256e-03\n",
      " 8.77208326e-03 4.23487158e-04 1.59000164e-01 1.25210929e-04\n",
      " 0.00000000e+00 5.49552384e-04 3.31999451e-02 2.06266546e-01\n",
      " 0.00000000e+00 1.63519397e-01]\n"
     ]
    }
   ],
   "source": [
    "print(clf.feature_importances_)"
   ]
  },
  {
   "cell_type": "code",
   "execution_count": 49,
   "metadata": {},
   "outputs": [
    {
     "name": "stdout",
     "output_type": "stream",
     "text": [
      "Accuracy Score: 83.68162064680459\n"
     ]
    }
   ],
   "source": [
    "# Well that is better\n",
    "predictions = clf.predict(X_test)\n",
    "y_transposed = (np.transpose(y_test)).flatten()\n",
    "print(f\"Accuracy Score: {accuracy_score(y_test, predictions)*100}\")"
   ]
  },
  {
   "cell_type": "code",
   "execution_count": 50,
   "metadata": {
    "scrolled": true
   },
   "outputs": [
    {
     "data": {
      "text/html": [
       "<div>\n",
       "<style scoped>\n",
       "    .dataframe tbody tr th:only-of-type {\n",
       "        vertical-align: middle;\n",
       "    }\n",
       "\n",
       "    .dataframe tbody tr th {\n",
       "        vertical-align: top;\n",
       "    }\n",
       "\n",
       "    .dataframe thead th {\n",
       "        text-align: right;\n",
       "    }\n",
       "</style>\n",
       "<table border=\"1\" class=\"dataframe\">\n",
       "  <thead>\n",
       "    <tr style=\"text-align: right;\">\n",
       "      <th>Predicted Delays</th>\n",
       "      <th>0</th>\n",
       "      <th>1</th>\n",
       "    </tr>\n",
       "    <tr>\n",
       "      <th>Actual Delays</th>\n",
       "      <th></th>\n",
       "      <th></th>\n",
       "    </tr>\n",
       "  </thead>\n",
       "  <tbody>\n",
       "    <tr>\n",
       "      <th>0</th>\n",
       "      <td>282965</td>\n",
       "      <td>195</td>\n",
       "    </tr>\n",
       "    <tr>\n",
       "      <th>1</th>\n",
       "      <td>68484</td>\n",
       "      <td>69225</td>\n",
       "    </tr>\n",
       "  </tbody>\n",
       "</table>\n",
       "</div>"
      ],
      "text/plain": [
       "Predicted Delays       0      1\n",
       "Actual Delays                  \n",
       "0                 282965    195\n",
       "1                  68484  69225"
      ]
     },
     "execution_count": 50,
     "metadata": {},
     "output_type": "execute_result"
    }
   ],
   "source": [
    "pd.crosstab(y_transposed, predictions, rownames=[\"Actual Delays\"], colnames=[\"Predicted Delays\"])"
   ]
  },
  {
   "cell_type": "markdown",
   "metadata": {},
   "source": [
    "ARRIVAL DELAYS WITH 8 FEATURES -> RANDOM FOREST (81.86%)"
   ]
  },
  {
   "cell_type": "code",
   "execution_count": 52,
   "metadata": {},
   "outputs": [
    {
     "name": "stdout",
     "output_type": "stream",
     "text": [
      "(1683475, 8) (1683475, 1)\n"
     ]
    }
   ],
   "source": [
    "# Strip features down further.\n",
    "\n",
    "X = delays_df[[\"DEP_TIME\", \"DEP_DELAY\", \"DEPARTURE_TIME_OF_DAY_DUMMY\", \\\n",
    "              \"OP_CARRIER_FL_NUM\", \"AIR_TIME\",\n",
    "              \"ARRIVAL_TIME_OF_DAY_DUMMY\",\"WEEKDAY_DUMMY\", \"AIRLINE_DUMMY\", ]]\n",
    "y = delays_df[\"ARRIVAL_DELAY\"].values.reshape(-1, 1)\n",
    "print(X.shape, y.shape)"
   ]
  },
  {
   "cell_type": "code",
   "execution_count": 53,
   "metadata": {},
   "outputs": [],
   "source": [
    "# Split for train and test datasets\n",
    "from sklearn.model_selection import train_test_split\n",
    "\n",
    "X_train, X_test, y_train, y_test = train_test_split(X, y, random_state=rng, stratify=y)"
   ]
  },
  {
   "cell_type": "code",
   "execution_count": 54,
   "metadata": {},
   "outputs": [
    {
     "data": {
      "text/plain": [
       "RandomForestClassifier(bootstrap=True, class_weight=None, criterion='gini',\n",
       "                       max_depth=2, max_features='auto', max_leaf_nodes=None,\n",
       "                       min_impurity_decrease=0.0, min_impurity_split=None,\n",
       "                       min_samples_leaf=1, min_samples_split=2,\n",
       "                       min_weight_fraction_leaf=0.0, n_estimators=100,\n",
       "                       n_jobs=None, oob_score=True, random_state=552, verbose=0,\n",
       "                       warm_start=False)"
      ]
     },
     "execution_count": 54,
     "metadata": {},
     "output_type": "execute_result"
    }
   ],
   "source": [
    "# Set up the random forest classifier\n",
    "\n",
    "from sklearn.ensemble import RandomForestClassifier\n",
    "\n",
    "clf = RandomForestClassifier(n_estimators=100, max_depth=2, random_state=rng, oob_score=True)\n",
    "clf.fit(X_test, y_test)"
   ]
  },
  {
   "cell_type": "code",
   "execution_count": 55,
   "metadata": {},
   "outputs": [
    {
     "name": "stdout",
     "output_type": "stream",
     "text": [
      "[0.2418698  0.41068455 0.0402863  0.02756126 0.17455907 0.04152022\n",
      " 0.00070267 0.06281613]\n"
     ]
    }
   ],
   "source": [
    "print(clf.feature_importances_)"
   ]
  },
  {
   "cell_type": "code",
   "execution_count": 56,
   "metadata": {},
   "outputs": [
    {
     "name": "stdout",
     "output_type": "stream",
     "text": [
      "Accuracy Score: 81.85943844759296\n"
     ]
    }
   ],
   "source": [
    "# Stripping out the variables made the model worse.\n",
    "predictions = clf.predict(X_test)\n",
    "y_transposed = (np.transpose(y_test)).flatten()\n",
    "print(f\"Accuracy Score: {accuracy_score(y_test, predictions)*100}\")"
   ]
  },
  {
   "cell_type": "code",
   "execution_count": 57,
   "metadata": {
    "scrolled": false
   },
   "outputs": [
    {
     "data": {
      "text/html": [
       "<div>\n",
       "<style scoped>\n",
       "    .dataframe tbody tr th:only-of-type {\n",
       "        vertical-align: middle;\n",
       "    }\n",
       "\n",
       "    .dataframe tbody tr th {\n",
       "        vertical-align: top;\n",
       "    }\n",
       "\n",
       "    .dataframe thead th {\n",
       "        text-align: right;\n",
       "    }\n",
       "</style>\n",
       "<table border=\"1\" class=\"dataframe\">\n",
       "  <thead>\n",
       "    <tr style=\"text-align: right;\">\n",
       "      <th>Predicted Delays</th>\n",
       "      <th>Delayed</th>\n",
       "      <th>On Time</th>\n",
       "    </tr>\n",
       "    <tr>\n",
       "      <th>Actual Delays</th>\n",
       "      <th></th>\n",
       "      <th></th>\n",
       "    </tr>\n",
       "  </thead>\n",
       "  <tbody>\n",
       "    <tr>\n",
       "      <th>Delayed</th>\n",
       "      <td>69649</td>\n",
       "      <td>68060</td>\n",
       "    </tr>\n",
       "    <tr>\n",
       "      <th>On Time</th>\n",
       "      <td>8288</td>\n",
       "      <td>274872</td>\n",
       "    </tr>\n",
       "  </tbody>\n",
       "</table>\n",
       "</div>"
      ],
      "text/plain": [
       "Predicted Delays  Delayed  On Time\n",
       "Actual Delays                     \n",
       "Delayed             69649    68060\n",
       "On Time              8288   274872"
      ]
     },
     "execution_count": 57,
     "metadata": {},
     "output_type": "execute_result"
    }
   ],
   "source": [
    "pd.crosstab(y_transposed, predictions, rownames=[\"Actual Delays\"], colnames=[\"Predicted Delays\"])"
   ]
  },
  {
   "cell_type": "markdown",
   "metadata": {},
   "source": [
    "ARRIVAL DELAYS WITH 3 FEATURES -> RANDOM FOREST (83.76%)"
   ]
  },
  {
   "cell_type": "code",
   "execution_count": 59,
   "metadata": {},
   "outputs": [
    {
     "name": "stdout",
     "output_type": "stream",
     "text": [
      "(1683475, 3) (1683475, 1)\n"
     ]
    }
   ],
   "source": [
    "# Strip features down further. Going with the feature importance recommendation.\n",
    "\n",
    "X = delays_df[[\"DEP_TIME\", \"DEP_DELAY\", \"AIR_TIME\"]]\n",
    "y = delays_df[\"ARRIVAL_DELAY\"].values.reshape(-1, 1)\n",
    "print(X.shape, y.shape)"
   ]
  },
  {
   "cell_type": "code",
   "execution_count": 60,
   "metadata": {},
   "outputs": [],
   "source": [
    "# Split for train and test datasets\n",
    "from sklearn.model_selection import train_test_split\n",
    "\n",
    "X_train, X_test, y_train, y_test = train_test_split(X, y, random_state=rng, stratify=y)"
   ]
  },
  {
   "cell_type": "code",
   "execution_count": 61,
   "metadata": {},
   "outputs": [
    {
     "data": {
      "text/plain": [
       "RandomForestClassifier(bootstrap=True, class_weight=None, criterion='gini',\n",
       "                       max_depth=2, max_features='auto', max_leaf_nodes=None,\n",
       "                       min_impurity_decrease=0.0, min_impurity_split=None,\n",
       "                       min_samples_leaf=1, min_samples_split=2,\n",
       "                       min_weight_fraction_leaf=0.0, n_estimators=100,\n",
       "                       n_jobs=None, oob_score=True, random_state=552, verbose=0,\n",
       "                       warm_start=False)"
      ]
     },
     "execution_count": 61,
     "metadata": {},
     "output_type": "execute_result"
    }
   ],
   "source": [
    "# Set up the random forest classifier\n",
    "\n",
    "from sklearn.ensemble import RandomForestClassifier\n",
    "\n",
    "clf = RandomForestClassifier(n_estimators=100, max_depth=2, random_state=rng, oob_score=True)\n",
    "clf.fit(X_test, y_test)"
   ]
  },
  {
   "cell_type": "code",
   "execution_count": 62,
   "metadata": {},
   "outputs": [
    {
     "name": "stdout",
     "output_type": "stream",
     "text": [
      "[0.19766085 0.64795597 0.15438318]\n"
     ]
    }
   ],
   "source": [
    "print(clf.feature_importances_)"
   ]
  },
  {
   "cell_type": "code",
   "execution_count": 63,
   "metadata": {},
   "outputs": [
    {
     "name": "stdout",
     "output_type": "stream",
     "text": [
      "Accuracy Score: 83.7612178611397\n"
     ]
    }
   ],
   "source": [
    "# Well this is the best model so far.  This may be the best we can get.\n",
    "predictions = clf.predict(X_test)\n",
    "y_transposed = (np.transpose(y_test)).flatten()\n",
    "print(f\"Accuracy Score: {accuracy_score(y_test, predictions)*100}\")"
   ]
  },
  {
   "cell_type": "code",
   "execution_count": 64,
   "metadata": {
    "scrolled": false
   },
   "outputs": [
    {
     "data": {
      "text/html": [
       "<div>\n",
       "<style scoped>\n",
       "    .dataframe tbody tr th:only-of-type {\n",
       "        vertical-align: middle;\n",
       "    }\n",
       "\n",
       "    .dataframe tbody tr th {\n",
       "        vertical-align: top;\n",
       "    }\n",
       "\n",
       "    .dataframe thead th {\n",
       "        text-align: right;\n",
       "    }\n",
       "</style>\n",
       "<table border=\"1\" class=\"dataframe\">\n",
       "  <thead>\n",
       "    <tr style=\"text-align: right;\">\n",
       "      <th>Predicted Delays</th>\n",
       "      <th>Delayed</th>\n",
       "      <th>On Time</th>\n",
       "    </tr>\n",
       "    <tr>\n",
       "      <th>Actual Delays</th>\n",
       "      <th></th>\n",
       "      <th></th>\n",
       "    </tr>\n",
       "  </thead>\n",
       "  <tbody>\n",
       "    <tr>\n",
       "      <th>Delayed</th>\n",
       "      <td>80028</td>\n",
       "      <td>57681</td>\n",
       "    </tr>\n",
       "    <tr>\n",
       "      <th>On Time</th>\n",
       "      <td>10663</td>\n",
       "      <td>272497</td>\n",
       "    </tr>\n",
       "  </tbody>\n",
       "</table>\n",
       "</div>"
      ],
      "text/plain": [
       "Predicted Delays  Delayed  On Time\n",
       "Actual Delays                     \n",
       "Delayed             80028    57681\n",
       "On Time             10663   272497"
      ]
     },
     "execution_count": 64,
     "metadata": {},
     "output_type": "execute_result"
    }
   ],
   "source": [
    "pd.crosstab(y_transposed, predictions, rownames=[\"Actual Delays\"], colnames=[\"Predicted Delays\"])"
   ]
  },
  {
   "cell_type": "markdown",
   "metadata": {},
   "source": [
    "DEPARTURE DELAY 10 FEATURES DECISION TREE WITH PCA -> (99.9%)"
   ]
  },
  {
   "cell_type": "code",
   "execution_count": 10,
   "metadata": {},
   "outputs": [
    {
     "name": "stdout",
     "output_type": "stream",
     "text": [
      "(1683475, 10) (1683475, 1)\n"
     ]
    }
   ],
   "source": [
    "# Try out best departure and arrival models with pca\n",
    "# Start with Departure delay logistic ML model -> 10 features\n",
    "\n",
    "X = delays_df[[\"DAY\", \"MONTH\", \"DEP_TIME\", \"DEPARTURE_TIME_OF_DAY_DUMMY\", \"WEEKDAY_DUMMY\", \"AIRLINE_DUMMY\", \\\n",
    "               \"OP_CARRIER_FL_NUM\", \"TAXI_OUT\", \"WHEELS_OFF\",\"WEATHER_DELAY\",]]\n",
    "\n",
    "y = delays_df[\"DEPARTURE_DELAY\"].values.reshape(-1, 1)\n",
    "print(X.shape, y.shape)"
   ]
  },
  {
   "cell_type": "code",
   "execution_count": 13,
   "metadata": {
    "scrolled": true
   },
   "outputs": [
    {
     "data": {
      "text/plain": [
       "PCA(copy=True, iterated_power='auto', n_components=0.95, random_state=None,\n",
       "    svd_solver='auto', tol=0.0, whiten=False)"
      ]
     },
     "execution_count": 13,
     "metadata": {},
     "output_type": "execute_result"
    }
   ],
   "source": [
    "from sklearn.decomposition import PCA\n",
    "pca = PCA(.95)\n",
    "pca.fit(X)"
   ]
  },
  {
   "cell_type": "code",
   "execution_count": 18,
   "metadata": {},
   "outputs": [],
   "source": [
    "# Split for train and test datasets\n",
    "from sklearn.model_selection import train_test_split\n",
    "\n",
    "X_train, X_test, y_train, y_test = train_test_split(X, y, random_state=rng, stratify=y)"
   ]
  },
  {
   "cell_type": "code",
   "execution_count": 19,
   "metadata": {},
   "outputs": [],
   "source": [
    "X_test_transformed = pca.transform(X_test)"
   ]
  },
  {
   "cell_type": "code",
   "execution_count": null,
   "metadata": {},
   "outputs": [],
   "source": [
    "from sklearn.tree import DecisionTreeClassifier\n",
    "from sklearn.metrics import accuracy_score\n",
    "from sklearn import tree\n",
    "\n",
    "clf = DecisionTreeClassifier(random_state=rng)"
   ]
  },
  {
   "cell_type": "code",
   "execution_count": 20,
   "metadata": {},
   "outputs": [
    {
     "data": {
      "text/plain": [
       "DecisionTreeClassifier(class_weight=None, criterion='gini', max_depth=None,\n",
       "                       max_features=None, max_leaf_nodes=None,\n",
       "                       min_impurity_decrease=0.0, min_impurity_split=None,\n",
       "                       min_samples_leaf=1, min_samples_split=2,\n",
       "                       min_weight_fraction_leaf=0.0, presort=False,\n",
       "                       random_state=1767, splitter='best')"
      ]
     },
     "execution_count": 20,
     "metadata": {},
     "output_type": "execute_result"
    }
   ],
   "source": [
    "clf.fit(X_test_transformed, y_test)"
   ]
  },
  {
   "cell_type": "code",
   "execution_count": 21,
   "metadata": {},
   "outputs": [],
   "source": [
    "predictions = clf.predict(X_test_transformed)"
   ]
  },
  {
   "cell_type": "code",
   "execution_count": 25,
   "metadata": {},
   "outputs": [],
   "source": [
    "y_transposed = (np.transpose(y_test)).flatten()"
   ]
  },
  {
   "cell_type": "code",
   "execution_count": 27,
   "metadata": {},
   "outputs": [
    {
     "name": "stdout",
     "output_type": "stream",
     "text": [
      "Accuracy Score: 99.99952479275024\n"
     ]
    }
   ],
   "source": [
    "# Seems that utilizing PCA greatly improved the model.\n",
    "print(f\"Accuracy Score: {accuracy_score(y_transposed, predictions)*100}\")"
   ]
  },
  {
   "cell_type": "code",
   "execution_count": 26,
   "metadata": {
    "scrolled": true
   },
   "outputs": [
    {
     "data": {
      "text/html": [
       "<div>\n",
       "<style scoped>\n",
       "    .dataframe tbody tr th:only-of-type {\n",
       "        vertical-align: middle;\n",
       "    }\n",
       "\n",
       "    .dataframe tbody tr th {\n",
       "        vertical-align: top;\n",
       "    }\n",
       "\n",
       "    .dataframe thead th {\n",
       "        text-align: right;\n",
       "    }\n",
       "</style>\n",
       "<table border=\"1\" class=\"dataframe\">\n",
       "  <thead>\n",
       "    <tr style=\"text-align: right;\">\n",
       "      <th>Predicted Delays</th>\n",
       "      <th>Delayed</th>\n",
       "      <th>On Time</th>\n",
       "    </tr>\n",
       "    <tr>\n",
       "      <th>Actual Delays</th>\n",
       "      <th></th>\n",
       "      <th></th>\n",
       "    </tr>\n",
       "  </thead>\n",
       "  <tbody>\n",
       "    <tr>\n",
       "      <th>Delayed</th>\n",
       "      <td>138052</td>\n",
       "      <td>0</td>\n",
       "    </tr>\n",
       "    <tr>\n",
       "      <th>On Time</th>\n",
       "      <td>2</td>\n",
       "      <td>282815</td>\n",
       "    </tr>\n",
       "  </tbody>\n",
       "</table>\n",
       "</div>"
      ],
      "text/plain": [
       "Predicted Delays  Delayed  On Time\n",
       "Actual Delays                     \n",
       "Delayed            138052        0\n",
       "On Time                 2   282815"
      ]
     },
     "execution_count": 26,
     "metadata": {},
     "output_type": "execute_result"
    }
   ],
   "source": [
    "# O.O  it finally worked!\n",
    "pd.crosstab(y_transposed, predictions, rownames=[\"Actual Delays\"], colnames=[\"Predicted Delays\"])"
   ]
  },
  {
   "cell_type": "markdown",
   "metadata": {},
   "source": [
    "ARRIVAL DELAYS 3 FEATURES DECISION TREE WITH PCA (97%)"
   ]
  },
  {
   "cell_type": "code",
   "execution_count": 37,
   "metadata": {},
   "outputs": [
    {
     "name": "stdout",
     "output_type": "stream",
     "text": [
      "(1683475, 3) (1683475, 1)\n"
     ]
    }
   ],
   "source": [
    "# Try out the PCA with arrival delays using the best previous model (3 features)\n",
    "\n",
    "X = delays_df[[\"DEP_TIME\", \"DEP_DELAY\", \"AIR_TIME\"]]\n",
    "y = delays_df[\"ARRIVAL_DELAY\"].values.reshape(-1, 1)\n",
    "print(X.shape, y.shape)"
   ]
  },
  {
   "cell_type": "code",
   "execution_count": 38,
   "metadata": {
    "scrolled": true
   },
   "outputs": [
    {
     "data": {
      "text/plain": [
       "PCA(copy=True, iterated_power='auto', n_components=0.95, random_state=None,\n",
       "    svd_solver='auto', tol=0.0, whiten=False)"
      ]
     },
     "execution_count": 38,
     "metadata": {},
     "output_type": "execute_result"
    }
   ],
   "source": [
    "from sklearn.decomposition import PCA\n",
    "pca = PCA(.95)\n",
    "pca.fit(X)"
   ]
  },
  {
   "cell_type": "code",
   "execution_count": 39,
   "metadata": {},
   "outputs": [],
   "source": [
    "# Split for train and test datasets\n",
    "from sklearn.model_selection import train_test_split\n",
    "\n",
    "X_train, X_test, y_train, y_test = train_test_split(X, y, random_state=rng, stratify=y)"
   ]
  },
  {
   "cell_type": "code",
   "execution_count": 40,
   "metadata": {},
   "outputs": [],
   "source": [
    "X_test_transformed = pca.transform(X_test)"
   ]
  },
  {
   "cell_type": "code",
   "execution_count": 42,
   "metadata": {},
   "outputs": [
    {
     "data": {
      "text/plain": [
       "DecisionTreeClassifier(class_weight=None, criterion='gini', max_depth=None,\n",
       "                       max_features=None, max_leaf_nodes=None,\n",
       "                       min_impurity_decrease=0.0, min_impurity_split=None,\n",
       "                       min_samples_leaf=1, min_samples_split=2,\n",
       "                       min_weight_fraction_leaf=0.0, presort=False,\n",
       "                       random_state=1767, splitter='best')"
      ]
     },
     "execution_count": 42,
     "metadata": {},
     "output_type": "execute_result"
    }
   ],
   "source": [
    "from sklearn.tree import DecisionTreeClassifier\n",
    "from sklearn.metrics import accuracy_score\n",
    "from sklearn import tree\n",
    "\n",
    "clf = DecisionTreeClassifier(random_state=rng)\n",
    "clf.fit(X_test_transformed, y_test)"
   ]
  },
  {
   "cell_type": "code",
   "execution_count": 43,
   "metadata": {},
   "outputs": [
    {
     "name": "stdout",
     "output_type": "stream",
     "text": [
      "Accuracy Score: 97.00738234462504\n"
     ]
    }
   ],
   "source": [
    "# Seems that PCA helped improve the arrival model as well\n",
    "predictions = clf.predict(X_test_transformed)\n",
    "y_transposed = (np.transpose(y_test)).flatten()\n",
    "print(f\"Accuracy Score: {accuracy_score(y_transposed, predictions)*100}\")"
   ]
  },
  {
   "cell_type": "code",
   "execution_count": 44,
   "metadata": {
    "scrolled": true
   },
   "outputs": [
    {
     "data": {
      "text/html": [
       "<div>\n",
       "<style scoped>\n",
       "    .dataframe tbody tr th:only-of-type {\n",
       "        vertical-align: middle;\n",
       "    }\n",
       "\n",
       "    .dataframe tbody tr th {\n",
       "        vertical-align: top;\n",
       "    }\n",
       "\n",
       "    .dataframe thead th {\n",
       "        text-align: right;\n",
       "    }\n",
       "</style>\n",
       "<table border=\"1\" class=\"dataframe\">\n",
       "  <thead>\n",
       "    <tr style=\"text-align: right;\">\n",
       "      <th>Predicted Delays</th>\n",
       "      <th>Delayed</th>\n",
       "      <th>On Time</th>\n",
       "    </tr>\n",
       "    <tr>\n",
       "      <th>Actual Delays</th>\n",
       "      <th></th>\n",
       "      <th></th>\n",
       "    </tr>\n",
       "  </thead>\n",
       "  <tbody>\n",
       "    <tr>\n",
       "      <th>Delayed</th>\n",
       "      <td>134122</td>\n",
       "      <td>3587</td>\n",
       "    </tr>\n",
       "    <tr>\n",
       "      <th>On Time</th>\n",
       "      <td>9008</td>\n",
       "      <td>274152</td>\n",
       "    </tr>\n",
       "  </tbody>\n",
       "</table>\n",
       "</div>"
      ],
      "text/plain": [
       "Predicted Delays  Delayed  On Time\n",
       "Actual Delays                     \n",
       "Delayed            134122     3587\n",
       "On Time              9008   274152"
      ]
     },
     "execution_count": 44,
     "metadata": {},
     "output_type": "execute_result"
    }
   ],
   "source": [
    "# While not as good as the departure delay, 97% and a correct looking confusion matrix is great to see here\n",
    "pd.crosstab(y_transposed, predictions, rownames=[\"Actual Delays\"], colnames=[\"Predicted Delays\"])"
   ]
  },
  {
   "cell_type": "markdown",
   "metadata": {},
   "source": [
    "ARRIVAL MODEL 18 FEATURES DECISION TREE WITH PCA (100%!)"
   ]
  },
  {
   "cell_type": "code",
   "execution_count": 45,
   "metadata": {},
   "outputs": [
    {
     "name": "stdout",
     "output_type": "stream",
     "text": [
      "(1683475, 18) (1683475, 1)\n"
     ]
    }
   ],
   "source": [
    "# Try out the original arrival model with 18 features as it was indifferent to the one with 3 features in accuracy\n",
    "\n",
    "X = delays_df[[\"DAY\", \"MONTH\", \"DEP_TIME\", \"DEP_DELAY\", \"DEPARTURE_TIME_OF_DAY_DUMMY\", \\\n",
    "              \"OP_CARRIER_FL_NUM\", \"TAXI_OUT\", \"AIR_TIME\", \"TAXI_IN\", \\\n",
    "              \"ARRIVAL_TIME_OF_DAY_DUMMY\", \"CARRIER_DELAY\", \"DISTANCE\", \"WEEKDAY_DUMMY\", \"AIRLINE_DUMMY\", \\\n",
    "       \"WEATHER_DELAY\", \"NAS_DELAY\", \"SECURITY_DELAY\", \"LATE_AIRCRAFT_DELAY\",]]\n",
    "y = delays_df[\"ARRIVAL_DELAY\"].values.reshape(-1, 1)\n",
    "print(X.shape, y.shape)"
   ]
  },
  {
   "cell_type": "code",
   "execution_count": 46,
   "metadata": {},
   "outputs": [
    {
     "data": {
      "text/plain": [
       "PCA(copy=True, iterated_power='auto', n_components=0.95, random_state=None,\n",
       "    svd_solver='auto', tol=0.0, whiten=False)"
      ]
     },
     "execution_count": 46,
     "metadata": {},
     "output_type": "execute_result"
    }
   ],
   "source": [
    "from sklearn.decomposition import PCA\n",
    "pca = PCA(.95)\n",
    "pca.fit(X)"
   ]
  },
  {
   "cell_type": "code",
   "execution_count": 47,
   "metadata": {},
   "outputs": [],
   "source": [
    "# Split for train and test datasets\n",
    "from sklearn.model_selection import train_test_split\n",
    "\n",
    "X_train, X_test, y_train, y_test = train_test_split(X, y, random_state=rng, stratify=y)"
   ]
  },
  {
   "cell_type": "code",
   "execution_count": 48,
   "metadata": {},
   "outputs": [],
   "source": [
    "X_test_transformed = pca.transform(X_test)"
   ]
  },
  {
   "cell_type": "code",
   "execution_count": 49,
   "metadata": {},
   "outputs": [
    {
     "data": {
      "text/plain": [
       "DecisionTreeClassifier(class_weight=None, criterion='gini', max_depth=None,\n",
       "                       max_features=None, max_leaf_nodes=None,\n",
       "                       min_impurity_decrease=0.0, min_impurity_split=None,\n",
       "                       min_samples_leaf=1, min_samples_split=2,\n",
       "                       min_weight_fraction_leaf=0.0, presort=False,\n",
       "                       random_state=1767, splitter='best')"
      ]
     },
     "execution_count": 49,
     "metadata": {},
     "output_type": "execute_result"
    }
   ],
   "source": [
    "from sklearn.tree import DecisionTreeClassifier\n",
    "from sklearn.metrics import accuracy_score\n",
    "from sklearn import tree\n",
    "\n",
    "clf = DecisionTreeClassifier(random_state=rng)\n",
    "clf.fit(X_test_transformed, y_test)"
   ]
  },
  {
   "cell_type": "code",
   "execution_count": 50,
   "metadata": {},
   "outputs": [
    {
     "name": "stdout",
     "output_type": "stream",
     "text": [
      "Accuracy Score: 100.0\n"
     ]
    }
   ],
   "source": [
    "# Well then.....\n",
    "predictions = clf.predict(X_test_transformed)\n",
    "y_transposed = (np.transpose(y_test)).flatten()\n",
    "print(f\"Accuracy Score: {accuracy_score(y_transposed, predictions)*100}\")"
   ]
  },
  {
   "cell_type": "code",
   "execution_count": 51,
   "metadata": {
    "scrolled": true
   },
   "outputs": [
    {
     "data": {
      "text/html": [
       "<div>\n",
       "<style scoped>\n",
       "    .dataframe tbody tr th:only-of-type {\n",
       "        vertical-align: middle;\n",
       "    }\n",
       "\n",
       "    .dataframe tbody tr th {\n",
       "        vertical-align: top;\n",
       "    }\n",
       "\n",
       "    .dataframe thead th {\n",
       "        text-align: right;\n",
       "    }\n",
       "</style>\n",
       "<table border=\"1\" class=\"dataframe\">\n",
       "  <thead>\n",
       "    <tr style=\"text-align: right;\">\n",
       "      <th>Predicted Delays</th>\n",
       "      <th>Delayed</th>\n",
       "      <th>On Time</th>\n",
       "    </tr>\n",
       "    <tr>\n",
       "      <th>Actual Delays</th>\n",
       "      <th></th>\n",
       "      <th></th>\n",
       "    </tr>\n",
       "  </thead>\n",
       "  <tbody>\n",
       "    <tr>\n",
       "      <th>Delayed</th>\n",
       "      <td>137709</td>\n",
       "      <td>0</td>\n",
       "    </tr>\n",
       "    <tr>\n",
       "      <th>On Time</th>\n",
       "      <td>0</td>\n",
       "      <td>283160</td>\n",
       "    </tr>\n",
       "  </tbody>\n",
       "</table>\n",
       "</div>"
      ],
      "text/plain": [
       "Predicted Delays  Delayed  On Time\n",
       "Actual Delays                     \n",
       "Delayed            137709        0\n",
       "On Time                 0   283160"
      ]
     },
     "execution_count": 51,
     "metadata": {},
     "output_type": "execute_result"
    }
   ],
   "source": [
    "# This actually creeps me out.  100% accuracy is ridiculous to see.\n",
    "pd.crosstab(y_transposed, predictions, rownames=[\"Actual Delays\"], colnames=[\"Predicted Delays\"])"
   ]
  },
  {
   "cell_type": "markdown",
   "metadata": {},
   "source": [
    "DEPATURE DELAYS 10 FEATURES RANDOM FOREST WITH GRID SEARCH (68.42%)"
   ]
  },
  {
   "cell_type": "code",
   "execution_count": 54,
   "metadata": {},
   "outputs": [
    {
     "name": "stdout",
     "output_type": "stream",
     "text": [
      "(1683475, 10) (1683475, 1)\n"
     ]
    }
   ],
   "source": [
    "# Try out the grid search with the random forest classifier as a final test\n",
    "# Departure Delay with 10 features\n",
    "\n",
    "X = delays_df[[\"DAY\", \"MONTH\", \"DEP_TIME\", \"DEPARTURE_TIME_OF_DAY_DUMMY\", \"WEEKDAY_DUMMY\", \"AIRLINE_DUMMY\", \\\n",
    "               \"OP_CARRIER_FL_NUM\", \"TAXI_OUT\", \"WHEELS_OFF\",\"WEATHER_DELAY\",]]\n",
    "\n",
    "y = delays_df[\"DEPARTURE_DELAY\"].values.reshape(-1, 1)\n",
    "print(X.shape, y.shape)"
   ]
  },
  {
   "cell_type": "code",
   "execution_count": 56,
   "metadata": {},
   "outputs": [],
   "source": [
    "# Split for train and test datasets\n",
    "from sklearn.model_selection import train_test_split\n",
    "\n",
    "X_train, X_test, y_train, y_test = train_test_split(X, y, random_state=rng, stratify=y)"
   ]
  },
  {
   "cell_type": "code",
   "execution_count": 73,
   "metadata": {
    "scrolled": true
   },
   "outputs": [
    {
     "data": {
      "text/plain": [
       "GridSearchCV(cv=2, error_score='raise-deprecating',\n",
       "             estimator=RandomForestClassifier(bootstrap=True, class_weight=None,\n",
       "                                              criterion='gini', max_depth=2,\n",
       "                                              max_features='auto',\n",
       "                                              max_leaf_nodes=None,\n",
       "                                              min_impurity_decrease=0.0,\n",
       "                                              min_impurity_split=None,\n",
       "                                              min_samples_leaf=1,\n",
       "                                              min_samples_split=2,\n",
       "                                              min_weight_fraction_leaf=0.0,\n",
       "                                              n_estimators=100, n_jobs=None,\n",
       "                                              oob_score=True, random_state=1767,\n",
       "                                              verbose=0, warm_start=False),\n",
       "             iid='warn', n_jobs=None, param_grid={'n_estimators': [1, 6, 11]},\n",
       "             pre_dispatch='2*n_jobs', refit=True, return_train_score=True,\n",
       "             scoring='roc_auc', verbose=0)"
      ]
     },
     "execution_count": 73,
     "metadata": {},
     "output_type": "execute_result"
    }
   ],
   "source": [
    "# Set up the random forest classifier\n",
    "\n",
    "from sklearn.ensemble import RandomForestClassifier\n",
    "from sklearn.model_selection import GridSearchCV\n",
    "\n",
    "clf = RandomForestClassifier(n_estimators=100, max_depth=2, random_state=rng, oob_score=True)\n",
    "\n",
    "grid_search = GridSearchCV(clf, {'n_estimators': [1,6,11]}, cv = 2, scoring = \"roc_auc\", return_train_score=True)\n",
    "\n",
    "grid_search.fit(X_test, y_test)"
   ]
  },
  {
   "cell_type": "code",
   "execution_count": 74,
   "metadata": {},
   "outputs": [
    {
     "name": "stdout",
     "output_type": "stream",
     "text": [
      "Accuracy Score: 68.42319106420287\n"
     ]
    }
   ],
   "source": [
    "# This is about the same as the original model.\n",
    "clf_model = grid_search.best_estimator_\n",
    "predictions = clf_model.predict(X_test)\n",
    "prediction_p = clf_model.predict_proba(X_test)\n",
    "y_transposed = (np.transpose(y_test)).flatten()\n",
    "print(f\"Accuracy Score: {accuracy_score(y_transposed, predictions)*100}\")"
   ]
  },
  {
   "cell_type": "code",
   "execution_count": 75,
   "metadata": {
    "scrolled": true
   },
   "outputs": [
    {
     "data": {
      "text/html": [
       "<div>\n",
       "<style scoped>\n",
       "    .dataframe tbody tr th:only-of-type {\n",
       "        vertical-align: middle;\n",
       "    }\n",
       "\n",
       "    .dataframe tbody tr th {\n",
       "        vertical-align: top;\n",
       "    }\n",
       "\n",
       "    .dataframe thead th {\n",
       "        text-align: right;\n",
       "    }\n",
       "</style>\n",
       "<table border=\"1\" class=\"dataframe\">\n",
       "  <thead>\n",
       "    <tr style=\"text-align: right;\">\n",
       "      <th>Predicted Delays</th>\n",
       "      <th>Delayed</th>\n",
       "      <th>On Time</th>\n",
       "    </tr>\n",
       "    <tr>\n",
       "      <th>Actual Delays</th>\n",
       "      <th></th>\n",
       "      <th></th>\n",
       "    </tr>\n",
       "  </thead>\n",
       "  <tbody>\n",
       "    <tr>\n",
       "      <th>Delayed</th>\n",
       "      <td>5164</td>\n",
       "      <td>132888</td>\n",
       "    </tr>\n",
       "    <tr>\n",
       "      <th>On Time</th>\n",
       "      <td>9</td>\n",
       "      <td>282808</td>\n",
       "    </tr>\n",
       "  </tbody>\n",
       "</table>\n",
       "</div>"
      ],
      "text/plain": [
       "Predicted Delays  Delayed  On Time\n",
       "Actual Delays                     \n",
       "Delayed              5164   132888\n",
       "On Time                 9   282808"
      ]
     },
     "execution_count": 75,
     "metadata": {},
     "output_type": "execute_result"
    }
   ],
   "source": [
    "pd.crosstab(y_transposed, predictions, rownames=[\"Actual Delays\"], colnames=[\"Predicted Delays\"])"
   ]
  },
  {
   "cell_type": "markdown",
   "metadata": {},
   "source": [
    "ARRIVAL DELAYS 3 FEATURES RANDOM FOREST WITH GRID SEARCH (83.6%)"
   ]
  },
  {
   "cell_type": "code",
   "execution_count": 87,
   "metadata": {},
   "outputs": [
    {
     "name": "stdout",
     "output_type": "stream",
     "text": [
      "(1683475, 3) (1683475, 1)\n"
     ]
    }
   ],
   "source": [
    "# Try out the random forest classifier with grid search on the best arrival delay model.\n",
    "\n",
    "X = delays_df[[\"DEP_TIME\", \"DEP_DELAY\", \"AIR_TIME\"]]\n",
    "y = delays_df[\"ARRIVAL_DELAY\"].values.reshape(-1, 1)\n",
    "print(X.shape, y.shape)"
   ]
  },
  {
   "cell_type": "code",
   "execution_count": 88,
   "metadata": {},
   "outputs": [],
   "source": [
    "# Split for train and test datasets\n",
    "from sklearn.model_selection import train_test_split\n",
    "\n",
    "X_train, X_test, y_train, y_test = train_test_split(X, y, random_state=rng, stratify=y)"
   ]
  },
  {
   "cell_type": "code",
   "execution_count": 91,
   "metadata": {},
   "outputs": [
    {
     "data": {
      "text/plain": [
       "GridSearchCV(cv='warn', error_score='raise-deprecating',\n",
       "             estimator=RandomForestClassifier(bootstrap=True, class_weight=None,\n",
       "                                              criterion='gini', max_depth=2,\n",
       "                                              max_features='auto',\n",
       "                                              max_leaf_nodes=None,\n",
       "                                              min_impurity_decrease=0.0,\n",
       "                                              min_impurity_split=None,\n",
       "                                              min_samples_leaf=1,\n",
       "                                              min_samples_split=2,\n",
       "                                              min_weight_fraction_leaf=0.0,\n",
       "                                              n_estimators=100, n_jobs=None,\n",
       "                                              oob_score=True, random_state=1767,\n",
       "                                              verbose=0, warm_start=False),\n",
       "             iid='warn', n_jobs=None, param_grid={'n_estimators': [1, 6, 11]},\n",
       "             pre_dispatch='2*n_jobs', refit=True, return_train_score=True,\n",
       "             scoring=None, verbose=0)"
      ]
     },
     "execution_count": 91,
     "metadata": {},
     "output_type": "execute_result"
    }
   ],
   "source": [
    "# Set up the random forest classifier\n",
    "\n",
    "from sklearn.ensemble import RandomForestClassifier\n",
    "from sklearn.model_selection import GridSearchCV\n",
    "\n",
    "clf = RandomForestClassifier(n_estimators=100, max_depth=2, random_state=rng, oob_score=True)\n",
    "\n",
    "grid_search = GridSearchCV(clf, {'n_estimators': [1,6,11]}, return_train_score=True)\n",
    "\n",
    "grid_search.fit(X_test, y_test)"
   ]
  },
  {
   "cell_type": "code",
   "execution_count": 90,
   "metadata": {},
   "outputs": [
    {
     "name": "stdout",
     "output_type": "stream",
     "text": [
      "Accuracy Score: 83.60653790134222\n"
     ]
    }
   ],
   "source": [
    "# This is about the same as the original model as well.\n",
    "clf_model = grid_search.best_estimator_\n",
    "predictions = clf_model.predict(X_test)\n",
    "prediction_p = clf_model.predict_proba(X_test)\n",
    "y_transposed = (np.transpose(y_test)).flatten()\n",
    "print(f\"Accuracy Score: {accuracy_score(y_transposed, predictions)*100}\")"
   ]
  },
  {
   "cell_type": "code",
   "execution_count": 92,
   "metadata": {
    "scrolled": false
   },
   "outputs": [
    {
     "data": {
      "text/html": [
       "<div>\n",
       "<style scoped>\n",
       "    .dataframe tbody tr th:only-of-type {\n",
       "        vertical-align: middle;\n",
       "    }\n",
       "\n",
       "    .dataframe tbody tr th {\n",
       "        vertical-align: top;\n",
       "    }\n",
       "\n",
       "    .dataframe thead th {\n",
       "        text-align: right;\n",
       "    }\n",
       "</style>\n",
       "<table border=\"1\" class=\"dataframe\">\n",
       "  <thead>\n",
       "    <tr style=\"text-align: right;\">\n",
       "      <th>Predicted Delays</th>\n",
       "      <th>Delayed</th>\n",
       "      <th>On Time</th>\n",
       "    </tr>\n",
       "    <tr>\n",
       "      <th>Actual Delays</th>\n",
       "      <th></th>\n",
       "      <th></th>\n",
       "    </tr>\n",
       "  </thead>\n",
       "  <tbody>\n",
       "    <tr>\n",
       "      <th>Delayed</th>\n",
       "      <td>79541</td>\n",
       "      <td>58168</td>\n",
       "    </tr>\n",
       "    <tr>\n",
       "      <th>On Time</th>\n",
       "      <td>10827</td>\n",
       "      <td>272333</td>\n",
       "    </tr>\n",
       "  </tbody>\n",
       "</table>\n",
       "</div>"
      ],
      "text/plain": [
       "Predicted Delays  Delayed  On Time\n",
       "Actual Delays                     \n",
       "Delayed             79541    58168\n",
       "On Time             10827   272333"
      ]
     },
     "execution_count": 92,
     "metadata": {},
     "output_type": "execute_result"
    }
   ],
   "source": [
    "pd.crosstab(y_transposed, predictions, rownames=[\"Actual Delays\"], colnames=[\"Predicted Delays\"])"
   ]
  },
  {
   "cell_type": "markdown",
   "metadata": {},
   "source": [
    "DEPARTURE DELAYS 15+ MINUTES DECSION TREE WITH PCA (99.99%)"
   ]
  },
  {
   "cell_type": "code",
   "execution_count": 28,
   "metadata": {},
   "outputs": [
    {
     "name": "stdout",
     "output_type": "stream",
     "text": [
      "(1683475, 10) (1683475, 1)\n"
     ]
    }
   ],
   "source": [
    "# Test if the Decision Tree with PCA can predict departure delays of 15 minutes+\n",
    "\n",
    "X = delays_df[[\"DAY\", \"MONTH\", \"DEP_TIME\", \"DEPARTURE_TIME_OF_DAY_DUMMY\", \"WEEKDAY_DUMMY\", \"AIRLINE_DUMMY\", \\\n",
    "               \"OP_CARRIER_FL_NUM\", \"TAXI_OUT\", \"WHEELS_OFF\",\"WEATHER_DELAY\",]]\n",
    "\n",
    "y = delays_df[\"DEPARTURE_DELAY_OVER_15_MINUTES\"].values.reshape(-1, 1)\n",
    "print(X.shape, y.shape)"
   ]
  },
  {
   "cell_type": "code",
   "execution_count": 29,
   "metadata": {},
   "outputs": [
    {
     "data": {
      "text/plain": [
       "PCA(copy=True, iterated_power='auto', n_components=0.95, random_state=None,\n",
       "    svd_solver='auto', tol=0.0, whiten=False)"
      ]
     },
     "execution_count": 29,
     "metadata": {},
     "output_type": "execute_result"
    }
   ],
   "source": [
    "from sklearn.decomposition import PCA\n",
    "pca = PCA(.95)\n",
    "pca.fit(X)"
   ]
  },
  {
   "cell_type": "code",
   "execution_count": 30,
   "metadata": {},
   "outputs": [],
   "source": [
    "# Split for train and test datasets\n",
    "from sklearn.model_selection import train_test_split\n",
    "\n",
    "X_train, X_test, y_train, y_test = train_test_split(X, y, random_state=rng, stratify=y)"
   ]
  },
  {
   "cell_type": "code",
   "execution_count": 31,
   "metadata": {},
   "outputs": [],
   "source": [
    "X_test_transformed = pca.transform(X_test)"
   ]
  },
  {
   "cell_type": "code",
   "execution_count": 32,
   "metadata": {},
   "outputs": [],
   "source": [
    "from sklearn.tree import DecisionTreeClassifier\n",
    "from sklearn.metrics import accuracy_score\n",
    "from sklearn import tree\n",
    "\n",
    "clf = DecisionTreeClassifier(random_state=rng)"
   ]
  },
  {
   "cell_type": "code",
   "execution_count": 33,
   "metadata": {
    "scrolled": true
   },
   "outputs": [
    {
     "data": {
      "text/plain": [
       "DecisionTreeClassifier(class_weight=None, criterion='gini', max_depth=None,\n",
       "                       max_features=None, max_leaf_nodes=None,\n",
       "                       min_impurity_decrease=0.0, min_impurity_split=None,\n",
       "                       min_samples_leaf=1, min_samples_split=2,\n",
       "                       min_weight_fraction_leaf=0.0, presort=False,\n",
       "                       random_state=1007, splitter='best')"
      ]
     },
     "execution_count": 33,
     "metadata": {},
     "output_type": "execute_result"
    }
   ],
   "source": [
    "clf.fit(X_test_transformed, y_test)"
   ]
  },
  {
   "cell_type": "code",
   "execution_count": 34,
   "metadata": {},
   "outputs": [
    {
     "name": "stdout",
     "output_type": "stream",
     "text": [
      "Accuracy Score: 99.99976239637512\n"
     ]
    }
   ],
   "source": [
    "# Seems like the variables can be interchanged\n",
    "predictions = clf.predict(X_test_transformed)\n",
    "prediction_p = clf.predict_proba(X_test_transformed)\n",
    "y_transposed = (np.transpose(y_test)).flatten()\n",
    "print(f\"Accuracy Score: {accuracy_score(y_transposed, predictions)*100}\")"
   ]
  },
  {
   "cell_type": "code",
   "execution_count": 35,
   "metadata": {
    "scrolled": true
   },
   "outputs": [
    {
     "data": {
      "text/html": [
       "<div>\n",
       "<style scoped>\n",
       "    .dataframe tbody tr th:only-of-type {\n",
       "        vertical-align: middle;\n",
       "    }\n",
       "\n",
       "    .dataframe tbody tr th {\n",
       "        vertical-align: top;\n",
       "    }\n",
       "\n",
       "    .dataframe thead th {\n",
       "        text-align: right;\n",
       "    }\n",
       "</style>\n",
       "<table border=\"1\" class=\"dataframe\">\n",
       "  <thead>\n",
       "    <tr style=\"text-align: right;\">\n",
       "      <th>Predicted Delays</th>\n",
       "      <th>0</th>\n",
       "      <th>1</th>\n",
       "    </tr>\n",
       "    <tr>\n",
       "      <th>Actual Delays</th>\n",
       "      <th></th>\n",
       "      <th></th>\n",
       "    </tr>\n",
       "  </thead>\n",
       "  <tbody>\n",
       "    <tr>\n",
       "      <th>0</th>\n",
       "      <td>416673</td>\n",
       "      <td>0</td>\n",
       "    </tr>\n",
       "    <tr>\n",
       "      <th>1</th>\n",
       "      <td>1</td>\n",
       "      <td>4195</td>\n",
       "    </tr>\n",
       "  </tbody>\n",
       "</table>\n",
       "</div>"
      ],
      "text/plain": [
       "Predicted Delays       0     1\n",
       "Actual Delays                 \n",
       "0                 416673     0\n",
       "1                      1  4195"
      ]
     },
     "execution_count": 35,
     "metadata": {},
     "output_type": "execute_result"
    }
   ],
   "source": [
    "pd.crosstab(y_transposed, predictions, rownames=[\"Actual Delays\"], colnames=[\"Predicted Delays\"])"
   ]
  },
  {
   "cell_type": "markdown",
   "metadata": {},
   "source": [
    "ARRIVAL DELAYS 15+ MINUTES DECISION TRESS WITH PCA (100%)"
   ]
  },
  {
   "cell_type": "code",
   "execution_count": 39,
   "metadata": {},
   "outputs": [
    {
     "name": "stdout",
     "output_type": "stream",
     "text": [
      "(1683475, 18) (1683475, 1)\n"
     ]
    }
   ],
   "source": [
    "# Try it out for arrival delays of 15 minutes+\n",
    "\n",
    "X = delays_df[[\"DAY\", \"MONTH\", \"DEP_TIME\", \"DEP_DELAY\", \"DEPARTURE_TIME_OF_DAY_DUMMY\", \\\n",
    "              \"OP_CARRIER_FL_NUM\", \"TAXI_OUT\", \"AIR_TIME\", \"TAXI_IN\", \\\n",
    "              \"ARRIVAL_TIME_OF_DAY_DUMMY\", \"CARRIER_DELAY\", \"DISTANCE\", \"WEEKDAY_DUMMY\", \"AIRLINE_DUMMY\", \\\n",
    "       \"WEATHER_DELAY\", \"NAS_DELAY\", \"SECURITY_DELAY\", \"LATE_AIRCRAFT_DELAY\",]]\n",
    "y = delays_df[\"ARRIVAL_DELAY_OVER_15_MINUTES\"].values.reshape(-1, 1)\n",
    "print(X.shape, y.shape)"
   ]
  },
  {
   "cell_type": "code",
   "execution_count": 40,
   "metadata": {},
   "outputs": [
    {
     "data": {
      "text/plain": [
       "PCA(copy=True, iterated_power='auto', n_components=0.95, random_state=None,\n",
       "    svd_solver='auto', tol=0.0, whiten=False)"
      ]
     },
     "execution_count": 40,
     "metadata": {},
     "output_type": "execute_result"
    }
   ],
   "source": [
    "from sklearn.decomposition import PCA\n",
    "pca = PCA(.95)\n",
    "pca.fit(X)"
   ]
  },
  {
   "cell_type": "code",
   "execution_count": 41,
   "metadata": {},
   "outputs": [],
   "source": [
    "# Split for train and test datasets\n",
    "from sklearn.model_selection import train_test_split\n",
    "\n",
    "X_train, X_test, y_train, y_test = train_test_split(X, y, random_state=rng, stratify=y)"
   ]
  },
  {
   "cell_type": "code",
   "execution_count": 42,
   "metadata": {},
   "outputs": [],
   "source": [
    "X_test_transformed = pca.transform(X_test)"
   ]
  },
  {
   "cell_type": "code",
   "execution_count": 43,
   "metadata": {},
   "outputs": [
    {
     "data": {
      "text/plain": [
       "DecisionTreeClassifier(class_weight=None, criterion='gini', max_depth=None,\n",
       "                       max_features=None, max_leaf_nodes=None,\n",
       "                       min_impurity_decrease=0.0, min_impurity_split=None,\n",
       "                       min_samples_leaf=1, min_samples_split=2,\n",
       "                       min_weight_fraction_leaf=0.0, presort=False,\n",
       "                       random_state=1007, splitter='best')"
      ]
     },
     "execution_count": 43,
     "metadata": {},
     "output_type": "execute_result"
    }
   ],
   "source": [
    "from sklearn.tree import DecisionTreeClassifier\n",
    "from sklearn.metrics import accuracy_score\n",
    "from sklearn import tree\n",
    "\n",
    "clf = DecisionTreeClassifier(random_state=rng)\n",
    "clf.fit(X_test_transformed, y_test)"
   ]
  },
  {
   "cell_type": "code",
   "execution_count": 44,
   "metadata": {},
   "outputs": [
    {
     "name": "stdout",
     "output_type": "stream",
     "text": [
      "Accuracy Score: 100.0\n"
     ]
    }
   ],
   "source": [
    "# Seems like the variables can be interchanged.  Should work for all delay lengths.\n",
    "predictions = clf.predict(X_test_transformed)\n",
    "prediction_p = clf.predict_proba(X_test_transformed)\n",
    "y_transposed = (np.transpose(y_test)).flatten()\n",
    "print(f\"Accuracy Score: {accuracy_score(y_transposed, predictions)*100}\")"
   ]
  },
  {
   "cell_type": "code",
   "execution_count": 45,
   "metadata": {
    "scrolled": true
   },
   "outputs": [
    {
     "data": {
      "text/html": [
       "<div>\n",
       "<style scoped>\n",
       "    .dataframe tbody tr th:only-of-type {\n",
       "        vertical-align: middle;\n",
       "    }\n",
       "\n",
       "    .dataframe tbody tr th {\n",
       "        vertical-align: top;\n",
       "    }\n",
       "\n",
       "    .dataframe thead th {\n",
       "        text-align: right;\n",
       "    }\n",
       "</style>\n",
       "<table border=\"1\" class=\"dataframe\">\n",
       "  <thead>\n",
       "    <tr style=\"text-align: right;\">\n",
       "      <th>Predicted Delays</th>\n",
       "      <th>0</th>\n",
       "      <th>1</th>\n",
       "    </tr>\n",
       "    <tr>\n",
       "      <th>Actual Delays</th>\n",
       "      <th></th>\n",
       "      <th></th>\n",
       "    </tr>\n",
       "  </thead>\n",
       "  <tbody>\n",
       "    <tr>\n",
       "      <th>0</th>\n",
       "      <td>305172</td>\n",
       "      <td>0</td>\n",
       "    </tr>\n",
       "    <tr>\n",
       "      <th>1</th>\n",
       "      <td>0</td>\n",
       "      <td>115697</td>\n",
       "    </tr>\n",
       "  </tbody>\n",
       "</table>\n",
       "</div>"
      ],
      "text/plain": [
       "Predicted Delays       0       1\n",
       "Actual Delays                   \n",
       "0                 305172       0\n",
       "1                      0  115697"
      ]
     },
     "execution_count": 45,
     "metadata": {},
     "output_type": "execute_result"
    }
   ],
   "source": [
    "pd.crosstab(y_transposed, predictions, rownames=[\"Actual Delays\"], colnames=[\"Predicted Delays\"])"
   ]
  },
  {
   "cell_type": "markdown",
   "metadata": {},
   "source": [
    "DEPARTURE DELAY 3 CATEGORY SPLIT DECISION TREE (100%)"
   ]
  },
  {
   "cell_type": "code",
   "execution_count": 62,
   "metadata": {},
   "outputs": [
    {
     "name": "stdout",
     "output_type": "stream",
     "text": [
      "(1683475, 10) (1683475, 1)\n"
     ]
    }
   ],
   "source": [
    "# A final test for predictions of on times, small delays (<15 minutes) and long delays (15+ minutes)\n",
    "\n",
    "X = delays_df[[\"DAY\", \"MONTH\", \"DEP_TIME\", \"DEPARTURE_TIME_OF_DAY_DUMMY\", \"WEEKDAY_DUMMY\", \"AIRLINE_DUMMY\", \\\n",
    "               \"OP_CARRIER_FL_NUM\", \"TAXI_OUT\", \"WHEELS_OFF\",\"WEATHER_DELAY\",]]\n",
    "\n",
    "y = delays_df[\"DEPARTURE_DELAY_TEST\"].values.reshape(-1, 1)\n",
    "print(X.shape, y.shape)"
   ]
  },
  {
   "cell_type": "code",
   "execution_count": 65,
   "metadata": {},
   "outputs": [],
   "source": [
    "y = pd.factorize(delays_df[\"DEPARTURE_DELAY_TEST\"])[0]"
   ]
  },
  {
   "cell_type": "code",
   "execution_count": 67,
   "metadata": {},
   "outputs": [],
   "source": [
    "# Split for train and test datasets\n",
    "from sklearn.model_selection import train_test_split\n",
    "\n",
    "X_train, X_test, y_train, y_test = train_test_split(X, y, random_state=rng, stratify=y)"
   ]
  },
  {
   "cell_type": "code",
   "execution_count": 69,
   "metadata": {},
   "outputs": [
    {
     "data": {
      "text/plain": [
       "DecisionTreeClassifier(class_weight=None, criterion='gini', max_depth=None,\n",
       "                       max_features=None, max_leaf_nodes=None,\n",
       "                       min_impurity_decrease=0.0, min_impurity_split=None,\n",
       "                       min_samples_leaf=1, min_samples_split=2,\n",
       "                       min_weight_fraction_leaf=0.0, presort=False,\n",
       "                       random_state=1007, splitter='best')"
      ]
     },
     "execution_count": 69,
     "metadata": {},
     "output_type": "execute_result"
    }
   ],
   "source": [
    "from sklearn.tree import DecisionTreeClassifier\n",
    "from sklearn.metrics import accuracy_score\n",
    "from sklearn import tree\n",
    "\n",
    "clf = DecisionTreeClassifier(random_state=rng)\n",
    "clf.fit(X_test, y_test)"
   ]
  },
  {
   "cell_type": "code",
   "execution_count": 70,
   "metadata": {},
   "outputs": [
    {
     "name": "stdout",
     "output_type": "stream",
     "text": [
      "Accuracy Score: 100.0\n"
     ]
    }
   ],
   "source": [
    "# Well this is a huge improvement over the original model\n",
    "predictions = clf.predict(X_test)\n",
    "prediction_p = clf.predict_proba(X_test)\n",
    "y_transposed = (np.transpose(y_test)).flatten()\n",
    "print(f\"Accuracy Score: {accuracy_score(y_transposed, predictions)*100}\")"
   ]
  },
  {
   "cell_type": "code",
   "execution_count": 71,
   "metadata": {
    "scrolled": false
   },
   "outputs": [
    {
     "data": {
      "text/html": [
       "<div>\n",
       "<style scoped>\n",
       "    .dataframe tbody tr th:only-of-type {\n",
       "        vertical-align: middle;\n",
       "    }\n",
       "\n",
       "    .dataframe tbody tr th {\n",
       "        vertical-align: top;\n",
       "    }\n",
       "\n",
       "    .dataframe thead th {\n",
       "        text-align: right;\n",
       "    }\n",
       "</style>\n",
       "<table border=\"1\" class=\"dataframe\">\n",
       "  <thead>\n",
       "    <tr style=\"text-align: right;\">\n",
       "      <th>Predicted Delays</th>\n",
       "      <th>0</th>\n",
       "      <th>1</th>\n",
       "      <th>2</th>\n",
       "      <th>3</th>\n",
       "    </tr>\n",
       "    <tr>\n",
       "      <th>Actual Delays</th>\n",
       "      <th></th>\n",
       "      <th></th>\n",
       "      <th></th>\n",
       "      <th></th>\n",
       "    </tr>\n",
       "  </thead>\n",
       "  <tbody>\n",
       "    <tr>\n",
       "      <th>0</th>\n",
       "      <td>282817</td>\n",
       "      <td>0</td>\n",
       "      <td>0</td>\n",
       "      <td>0</td>\n",
       "    </tr>\n",
       "    <tr>\n",
       "      <th>1</th>\n",
       "      <td>0</td>\n",
       "      <td>68998</td>\n",
       "      <td>0</td>\n",
       "      <td>0</td>\n",
       "    </tr>\n",
       "    <tr>\n",
       "      <th>2</th>\n",
       "      <td>0</td>\n",
       "      <td>0</td>\n",
       "      <td>68977</td>\n",
       "      <td>0</td>\n",
       "    </tr>\n",
       "    <tr>\n",
       "      <th>3</th>\n",
       "      <td>0</td>\n",
       "      <td>0</td>\n",
       "      <td>0</td>\n",
       "      <td>77</td>\n",
       "    </tr>\n",
       "  </tbody>\n",
       "</table>\n",
       "</div>"
      ],
      "text/plain": [
       "Predicted Delays       0      1      2   3\n",
       "Actual Delays                             \n",
       "0                 282817      0      0   0\n",
       "1                      0  68998      0   0\n",
       "2                      0      0  68977   0\n",
       "3                      0      0      0  77"
      ]
     },
     "execution_count": 71,
     "metadata": {},
     "output_type": "execute_result"
    }
   ],
   "source": [
    "# Figure out why there is a 4th dummy variable\n",
    "pd.crosstab(y_transposed, predictions, rownames=[\"Actual Delays\"], colnames=[\"Predicted Delays\"])"
   ]
  },
  {
   "cell_type": "markdown",
   "metadata": {},
   "source": [
    "ARRIVAL DELAY 3 CATEGORIES DECISION TREE (100%)"
   ]
  },
  {
   "cell_type": "code",
   "execution_count": 75,
   "metadata": {
    "scrolled": true
   },
   "outputs": [
    {
     "name": "stdout",
     "output_type": "stream",
     "text": [
      "(1683475, 18) (1683475, 1)\n"
     ]
    }
   ],
   "source": [
    "# Test out on Arrival Delays with 3 categories\n",
    "\n",
    "X = delays_df[[\"DAY\", \"MONTH\", \"DEP_TIME\", \"DEP_DELAY\", \"DEPARTURE_TIME_OF_DAY_DUMMY\", \\\n",
    "              \"OP_CARRIER_FL_NUM\", \"TAXI_OUT\", \"AIR_TIME\", \"TAXI_IN\", \\\n",
    "              \"ARRIVAL_TIME_OF_DAY_DUMMY\", \"CARRIER_DELAY\", \"DISTANCE\", \"WEEKDAY_DUMMY\", \"AIRLINE_DUMMY\", \\\n",
    "       \"WEATHER_DELAY\", \"NAS_DELAY\", \"SECURITY_DELAY\", \"LATE_AIRCRAFT_DELAY\",]]\n",
    "y = delays_df[\"ARRIVAL_DELAY_TEST\"].values.reshape(-1, 1)\n",
    "print(X.shape, y.shape)"
   ]
  },
  {
   "cell_type": "code",
   "execution_count": 76,
   "metadata": {},
   "outputs": [],
   "source": [
    "y = pd.factorize(delays_df[\"ARRIVAL_DELAY_TEST\"])[0]"
   ]
  },
  {
   "cell_type": "code",
   "execution_count": 77,
   "metadata": {},
   "outputs": [],
   "source": [
    "# Split for train and test datasets\n",
    "from sklearn.model_selection import train_test_split\n",
    "\n",
    "X_train, X_test, y_train, y_test = train_test_split(X, y, random_state=rng, stratify=y)"
   ]
  },
  {
   "cell_type": "code",
   "execution_count": 78,
   "metadata": {},
   "outputs": [
    {
     "data": {
      "text/plain": [
       "DecisionTreeClassifier(class_weight=None, criterion='gini', max_depth=None,\n",
       "                       max_features=None, max_leaf_nodes=None,\n",
       "                       min_impurity_decrease=0.0, min_impurity_split=None,\n",
       "                       min_samples_leaf=1, min_samples_split=2,\n",
       "                       min_weight_fraction_leaf=0.0, presort=False,\n",
       "                       random_state=1007, splitter='best')"
      ]
     },
     "execution_count": 78,
     "metadata": {},
     "output_type": "execute_result"
    }
   ],
   "source": [
    "from sklearn.tree import DecisionTreeClassifier\n",
    "from sklearn.metrics import accuracy_score\n",
    "from sklearn import tree\n",
    "\n",
    "clf = DecisionTreeClassifier(random_state=rng)\n",
    "clf.fit(X_test, y_test)"
   ]
  },
  {
   "cell_type": "code",
   "execution_count": 79,
   "metadata": {},
   "outputs": [
    {
     "name": "stdout",
     "output_type": "stream",
     "text": [
      "Accuracy Score: 100.0\n"
     ]
    }
   ],
   "source": [
    "# Again, good to see this can be applied to both arriving and departure delays.\n",
    "predictions = clf.predict(X_test)\n",
    "prediction_p = clf.predict_proba(X_test)\n",
    "y_transposed = (np.transpose(y_test)).flatten()\n",
    "print(f\"Accuracy Score: {accuracy_score(y_transposed, predictions)*100}\")"
   ]
  },
  {
   "cell_type": "code",
   "execution_count": 80,
   "metadata": {
    "scrolled": true
   },
   "outputs": [
    {
     "data": {
      "text/html": [
       "<div>\n",
       "<style scoped>\n",
       "    .dataframe tbody tr th:only-of-type {\n",
       "        vertical-align: middle;\n",
       "    }\n",
       "\n",
       "    .dataframe tbody tr th {\n",
       "        vertical-align: top;\n",
       "    }\n",
       "\n",
       "    .dataframe thead th {\n",
       "        text-align: right;\n",
       "    }\n",
       "</style>\n",
       "<table border=\"1\" class=\"dataframe\">\n",
       "  <thead>\n",
       "    <tr style=\"text-align: right;\">\n",
       "      <th>Predicted Delays</th>\n",
       "      <th>0</th>\n",
       "      <th>1</th>\n",
       "      <th>2</th>\n",
       "      <th>3</th>\n",
       "    </tr>\n",
       "    <tr>\n",
       "      <th>Actual Delays</th>\n",
       "      <th></th>\n",
       "      <th></th>\n",
       "      <th></th>\n",
       "      <th></th>\n",
       "    </tr>\n",
       "  </thead>\n",
       "  <tbody>\n",
       "    <tr>\n",
       "      <th>0</th>\n",
       "      <td>283160</td>\n",
       "      <td>0</td>\n",
       "      <td>0</td>\n",
       "      <td>0</td>\n",
       "    </tr>\n",
       "    <tr>\n",
       "      <th>1</th>\n",
       "      <td>0</td>\n",
       "      <td>69700</td>\n",
       "      <td>0</td>\n",
       "      <td>0</td>\n",
       "    </tr>\n",
       "    <tr>\n",
       "      <th>2</th>\n",
       "      <td>0</td>\n",
       "      <td>0</td>\n",
       "      <td>67933</td>\n",
       "      <td>0</td>\n",
       "    </tr>\n",
       "    <tr>\n",
       "      <th>3</th>\n",
       "      <td>0</td>\n",
       "      <td>0</td>\n",
       "      <td>0</td>\n",
       "      <td>76</td>\n",
       "    </tr>\n",
       "  </tbody>\n",
       "</table>\n",
       "</div>"
      ],
      "text/plain": [
       "Predicted Delays       0      1      2   3\n",
       "Actual Delays                             \n",
       "0                 283160      0      0   0\n",
       "1                      0  69700      0   0\n",
       "2                      0      0  67933   0\n",
       "3                      0      0      0  76"
      ]
     },
     "execution_count": 80,
     "metadata": {},
     "output_type": "execute_result"
    }
   ],
   "source": [
    "pd.crosstab(y_transposed, predictions, rownames=[\"Actual Delays\"], colnames=[\"Predicted Delays\"])"
   ]
  },
  {
   "cell_type": "code",
   "execution_count": 84,
   "metadata": {},
   "outputs": [
    {
     "data": {
      "text/html": [
       "<div>\n",
       "<style scoped>\n",
       "    .dataframe tbody tr th:only-of-type {\n",
       "        vertical-align: middle;\n",
       "    }\n",
       "\n",
       "    .dataframe tbody tr th {\n",
       "        vertical-align: top;\n",
       "    }\n",
       "\n",
       "    .dataframe thead th {\n",
       "        text-align: right;\n",
       "    }\n",
       "</style>\n",
       "<table border=\"1\" class=\"dataframe\">\n",
       "  <thead>\n",
       "    <tr style=\"text-align: right;\">\n",
       "      <th></th>\n",
       "      <th>Model</th>\n",
       "      <th>Model Type</th>\n",
       "      <th>Features</th>\n",
       "      <th>Test Data R2</th>\n",
       "    </tr>\n",
       "  </thead>\n",
       "  <tbody>\n",
       "    <tr>\n",
       "      <th>0</th>\n",
       "      <td>Depature Delay</td>\n",
       "      <td>Decision Tree</td>\n",
       "      <td>10</td>\n",
       "      <td>0.7270</td>\n",
       "    </tr>\n",
       "    <tr>\n",
       "      <th>1</th>\n",
       "      <td></td>\n",
       "      <td>Random Forest</td>\n",
       "      <td>10</td>\n",
       "      <td>0.6800</td>\n",
       "    </tr>\n",
       "    <tr>\n",
       "      <th>2</th>\n",
       "      <td></td>\n",
       "      <td>Random Forest</td>\n",
       "      <td>4</td>\n",
       "      <td>0.6823</td>\n",
       "    </tr>\n",
       "    <tr>\n",
       "      <th>3</th>\n",
       "      <td></td>\n",
       "      <td>Decision Tree with PCA</td>\n",
       "      <td>10</td>\n",
       "      <td>0.9990</td>\n",
       "    </tr>\n",
       "    <tr>\n",
       "      <th>4</th>\n",
       "      <td></td>\n",
       "      <td>Random Forest with Grid Search</td>\n",
       "      <td>10</td>\n",
       "      <td>0.6842</td>\n",
       "    </tr>\n",
       "    <tr>\n",
       "      <th>5</th>\n",
       "      <td>Departure Delay 15+ Minutes</td>\n",
       "      <td>Decision Tree with PCA</td>\n",
       "      <td>10</td>\n",
       "      <td>0.9990</td>\n",
       "    </tr>\n",
       "    <tr>\n",
       "      <th>6</th>\n",
       "      <td>Departure Delay 3 Categories</td>\n",
       "      <td>Decision TreeRandom Forest</td>\n",
       "      <td>10</td>\n",
       "      <td>1.0000</td>\n",
       "    </tr>\n",
       "    <tr>\n",
       "      <th>7</th>\n",
       "      <td>Arrival Delay</td>\n",
       "      <td>Random Forest</td>\n",
       "      <td>18</td>\n",
       "      <td>0.8370</td>\n",
       "    </tr>\n",
       "    <tr>\n",
       "      <th>8</th>\n",
       "      <td></td>\n",
       "      <td>Random Forest</td>\n",
       "      <td>8</td>\n",
       "      <td>0.8186</td>\n",
       "    </tr>\n",
       "    <tr>\n",
       "      <th>9</th>\n",
       "      <td></td>\n",
       "      <td>Decision Tree with PCA</td>\n",
       "      <td>3</td>\n",
       "      <td>0.8376</td>\n",
       "    </tr>\n",
       "    <tr>\n",
       "      <th>10</th>\n",
       "      <td></td>\n",
       "      <td>Decision Tree with PCA</td>\n",
       "      <td>3</td>\n",
       "      <td>0.9700</td>\n",
       "    </tr>\n",
       "    <tr>\n",
       "      <th>11</th>\n",
       "      <td></td>\n",
       "      <td>Forest with Grid Search</td>\n",
       "      <td>18</td>\n",
       "      <td>1.0000</td>\n",
       "    </tr>\n",
       "    <tr>\n",
       "      <th>12</th>\n",
       "      <td></td>\n",
       "      <td>Random Forest</td>\n",
       "      <td>3</td>\n",
       "      <td>0.8360</td>\n",
       "    </tr>\n",
       "    <tr>\n",
       "      <th>13</th>\n",
       "      <td>Arrival Delay 15+ Minutes</td>\n",
       "      <td>Random Forest</td>\n",
       "      <td>18</td>\n",
       "      <td>1.0000</td>\n",
       "    </tr>\n",
       "    <tr>\n",
       "      <th>14</th>\n",
       "      <td>Arrival Delay 3 Categories</td>\n",
       "      <td>Random Forest</td>\n",
       "      <td>18</td>\n",
       "      <td>1.0000</td>\n",
       "    </tr>\n",
       "  </tbody>\n",
       "</table>\n",
       "</div>"
      ],
      "text/plain": [
       "                           Model                      Model Type  Features  \\\n",
       "0                 Depature Delay                   Decision Tree        10   \n",
       "1                                                  Random Forest        10   \n",
       "2                                                  Random Forest         4   \n",
       "3                                         Decision Tree with PCA        10   \n",
       "4                                 Random Forest with Grid Search        10   \n",
       "5    Departure Delay 15+ Minutes          Decision Tree with PCA        10   \n",
       "6   Departure Delay 3 Categories      Decision TreeRandom Forest        10   \n",
       "7                  Arrival Delay                   Random Forest        18   \n",
       "8                                                  Random Forest         8   \n",
       "9                                         Decision Tree with PCA         3   \n",
       "10                                        Decision Tree with PCA         3   \n",
       "11                                       Forest with Grid Search        18   \n",
       "12                                                 Random Forest         3   \n",
       "13     Arrival Delay 15+ Minutes                   Random Forest        18   \n",
       "14    Arrival Delay 3 Categories                   Random Forest        18   \n",
       "\n",
       "    Test Data R2  \n",
       "0         0.7270  \n",
       "1         0.6800  \n",
       "2         0.6823  \n",
       "3         0.9990  \n",
       "4         0.6842  \n",
       "5         0.9990  \n",
       "6         1.0000  \n",
       "7         0.8370  \n",
       "8         0.8186  \n",
       "9         0.8376  \n",
       "10        0.9700  \n",
       "11        1.0000  \n",
       "12        0.8360  \n",
       "13        1.0000  \n",
       "14        1.0000  "
      ]
     },
     "execution_count": 84,
     "metadata": {},
     "output_type": "execute_result"
    }
   ],
   "source": [
    "Decision_Trees_ML_outcomes = {\n",
    "    \"Model\": [\"Depature Delay\", \"\", \"\", \"\", \"\", \"Departure Delay 15+ Minutes\", \"Departure Delay 3 Categories\", \\\n",
    "              \"Arrival Delay\", \"\", \"\", \"\", \"\", \"\", \"Arrival Delay 15+ Minutes\", \"Arrival Delay 3 Categories\"],\n",
    "    \n",
    "    \"Model Type\": [\"Decision Tree\", \"Random Forest\", \"Random Forest\", \\\n",
    "                   \"Decision Tree with PCA\", \"Random Forest with Grid Search\", \\\n",
    "                   \"Decision Tree with PCA\", \"Decision Tree\"\n",
    "                   \"Random Forest\", \"Random Forest\", \"Random Forest\", \\\n",
    "                   \"Decision Tree with PCA\", \"Decision Tree with PCA\", \"Forest with Grid Search\", \\\n",
    "                   \"Random Forest\", \"Random Forest\", \"Random Forest\"],\n",
    "    \n",
    "    \"Features\": [10, 10, 4, 10, 10, 10, 10, 18, 8, 3, 3, 18, 3, 18, 18],\n",
    "    \n",
    "    \"Test Data R2\": [.727, .68, .6823, .999, .6842, .999, 1, .837, .8186, .8376, .97, 1, .836, 1, 1]\n",
    "    \n",
    "                }\n",
    "\n",
    "Decision_Trees_ML_outcomes_df = pd.DataFrame(Decision_Trees_ML_outcomes)\n",
    "Decision_Trees_ML_outcomes_df"
   ]
  }
 ],
 "metadata": {
  "kernelspec": {
   "display_name": "Python 3",
   "language": "python",
   "name": "python3"
  },
  "language_info": {
   "codemirror_mode": {
    "name": "ipython",
    "version": 3
   },
   "file_extension": ".py",
   "mimetype": "text/x-python",
   "name": "python",
   "nbconvert_exporter": "python",
   "pygments_lexer": "ipython3",
   "version": "3.7.4"
  }
 },
 "nbformat": 4,
 "nbformat_minor": 2
}
