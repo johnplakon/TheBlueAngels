{
 "cells": [
  {
   "cell_type": "markdown",
   "metadata": {},
   "source": [
    "Logistic regression analysis produced some interesting results.  A rather simplified model using 10 featured for departure\n",
    "delays produced a fantastic model with an R2 of 95.86% while this same model using departure delays over 15 minutes produced \n",
    "a model R2 of 99%!\n",
    "\n",
    "The same cannot be said with regards to arrival delays.  The best R2 that could be achieved was 88.54% using a model with\n",
    "18 features.  While this is not bad, a 90% R2 would be prefered.  To make things worse, this model produced a R2 of 78.36% \n",
    "when used for arrival delays over 15 minutes.  Many models were tested but the 18 feature model produced the best R2.  It is\n",
    "unfortunate that it had the opposite effect when arrival delays of 15 minutes was used."
   ]
  },
  {
   "cell_type": "code",
   "execution_count": 85,
   "metadata": {},
   "outputs": [],
   "source": [
    "import pandas as pd\n",
    "import numpy as np\n",
    "import seaborn as sns\n",
    "import matplotlib.pyplot as plt\n",
    "%matplotlib inline\n",
    "\n",
    "import seaborn as sns\n",
    "\n",
    "import warnings\n",
    "warnings.simplefilter('ignore')\n",
    "\n",
    "# RNG used for seeding\n",
    "rng = int(np.random.randint(low=1, high=2000, size=1))"
   ]
  },
  {
   "cell_type": "code",
   "execution_count": 2,
   "metadata": {},
   "outputs": [],
   "source": [
    "# Read in first quarter dataset\n",
    "delays_df = pd.read_csv(\"Delay_first_quarter.csv\")"
   ]
  },
  {
   "cell_type": "code",
   "execution_count": 3,
   "metadata": {},
   "outputs": [],
   "source": [
    "delays_df = delays_df.fillna(0)"
   ]
  },
  {
   "cell_type": "code",
   "execution_count": 4,
   "metadata": {},
   "outputs": [],
   "source": [
    "# Create more dummy variables for categorical data:\n",
    "\n",
    "Weekday = {\n",
    "           \"Monday\": 1,\n",
    "           \"Tueday\": 2, \n",
    "           \"Wednesday\": 3, \n",
    "           \"Thursday\" : 4,\n",
    "           \"Friday\": 5,\n",
    "           \"Saturday\": 6,\n",
    "           \"Sunday\": 7\n",
    "          }\n",
    "\n",
    "Airline = {\n",
    "        \"UA\": 1,\n",
    "        \"AA\": 2,\n",
    "        \"9E\": 3,\n",
    "        \"B6\": 4,\n",
    "        \"EV\": 5,\n",
    "        \"F9\": 6,\n",
    "        \"G4\": 7,\n",
    "        \"HA\": 8,\n",
    "        \"MQ\": 9,\n",
    "        \"NK\": 10,\n",
    "        \"OH\": 11,\n",
    "        \"OO\": 12,\n",
    "        \"VX\": 13,\n",
    "        \"WN\": 14,\n",
    "        \"YV\": 15,\n",
    "        \"YX\": 16,\n",
    "        \"AS\": 17,\n",
    "        \"DL\": 18\n",
    "}"
   ]
  },
  {
   "cell_type": "code",
   "execution_count": 5,
   "metadata": {},
   "outputs": [],
   "source": [
    "delays_df['WEEKDAY_DUMMY'] = delays_df['WEEKDAY'].apply(  \\\n",
    "                            lambda x: next((y for z, y in Weekday.items() if x in z), 0))"
   ]
  },
  {
   "cell_type": "code",
   "execution_count": 6,
   "metadata": {},
   "outputs": [],
   "source": [
    "delays_df['AIRLINE_DUMMY'] = delays_df['OP_CARRIER'].apply(  \\\n",
    "                            lambda x: next((y for z, y in Airline.items() if x in z), 0))"
   ]
  },
  {
   "cell_type": "code",
   "execution_count": 7,
   "metadata": {},
   "outputs": [],
   "source": [
    "# Dummy variables for flights of east coast origin/destination \n",
    "# Dummy variables for flights of west coast origin/destination -> both fixed\n",
    "\n",
    "delays_df['EAST_COAST_ORIGIN'] = 1*np.ravel(delays_df[\"ORIGIN_LONGITUDE\"] >= -83)\n",
    "delays_df['EAST_COAST_DEST'] = 1*np.ravel(delays_df[\"DEST_LONGITUDE\"] >= -83)\n",
    "delays_df['WEST_COAST_ORIGIN'] = 1*np.ravel(delays_df[\"ORIGIN_LONGITUDE\"] <= -114)\n",
    "delays_df['WEST_COAST_DEST'] = 1*np.ravel(delays_df[\"DEST_LONGITUDE\"] <= -114)"
   ]
  },
  {
   "cell_type": "code",
   "execution_count": 8,
   "metadata": {},
   "outputs": [
    {
     "data": {
      "text/plain": [
       "Index(['FL_DATE', 'DAY', 'MONTH', 'WEEKDAY', 'OP_CARRIER', 'AIRLINE',\n",
       "       'OP_CARRIER_FL_NUM', 'ORIGIN', 'ORIGIN_AIRPORT', 'ORIGIN_CITY',\n",
       "       'ORIGIN_STATE', 'ORIGIN_LATITUDE', 'ORIGIN_LONGITUDE',\n",
       "       'EAST_COAST_ORIGIN', 'WEST_COAST_ORIGIN', 'CRS_DEP_TIME', 'DEP_TIME',\n",
       "       'DEPARTURE_TIME_OF_DAY', 'DEPARTURE_TIME_OF_DAY_DUMMY', 'DEP_DELAY',\n",
       "       'DEPARTURE_DELAY', 'DEPARTURE_DELAY_OVER_15_MINUTES',\n",
       "       'DEPARTURE_DELAY_OVER_30_MINUTES', 'DEPARTURE_DELAY_OVER_45_MINUTES',\n",
       "       'DEPARTURE_DELAY_OVER_60_MINUTES', 'TAXI_OUT', 'WHEELS_OFF', 'AIR_TIME',\n",
       "       'CRS_ELAPSED_TIME', 'ACTUAL_ELAPSED_TIME', 'DISTANCE', 'WHEELS_ON',\n",
       "       'TAXI_IN', 'DEST', 'DEST_AIRPORT', 'DEST_CITY', 'DEST_STATE',\n",
       "       'DEST_LATITUDE', 'DEST_LONGITUDE', 'EAST_COAST_DEST', 'WEST_COAST_DEST',\n",
       "       'CRS_ARR_TIME', 'ARR_TIME', 'ARR_DELAY', 'ARRIVAL_DELAY',\n",
       "       'ARRIVAL_DELAY_OVER_15_MINUTES', 'ARRIVAL_DELAY_OVER_30_MINUTES',\n",
       "       'ARRIVAL_DELAY_OVER_45_MINUTES', 'ARRIVAL_DELAY_OVER_60_MINUTES',\n",
       "       'ARRIVAL_DELAY_OVER_60_MINUTES.1', 'ARRIVAL_TIME_OF_DAY',\n",
       "       'ARRIVAL_TIME_OF_DAY_DUMMY', 'CANCELLED', 'DIVERTED', 'CARRIER_DELAY',\n",
       "       'WEATHER_DELAY', 'NAS_DELAY', 'SECURITY_DELAY', 'LATE_AIRCRAFT_DELAY',\n",
       "       'WEEKDAY_DUMMY', 'AIRLINE_DUMMY'],\n",
       "      dtype='object')"
      ]
     },
     "execution_count": 8,
     "metadata": {},
     "output_type": "execute_result"
    }
   ],
   "source": [
    "# Fix east/west coast\n",
    "delays_df.columns"
   ]
  },
  {
   "cell_type": "code",
   "execution_count": 9,
   "metadata": {},
   "outputs": [],
   "source": [
    "numerics = ['int16', 'int32', 'int64', 'float16', 'float32', 'float64']\n",
    "delays_df = delays_df.select_dtypes(include=numerics)"
   ]
  },
  {
   "cell_type": "code",
   "execution_count": 11,
   "metadata": {
    "scrolled": true
   },
   "outputs": [
    {
     "data": {
      "text/plain": [
       "Index(['DAY', 'MONTH', 'OP_CARRIER_FL_NUM', 'ORIGIN_LATITUDE',\n",
       "       'ORIGIN_LONGITUDE', 'EAST_COAST_ORIGIN', 'WEST_COAST_ORIGIN',\n",
       "       'CRS_DEP_TIME', 'DEP_TIME', 'DEPARTURE_TIME_OF_DAY_DUMMY', 'DEP_DELAY',\n",
       "       'DEPARTURE_DELAY', 'DEPARTURE_DELAY_OVER_15_MINUTES',\n",
       "       'DEPARTURE_DELAY_OVER_30_MINUTES', 'DEPARTURE_DELAY_OVER_45_MINUTES',\n",
       "       'DEPARTURE_DELAY_OVER_60_MINUTES', 'TAXI_OUT', 'WHEELS_OFF', 'AIR_TIME',\n",
       "       'CRS_ELAPSED_TIME', 'ACTUAL_ELAPSED_TIME', 'DISTANCE', 'WHEELS_ON',\n",
       "       'TAXI_IN', 'DEST_LATITUDE', 'DEST_LONGITUDE', 'EAST_COAST_DEST',\n",
       "       'WEST_COAST_DEST', 'CRS_ARR_TIME', 'ARR_TIME', 'ARR_DELAY',\n",
       "       'ARRIVAL_DELAY', 'ARRIVAL_DELAY_OVER_15_MINUTES',\n",
       "       'ARRIVAL_DELAY_OVER_30_MINUTES', 'ARRIVAL_DELAY_OVER_45_MINUTES',\n",
       "       'ARRIVAL_DELAY_OVER_60_MINUTES', 'ARRIVAL_DELAY_OVER_60_MINUTES.1',\n",
       "       'ARRIVAL_TIME_OF_DAY_DUMMY', 'CANCELLED', 'DIVERTED', 'CARRIER_DELAY',\n",
       "       'WEATHER_DELAY', 'NAS_DELAY', 'SECURITY_DELAY', 'LATE_AIRCRAFT_DELAY',\n",
       "       'WEEKDAY_DUMMY', 'AIRLINE_DUMMY'],\n",
       "      dtype='object')"
      ]
     },
     "execution_count": 11,
     "metadata": {},
     "output_type": "execute_result"
    }
   ],
   "source": [
    "delays_df.columns"
   ]
  },
  {
   "cell_type": "code",
   "execution_count": 30,
   "metadata": {},
   "outputs": [],
   "source": [
    "# Add a categorical dummy for departure delay\n",
    "delays_df['IS_DEPARTURE_DELAYED'] = np.ravel(delays_df[\"DEP_DELAY\"] < 0)"
   ]
  },
  {
   "cell_type": "code",
   "execution_count": 31,
   "metadata": {},
   "outputs": [
    {
     "name": "stdout",
     "output_type": "stream",
     "text": [
      "(1683475, 16) (1683475, 1)\n"
     ]
    }
   ],
   "source": [
    "# Departure delay logistic ML model -> 16 features\n",
    "\n",
    "X = delays_df[[\"DAY\", \"MONTH\", \"DEP_TIME\", \"DEPARTURE_TIME_OF_DAY_DUMMY\", \"WEEKDAY_DUMMY\", \"AIRLINE_DUMMY\", \\\n",
    "              \"EAST_COAST_ORIGIN\", \"WEST_COAST_ORIGIN\", \"OP_CARRIER_FL_NUM\", \"TAXI_OUT\", \"WHEELS_OFF\", \"CARRIER_DELAY\", \\\n",
    "       \"WEATHER_DELAY\", \"NAS_DELAY\", \"SECURITY_DELAY\", \"LATE_AIRCRAFT_DELAY\"]]\n",
    "\n",
    "\n",
    "y = delays_df[\"IS_DEPARTURE_DELAYED\"].values.reshape(-1, 1)\n",
    "print(X.shape, y.shape)"
   ]
  },
  {
   "cell_type": "code",
   "execution_count": 33,
   "metadata": {
    "scrolled": false
   },
   "outputs": [
    {
     "data": {
      "text/html": [
       "<div>\n",
       "<style scoped>\n",
       "    .dataframe tbody tr th:only-of-type {\n",
       "        vertical-align: middle;\n",
       "    }\n",
       "\n",
       "    .dataframe tbody tr th {\n",
       "        vertical-align: top;\n",
       "    }\n",
       "\n",
       "    .dataframe thead th {\n",
       "        text-align: right;\n",
       "    }\n",
       "</style>\n",
       "<table border=\"1\" class=\"dataframe\">\n",
       "  <thead>\n",
       "    <tr style=\"text-align: right;\">\n",
       "      <th></th>\n",
       "      <th>Test Statistic</th>\n",
       "      <th>0</th>\n",
       "      <th>1</th>\n",
       "      <th>2</th>\n",
       "      <th>3</th>\n",
       "      <th>4</th>\n",
       "      <th>5</th>\n",
       "      <th>6</th>\n",
       "      <th>7</th>\n",
       "      <th>8</th>\n",
       "      <th>9</th>\n",
       "      <th>10</th>\n",
       "      <th>11</th>\n",
       "      <th>12</th>\n",
       "      <th>13</th>\n",
       "      <th>14</th>\n",
       "      <th>15</th>\n",
       "    </tr>\n",
       "  </thead>\n",
       "  <tbody>\n",
       "    <tr>\n",
       "      <th>0</th>\n",
       "      <td>F</td>\n",
       "      <td>11869.371573</td>\n",
       "      <td>7.574547e+01</td>\n",
       "      <td>11971.215899</td>\n",
       "      <td>26413.427028</td>\n",
       "      <td>2.510707e+01</td>\n",
       "      <td>3291.657044</td>\n",
       "      <td>1.074975e+02</td>\n",
       "      <td>3.086042e+02</td>\n",
       "      <td>0.178121</td>\n",
       "      <td>1632.590007</td>\n",
       "      <td>10113.470897</td>\n",
       "      <td>43594.391263</td>\n",
       "      <td>5474.409782</td>\n",
       "      <td>30672.903311</td>\n",
       "      <td>4.841086e+02</td>\n",
       "      <td>95956.794844</td>\n",
       "    </tr>\n",
       "    <tr>\n",
       "      <th>1</th>\n",
       "      <td>p-value</td>\n",
       "      <td>0.000000</td>\n",
       "      <td>3.229733e-18</td>\n",
       "      <td>0.000000</td>\n",
       "      <td>0.000000</td>\n",
       "      <td>5.423911e-07</td>\n",
       "      <td>0.000000</td>\n",
       "      <td>3.469488e-25</td>\n",
       "      <td>4.461418e-69</td>\n",
       "      <td>0.672993</td>\n",
       "      <td>0.000000</td>\n",
       "      <td>0.000000</td>\n",
       "      <td>0.000000</td>\n",
       "      <td>0.000000</td>\n",
       "      <td>0.000000</td>\n",
       "      <td>2.824269e-107</td>\n",
       "      <td>0.000000</td>\n",
       "    </tr>\n",
       "  </tbody>\n",
       "</table>\n",
       "</div>"
      ],
      "text/plain": [
       "  Test Statistic             0             1             2             3  \\\n",
       "0              F  11869.371573  7.574547e+01  11971.215899  26413.427028   \n",
       "1        p-value      0.000000  3.229733e-18      0.000000      0.000000   \n",
       "\n",
       "              4            5             6             7         8  \\\n",
       "0  2.510707e+01  3291.657044  1.074975e+02  3.086042e+02  0.178121   \n",
       "1  5.423911e-07     0.000000  3.469488e-25  4.461418e-69  0.672993   \n",
       "\n",
       "             9            10            11           12            13  \\\n",
       "0  1632.590007  10113.470897  43594.391263  5474.409782  30672.903311   \n",
       "1     0.000000      0.000000      0.000000     0.000000      0.000000   \n",
       "\n",
       "              14            15  \n",
       "0   4.841086e+02  95956.794844  \n",
       "1  2.824269e-107      0.000000  "
      ]
     },
     "execution_count": 33,
     "metadata": {},
     "output_type": "execute_result"
    }
   ],
   "source": [
    "# Test for significant variables in proposed model\n",
    "# Flight number is not significant.\n",
    "\n",
    "from sklearn.feature_selection import f_regression\n",
    "pd.set_option('display.max_columns', None)\n",
    "\n",
    "delays_sig = f_regression(X, y)\n",
    "delays_sig = pd.DataFrame(delays_sig)\n",
    "info_column = pd.DataFrame({\"Test Statistic\": [\"F\", \"p-value\"]})\n",
    "delays_sig = info_column.join(delays_sig)\n",
    "delays_sig"
   ]
  },
  {
   "cell_type": "code",
   "execution_count": 38,
   "metadata": {},
   "outputs": [
    {
     "name": "stdout",
     "output_type": "stream",
     "text": [
      "(1683475, 15) (1683475, 1)\n"
     ]
    }
   ],
   "source": [
    "# Departure delay logistic ML model -> 15 features without flight number variable\n",
    "\n",
    "X = delays_df[[\"DAY\", \"MONTH\", \"DEP_TIME\", \"DEPARTURE_TIME_OF_DAY_DUMMY\", \"WEEKDAY_DUMMY\", \"AIRLINE_DUMMY\", \\\n",
    "              \"EAST_COAST_ORIGIN\", \"WEST_COAST_ORIGIN\", \"TAXI_OUT\", \"WHEELS_OFF\", \"CARRIER_DELAY\", \\\n",
    "       \"WEATHER_DELAY\", \"NAS_DELAY\", \"SECURITY_DELAY\", \"LATE_AIRCRAFT_DELAY\"]]\n",
    "y = delays_df[\"IS_DEPARTURE_DELAYED\"].values.reshape(-1, 1)\n",
    "print(X.shape, y.shape)"
   ]
  },
  {
   "cell_type": "code",
   "execution_count": 39,
   "metadata": {
    "scrolled": true
   },
   "outputs": [
    {
     "data": {
      "text/html": [
       "<div>\n",
       "<style scoped>\n",
       "    .dataframe tbody tr th:only-of-type {\n",
       "        vertical-align: middle;\n",
       "    }\n",
       "\n",
       "    .dataframe tbody tr th {\n",
       "        vertical-align: top;\n",
       "    }\n",
       "\n",
       "    .dataframe thead th {\n",
       "        text-align: right;\n",
       "    }\n",
       "</style>\n",
       "<table border=\"1\" class=\"dataframe\">\n",
       "  <thead>\n",
       "    <tr style=\"text-align: right;\">\n",
       "      <th></th>\n",
       "      <th>Test Statistic</th>\n",
       "      <th>0</th>\n",
       "      <th>1</th>\n",
       "      <th>2</th>\n",
       "      <th>3</th>\n",
       "      <th>4</th>\n",
       "      <th>5</th>\n",
       "      <th>6</th>\n",
       "      <th>7</th>\n",
       "      <th>8</th>\n",
       "      <th>9</th>\n",
       "      <th>10</th>\n",
       "      <th>11</th>\n",
       "      <th>12</th>\n",
       "      <th>13</th>\n",
       "      <th>14</th>\n",
       "    </tr>\n",
       "  </thead>\n",
       "  <tbody>\n",
       "    <tr>\n",
       "      <th>0</th>\n",
       "      <td>F</td>\n",
       "      <td>11869.371573</td>\n",
       "      <td>7.574547e+01</td>\n",
       "      <td>11971.215899</td>\n",
       "      <td>26413.427028</td>\n",
       "      <td>2.510707e+01</td>\n",
       "      <td>3291.657044</td>\n",
       "      <td>1.074975e+02</td>\n",
       "      <td>3.086042e+02</td>\n",
       "      <td>1632.590007</td>\n",
       "      <td>10113.470897</td>\n",
       "      <td>43594.391263</td>\n",
       "      <td>5474.409782</td>\n",
       "      <td>30672.903311</td>\n",
       "      <td>4.841086e+02</td>\n",
       "      <td>95956.794844</td>\n",
       "    </tr>\n",
       "    <tr>\n",
       "      <th>1</th>\n",
       "      <td>p-value</td>\n",
       "      <td>0.000000</td>\n",
       "      <td>3.229733e-18</td>\n",
       "      <td>0.000000</td>\n",
       "      <td>0.000000</td>\n",
       "      <td>5.423911e-07</td>\n",
       "      <td>0.000000</td>\n",
       "      <td>3.469488e-25</td>\n",
       "      <td>4.461418e-69</td>\n",
       "      <td>0.000000</td>\n",
       "      <td>0.000000</td>\n",
       "      <td>0.000000</td>\n",
       "      <td>0.000000</td>\n",
       "      <td>0.000000</td>\n",
       "      <td>2.824269e-107</td>\n",
       "      <td>0.000000</td>\n",
       "    </tr>\n",
       "  </tbody>\n",
       "</table>\n",
       "</div>"
      ],
      "text/plain": [
       "  Test Statistic             0             1             2             3  \\\n",
       "0              F  11869.371573  7.574547e+01  11971.215899  26413.427028   \n",
       "1        p-value      0.000000  3.229733e-18      0.000000      0.000000   \n",
       "\n",
       "              4            5             6             7            8  \\\n",
       "0  2.510707e+01  3291.657044  1.074975e+02  3.086042e+02  1632.590007   \n",
       "1  5.423911e-07     0.000000  3.469488e-25  4.461418e-69     0.000000   \n",
       "\n",
       "              9            10           11            12             13  \\\n",
       "0  10113.470897  43594.391263  5474.409782  30672.903311   4.841086e+02   \n",
       "1      0.000000      0.000000     0.000000      0.000000  2.824269e-107   \n",
       "\n",
       "             14  \n",
       "0  95956.794844  \n",
       "1      0.000000  "
      ]
     },
     "execution_count": 39,
     "metadata": {},
     "output_type": "execute_result"
    }
   ],
   "source": [
    "# Test for significant variables in proposed model\n",
    "# All variables are significant\n",
    "\n",
    "from sklearn.feature_selection import f_regression\n",
    "pd.set_option('display.max_columns', None)\n",
    "\n",
    "delays_sig = f_regression(X, y)\n",
    "delays_sig = pd.DataFrame(delays_sig)\n",
    "info_column = pd.DataFrame({\"Test Statistic\": [\"F\", \"p-value\"]})\n",
    "delays_sig = info_column.join(delays_sig)\n",
    "delays_sig"
   ]
  },
  {
   "cell_type": "code",
   "execution_count": 114,
   "metadata": {},
   "outputs": [],
   "source": [
    "# Split for train and test datasets\n",
    "from sklearn.model_selection import train_test_split\n",
    "\n",
    "X_train, X_test, y_train, y_test = train_test_split(X, y, random_state=rng, stratify=y)"
   ]
  },
  {
   "cell_type": "code",
   "execution_count": 115,
   "metadata": {
    "scrolled": true
   },
   "outputs": [
    {
     "data": {
      "text/plain": [
       "LogisticRegression(C=1.0, class_weight=None, dual=False, fit_intercept=True,\n",
       "                   intercept_scaling=1, l1_ratio=None, max_iter=100,\n",
       "                   multi_class='warn', n_jobs=None, penalty='l2',\n",
       "                   random_state=None, solver='warn', tol=0.0001, verbose=0,\n",
       "                   warm_start=False)"
      ]
     },
     "execution_count": 115,
     "metadata": {},
     "output_type": "execute_result"
    }
   ],
   "source": [
    "# Create the logistic regression model\n",
    "from sklearn.linear_model import LogisticRegression\n",
    "classifier = LogisticRegression(penalty='l2')\n",
    "classifier"
   ]
  },
  {
   "cell_type": "code",
   "execution_count": 116,
   "metadata": {
    "scrolled": true
   },
   "outputs": [
    {
     "data": {
      "text/plain": [
       "LogisticRegression(C=1.0, class_weight=None, dual=False, fit_intercept=True,\n",
       "                   intercept_scaling=1, l1_ratio=None, max_iter=100,\n",
       "                   multi_class='warn', n_jobs=None, penalty='l2',\n",
       "                   random_state=None, solver='warn', tol=0.0001, verbose=0,\n",
       "                   warm_start=False)"
      ]
     },
     "execution_count": 116,
     "metadata": {},
     "output_type": "execute_result"
    }
   ],
   "source": [
    "# Fit the model\n",
    "classifier.fit(X_train, y_train)"
   ]
  },
  {
   "cell_type": "code",
   "execution_count": 118,
   "metadata": {
    "scrolled": false
   },
   "outputs": [
    {
     "name": "stdout",
     "output_type": "stream",
     "text": [
      "Training Data R2: 76.14%\n",
      "Testing Data R2: 76.13%\n"
     ]
    }
   ],
   "source": [
    "# Check the model R2 scores\n",
    "\n",
    "print(f\"Training Data R2: {round((classifier.score(X_train, y_train)), 4)*100}%\")\n",
    "print(f\"Testing Data R2: {round((classifier.score(X_test, y_test)), 4)*100}%\")"
   ]
  },
  {
   "cell_type": "code",
   "execution_count": 119,
   "metadata": {},
   "outputs": [
    {
     "name": "stdout",
     "output_type": "stream",
     "text": [
      "Prediction Accurany: 76.0%\n"
     ]
    }
   ],
   "source": [
    "# Make predictions and check against test data\n",
    "# y_test was coming back as a 2D array which had to be changed into a 1D array for anaylsis\n",
    "# Overall not terrible but we can do better.\n",
    "\n",
    "predictions = classifier.predict(X_test)\n",
    "predict_df = pd.DataFrame({\"Predictions\": predictions[:100], \"Test\": ((np.transpose(y_test)).flatten())[:100]})\n",
    "predict_df[\"Different\"] = 1*np.ravel(predict_df[\"Predictions\"] == predict_df[\"Test\"])\n",
    "correct = predict_df.loc[predict_df[\"Different\"]==1,:]\n",
    "print(f\"Prediction Accurany: {round(((len(correct))/len(predict_df)), 4)*100}%\")"
   ]
  },
  {
   "cell_type": "code",
   "execution_count": 120,
   "metadata": {
    "scrolled": true
   },
   "outputs": [
    {
     "data": {
      "text/plain": [
       "LogisticRegression(C=1.0, class_weight=None, dual=False, fit_intercept=True,\n",
       "                   intercept_scaling=1, l1_ratio=None, max_iter=100,\n",
       "                   multi_class='warn', n_jobs=None, penalty='l1',\n",
       "                   random_state=None, solver='warn', tol=0.0001, verbose=0,\n",
       "                   warm_start=False)"
      ]
     },
     "execution_count": 120,
     "metadata": {},
     "output_type": "execute_result"
    }
   ],
   "source": [
    "# Create the logistic regression model -> try lasso instead of ridge\n",
    "from sklearn.linear_model import LogisticRegression\n",
    "classifier = LogisticRegression(penalty='l1')\n",
    "classifier"
   ]
  },
  {
   "cell_type": "code",
   "execution_count": 121,
   "metadata": {},
   "outputs": [
    {
     "data": {
      "text/plain": [
       "LogisticRegression(C=1.0, class_weight=None, dual=False, fit_intercept=True,\n",
       "                   intercept_scaling=1, l1_ratio=None, max_iter=100,\n",
       "                   multi_class='warn', n_jobs=None, penalty='l1',\n",
       "                   random_state=None, solver='warn', tol=0.0001, verbose=0,\n",
       "                   warm_start=False)"
      ]
     },
     "execution_count": 121,
     "metadata": {},
     "output_type": "execute_result"
    }
   ],
   "source": [
    "# Fit the model\n",
    "classifier.fit(X_train, y_train)"
   ]
  },
  {
   "cell_type": "code",
   "execution_count": 122,
   "metadata": {},
   "outputs": [
    {
     "name": "stdout",
     "output_type": "stream",
     "text": [
      "Training Data R2: 76.17%\n",
      "Testing Data R2: 76.16000000000001%\n"
     ]
    }
   ],
   "source": [
    "# Check the model R2 scores\n",
    "\n",
    "print(f\"Training Data R2: {round((classifier.score(X_train, y_train)), 4)*100}%\")\n",
    "print(f\"Testing Data R2: {round((classifier.score(X_test, y_test)), 4)*100}%\")"
   ]
  },
  {
   "cell_type": "code",
   "execution_count": 123,
   "metadata": {},
   "outputs": [
    {
     "name": "stdout",
     "output_type": "stream",
     "text": [
      "Prediction Accurany: 76.0%\n"
     ]
    }
   ],
   "source": [
    "# Make predictions and check against test data\n",
    "# y_test was coming back as a 2D array which had to be changed into a 1D array for anaylsis\n",
    "# Using lasso over ridge did not change the result.  Time to simplify the model.\n",
    "\n",
    "predictions = classifier.predict(X_test)\n",
    "predict_df = pd.DataFrame({\"Predictions\": predictions[:100], \"Test\": ((np.transpose(y_test)).flatten())[:100]})\n",
    "predict_df[\"Different\"] = 1*np.ravel(predict_df[\"Predictions\"] == predict_df[\"Test\"])\n",
    "correct = predict_df.loc[predict_df[\"Different\"]==1,:]\n",
    "print(f\"Prediction Accurany: {round(((len(correct))/len(predict_df)), 4)*100}%\")"
   ]
  },
  {
   "cell_type": "code",
   "execution_count": 124,
   "metadata": {},
   "outputs": [
    {
     "name": "stdout",
     "output_type": "stream",
     "text": [
      "(1683475, 10) (1683475, 1)\n"
     ]
    }
   ],
   "source": [
    "# Simpler departure delay logistic ML model -> 10 features\n",
    "\n",
    "X = delays_df[[\"DAY\", \"MONTH\", \"DEP_TIME\", \"DEPARTURE_TIME_OF_DAY_DUMMY\", \"WEEKDAY_DUMMY\", \"AIRLINE_DUMMY\", \\\n",
    "               \"OP_CARRIER_FL_NUM\", \"TAXI_OUT\", \"WHEELS_OFF\",\"WEATHER_DELAY\",]]\n",
    "\n",
    "\n",
    "y = delays_df[\"IS_DEPARTURE_DELAYED\"].values.reshape(-1, 1)\n",
    "print(X.shape, y.shape)"
   ]
  },
  {
   "cell_type": "code",
   "execution_count": 125,
   "metadata": {
    "scrolled": true
   },
   "outputs": [
    {
     "data": {
      "text/html": [
       "<div>\n",
       "<style scoped>\n",
       "    .dataframe tbody tr th:only-of-type {\n",
       "        vertical-align: middle;\n",
       "    }\n",
       "\n",
       "    .dataframe tbody tr th {\n",
       "        vertical-align: top;\n",
       "    }\n",
       "\n",
       "    .dataframe thead th {\n",
       "        text-align: right;\n",
       "    }\n",
       "</style>\n",
       "<table border=\"1\" class=\"dataframe\">\n",
       "  <thead>\n",
       "    <tr style=\"text-align: right;\">\n",
       "      <th></th>\n",
       "      <th>Test Statistic</th>\n",
       "      <th>0</th>\n",
       "      <th>1</th>\n",
       "      <th>2</th>\n",
       "      <th>3</th>\n",
       "      <th>4</th>\n",
       "      <th>5</th>\n",
       "      <th>6</th>\n",
       "      <th>7</th>\n",
       "      <th>8</th>\n",
       "      <th>9</th>\n",
       "    </tr>\n",
       "  </thead>\n",
       "  <tbody>\n",
       "    <tr>\n",
       "      <th>0</th>\n",
       "      <td>F</td>\n",
       "      <td>11869.371573</td>\n",
       "      <td>7.574547e+01</td>\n",
       "      <td>11971.215899</td>\n",
       "      <td>26413.427028</td>\n",
       "      <td>2.510707e+01</td>\n",
       "      <td>3291.657044</td>\n",
       "      <td>0.178121</td>\n",
       "      <td>1632.590007</td>\n",
       "      <td>10113.470897</td>\n",
       "      <td>5474.409782</td>\n",
       "    </tr>\n",
       "    <tr>\n",
       "      <th>1</th>\n",
       "      <td>p-value</td>\n",
       "      <td>0.000000</td>\n",
       "      <td>3.229733e-18</td>\n",
       "      <td>0.000000</td>\n",
       "      <td>0.000000</td>\n",
       "      <td>5.423911e-07</td>\n",
       "      <td>0.000000</td>\n",
       "      <td>0.672993</td>\n",
       "      <td>0.000000</td>\n",
       "      <td>0.000000</td>\n",
       "      <td>0.000000</td>\n",
       "    </tr>\n",
       "  </tbody>\n",
       "</table>\n",
       "</div>"
      ],
      "text/plain": [
       "  Test Statistic             0             1             2             3  \\\n",
       "0              F  11869.371573  7.574547e+01  11971.215899  26413.427028   \n",
       "1        p-value      0.000000  3.229733e-18      0.000000      0.000000   \n",
       "\n",
       "              4            5         6            7             8            9  \n",
       "0  2.510707e+01  3291.657044  0.178121  1632.590007  10113.470897  5474.409782  \n",
       "1  5.423911e-07     0.000000  0.672993     0.000000      0.000000     0.000000  "
      ]
     },
     "execution_count": 125,
     "metadata": {},
     "output_type": "execute_result"
    }
   ],
   "source": [
    "# Test for significant variables in proposed model\n",
    "# All variables are significant\n",
    "\n",
    "from sklearn.feature_selection import f_regression\n",
    "pd.set_option('display.max_columns', None)\n",
    "\n",
    "delays_sig = f_regression(X, y)\n",
    "delays_sig = pd.DataFrame(delays_sig)\n",
    "info_column = pd.DataFrame({\"Test Statistic\": [\"F\", \"p-value\"]})\n",
    "delays_sig = info_column.join(delays_sig)\n",
    "delays_sig"
   ]
  },
  {
   "cell_type": "code",
   "execution_count": 170,
   "metadata": {
    "scrolled": true
   },
   "outputs": [
    {
     "data": {
      "text/plain": [
       "LogisticRegression(C=1.0, class_weight=None, dual=False, fit_intercept=True,\n",
       "                   intercept_scaling=1, l1_ratio=None, max_iter=100,\n",
       "                   multi_class='warn', n_jobs=None, penalty='l2',\n",
       "                   random_state=None, solver='warn', tol=0.0001, verbose=0,\n",
       "                   warm_start=False)"
      ]
     },
     "execution_count": 170,
     "metadata": {},
     "output_type": "execute_result"
    }
   ],
   "source": [
    "# Create the logistic regression model -> try lasso instead of ridge\n",
    "# Split for train and test datasets\n",
    "# Fit the model\n",
    "\n",
    "from sklearn.model_selection import train_test_split\n",
    "from sklearn.linear_model import LogisticRegression\n",
    "classifier.fit(X_train, y_train)\n",
    "X_train, X_test, y_train, y_test = train_test_split(X, y, random_state=rng, stratify=y)\n",
    "classifier = LogisticRegression(penalty='l2')\n",
    "classifier"
   ]
  },
  {
   "cell_type": "code",
   "execution_count": 172,
   "metadata": {
    "scrolled": true
   },
   "outputs": [
    {
     "name": "stdout",
     "output_type": "stream",
     "text": [
      "Training Data R2: 95.87%\n",
      "Testing Data R2: 95.86%\n"
     ]
    }
   ],
   "source": [
    "# Fit the model & check the model R2 scores\n",
    "\n",
    "classifier.fit(X_train, y_train)\n",
    "print(f\"Training Data R2: {round((classifier.score(X_train, y_train)), 4)*100}%\")\n",
    "print(f\"Testing Data R2: {round((classifier.score(X_test, y_test)), 4)*100}%\")"
   ]
  },
  {
   "cell_type": "code",
   "execution_count": 173,
   "metadata": {},
   "outputs": [
    {
     "name": "stdout",
     "output_type": "stream",
     "text": [
      "Prediction Accurany: 96.0%\n"
     ]
    }
   ],
   "source": [
    "# Simplifying produced much better results.\n",
    "\n",
    "predictions = classifier.predict(X_test)\n",
    "predict_df = pd.DataFrame({\"Predictions\": predictions[:100], \"Test\": ((np.transpose(y_test)).flatten())[:100]})\n",
    "predict_df[\"Different\"] = 1*np.ravel(predict_df[\"Predictions\"] == predict_df[\"Test\"])\n",
    "correct = predict_df.loc[predict_df[\"Different\"]==1,:]\n",
    "print(f\"Prediction Accurany: {round(((len(correct))/len(predict_df)), 4)*100}%\")"
   ]
  },
  {
   "cell_type": "code",
   "execution_count": 174,
   "metadata": {},
   "outputs": [
    {
     "name": "stdout",
     "output_type": "stream",
     "text": [
      "(1683475, 10) (1683475, 1)\n"
     ]
    }
   ],
   "source": [
    "# Simpler departure delay logistic ML model -> 10 features\n",
    "# This uses departure delays over 15 minutes for y\n",
    "\n",
    "X = delays_df[[\"DAY\", \"MONTH\", \"DEP_TIME\", \"DEPARTURE_TIME_OF_DAY_DUMMY\", \"WEEKDAY_DUMMY\", \"AIRLINE_DUMMY\", \\\n",
    "               \"OP_CARRIER_FL_NUM\", \"TAXI_OUT\", \"WHEELS_OFF\",\"WEATHER_DELAY\",]]\n",
    "\n",
    "\n",
    "y = delays_df[\"DEPARTURE_DELAY_OVER_15_MINUTES\"].values.reshape(-1, 1)\n",
    "print(X.shape, y.shape)"
   ]
  },
  {
   "cell_type": "code",
   "execution_count": 175,
   "metadata": {
    "scrolled": true
   },
   "outputs": [
    {
     "data": {
      "text/html": [
       "<div>\n",
       "<style scoped>\n",
       "    .dataframe tbody tr th:only-of-type {\n",
       "        vertical-align: middle;\n",
       "    }\n",
       "\n",
       "    .dataframe tbody tr th {\n",
       "        vertical-align: top;\n",
       "    }\n",
       "\n",
       "    .dataframe thead th {\n",
       "        text-align: right;\n",
       "    }\n",
       "</style>\n",
       "<table border=\"1\" class=\"dataframe\">\n",
       "  <thead>\n",
       "    <tr style=\"text-align: right;\">\n",
       "      <th></th>\n",
       "      <th>Test Statistic</th>\n",
       "      <th>0</th>\n",
       "      <th>1</th>\n",
       "      <th>2</th>\n",
       "      <th>3</th>\n",
       "      <th>4</th>\n",
       "      <th>5</th>\n",
       "      <th>6</th>\n",
       "      <th>7</th>\n",
       "      <th>8</th>\n",
       "      <th>9</th>\n",
       "    </tr>\n",
       "  </thead>\n",
       "  <tbody>\n",
       "    <tr>\n",
       "      <th>0</th>\n",
       "      <td>F</td>\n",
       "      <td>3.002312e+02</td>\n",
       "      <td>5.017404e+02</td>\n",
       "      <td>5.691862e+02</td>\n",
       "      <td>9.212482e+02</td>\n",
       "      <td>10.553183</td>\n",
       "      <td>4.159330e+02</td>\n",
       "      <td>9.421250e+01</td>\n",
       "      <td>1.874690e+02</td>\n",
       "      <td>5.709858e+02</td>\n",
       "      <td>3.691300e+01</td>\n",
       "    </tr>\n",
       "    <tr>\n",
       "      <th>1</th>\n",
       "      <td>p-value</td>\n",
       "      <td>2.973395e-67</td>\n",
       "      <td>4.126607e-111</td>\n",
       "      <td>8.857314e-126</td>\n",
       "      <td>2.676752e-202</td>\n",
       "      <td>0.001160</td>\n",
       "      <td>1.922637e-92</td>\n",
       "      <td>2.837863e-22</td>\n",
       "      <td>1.140498e-42</td>\n",
       "      <td>3.597254e-126</td>\n",
       "      <td>1.235462e-09</td>\n",
       "    </tr>\n",
       "  </tbody>\n",
       "</table>\n",
       "</div>"
      ],
      "text/plain": [
       "  Test Statistic             0              1              2              3  \\\n",
       "0              F  3.002312e+02   5.017404e+02   5.691862e+02   9.212482e+02   \n",
       "1        p-value  2.973395e-67  4.126607e-111  8.857314e-126  2.676752e-202   \n",
       "\n",
       "           4             5             6             7              8  \\\n",
       "0  10.553183  4.159330e+02  9.421250e+01  1.874690e+02   5.709858e+02   \n",
       "1   0.001160  1.922637e-92  2.837863e-22  1.140498e-42  3.597254e-126   \n",
       "\n",
       "              9  \n",
       "0  3.691300e+01  \n",
       "1  1.235462e-09  "
      ]
     },
     "execution_count": 175,
     "metadata": {},
     "output_type": "execute_result"
    }
   ],
   "source": [
    "# Test for significant variables in proposed model\n",
    "# All variables are significant\n",
    "\n",
    "from sklearn.feature_selection import f_regression\n",
    "pd.set_option('display.max_columns', None)\n",
    "\n",
    "delays_sig = f_regression(X, y)\n",
    "delays_sig = pd.DataFrame(delays_sig)\n",
    "info_column = pd.DataFrame({\"Test Statistic\": [\"F\", \"p-value\"]})\n",
    "delays_sig = info_column.join(delays_sig)\n",
    "delays_sig"
   ]
  },
  {
   "cell_type": "code",
   "execution_count": 176,
   "metadata": {
    "scrolled": true
   },
   "outputs": [
    {
     "data": {
      "text/plain": [
       "LogisticRegression(C=1.0, class_weight=None, dual=False, fit_intercept=True,\n",
       "                   intercept_scaling=1, l1_ratio=None, max_iter=100,\n",
       "                   multi_class='warn', n_jobs=None, penalty='l2',\n",
       "                   random_state=None, solver='warn', tol=0.0001, verbose=0,\n",
       "                   warm_start=False)"
      ]
     },
     "execution_count": 176,
     "metadata": {},
     "output_type": "execute_result"
    }
   ],
   "source": [
    "# Create the logistic regression model -> try lasso instead of ridge\n",
    "# Split for train and test datasets\n",
    "# Fit the model\n",
    "\n",
    "from sklearn.model_selection import train_test_split\n",
    "from sklearn.linear_model import LogisticRegression\n",
    "classifier.fit(X_train, y_train)\n",
    "X_train, X_test, y_train, y_test = train_test_split(X, y, random_state=rng, stratify=y)\n",
    "classifier = LogisticRegression(penalty='l2')\n",
    "classifier"
   ]
  },
  {
   "cell_type": "code",
   "execution_count": 177,
   "metadata": {},
   "outputs": [
    {
     "name": "stdout",
     "output_type": "stream",
     "text": [
      "Training Data R2: 99.0%\n",
      "Testing Data R2: 99.0%\n"
     ]
    }
   ],
   "source": [
    "# Fit the model & check the model R2 scores\n",
    "\n",
    "classifier.fit(X_train, y_train)\n",
    "print(f\"Training Data R2: {round((classifier.score(X_train, y_train)), 4)*100}%\")\n",
    "print(f\"Testing Data R2: {round((classifier.score(X_test, y_test)), 4)*100}%\")"
   ]
  },
  {
   "cell_type": "code",
   "execution_count": 178,
   "metadata": {
    "scrolled": true
   },
   "outputs": [
    {
     "name": "stdout",
     "output_type": "stream",
     "text": [
      "Prediction Accurany: 96.0%\n"
     ]
    }
   ],
   "source": [
    "# Even better results for departures over 15 minutes.\n",
    "\n",
    "predictions = classifier.predict(X_test)\n",
    "predict_df = pd.DataFrame({\"Predictions\": predictions[:100], \"Test\": ((np.transpose(y_test)).flatten())[:100]})\n",
    "predict_df[\"Different\"] = 1*np.ravel(predict_df[\"Predictions\"] == predict_df[\"Test\"])\n",
    "correct = predict_df.loc[predict_df[\"Different\"]==1,:]\n",
    "print(f\"Prediction Accurany: {round(((len(correct))/len(predict_df)), 4)*100}%\")"
   ]
  },
  {
   "cell_type": "code",
   "execution_count": 179,
   "metadata": {
    "scrolled": true
   },
   "outputs": [
    {
     "name": "stdout",
     "output_type": "stream",
     "text": [
      "(1683475, 22) (1683475, 1)\n"
     ]
    }
   ],
   "source": [
    "# Arrival delay logistic ML model -> 22 features\n",
    "\n",
    "X = delays_df[[\"DAY\", \"MONTH\", \"DEP_TIME\", \"DEPARTURE_DELAY\", \"DEPARTURE_TIME_OF_DAY_DUMMY\", \\\n",
    "              \"OP_CARRIER_FL_NUM\", \"TAXI_OUT\", \"WHEELS_OFF\", \"AIR_TIME\", \"WHEELS_ON\", \"TAXI_IN\", \\\n",
    "              \"ARRIVAL_TIME_OF_DAY_DUMMY\", \"CARRIER_DELAY\", \"DISTANCE\", \"WEEKDAY_DUMMY\", \"AIRLINE_DUMMY\", \\\n",
    "       \"WEATHER_DELAY\", \"NAS_DELAY\", \"SECURITY_DELAY\", \"LATE_AIRCRAFT_DELAY\",\"EAST_COAST_ORIGIN\", \"WEST_COAST_ORIGIN\"]]\n",
    "y = delays_df[\"ARRIVAL_DELAY\"].values.reshape(-1, 1)\n",
    "print(X.shape, y.shape)"
   ]
  },
  {
   "cell_type": "code",
   "execution_count": 180,
   "metadata": {
    "scrolled": true
   },
   "outputs": [
    {
     "data": {
      "text/html": [
       "<div>\n",
       "<style scoped>\n",
       "    .dataframe tbody tr th:only-of-type {\n",
       "        vertical-align: middle;\n",
       "    }\n",
       "\n",
       "    .dataframe tbody tr th {\n",
       "        vertical-align: top;\n",
       "    }\n",
       "\n",
       "    .dataframe thead th {\n",
       "        text-align: right;\n",
       "    }\n",
       "</style>\n",
       "<table border=\"1\" class=\"dataframe\">\n",
       "  <thead>\n",
       "    <tr style=\"text-align: right;\">\n",
       "      <th></th>\n",
       "      <th>Test Statistic</th>\n",
       "      <th>0</th>\n",
       "      <th>1</th>\n",
       "      <th>2</th>\n",
       "      <th>3</th>\n",
       "      <th>4</th>\n",
       "      <th>5</th>\n",
       "      <th>6</th>\n",
       "      <th>7</th>\n",
       "      <th>8</th>\n",
       "      <th>9</th>\n",
       "      <th>10</th>\n",
       "      <th>11</th>\n",
       "      <th>12</th>\n",
       "      <th>13</th>\n",
       "      <th>14</th>\n",
       "      <th>15</th>\n",
       "      <th>16</th>\n",
       "      <th>17</th>\n",
       "      <th>18</th>\n",
       "      <th>19</th>\n",
       "      <th>20</th>\n",
       "      <th>21</th>\n",
       "    </tr>\n",
       "  </thead>\n",
       "  <tbody>\n",
       "    <tr>\n",
       "      <th>0</th>\n",
       "      <td>F</td>\n",
       "      <td>3193.528491</td>\n",
       "      <td>2.369648e+02</td>\n",
       "      <td>40550.192998</td>\n",
       "      <td>769455.694014</td>\n",
       "      <td>8602.841077</td>\n",
       "      <td>2084.429974</td>\n",
       "      <td>191508.925232</td>\n",
       "      <td>43997.948904</td>\n",
       "      <td>3612.654486</td>\n",
       "      <td>22453.786242</td>\n",
       "      <td>35658.509333</td>\n",
       "      <td>9813.590464</td>\n",
       "      <td>60852.660928</td>\n",
       "      <td>2.486169e+02</td>\n",
       "      <td>3.930774e+02</td>\n",
       "      <td>6.537229e+01</td>\n",
       "      <td>7571.812112</td>\n",
       "      <td>105310.596669</td>\n",
       "      <td>6.672119e+02</td>\n",
       "      <td>135148.41474</td>\n",
       "      <td>16.657393</td>\n",
       "      <td>1.111714e+02</td>\n",
       "    </tr>\n",
       "    <tr>\n",
       "      <th>1</th>\n",
       "      <td>p-value</td>\n",
       "      <td>0.000000</td>\n",
       "      <td>1.820468e-53</td>\n",
       "      <td>0.000000</td>\n",
       "      <td>0.000000</td>\n",
       "      <td>0.000000</td>\n",
       "      <td>0.000000</td>\n",
       "      <td>0.000000</td>\n",
       "      <td>0.000000</td>\n",
       "      <td>0.000000</td>\n",
       "      <td>0.000000</td>\n",
       "      <td>0.000000</td>\n",
       "      <td>0.000000</td>\n",
       "      <td>0.000000</td>\n",
       "      <td>5.247910e-56</td>\n",
       "      <td>1.811151e-87</td>\n",
       "      <td>6.204522e-16</td>\n",
       "      <td>0.000000</td>\n",
       "      <td>0.000000</td>\n",
       "      <td>4.312451e-147</td>\n",
       "      <td>0.00000</td>\n",
       "      <td>0.000045</td>\n",
       "      <td>5.437112e-26</td>\n",
       "    </tr>\n",
       "  </tbody>\n",
       "</table>\n",
       "</div>"
      ],
      "text/plain": [
       "  Test Statistic            0             1             2              3  \\\n",
       "0              F  3193.528491  2.369648e+02  40550.192998  769455.694014   \n",
       "1        p-value     0.000000  1.820468e-53      0.000000       0.000000   \n",
       "\n",
       "             4            5              6             7            8  \\\n",
       "0  8602.841077  2084.429974  191508.925232  43997.948904  3612.654486   \n",
       "1     0.000000     0.000000       0.000000      0.000000     0.000000   \n",
       "\n",
       "              9            10           11            12            13  \\\n",
       "0  22453.786242  35658.509333  9813.590464  60852.660928  2.486169e+02   \n",
       "1      0.000000      0.000000     0.000000      0.000000  5.247910e-56   \n",
       "\n",
       "             14            15           16             17             18  \\\n",
       "0  3.930774e+02  6.537229e+01  7571.812112  105310.596669   6.672119e+02   \n",
       "1  1.811151e-87  6.204522e-16     0.000000       0.000000  4.312451e-147   \n",
       "\n",
       "             19         20            21  \n",
       "0  135148.41474  16.657393  1.111714e+02  \n",
       "1       0.00000   0.000045  5.437112e-26  "
      ]
     },
     "execution_count": 180,
     "metadata": {},
     "output_type": "execute_result"
    }
   ],
   "source": [
    "# Test for significant variables in proposed model\n",
    "# All variables are significant\n",
    "\n",
    "from sklearn.feature_selection import f_regression\n",
    "pd.set_option('display.max_columns', None)\n",
    "\n",
    "delays_sig = f_regression(X, y)\n",
    "delays_sig = pd.DataFrame(delays_sig)\n",
    "info_column = pd.DataFrame({\"Test Statistic\": [\"F\", \"p-value\"]})\n",
    "delays_sig = info_column.join(delays_sig)\n",
    "delays_sig"
   ]
  },
  {
   "cell_type": "code",
   "execution_count": 181,
   "metadata": {
    "scrolled": true
   },
   "outputs": [
    {
     "data": {
      "text/plain": [
       "LogisticRegression(C=1.0, class_weight=None, dual=False, fit_intercept=True,\n",
       "                   intercept_scaling=1, l1_ratio=None, max_iter=100,\n",
       "                   multi_class='warn', n_jobs=None, penalty='l2',\n",
       "                   random_state=None, solver='warn', tol=0.0001, verbose=0,\n",
       "                   warm_start=False)"
      ]
     },
     "execution_count": 181,
     "metadata": {},
     "output_type": "execute_result"
    }
   ],
   "source": [
    "# Create the logistic regression model -> try lasso instead of ridge\n",
    "# Split for train and test datasets\n",
    "# Fit the model\n",
    "\n",
    "from sklearn.model_selection import train_test_split\n",
    "from sklearn.linear_model import LogisticRegression\n",
    "classifier.fit(X_train, y_train)\n",
    "X_train, X_test, y_train, y_test = train_test_split(X, y, random_state=rng, stratify=y)\n",
    "classifier = LogisticRegression(penalty='l2')\n",
    "classifier"
   ]
  },
  {
   "cell_type": "code",
   "execution_count": 182,
   "metadata": {},
   "outputs": [
    {
     "name": "stdout",
     "output_type": "stream",
     "text": [
      "Training Data R2: 86.64%\n",
      "Testing Data R2: 86.6%\n"
     ]
    }
   ],
   "source": [
    "# Fit the model & check the model R2 scores\n",
    "\n",
    "classifier.fit(X_train, y_train)\n",
    "print(f\"Training Data R2: {round((classifier.score(X_train, y_train)), 4)*100}%\")\n",
    "print(f\"Testing Data R2: {round((classifier.score(X_test, y_test)), 4)*100}%\")"
   ]
  },
  {
   "cell_type": "code",
   "execution_count": 183,
   "metadata": {
    "scrolled": true
   },
   "outputs": [
    {
     "name": "stdout",
     "output_type": "stream",
     "text": [
      "Prediction Accurany: 92.0%\n"
     ]
    }
   ],
   "source": [
    "# Not bad.  Much better than the original 15 feature model for departure delays.  Simplifying should help.\n",
    "\n",
    "predictions = classifier.predict(X_test)\n",
    "predict_df = pd.DataFrame({\"Predictions\": predictions[:100], \"Test\": ((np.transpose(y_test)).flatten())[:100]})\n",
    "predict_df[\"Different\"] = 1*np.ravel(predict_df[\"Predictions\"] == predict_df[\"Test\"])\n",
    "correct = predict_df.loc[predict_df[\"Different\"]==1,:]\n",
    "print(f\"Prediction Accurany: {round(((len(correct))/len(predict_df)), 4)*100}%\")"
   ]
  },
  {
   "cell_type": "code",
   "execution_count": 186,
   "metadata": {
    "scrolled": true
   },
   "outputs": [
    {
     "name": "stdout",
     "output_type": "stream",
     "text": [
      "(1683475, 8) (1683475, 1)\n"
     ]
    }
   ],
   "source": [
    "# Simple arrival delay logistic ML model -> 8 features\n",
    "\n",
    "X = delays_df[[\"DAY\", \"MONTH\", \"DEP_TIME\", \"DEP_DELAY\", \"AIR_TIME\", \"WEEKDAY_DUMMY\", \"AIRLINE_DUMMY\", \\\n",
    "       \"WEATHER_DELAY\"]]\n",
    "y = delays_df[\"ARRIVAL_DELAY\"].values.reshape(-1, 1)\n",
    "print(X.shape, y.shape)"
   ]
  },
  {
   "cell_type": "code",
   "execution_count": 187,
   "metadata": {
    "scrolled": true
   },
   "outputs": [
    {
     "data": {
      "text/html": [
       "<div>\n",
       "<style scoped>\n",
       "    .dataframe tbody tr th:only-of-type {\n",
       "        vertical-align: middle;\n",
       "    }\n",
       "\n",
       "    .dataframe tbody tr th {\n",
       "        vertical-align: top;\n",
       "    }\n",
       "\n",
       "    .dataframe thead th {\n",
       "        text-align: right;\n",
       "    }\n",
       "</style>\n",
       "<table border=\"1\" class=\"dataframe\">\n",
       "  <thead>\n",
       "    <tr style=\"text-align: right;\">\n",
       "      <th></th>\n",
       "      <th>Test Statistic</th>\n",
       "      <th>0</th>\n",
       "      <th>1</th>\n",
       "      <th>2</th>\n",
       "      <th>3</th>\n",
       "      <th>4</th>\n",
       "      <th>5</th>\n",
       "      <th>6</th>\n",
       "      <th>7</th>\n",
       "    </tr>\n",
       "  </thead>\n",
       "  <tbody>\n",
       "    <tr>\n",
       "      <th>0</th>\n",
       "      <td>F</td>\n",
       "      <td>3193.528491</td>\n",
       "      <td>2.369648e+02</td>\n",
       "      <td>40550.192998</td>\n",
       "      <td>311052.234297</td>\n",
       "      <td>3612.654486</td>\n",
       "      <td>3.930774e+02</td>\n",
       "      <td>6.537229e+01</td>\n",
       "      <td>7571.812112</td>\n",
       "    </tr>\n",
       "    <tr>\n",
       "      <th>1</th>\n",
       "      <td>p-value</td>\n",
       "      <td>0.000000</td>\n",
       "      <td>1.820468e-53</td>\n",
       "      <td>0.000000</td>\n",
       "      <td>0.000000</td>\n",
       "      <td>0.000000</td>\n",
       "      <td>1.811151e-87</td>\n",
       "      <td>6.204522e-16</td>\n",
       "      <td>0.000000</td>\n",
       "    </tr>\n",
       "  </tbody>\n",
       "</table>\n",
       "</div>"
      ],
      "text/plain": [
       "  Test Statistic            0             1             2              3  \\\n",
       "0              F  3193.528491  2.369648e+02  40550.192998  311052.234297   \n",
       "1        p-value     0.000000  1.820468e-53      0.000000       0.000000   \n",
       "\n",
       "             4             5             6            7  \n",
       "0  3612.654486  3.930774e+02  6.537229e+01  7571.812112  \n",
       "1     0.000000  1.811151e-87  6.204522e-16     0.000000  "
      ]
     },
     "execution_count": 187,
     "metadata": {},
     "output_type": "execute_result"
    }
   ],
   "source": [
    "# Test for significant variables in proposed model\n",
    "# All variables are significant\n",
    "\n",
    "from sklearn.feature_selection import f_regression\n",
    "pd.set_option('display.max_columns', None)\n",
    "\n",
    "delays_sig = f_regression(X, y)\n",
    "delays_sig = pd.DataFrame(delays_sig)\n",
    "info_column = pd.DataFrame({\"Test Statistic\": [\"F\", \"p-value\"]})\n",
    "delays_sig = info_column.join(delays_sig)\n",
    "delays_sig"
   ]
  },
  {
   "cell_type": "code",
   "execution_count": 188,
   "metadata": {
    "scrolled": true
   },
   "outputs": [
    {
     "data": {
      "text/plain": [
       "LogisticRegression(C=1.0, class_weight=None, dual=False, fit_intercept=True,\n",
       "                   intercept_scaling=1, l1_ratio=None, max_iter=100,\n",
       "                   multi_class='warn', n_jobs=None, penalty='l2',\n",
       "                   random_state=None, solver='warn', tol=0.0001, verbose=0,\n",
       "                   warm_start=False)"
      ]
     },
     "execution_count": 188,
     "metadata": {},
     "output_type": "execute_result"
    }
   ],
   "source": [
    "# Create the logistic regression model -> try lasso instead of ridge\n",
    "# Split for train and test datasets\n",
    "# Fit the model\n",
    "\n",
    "from sklearn.model_selection import train_test_split\n",
    "from sklearn.linear_model import LogisticRegression\n",
    "classifier.fit(X_train, y_train)\n",
    "X_train, X_test, y_train, y_test = train_test_split(X, y, random_state=rng, stratify=y)\n",
    "classifier = LogisticRegression(penalty='l2')\n",
    "classifier"
   ]
  },
  {
   "cell_type": "code",
   "execution_count": 189,
   "metadata": {
    "scrolled": true
   },
   "outputs": [
    {
     "name": "stdout",
     "output_type": "stream",
     "text": [
      "Training Data R2: 83.57%\n",
      "Testing Data R2: 83.48%\n"
     ]
    }
   ],
   "source": [
    "# Fit the model & check the model R2 scores\n",
    "\n",
    "classifier.fit(X_train, y_train)\n",
    "print(f\"Training Data R2: {round((classifier.score(X_train, y_train)), 4)*100}%\")\n",
    "print(f\"Testing Data R2: {round((classifier.score(X_test, y_test)), 4)*100}%\")"
   ]
  },
  {
   "cell_type": "code",
   "execution_count": 190,
   "metadata": {},
   "outputs": [
    {
     "name": "stdout",
     "output_type": "stream",
     "text": [
      "Prediction Accurany: 89.0%\n"
     ]
    }
   ],
   "source": [
    "# Better results but still not over 90%.\n",
    "\n",
    "predictions = classifier.predict(X_test)\n",
    "predict_df = pd.DataFrame({\"Predictions\": predictions[:100], \"Test\": ((np.transpose(y_test)).flatten())[:100]})\n",
    "predict_df[\"Different\"] = 1*np.ravel(predict_df[\"Predictions\"] == predict_df[\"Test\"])\n",
    "correct = predict_df.loc[predict_df[\"Different\"]==1,:]\n",
    "print(f\"Prediction Accurany: {round(((len(correct))/len(predict_df)), 4)*100}%\")"
   ]
  },
  {
   "cell_type": "code",
   "execution_count": 191,
   "metadata": {},
   "outputs": [
    {
     "name": "stdout",
     "output_type": "stream",
     "text": [
      "(1683475, 8) (1683475, 1)\n"
     ]
    }
   ],
   "source": [
    "# Simple arrival delay logistic ML model -> 8 features\n",
    "# Try delays over 15 minutes.\n",
    "\n",
    "X = delays_df[[\"DAY\", \"MONTH\", \"DEP_TIME\", \"DEP_DELAY\", \"AIR_TIME\", \"WEEKDAY_DUMMY\", \"AIRLINE_DUMMY\", \\\n",
    "       \"WEATHER_DELAY\"]]\n",
    "y = delays_df[\"ARRIVAL_DELAY_OVER_15_MINUTES\"].values.reshape(-1, 1)\n",
    "print(X.shape, y.shape)"
   ]
  },
  {
   "cell_type": "code",
   "execution_count": 192,
   "metadata": {
    "scrolled": true
   },
   "outputs": [
    {
     "data": {
      "text/html": [
       "<div>\n",
       "<style scoped>\n",
       "    .dataframe tbody tr th:only-of-type {\n",
       "        vertical-align: middle;\n",
       "    }\n",
       "\n",
       "    .dataframe tbody tr th {\n",
       "        vertical-align: top;\n",
       "    }\n",
       "\n",
       "    .dataframe thead th {\n",
       "        text-align: right;\n",
       "    }\n",
       "</style>\n",
       "<table border=\"1\" class=\"dataframe\">\n",
       "  <thead>\n",
       "    <tr style=\"text-align: right;\">\n",
       "      <th></th>\n",
       "      <th>Test Statistic</th>\n",
       "      <th>0</th>\n",
       "      <th>1</th>\n",
       "      <th>2</th>\n",
       "      <th>3</th>\n",
       "      <th>4</th>\n",
       "      <th>5</th>\n",
       "      <th>6</th>\n",
       "      <th>7</th>\n",
       "    </tr>\n",
       "  </thead>\n",
       "  <tbody>\n",
       "    <tr>\n",
       "      <th>0</th>\n",
       "      <td>F</td>\n",
       "      <td>3861.090768</td>\n",
       "      <td>3308.693263</td>\n",
       "      <td>5.388344e+02</td>\n",
       "      <td>70059.393367</td>\n",
       "      <td>14644.128026</td>\n",
       "      <td>2.294719e+02</td>\n",
       "      <td>6.178351e+02</td>\n",
       "      <td>1.390975e+03</td>\n",
       "    </tr>\n",
       "    <tr>\n",
       "      <th>1</th>\n",
       "      <td>p-value</td>\n",
       "      <td>0.000000</td>\n",
       "      <td>0.000000</td>\n",
       "      <td>3.530173e-119</td>\n",
       "      <td>0.000000</td>\n",
       "      <td>0.000000</td>\n",
       "      <td>7.833001e-52</td>\n",
       "      <td>2.340468e-136</td>\n",
       "      <td>2.560997e-304</td>\n",
       "    </tr>\n",
       "  </tbody>\n",
       "</table>\n",
       "</div>"
      ],
      "text/plain": [
       "  Test Statistic            0            1              2             3  \\\n",
       "0              F  3861.090768  3308.693263   5.388344e+02  70059.393367   \n",
       "1        p-value     0.000000     0.000000  3.530173e-119      0.000000   \n",
       "\n",
       "              4             5              6              7  \n",
       "0  14644.128026  2.294719e+02   6.178351e+02   1.390975e+03  \n",
       "1      0.000000  7.833001e-52  2.340468e-136  2.560997e-304  "
      ]
     },
     "execution_count": 192,
     "metadata": {},
     "output_type": "execute_result"
    }
   ],
   "source": [
    "# Test for significant variables in proposed model\n",
    "# All variables are significant.\n",
    "\n",
    "from sklearn.feature_selection import f_regression\n",
    "pd.set_option('display.max_columns', None)\n",
    "\n",
    "delays_sig = f_regression(X, y)\n",
    "delays_sig = pd.DataFrame(delays_sig)\n",
    "info_column = pd.DataFrame({\"Test Statistic\": [\"F\", \"p-value\"]})\n",
    "delays_sig = info_column.join(delays_sig)\n",
    "delays_sig"
   ]
  },
  {
   "cell_type": "code",
   "execution_count": null,
   "metadata": {},
   "outputs": [],
   "source": [
    "# Create the logistic regression model -> try lasso instead of ridge\n",
    "# Split for train and test datasets\n",
    "# Fit the model\n",
    "\n",
    "from sklearn.model_selection import train_test_split\n",
    "from sklearn.linear_model import LogisticRegression\n",
    "classifier.fit(X_train, y_train)\n",
    "X_train, X_test, y_train, y_test = train_test_split(X, y, random_state=rng, stratify=y)\n",
    "classifier = LogisticRegression(penalty='l2')\n",
    "classifier"
   ]
  },
  {
   "cell_type": "code",
   "execution_count": 195,
   "metadata": {
    "scrolled": true
   },
   "outputs": [
    {
     "name": "stdout",
     "output_type": "stream",
     "text": [
      "Training Data R2: 74.37%\n",
      "Testing Data R2: 74.31%\n"
     ]
    }
   ],
   "source": [
    "# Fit the model & check the model R2 scores\n",
    "\n",
    "classifier.fit(X_train, y_train)\n",
    "print(f\"Training Data R2: {round((classifier.score(X_train, y_train)), 4)*100}%\")\n",
    "print(f\"Testing Data R2: {round((classifier.score(X_test, y_test)), 4)*100}%\")"
   ]
  },
  {
   "cell_type": "code",
   "execution_count": 196,
   "metadata": {
    "scrolled": true
   },
   "outputs": [
    {
     "name": "stdout",
     "output_type": "stream",
     "text": [
      "Prediction Accurany: 80.0%\n"
     ]
    }
   ],
   "source": [
    "# Model is not good for arrival delays over 15 minutes.\n",
    "\n",
    "predictions = classifier.predict(X_test)\n",
    "predict_df = pd.DataFrame({\"Predictions\": predictions[:100], \"Test\": ((np.transpose(y_test)).flatten())[:100]})\n",
    "predict_df[\"Different\"] = 1*np.ravel(predict_df[\"Predictions\"] == predict_df[\"Test\"])\n",
    "correct = predict_df.loc[predict_df[\"Different\"]==1,:]\n",
    "print(f\"Prediction Accurany: {round(((len(correct))/len(predict_df)), 4)*100}%\")"
   ]
  },
  {
   "cell_type": "code",
   "execution_count": 221,
   "metadata": {},
   "outputs": [
    {
     "name": "stdout",
     "output_type": "stream",
     "text": [
      "(1683475, 18) (1683475, 1)\n"
     ]
    }
   ],
   "source": [
    "# Final simple arrival delay logistic ML model -> 18 features\n",
    "# Find an arrival model that matches the departure R2 scores.\n",
    "\n",
    "X = delays_df[[\"DAY\", \"MONTH\", \"DEP_TIME\", \"DEP_DELAY\", \"DEPARTURE_TIME_OF_DAY_DUMMY\", \\\n",
    "              \"OP_CARRIER_FL_NUM\", \"TAXI_OUT\", \"AIR_TIME\", \"TAXI_IN\", \\\n",
    "              \"ARRIVAL_TIME_OF_DAY_DUMMY\", \"CARRIER_DELAY\", \"DISTANCE\", \"WEEKDAY_DUMMY\", \"AIRLINE_DUMMY\", \\\n",
    "       \"WEATHER_DELAY\", \"NAS_DELAY\", \"SECURITY_DELAY\", \"LATE_AIRCRAFT_DELAY\",]]\n",
    "y = delays_df[\"ARRIVAL_DELAY\"].values.reshape(-1, 1)\n",
    "print(X.shape, y.shape)"
   ]
  },
  {
   "cell_type": "code",
   "execution_count": 222,
   "metadata": {
    "scrolled": true
   },
   "outputs": [
    {
     "data": {
      "text/html": [
       "<div>\n",
       "<style scoped>\n",
       "    .dataframe tbody tr th:only-of-type {\n",
       "        vertical-align: middle;\n",
       "    }\n",
       "\n",
       "    .dataframe tbody tr th {\n",
       "        vertical-align: top;\n",
       "    }\n",
       "\n",
       "    .dataframe thead th {\n",
       "        text-align: right;\n",
       "    }\n",
       "</style>\n",
       "<table border=\"1\" class=\"dataframe\">\n",
       "  <thead>\n",
       "    <tr style=\"text-align: right;\">\n",
       "      <th></th>\n",
       "      <th>Test Statistic</th>\n",
       "      <th>0</th>\n",
       "      <th>1</th>\n",
       "      <th>2</th>\n",
       "      <th>3</th>\n",
       "      <th>4</th>\n",
       "      <th>5</th>\n",
       "      <th>6</th>\n",
       "      <th>7</th>\n",
       "      <th>8</th>\n",
       "      <th>9</th>\n",
       "      <th>10</th>\n",
       "      <th>11</th>\n",
       "      <th>12</th>\n",
       "      <th>13</th>\n",
       "      <th>14</th>\n",
       "      <th>15</th>\n",
       "      <th>16</th>\n",
       "      <th>17</th>\n",
       "    </tr>\n",
       "  </thead>\n",
       "  <tbody>\n",
       "    <tr>\n",
       "      <th>0</th>\n",
       "      <td>F</td>\n",
       "      <td>3193.528491</td>\n",
       "      <td>2.369648e+02</td>\n",
       "      <td>40550.192998</td>\n",
       "      <td>311052.234297</td>\n",
       "      <td>8602.841077</td>\n",
       "      <td>2084.429974</td>\n",
       "      <td>191508.925232</td>\n",
       "      <td>3612.654486</td>\n",
       "      <td>35658.509333</td>\n",
       "      <td>9813.590464</td>\n",
       "      <td>60852.660928</td>\n",
       "      <td>2.486169e+02</td>\n",
       "      <td>3.930774e+02</td>\n",
       "      <td>6.537229e+01</td>\n",
       "      <td>7571.812112</td>\n",
       "      <td>105310.596669</td>\n",
       "      <td>6.672119e+02</td>\n",
       "      <td>135148.41474</td>\n",
       "    </tr>\n",
       "    <tr>\n",
       "      <th>1</th>\n",
       "      <td>p-value</td>\n",
       "      <td>0.000000</td>\n",
       "      <td>1.820468e-53</td>\n",
       "      <td>0.000000</td>\n",
       "      <td>0.000000</td>\n",
       "      <td>0.000000</td>\n",
       "      <td>0.000000</td>\n",
       "      <td>0.000000</td>\n",
       "      <td>0.000000</td>\n",
       "      <td>0.000000</td>\n",
       "      <td>0.000000</td>\n",
       "      <td>0.000000</td>\n",
       "      <td>5.247910e-56</td>\n",
       "      <td>1.811151e-87</td>\n",
       "      <td>6.204522e-16</td>\n",
       "      <td>0.000000</td>\n",
       "      <td>0.000000</td>\n",
       "      <td>4.312451e-147</td>\n",
       "      <td>0.00000</td>\n",
       "    </tr>\n",
       "  </tbody>\n",
       "</table>\n",
       "</div>"
      ],
      "text/plain": [
       "  Test Statistic            0             1             2              3  \\\n",
       "0              F  3193.528491  2.369648e+02  40550.192998  311052.234297   \n",
       "1        p-value     0.000000  1.820468e-53      0.000000       0.000000   \n",
       "\n",
       "             4            5              6            7             8  \\\n",
       "0  8602.841077  2084.429974  191508.925232  3612.654486  35658.509333   \n",
       "1     0.000000     0.000000       0.000000     0.000000      0.000000   \n",
       "\n",
       "             9            10            11            12            13  \\\n",
       "0  9813.590464  60852.660928  2.486169e+02  3.930774e+02  6.537229e+01   \n",
       "1     0.000000      0.000000  5.247910e-56  1.811151e-87  6.204522e-16   \n",
       "\n",
       "            14             15             16            17  \n",
       "0  7571.812112  105310.596669   6.672119e+02  135148.41474  \n",
       "1     0.000000       0.000000  4.312451e-147       0.00000  "
      ]
     },
     "execution_count": 222,
     "metadata": {},
     "output_type": "execute_result"
    }
   ],
   "source": [
    "# Test for significant variables in proposed model\n",
    "# All variables are significant.\n",
    "\n",
    "from sklearn.feature_selection import f_regression\n",
    "pd.set_option('display.max_columns', None)\n",
    "\n",
    "delays_sig = f_regression(X, y)\n",
    "delays_sig = pd.DataFrame(delays_sig)\n",
    "info_column = pd.DataFrame({\"Test Statistic\": [\"F\", \"p-value\"]})\n",
    "delays_sig = info_column.join(delays_sig)\n",
    "delays_sig"
   ]
  },
  {
   "cell_type": "code",
   "execution_count": 223,
   "metadata": {},
   "outputs": [
    {
     "data": {
      "text/plain": [
       "LogisticRegression(C=1.0, class_weight=None, dual=False, fit_intercept=True,\n",
       "                   intercept_scaling=1, l1_ratio=None, max_iter=100,\n",
       "                   multi_class='warn', n_jobs=None, penalty='l2',\n",
       "                   random_state=None, solver='warn', tol=0.0001, verbose=0,\n",
       "                   warm_start=False)"
      ]
     },
     "execution_count": 223,
     "metadata": {},
     "output_type": "execute_result"
    }
   ],
   "source": [
    "# Create the logistic regression model -> try lasso instead of ridge\n",
    "# Split for train and test datasets\n",
    "# Fit the model\n",
    "\n",
    "from sklearn.model_selection import train_test_split\n",
    "from sklearn.linear_model import LogisticRegression\n",
    "classifier.fit(X_train, y_train)\n",
    "X_train, X_test, y_train, y_test = train_test_split(X, y, random_state=rng, stratify=y)\n",
    "classifier = LogisticRegression(penalty='l2')\n",
    "classifier"
   ]
  },
  {
   "cell_type": "code",
   "execution_count": 224,
   "metadata": {
    "scrolled": true
   },
   "outputs": [
    {
     "name": "stdout",
     "output_type": "stream",
     "text": [
      "Training Data R2: 88.58%\n",
      "Testing Data R2: 88.53999999999999%\n"
     ]
    }
   ],
   "source": [
    "# Fit the model & check the model R2 scores\n",
    "\n",
    "classifier.fit(X_train, y_train)\n",
    "print(f\"Training Data R2: {round((classifier.score(X_train, y_train)), 4)*100}%\")\n",
    "print(f\"Testing Data R2: {round((classifier.score(X_test, y_test)), 4)*100}%\")"
   ]
  },
  {
   "cell_type": "code",
   "execution_count": 212,
   "metadata": {},
   "outputs": [
    {
     "name": "stdout",
     "output_type": "stream",
     "text": [
      "Prediction Accurany: 95.0%\n"
     ]
    }
   ],
   "source": [
    "# After trying out many feature combinations, this one produces the best R2 scores.\n",
    "\n",
    "predictions = classifier.predict(X_test)\n",
    "predict_df = pd.DataFrame({\"Predictions\": predictions[:100], \"Test\": ((np.transpose(y_test)).flatten())[:100]})\n",
    "predict_df[\"Different\"] = 1*np.ravel(predict_df[\"Predictions\"] == predict_df[\"Test\"])\n",
    "correct = predict_df.loc[predict_df[\"Different\"]==1,:]\n",
    "print(f\"Prediction Accurany: {round(((len(correct))/len(predict_df)), 4)*100}%\")"
   ]
  },
  {
   "cell_type": "code",
   "execution_count": 225,
   "metadata": {},
   "outputs": [
    {
     "name": "stdout",
     "output_type": "stream",
     "text": [
      "(1683475, 18) (1683475, 1)\n"
     ]
    }
   ],
   "source": [
    "# Final simple arrival delay logistic ML model -> 18 features\n",
    "# Arrival delays of 15 minutes are used for y.\n",
    "\n",
    "X = delays_df[[\"DAY\", \"MONTH\", \"DEP_TIME\", \"DEP_DELAY\", \"DEPARTURE_TIME_OF_DAY_DUMMY\", \\\n",
    "              \"OP_CARRIER_FL_NUM\", \"TAXI_OUT\", \"AIR_TIME\", \"TAXI_IN\", \\\n",
    "              \"ARRIVAL_TIME_OF_DAY_DUMMY\", \"CARRIER_DELAY\", \"DISTANCE\", \"WEEKDAY_DUMMY\", \"AIRLINE_DUMMY\", \\\n",
    "       \"WEATHER_DELAY\", \"NAS_DELAY\", \"SECURITY_DELAY\", \"LATE_AIRCRAFT_DELAY\",]]\n",
    "y = delays_df[\"ARRIVAL_DELAY_OVER_15_MINUTES\"].values.reshape(-1, 1)\n",
    "print(X.shape, y.shape)"
   ]
  },
  {
   "cell_type": "code",
   "execution_count": 226,
   "metadata": {},
   "outputs": [
    {
     "data": {
      "text/html": [
       "<div>\n",
       "<style scoped>\n",
       "    .dataframe tbody tr th:only-of-type {\n",
       "        vertical-align: middle;\n",
       "    }\n",
       "\n",
       "    .dataframe tbody tr th {\n",
       "        vertical-align: top;\n",
       "    }\n",
       "\n",
       "    .dataframe thead th {\n",
       "        text-align: right;\n",
       "    }\n",
       "</style>\n",
       "<table border=\"1\" class=\"dataframe\">\n",
       "  <thead>\n",
       "    <tr style=\"text-align: right;\">\n",
       "      <th></th>\n",
       "      <th>Test Statistic</th>\n",
       "      <th>0</th>\n",
       "      <th>1</th>\n",
       "      <th>2</th>\n",
       "      <th>3</th>\n",
       "      <th>4</th>\n",
       "      <th>5</th>\n",
       "      <th>6</th>\n",
       "      <th>7</th>\n",
       "      <th>8</th>\n",
       "      <th>9</th>\n",
       "      <th>10</th>\n",
       "      <th>11</th>\n",
       "      <th>12</th>\n",
       "      <th>13</th>\n",
       "      <th>14</th>\n",
       "      <th>15</th>\n",
       "      <th>16</th>\n",
       "      <th>17</th>\n",
       "    </tr>\n",
       "  </thead>\n",
       "  <tbody>\n",
       "    <tr>\n",
       "      <th>0</th>\n",
       "      <td>F</td>\n",
       "      <td>3861.090768</td>\n",
       "      <td>3308.693263</td>\n",
       "      <td>5.388344e+02</td>\n",
       "      <td>70059.393367</td>\n",
       "      <td>2046.853302</td>\n",
       "      <td>3079.679044</td>\n",
       "      <td>49600.332554</td>\n",
       "      <td>14644.128026</td>\n",
       "      <td>8653.753384</td>\n",
       "      <td>1.316441e+03</td>\n",
       "      <td>10898.595508</td>\n",
       "      <td>19095.709664</td>\n",
       "      <td>2.294719e+02</td>\n",
       "      <td>6.178351e+02</td>\n",
       "      <td>1.390975e+03</td>\n",
       "      <td>18474.396958</td>\n",
       "      <td>1.229797e+02</td>\n",
       "      <td>23387.104217</td>\n",
       "    </tr>\n",
       "    <tr>\n",
       "      <th>1</th>\n",
       "      <td>p-value</td>\n",
       "      <td>0.000000</td>\n",
       "      <td>0.000000</td>\n",
       "      <td>3.530173e-119</td>\n",
       "      <td>0.000000</td>\n",
       "      <td>0.000000</td>\n",
       "      <td>0.000000</td>\n",
       "      <td>0.000000</td>\n",
       "      <td>0.000000</td>\n",
       "      <td>0.000000</td>\n",
       "      <td>3.910628e-288</td>\n",
       "      <td>0.000000</td>\n",
       "      <td>0.000000</td>\n",
       "      <td>7.833001e-52</td>\n",
       "      <td>2.340468e-136</td>\n",
       "      <td>2.560997e-304</td>\n",
       "      <td>0.000000</td>\n",
       "      <td>1.412076e-28</td>\n",
       "      <td>0.000000</td>\n",
       "    </tr>\n",
       "  </tbody>\n",
       "</table>\n",
       "</div>"
      ],
      "text/plain": [
       "  Test Statistic            0            1              2             3  \\\n",
       "0              F  3861.090768  3308.693263   5.388344e+02  70059.393367   \n",
       "1        p-value     0.000000     0.000000  3.530173e-119      0.000000   \n",
       "\n",
       "             4            5             6             7            8  \\\n",
       "0  2046.853302  3079.679044  49600.332554  14644.128026  8653.753384   \n",
       "1     0.000000     0.000000      0.000000      0.000000     0.000000   \n",
       "\n",
       "               9            10            11            12             13  \\\n",
       "0   1.316441e+03  10898.595508  19095.709664  2.294719e+02   6.178351e+02   \n",
       "1  3.910628e-288      0.000000      0.000000  7.833001e-52  2.340468e-136   \n",
       "\n",
       "              14            15            16            17  \n",
       "0   1.390975e+03  18474.396958  1.229797e+02  23387.104217  \n",
       "1  2.560997e-304      0.000000  1.412076e-28      0.000000  "
      ]
     },
     "execution_count": 226,
     "metadata": {},
     "output_type": "execute_result"
    }
   ],
   "source": [
    "# Test for significant variables in proposed model\n",
    "# All variables are significant.\n",
    "\n",
    "from sklearn.feature_selection import f_regression\n",
    "pd.set_option('display.max_columns', None)\n",
    "\n",
    "delays_sig = f_regression(X, y)\n",
    "delays_sig = pd.DataFrame(delays_sig)\n",
    "info_column = pd.DataFrame({\"Test Statistic\": [\"F\", \"p-value\"]})\n",
    "delays_sig = info_column.join(delays_sig)\n",
    "delays_sig"
   ]
  },
  {
   "cell_type": "code",
   "execution_count": 227,
   "metadata": {},
   "outputs": [
    {
     "data": {
      "text/plain": [
       "LogisticRegression(C=1.0, class_weight=None, dual=False, fit_intercept=True,\n",
       "                   intercept_scaling=1, l1_ratio=None, max_iter=100,\n",
       "                   multi_class='warn', n_jobs=None, penalty='l2',\n",
       "                   random_state=None, solver='warn', tol=0.0001, verbose=0,\n",
       "                   warm_start=False)"
      ]
     },
     "execution_count": 227,
     "metadata": {},
     "output_type": "execute_result"
    }
   ],
   "source": [
    "# Create the logistic regression model -> try lasso instead of ridge\n",
    "# Split for train and test datasets\n",
    "# Fit the model\n",
    "\n",
    "from sklearn.model_selection import train_test_split\n",
    "from sklearn.linear_model import LogisticRegression\n",
    "classifier.fit(X_train, y_train)\n",
    "X_train, X_test, y_train, y_test = train_test_split(X, y, random_state=rng, stratify=y)\n",
    "classifier = LogisticRegression(penalty='l2')\n",
    "classifier"
   ]
  },
  {
   "cell_type": "code",
   "execution_count": 228,
   "metadata": {},
   "outputs": [
    {
     "name": "stdout",
     "output_type": "stream",
     "text": [
      "Training Data R2: 78.39%\n",
      "Testing Data R2: 78.36%\n"
     ]
    }
   ],
   "source": [
    "# Fit the model & check the model R2 scores\n",
    "\n",
    "classifier.fit(X_train, y_train)\n",
    "print(f\"Training Data R2: {round((classifier.score(X_train, y_train)), 4)*100}%\")\n",
    "print(f\"Testing Data R2: {round((classifier.score(X_test, y_test)), 4)*100}%\")"
   ]
  },
  {
   "cell_type": "code",
   "execution_count": 229,
   "metadata": {},
   "outputs": [
    {
     "name": "stdout",
     "output_type": "stream",
     "text": [
      "Prediction Accurany: 82.0%\n"
     ]
    }
   ],
   "source": [
    "# While 78% is not bad, more models would need to be tested for arrival delays of 15 minutes+.\n",
    "\n",
    "predictions = classifier.predict(X_test)\n",
    "predict_df = pd.DataFrame({\"Predictions\": predictions[:100], \"Test\": ((np.transpose(y_test)).flatten())[:100]})\n",
    "predict_df[\"Different\"] = 1*np.ravel(predict_df[\"Predictions\"] == predict_df[\"Test\"])\n",
    "correct = predict_df.loc[predict_df[\"Different\"]==1,:]\n",
    "print(f\"Prediction Accurany: {round(((len(correct))/len(predict_df)), 4)*100}%\")"
   ]
  },
  {
   "cell_type": "code",
   "execution_count": 233,
   "metadata": {},
   "outputs": [
    {
     "data": {
      "text/html": [
       "<div>\n",
       "<style scoped>\n",
       "    .dataframe tbody tr th:only-of-type {\n",
       "        vertical-align: middle;\n",
       "    }\n",
       "\n",
       "    .dataframe tbody tr th {\n",
       "        vertical-align: top;\n",
       "    }\n",
       "\n",
       "    .dataframe thead th {\n",
       "        text-align: right;\n",
       "    }\n",
       "</style>\n",
       "<table border=\"1\" class=\"dataframe\">\n",
       "  <thead>\n",
       "    <tr style=\"text-align: right;\">\n",
       "      <th></th>\n",
       "      <th>Model Type</th>\n",
       "      <th>Features</th>\n",
       "      <th>Train Data R2</th>\n",
       "      <th>Test Data R2</th>\n",
       "    </tr>\n",
       "  </thead>\n",
       "  <tbody>\n",
       "    <tr>\n",
       "      <th>0</th>\n",
       "      <td>Depature Delay</td>\n",
       "      <td>15</td>\n",
       "      <td>0.7614</td>\n",
       "      <td>0.7613</td>\n",
       "    </tr>\n",
       "    <tr>\n",
       "      <th>1</th>\n",
       "      <td></td>\n",
       "      <td>10</td>\n",
       "      <td>0.9587</td>\n",
       "      <td>0.9586</td>\n",
       "    </tr>\n",
       "    <tr>\n",
       "      <th>2</th>\n",
       "      <td>Departure Delay &gt; 15 minutes</td>\n",
       "      <td>10</td>\n",
       "      <td>0.9900</td>\n",
       "      <td>0.9900</td>\n",
       "    </tr>\n",
       "    <tr>\n",
       "      <th>3</th>\n",
       "      <td>Arrival Delay</td>\n",
       "      <td>22</td>\n",
       "      <td>0.8664</td>\n",
       "      <td>0.8660</td>\n",
       "    </tr>\n",
       "    <tr>\n",
       "      <th>4</th>\n",
       "      <td></td>\n",
       "      <td>18</td>\n",
       "      <td>0.8858</td>\n",
       "      <td>0.8854</td>\n",
       "    </tr>\n",
       "    <tr>\n",
       "      <th>5</th>\n",
       "      <td>Arrival Delay &gt; 15 minutes</td>\n",
       "      <td>18</td>\n",
       "      <td>0.7839</td>\n",
       "      <td>0.7836</td>\n",
       "    </tr>\n",
       "  </tbody>\n",
       "</table>\n",
       "</div>"
      ],
      "text/plain": [
       "                     Model Type  Features  Train Data R2  Test Data R2\n",
       "0                Depature Delay        15         0.7614        0.7613\n",
       "1                                      10         0.9587        0.9586\n",
       "2  Departure Delay > 15 minutes        10         0.9900        0.9900\n",
       "3                 Arrival Delay        22         0.8664        0.8660\n",
       "4                                      18         0.8858        0.8854\n",
       "5    Arrival Delay > 15 minutes        18         0.7839        0.7836"
      ]
     },
     "execution_count": 233,
     "metadata": {},
     "output_type": "execute_result"
    }
   ],
   "source": [
    "Logistic_Regression_ML_outcomes = {\n",
    "    \"Model Type\": [\"Depature Delay\", \"\", \"Departure Delay > 15 minutes\", \\\n",
    "                   \"Arrival Delay\", \"\", \"Arrival Delay > 15 minutes\" \\\n",
    "                  ],\n",
    "    \n",
    "    \"Features\": [15, 10, 10, 22, 18, 18],\n",
    "    \n",
    "    \"Train Data R2\": [.7614, .9587, .99, .8664, .8858, .7839],\n",
    "    \n",
    "    \n",
    "    \"Test Data R2\": [.7613, .9586, .99, .866, .8854, .7836]\n",
    "    \n",
    "                }\n",
    "\n",
    "Logistic_Regression_ML_outcomes_df = pd.DataFrame(Logistic_Regression_ML_outcomes)\n",
    "Logistic_Regression_ML_outcomes_df"
   ]
  }
 ],
 "metadata": {
  "kernelspec": {
   "display_name": "Python 3",
   "language": "python",
   "name": "python3"
  },
  "language_info": {
   "codemirror_mode": {
    "name": "ipython",
    "version": 3
   },
   "file_extension": ".py",
   "mimetype": "text/x-python",
   "name": "python",
   "nbconvert_exporter": "python",
   "pygments_lexer": "ipython3",
   "version": "3.7.4"
  }
 },
 "nbformat": 4,
 "nbformat_minor": 2
}
