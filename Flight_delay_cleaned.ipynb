{
 "cells": [
  {
   "cell_type": "code",
   "execution_count": 2,
   "metadata": {},
   "outputs": [],
   "source": [
    "# Import dependencies\n",
    "\n",
    "import pandas as pd\n",
    "import numpy as np\n",
    "import seaborn as sns\n",
    "import matplotlib.pyplot as plt\n",
    "%matplotlib inline\n",
    "\n",
    "import warnings\n",
    "warnings.simplefilter('ignore')"
   ]
  },
  {
   "cell_type": "code",
   "execution_count": 3,
   "metadata": {},
   "outputs": [],
   "source": [
    "# The original flight delay data\n",
    "delays_df = pd.read_csv(\"US-Airlines-delayfile-2018.csv\")"
   ]
  },
  {
   "cell_type": "code",
   "execution_count": 17,
   "metadata": {},
   "outputs": [],
   "source": [
    "# Separate the data by quarters as the entire dataset will not process due to the dataframes hogging all available memory.\n",
    "\n",
    "delays_df = delays_df.loc[(delays_df[\"FL_DATE\"] <= \"2018-03-31\") & (delays_df[\"FL_DATE\"] >= \"2018-01-01\"),:]\n",
    "delays_df = delays_df.loc[(delays_df[\"FL_DATE\"] <= \"2018-06-30\") & (delays_df[\"FL_DATE\"] >= \"2018-04-01\"),:]\n",
    "delays_df = delays_df.loc[(delays_df[\"FL_DATE\"] <= \"2018-09-30\") & (delays_df[\"FL_DATE\"] >= \"2018-07-01\"),:]\n",
    "delays_df = delays_df.loc[(delays_df[\"FL_DATE\"] <= \"2018-12-31\") & (delays_df[\"FL_DATE\"] >= \"2018-10-01\"),:]"
   ]
  },
  {
   "cell_type": "code",
   "execution_count": 31,
   "metadata": {},
   "outputs": [],
   "source": [
    "# Airport names, city, state, country, latitude, longitude corresponding to DEST & ORIGIN code data\n",
    "airports = pd.read_csv(\"airports.csv\")"
   ]
  },
  {
   "cell_type": "code",
   "execution_count": 32,
   "metadata": {},
   "outputs": [],
   "source": [
    "# Airline names corresponding to OP_CARRIER code data\n",
    "airlines = pd.read_csv(\"Airline_codes.csv\")"
   ]
  },
  {
   "cell_type": "code",
   "execution_count": 33,
   "metadata": {},
   "outputs": [],
   "source": [
    "# Fill all NAN with zeros\n",
    "delays_df=delays_df.fillna(0)"
   ]
  },
  {
   "cell_type": "code",
   "execution_count": 34,
   "metadata": {},
   "outputs": [],
   "source": [
    "# Drop these two columns as they are mostly useless\n",
    "delays_df=delays_df.drop([\"CANCELLATION_CODE\", \"Unnamed: 27\"], axis=1)"
   ]
  },
  {
   "cell_type": "code",
   "execution_count": 35,
   "metadata": {},
   "outputs": [],
   "source": [
    "# Get Date and Month columns\n",
    "delays_df['FL_DATE'] = pd.to_datetime(delays_df['FL_DATE'])\n",
    "delays_df[\"DAY\"] = delays_df['FL_DATE'].dt.day\n",
    "delays_df[\"MONTH\"] = delays_df['FL_DATE'].dt.month"
   ]
  },
  {
   "cell_type": "code",
   "execution_count": 36,
   "metadata": {},
   "outputs": [],
   "source": [
    "# Merge the Carrier Codes for Airline Names\n",
    "delays_df=pd.merge(delays_df, airlines, on='OP_CARRIER')"
   ]
  },
  {
   "cell_type": "code",
   "execution_count": 37,
   "metadata": {},
   "outputs": [],
   "source": [
    "# Separate destination and origin flight names\n",
    "airports_dest = airports.copy()\n",
    "airports_origin = airports.copy()\n",
    "airports_dest = airports_dest.drop([ \\\n",
    "                \"ORIGIN\", \"ORIGIN_AIRPORT\",\"ORIGIN_CITY\", \"ORIGIN_STATE\", \"ORIGIN_LATITUDE\", \"ORIGIN_LONGITUDE\"], axis=1)\n",
    "\n",
    "\n",
    "\n",
    "airports_origin = airports_origin.drop([ \\\n",
    "                \"DEST\", \"DEST_AIRPORT\", \"DEST_CITY\", \"DEST_STATE\", \"DEST_LATITUDE\", \"DEST_LONGITUDE\"], axis=1)"
   ]
  },
  {
   "cell_type": "code",
   "execution_count": 38,
   "metadata": {},
   "outputs": [],
   "source": [
    "# Merge the airport variables using the Destination codes\n",
    "delays_df = pd.merge(delays_df, airports_dest, on=\"DEST\")"
   ]
  },
  {
   "cell_type": "code",
   "execution_count": 39,
   "metadata": {},
   "outputs": [],
   "source": [
    "# Merge the airport variables using the Origin codes\n",
    "delays_df = pd.merge(delays_df, airports_origin, on=\"ORIGIN\")"
   ]
  },
  {
   "cell_type": "code",
   "execution_count": 40,
   "metadata": {
    "scrolled": true
   },
   "outputs": [
    {
     "data": {
      "text/plain": [
       "1774250"
      ]
     },
     "execution_count": 40,
     "metadata": {},
     "output_type": "execute_result"
    }
   ],
   "source": [
    "# Check the length of the new dataframe\n",
    "# Some data gets lost through the two merges but it is only around 1%.\n",
    "len(delays_df)"
   ]
  },
  {
   "cell_type": "code",
   "execution_count": 41,
   "metadata": {},
   "outputs": [],
   "source": [
    "# Dummy variables for flights arrival delay\n",
    "delays_df['ARRIVAL_DELAY'] = 1*np.ravel(delays_df['ARR_DELAY']>0)"
   ]
  },
  {
   "cell_type": "code",
   "execution_count": 42,
   "metadata": {},
   "outputs": [],
   "source": [
    "# Dummy variables for flight departure delays\n",
    "delays_df['DEPARTURE_DELAY'] = 1*np.ravel(delays_df['DEP_DELAY']>0)"
   ]
  },
  {
   "cell_type": "code",
   "execution_count": 43,
   "metadata": {},
   "outputs": [],
   "source": [
    "# Get the day of the week into its own column\n",
    "from datetime import date\n",
    "\n",
    "delays_df['FL_DATE'] = pd.to_datetime(delays_df['FL_DATE'])\n",
    "delays_df[\"WEEKDAY\"] = delays_df[\"FL_DATE\"].dt.strftime('%A')"
   ]
  },
  {
   "cell_type": "code",
   "execution_count": 44,
   "metadata": {},
   "outputs": [],
   "source": [
    "# Dictionaries for time of d\n",
    "\n",
    "Time_of_day = {range(400, 1000): \"Morning\",\n",
    "               range(1000, 1800): 'Afternoon', \n",
    "               range(1800, 2400): 'Night', \n",
    "               range(0, 400) : 'Night'}\n",
    "\n",
    "Time_of_day_dummy = {range(400, 1000): 0,\n",
    "               range(1000, 1800): 1, \n",
    "               range(1800, 2400): 2, \n",
    "               range(0, 400) : 2}"
   ]
  },
  {
   "cell_type": "code",
   "execution_count": 45,
   "metadata": {},
   "outputs": [],
   "source": [
    "# Makes a departure time variable column using the time of day dictionary\n",
    "delays_df['DEPARTURE_TIME_OF_DAY'] = delays_df['CRS_DEP_TIME'].apply(  \\\n",
    "                            lambda x: next((y for z, y in Time_of_day.items() if x in z), 0))"
   ]
  },
  {
   "cell_type": "code",
   "execution_count": 46,
   "metadata": {},
   "outputs": [],
   "source": [
    "# Makes a departure dummy variable column using the time of day dictionary\n",
    "delays_df['DEPARTURE_TIME_OF_DAY_DUMMY'] = delays_df['CRS_DEP_TIME'].apply(  \\\n",
    "                            lambda x: next((y for z, y in Time_of_day_dummy.items() if x in z), 0))"
   ]
  },
  {
   "cell_type": "code",
   "execution_count": 47,
   "metadata": {},
   "outputs": [],
   "source": [
    "# Makes a arrival time variable column using the time of day dummy dictionary\n",
    "delays_df['ARRIVAL_TIME_OF_DAY'] = delays_df['CRS_ARR_TIME'].apply(  \\\n",
    "                            lambda x: next((y for z, y in Time_of_day.items() if x in z), 0))"
   ]
  },
  {
   "cell_type": "code",
   "execution_count": 48,
   "metadata": {},
   "outputs": [],
   "source": [
    "# Makes a arrival dummy variable column using the time of day dummy dictionary\n",
    "delays_df[\"ARRIVAL_TIME_OF_DAY_DUMMY\"] = delays_df['CRS_ARR_TIME'].apply(  \\\n",
    "                            lambda x: next((y for z, y in Time_of_day_dummy.items() if x in z), 0))"
   ]
  },
  {
   "cell_type": "code",
   "execution_count": 49,
   "metadata": {},
   "outputs": [],
   "source": [
    "# Dummy variables for differing departure delay times\n",
    "delays_df['DEPARTURE_DELAY_OVER_60_MINUTES'] = 1*np.ravel(delays_df[\"DEP_DELAY\"] <= -60)\n",
    "delays_df['DEPARTURE_DELAY_OVER_45_MINUTES'] = 1*np.ravel(delays_df[\"DEP_DELAY\"] <= -45)\n",
    "delays_df['DEPARTURE_DELAY_OVER_30_MINUTES'] = 1*np.ravel(delays_df[\"DEP_DELAY\"] <= -30)\n",
    "delays_df['DEPARTURE_DELAY_OVER_15_MINUTES'] = 1*np.ravel(delays_df[\"DEP_DELAY\"] <= -15)"
   ]
  },
  {
   "cell_type": "code",
   "execution_count": 50,
   "metadata": {},
   "outputs": [],
   "source": [
    "# Dummy variables for differing arrival delay times\n",
    "delays_df['ARRIVAL_DELAY_OVER_60_MINUTES'] = 1*np.ravel(delays_df[\"ARR_DELAY\"] <= -60)\n",
    "delays_df['ARRIVAL_DELAY_OVER_45_MINUTES'] = 1*np.ravel(delays_df[\"ARR_DELAY\"] <= -45)\n",
    "delays_df['ARRIVAL_DELAY_OVER_30_MINUTES'] = 1*np.ravel(delays_df[\"ARR_DELAY\"] <= -30)\n",
    "delays_df['ARRIVAL_DELAY_OVER_15_MINUTES'] = 1*np.ravel(delays_df[\"ARR_DELAY\"] <= -15)"
   ]
  },
  {
   "cell_type": "code",
   "execution_count": 51,
   "metadata": {},
   "outputs": [],
   "source": [
    "# Dummy variables for flights of east coast origin/destination\n",
    "delays_df['EAST_COAST_ORIGIN'] = 1*np.ravel(delays_df[\"ORIGIN_longitude\"] >= -83)\n",
    "delays_df['EAST_COAST_DEST'] = 1*np.ravel(delays_df[\"DEST_LONGITUDE\"] >= -83)"
   ]
  },
  {
   "cell_type": "code",
   "execution_count": 52,
   "metadata": {},
   "outputs": [],
   "source": [
    "# Dummy variables for flights of west coast origin/destination\n",
    "delays_df['WEST_COAST_ORIGIN'] = 1*np.ravel(delays_df[\"ORIGIN_LATITUDE\"] <= -114)\n",
    "delays_df['WEST_COAST_DEST'] = 1*np.ravel(delays_df[\"DEST_LATITUDE\"] <= -114)"
   ]
  },
  {
   "cell_type": "code",
   "execution_count": 53,
   "metadata": {},
   "outputs": [],
   "source": [
    "# Make a new dataframe to have the columns ordered in a similar way to the original file\n",
    "delays_df = delays_df[[ \\\n",
    "        \"FL_DATE\", \"DAY\", \"MONTH\", \"WEEKDAY\", \"OP_CARRIER\", \"AIRLINE\", \"OP_CARRIER_FL_NUM\", \"ORIGIN\", \\\n",
    "        \"ORIGIN_AIRPORT\", \"ORIGIN_CITY\", \"ORIGIN_STATE\", \"ORIGIN_LATITUDE\", \"ORIGIN_LONGITUDE\", \"EAST_COAST_ORIGIN\", \\\n",
    "        \"WEST_COAST_ORIGIN\", \"CRS_DEP_TIME\", \"DEP_TIME\", \"DEPARTURE_TIME_OF_DAY\", \"DEPARTURE_TIME_OF_DAY_DUMMY\", \\\n",
    "        \"DEP_DELAY\", \"DEPARTURE_DELAY\", \"DEPARTURE_DELAY_OVER_15_MINUTES\", \"DEPARTURE_DELAY_OVER_30_MINUTES\", \\\n",
    "        \"DEPARTURE_DELAY_OVER_45_MINUTES\", \"DEPARTURE_DELAY_OVER_60_MINUTES\", \\\n",
    "        \"TAXI_OUT\", \"WHEELS_OFF\", \"AIR_TIME\", \"CRS_ELAPSED_TIME\", \"ACTUAL_ELAPSED_TIME\", \\\n",
    "        \"DISTANCE\", \"WHEELS_ON\", \"TAXI_IN\", \"DEST\", \\\n",
    "        \"DEST_AIRPORT\", \"DEST_CITY\", \"DEST_STATE\", \"DEST_LATITUDE\", \"DEST_LONGITUDE\", \"EAST_COAST_DEST\",  \\\n",
    "        \"WEST_COAST_DEST\", \"CRS_ARR_TIME\", \"ARR_TIME\", \"ARR_DELAY\", \"ARRIVAL_DELAY\", \"ARRIVAL_DELAY_OVER_15_MINUTES\", \\\n",
    "        \"ARRIVAL_DELAY_OVER_30_MINUTES\", \"ARRIVAL_DELAY_OVER_45_MINUTES\", \"ARRIVAL_DELAY_OVER_60_MINUTES\", \\\n",
    "        \"ARRIVAL_DELAY_OVER_60_MINUTES\", \"ARRIVAL_TIME_OF_DAY\", \"ARRIVAL_TIME_OF_DAY_DUMMY\", \"CANCELLED\", \"DIVERTED\", \\\n",
    "        \"CARRIER_DELAY\", \"WEATHER_DELAY\", \"NAS_DELAY\", \"SECURITY_DELAY\", \"LATE_AIRCRAFT_DELAY\"]]"
   ]
  },
  {
   "cell_type": "code",
   "execution_count": 30,
   "metadata": {},
   "outputs": [],
   "source": [
    "# This was to change all non-object columns to floats for ease of analysis purposes.\n",
    "# However, memory issues prevented it from being used properly.\n",
    "\n",
    "# cols = delays_df.select_dtypes(exclude=['object']).columns\n",
    "# delays_df[cols] = delays_df[cols].apply(pd.to_numeric, downcast='float', errors='coerce')\n",
    "# delays_df.dtypes"
   ]
  },
  {
   "cell_type": "code",
   "execution_count": 54,
   "metadata": {
    "scrolled": true
   },
   "outputs": [],
   "source": [
    "# Output new csv\n",
    "delays_df.to_csv(\"Delay_fourth_quarter1.csv\",index=False)"
   ]
  }
 ],
 "metadata": {
  "kernelspec": {
   "display_name": "Python 3",
   "language": "python",
   "name": "python3"
  },
  "language_info": {
   "codemirror_mode": {
    "name": "ipython",
    "version": 3
   },
   "file_extension": ".py",
   "mimetype": "text/x-python",
   "name": "python",
   "nbconvert_exporter": "python",
   "pygments_lexer": "ipython3",
   "version": "3.7.3"
  }
 },
 "nbformat": 4,
 "nbformat_minor": 2
}
