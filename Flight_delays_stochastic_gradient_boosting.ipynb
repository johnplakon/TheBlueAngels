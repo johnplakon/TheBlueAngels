{
 "cells": [
  {
   "cell_type": "markdown",
   "metadata": {},
   "source": [
    "Stochastic Gradient Boosting has some pretty nice effects with our flight delay data.  For departure delays, our best model utilized 10 features with delays of 15+ minutes which produced another great R2 score, this time at 99%!.  SGB with scaling provided another excellent model for departure delays.\n",
    "\n",
    "However, arrival delays once again fell short of this standard.  While better than any previous machine learning methods outside of straigh linear/logistic regression, the best R2 score achieved was 88.96% which was found with a model for arrival departures of 15+ minutes with 26 features.  While 88.96% is not bad, a threshold of 90% at the minimum is preferred so other methods will have to be tried to finally achieve this."
   ]
  },
  {
   "cell_type": "code",
   "execution_count": 1,
   "metadata": {},
   "outputs": [],
   "source": [
    "import pandas as pd\n",
    "import numpy as np\n",
    "import seaborn as sns\n",
    "import matplotlib.pyplot as plt\n",
    "%matplotlib inline\n",
    "\n",
    "import seaborn as sns\n",
    "import time\n",
    "\n",
    "import warnings\n",
    "warnings.simplefilter('ignore')\n",
    "\n",
    "# RNG used for seeding\n",
    "rng = int(np.random.randint(low=1, high=2000, size=1))\n",
    "\n",
    "# xgboost has similar problems to tensorflow when installing so it will not be utilizied. Same with parfit.\n",
    "# from xgboost import XGBClassifier\n",
    "# import parfit.parfit as pf"
   ]
  },
  {
   "cell_type": "code",
   "execution_count": 2,
   "metadata": {},
   "outputs": [],
   "source": [
    "# Read in first quarter dataset\n",
    "delays_df = pd.read_csv(\"Delay_first_quarter1.csv\")"
   ]
  },
  {
   "cell_type": "code",
   "execution_count": 3,
   "metadata": {},
   "outputs": [],
   "source": [
    "# Do some additional cleaning\n",
    "delays_df = delays_df.fillna(0)"
   ]
  },
  {
   "cell_type": "code",
   "execution_count": 4,
   "metadata": {},
   "outputs": [],
   "source": [
    "# Dummy variables for flights of east coast origin/destination \n",
    "# Dummy variables for flights of west coast origin/destination -> both fixed\n",
    "\n",
    "delays_df['EAST_COAST_ORIGIN'] = 1*np.ravel(delays_df[\"ORIGIN_LONGITUDE\"] >= -83)\n",
    "delays_df['EAST_COAST_DEST'] = 1*np.ravel(delays_df[\"DEST_LONGITUDE\"] >= -83)\n",
    "delays_df['WEST_COAST_ORIGIN'] = 1*np.ravel(delays_df[\"ORIGIN_LONGITUDE\"] <= -114)\n",
    "delays_df['WEST_COAST_DEST'] = 1*np.ravel(delays_df[\"DEST_LONGITUDE\"] <= -114)"
   ]
  },
  {
   "cell_type": "code",
   "execution_count": 5,
   "metadata": {},
   "outputs": [],
   "source": [
    "# Create more dummy variables for categorical data:\n",
    "\n",
    "Weekday = {\n",
    "           \"Monday\": 1,\n",
    "           \"Tueday\": 2, \n",
    "           \"Wednesday\": 3, \n",
    "           \"Thursday\" : 4,\n",
    "           \"Friday\": 5,\n",
    "           \"Saturday\": 6,\n",
    "           \"Sunday\": 7\n",
    "          }\n",
    "\n",
    "Airline = {\n",
    "        \"UA\": 1,\n",
    "        \"AA\": 2,\n",
    "        \"9E\": 3,\n",
    "        \"B6\": 4,\n",
    "        \"EV\": 5,\n",
    "        \"F9\": 6,\n",
    "        \"G4\": 7,\n",
    "        \"HA\": 8,\n",
    "        \"MQ\": 9,\n",
    "        \"NK\": 10,\n",
    "        \"OH\": 11,\n",
    "        \"OO\": 12,\n",
    "        \"VX\": 13,\n",
    "        \"WN\": 14,\n",
    "        \"YV\": 15,\n",
    "        \"YX\": 16,\n",
    "        \"AS\": 17,\n",
    "        \"DL\": 18\n",
    "}"
   ]
  },
  {
   "cell_type": "code",
   "execution_count": 6,
   "metadata": {},
   "outputs": [],
   "source": [
    "delays_df['WEEKDAY_DUMMY'] = delays_df['WEEKDAY'].apply(  \\\n",
    "                            lambda x: next((y for z, y in Weekday.items() if x in z), 0))"
   ]
  },
  {
   "cell_type": "code",
   "execution_count": 7,
   "metadata": {},
   "outputs": [],
   "source": [
    "delays_df['AIRLINE_DUMMY'] = delays_df['OP_CARRIER'].apply(  \\\n",
    "                            lambda x: next((y for z, y in Airline.items() if x in z), 0))"
   ]
  },
  {
   "cell_type": "code",
   "execution_count": 8,
   "metadata": {},
   "outputs": [],
   "source": [
    "# Make a proper categorical delay dummy variable\n",
    "# Get Month into a categorical value\n",
    "# This uses less memory than using lambda.\n",
    "\n",
    "delay_dict = {0: \"On Time\", 1: \"Delayed\"}\n",
    "delays_df[\"DEPARTURE_DELAY_DUMMY\"]=delays_df[\"DEPARTURE_DELAY\"].copy()\n",
    "delays_df[\"DEPARTURE_DELAY\"].replace(delay_dict, inplace = True)"
   ]
  },
  {
   "cell_type": "code",
   "execution_count": 9,
   "metadata": {},
   "outputs": [],
   "source": [
    "arrive_dict = {0: \"On Time\", 1: \"Delayed\"}\n",
    "delays_df[\"ARRIVAL_DELAY_DUMMY\"]=delays_df[\"ARRIVAL_DELAY\"].copy()\n",
    "delays_df[\"ARRIVAL_DELAY\"].replace(delay_dict, inplace = True)"
   ]
  },
  {
   "cell_type": "code",
   "execution_count": 14,
   "metadata": {},
   "outputs": [],
   "source": [
    "Delay_dict = {range(-3000, 1): \"On Time\",\n",
    "               range(1, 16): 'Small Delay', \n",
    "               range(16, 3000): 'Long Delay',}"
   ]
  },
  {
   "cell_type": "code",
   "execution_count": 15,
   "metadata": {},
   "outputs": [
    {
     "name": "stdout",
     "output_type": "stream",
     "text": [
      "405.1665036678314 seconds\n"
     ]
    }
   ],
   "source": [
    "start = time.time()\n",
    "delays_df['DEPARTURE_DELAY_TEST'] = delays_df['DEP_DELAY'].apply(  \\\n",
    "                            lambda x: next((y for z, y in Delay_dict.items() if x in z), 0))\n",
    "end = time.time()\n",
    "print(f\"{end-start} seconds\")"
   ]
  },
  {
   "cell_type": "code",
   "execution_count": 16,
   "metadata": {},
   "outputs": [
    {
     "name": "stdout",
     "output_type": "stream",
     "text": [
      "453.0730800628662 seconds\n"
     ]
    }
   ],
   "source": [
    "start = time.time()\n",
    "delays_df['ARRIVAL_DELAY_TEST'] = delays_df['ARR_DELAY'].apply(  \\\n",
    "                            lambda x: next((y for z, y in Delay_dict.items() if x in z), 0))\n",
    "end = time.time()\n",
    "print(f\"{end-start} seconds\")"
   ]
  },
  {
   "cell_type": "code",
   "execution_count": 17,
   "metadata": {},
   "outputs": [],
   "source": [
    "# Output new csv as these additional variables take way too long each time jupyter is fired up\n",
    "delays_df.to_csv(\"Delay_first_quarter1.csv\",index=False)"
   ]
  },
  {
   "cell_type": "markdown",
   "metadata": {},
   "source": [
    "DEPARTURE DELAY 10 FEATURES SCALED SGB (73.316%)"
   ]
  },
  {
   "cell_type": "code",
   "execution_count": 4,
   "metadata": {},
   "outputs": [
    {
     "name": "stdout",
     "output_type": "stream",
     "text": [
      "(1683475, 10) (1683475, 1)\n"
     ]
    }
   ],
   "source": [
    "# Try out Stochastic Gradient Boosting on the previous best Departure Delay model\n",
    "# Departure delay logistic ML model -> 10 features\n",
    "\n",
    "X = delays_df[[\"DAY\", \"MONTH\", \"DEP_TIME\", \"DEPARTURE_TIME_OF_DAY_DUMMY\", \"WEEKDAY_DUMMY\", \"AIRLINE_DUMMY\", \\\n",
    "               \"OP_CARRIER_FL_NUM\", \"TAXI_OUT\", \"WHEELS_OFF\",\"WEATHER_DELAY\",]]\n",
    "\n",
    "y = delays_df[\"DEPARTURE_DELAY_DUMMY\"].values.reshape(-1, 1)\n",
    "print(X.shape, y.shape)"
   ]
  },
  {
   "cell_type": "code",
   "execution_count": 12,
   "metadata": {},
   "outputs": [],
   "source": [
    "# Split for train and test datasets\n",
    "from sklearn.model_selection import train_test_split\n",
    "\n",
    "X_train, X_test, y_train, y_test = train_test_split(X, y, random_state=rng)"
   ]
  },
  {
   "cell_type": "code",
   "execution_count": 13,
   "metadata": {},
   "outputs": [],
   "source": [
    "# Try out a min/max scaler for the data\n",
    "from sklearn.preprocessing import MinMaxScaler\n",
    "\n",
    "scaler = MinMaxScaler()\n",
    "X_train = scaler.fit_transform(X_train)\n",
    "X_test = scaler.transform(X_test)"
   ]
  },
  {
   "cell_type": "code",
   "execution_count": 25,
   "metadata": {
    "scrolled": false
   },
   "outputs": [
    {
     "name": "stdout",
     "output_type": "stream",
     "text": [
      "326.1881728172302 seconds\n"
     ]
    }
   ],
   "source": [
    "# Set up and fit the Gradient Booster\n",
    "\n",
    "from sklearn.ensemble import GradientBoostingClassifier\n",
    "start = time.time()\n",
    "\n",
    "gbc = GradientBoostingClassifier(n_estimators=100, random_state=rng)\n",
    "gbc.fit(X_train, y_train)\n",
    "end = time.time()\n",
    "print(f\"{end-start} seconds\")"
   ]
  },
  {
   "cell_type": "code",
   "execution_count": 27,
   "metadata": {},
   "outputs": [
    {
     "name": "stdout",
     "output_type": "stream",
     "text": [
      "Accuracy Score: 73.33540840499063\n"
     ]
    }
   ],
   "source": [
    "# Meh as usual\n",
    "from sklearn.metrics import accuracy_score\n",
    "predictions = gbc.predict(X_test)\n",
    "prediction_p = gbc.predict_proba(X_test)\n",
    "y_transposed = (np.transpose(y_test)).flatten()\n",
    "print(f\"Accuracy Score: {accuracy_score(y_transposed, predictions)*100}\")"
   ]
  },
  {
   "cell_type": "code",
   "execution_count": 28,
   "metadata": {
    "scrolled": true
   },
   "outputs": [
    {
     "data": {
      "text/html": [
       "<div>\n",
       "<style scoped>\n",
       "    .dataframe tbody tr th:only-of-type {\n",
       "        vertical-align: middle;\n",
       "    }\n",
       "\n",
       "    .dataframe tbody tr th {\n",
       "        vertical-align: top;\n",
       "    }\n",
       "\n",
       "    .dataframe thead th {\n",
       "        text-align: right;\n",
       "    }\n",
       "</style>\n",
       "<table border=\"1\" class=\"dataframe\">\n",
       "  <thead>\n",
       "    <tr style=\"text-align: right;\">\n",
       "      <th>Predicted Delays</th>\n",
       "      <th>0</th>\n",
       "      <th>1</th>\n",
       "    </tr>\n",
       "    <tr>\n",
       "      <th>Actual Delays</th>\n",
       "      <th></th>\n",
       "      <th></th>\n",
       "    </tr>\n",
       "  </thead>\n",
       "  <tbody>\n",
       "    <tr>\n",
       "      <th>0</th>\n",
       "      <td>266054</td>\n",
       "      <td>16287</td>\n",
       "    </tr>\n",
       "    <tr>\n",
       "      <th>1</th>\n",
       "      <td>95936</td>\n",
       "      <td>42592</td>\n",
       "    </tr>\n",
       "  </tbody>\n",
       "</table>\n",
       "</div>"
      ],
      "text/plain": [
       "Predicted Delays       0      1\n",
       "Actual Delays                  \n",
       "0                 266054  16287\n",
       "1                  95936  42592"
      ]
     },
     "execution_count": 28,
     "metadata": {},
     "output_type": "execute_result"
    }
   ],
   "source": [
    "pd.crosstab(y_transposed, predictions, rownames=[\"Actual Delays\"], colnames=[\"Predicted Delays\"])"
   ]
  },
  {
   "cell_type": "markdown",
   "metadata": {},
   "source": [
    "DEPARTURE DELAY 15+ MINUTES 10 FEATURES SCALED SGB (99%)"
   ]
  },
  {
   "cell_type": "code",
   "execution_count": 29,
   "metadata": {},
   "outputs": [
    {
     "name": "stdout",
     "output_type": "stream",
     "text": [
      "(1683475, 10) (1683475, 1)\n"
     ]
    }
   ],
   "source": [
    "# Try out Stochastic Gradient Boosting on the previous best Departure Delay model with delays of 15+ minutes\n",
    "# Departure delay logistic ML model -> 10 features\n",
    "\n",
    "X = delays_df[[\"DAY\", \"MONTH\", \"DEP_TIME\", \"DEPARTURE_TIME_OF_DAY_DUMMY\", \"WEEKDAY_DUMMY\", \"AIRLINE_DUMMY\", \\\n",
    "               \"OP_CARRIER_FL_NUM\", \"TAXI_OUT\", \"WHEELS_OFF\",\"WEATHER_DELAY\",]]\n",
    "\n",
    "y = delays_df[\"DEPARTURE_DELAY_OVER_15_MINUTES\"].values.reshape(-1, 1)\n",
    "print(X.shape, y.shape)"
   ]
  },
  {
   "cell_type": "code",
   "execution_count": 30,
   "metadata": {},
   "outputs": [],
   "source": [
    "# Split for train and test datasets\n",
    "from sklearn.model_selection import train_test_split\n",
    "\n",
    "X_train, X_test, y_train, y_test = train_test_split(X, y, random_state=rng)"
   ]
  },
  {
   "cell_type": "code",
   "execution_count": 31,
   "metadata": {},
   "outputs": [],
   "source": [
    "# Try out a min/max scaler for the data\n",
    "from sklearn.preprocessing import MinMaxScaler\n",
    "\n",
    "scaler = MinMaxScaler()\n",
    "X_train = scaler.fit_transform(X_train)\n",
    "X_test = scaler.transform(X_test)"
   ]
  },
  {
   "cell_type": "code",
   "execution_count": 32,
   "metadata": {},
   "outputs": [
    {
     "name": "stdout",
     "output_type": "stream",
     "text": [
      "317.8484616279602 seconds\n"
     ]
    }
   ],
   "source": [
    "# Set up and fit the Gradient Booster\n",
    "\n",
    "from sklearn.ensemble import GradientBoostingClassifier\n",
    "start = time.time()\n",
    "\n",
    "gbc = GradientBoostingClassifier(n_estimators=100, random_state=rng)\n",
    "gbc.fit(X_train, y_train)\n",
    "end = time.time()\n",
    "print(f\"{end-start} seconds\")"
   ]
  },
  {
   "cell_type": "code",
   "execution_count": 34,
   "metadata": {
    "scrolled": false
   },
   "outputs": [
    {
     "name": "stdout",
     "output_type": "stream",
     "text": [
      "Accuracy Score: 99.01014329874617\n",
      "2.774925708770752 seconds\n"
     ]
    }
   ],
   "source": [
    "# Well that was unexpected but we will take it.  99% is tough to argue with here.\n",
    "from sklearn.metrics import accuracy_score\n",
    "start = time.time()\n",
    "\n",
    "predictions = gbc.predict(X_test)\n",
    "prediction_p = gbc.predict_proba(X_test)\n",
    "y_transposed = (np.transpose(y_test)).flatten()\n",
    "print(f\"Accuracy Score: {accuracy_score(y_transposed, predictions)*100}\")\n",
    "end = time.time()\n",
    "print(f\"{end-start} seconds\")"
   ]
  },
  {
   "cell_type": "markdown",
   "metadata": {},
   "source": [
    "ARRIVAL DELAYS 18 FEATURES SCALED SGB (88.83%)"
   ]
  },
  {
   "cell_type": "code",
   "execution_count": 35,
   "metadata": {
    "scrolled": true
   },
   "outputs": [
    {
     "name": "stdout",
     "output_type": "stream",
     "text": [
      "(1683475, 18) (1683475, 1)\n"
     ]
    }
   ],
   "source": [
    "# Try out the same procedure for the best model for arrival delays.\n",
    "\n",
    "X = delays_df[[\"DAY\", \"MONTH\", \"DEP_TIME\", \"DEP_DELAY\", \"DEPARTURE_TIME_OF_DAY_DUMMY\", \\\n",
    "              \"OP_CARRIER_FL_NUM\", \"TAXI_OUT\", \"AIR_TIME\", \"TAXI_IN\", \\\n",
    "              \"ARRIVAL_TIME_OF_DAY_DUMMY\", \"CARRIER_DELAY\", \"DISTANCE\", \"WEEKDAY_DUMMY\", \"AIRLINE_DUMMY\", \\\n",
    "       \"WEATHER_DELAY\", \"NAS_DELAY\", \"SECURITY_DELAY\", \"LATE_AIRCRAFT_DELAY\",]]\n",
    "y = delays_df[\"ARRIVAL_DELAY\"].values.reshape(-1, 1)\n",
    "print(X.shape, y.shape)"
   ]
  },
  {
   "cell_type": "code",
   "execution_count": 36,
   "metadata": {
    "scrolled": true
   },
   "outputs": [
    {
     "name": "stdout",
     "output_type": "stream",
     "text": [
      "1.0429489612579346 seconds\n"
     ]
    }
   ],
   "source": [
    "# Split for train and test datasets\n",
    "from sklearn.model_selection import train_test_split\n",
    "start = time.time()\n",
    "\n",
    "X_train, X_test, y_train, y_test = train_test_split(X, y, random_state=rng)\n",
    "end = time.time()\n",
    "print(f\"{end-start} seconds\")"
   ]
  },
  {
   "cell_type": "code",
   "execution_count": 37,
   "metadata": {},
   "outputs": [
    {
     "name": "stdout",
     "output_type": "stream",
     "text": [
      "1.5062346458435059 seconds\n"
     ]
    }
   ],
   "source": [
    "# Try out a min/max scaler for the data\n",
    "from sklearn.preprocessing import MinMaxScaler\n",
    "start = time.time()\n",
    "\n",
    "scaler = MinMaxScaler()\n",
    "X_train = scaler.fit_transform(X_train)\n",
    "X_test = scaler.transform(X_test)\n",
    "end = time.time()\n",
    "print(f\"{end-start} seconds\")"
   ]
  },
  {
   "cell_type": "code",
   "execution_count": 38,
   "metadata": {},
   "outputs": [
    {
     "name": "stdout",
     "output_type": "stream",
     "text": [
      "451.72132897377014 seconds\n"
     ]
    }
   ],
   "source": [
    "# Set up and fit the Gradient Booster\n",
    "\n",
    "from sklearn.ensemble import GradientBoostingClassifier\n",
    "start = time.time()\n",
    "\n",
    "gbc = GradientBoostingClassifier(n_estimators=100, random_state=rng)\n",
    "gbc.fit(X_train, y_train)\n",
    "end = time.time()\n",
    "print(f\"{end-start} seconds\")"
   ]
  },
  {
   "cell_type": "code",
   "execution_count": 39,
   "metadata": {},
   "outputs": [
    {
     "name": "stdout",
     "output_type": "stream",
     "text": [
      "Accuracy Score: 88.8768239048255\n",
      "6.374078750610352 seconds\n"
     ]
    }
   ],
   "source": [
    "# This is much better for arrival delays than what we got with the decision trees!  Perhaps we are to something.\n",
    "from sklearn.metrics import accuracy_score\n",
    "start = time.time()\n",
    "\n",
    "predictions = gbc.predict(X_test)\n",
    "prediction_p = gbc.predict_proba(X_test)\n",
    "y_transposed = (np.transpose(y_test)).flatten()\n",
    "print(f\"Accuracy Score: {accuracy_score(y_transposed, predictions)*100}\")\n",
    "end = time.time()\n",
    "print(f\"{end-start} seconds\")"
   ]
  },
  {
   "cell_type": "markdown",
   "metadata": {},
   "source": [
    "ARRIVAL DELAYS 15+ MINUTES 18 FEATURES SCALED SGB (80.98%)"
   ]
  },
  {
   "cell_type": "code",
   "execution_count": 63,
   "metadata": {},
   "outputs": [
    {
     "name": "stdout",
     "output_type": "stream",
     "text": [
      "(1683475, 18) (1683475, 1)\n"
     ]
    }
   ],
   "source": [
    "# Try out the same procedure for the best model for arrival delays.\n",
    "\n",
    "X = delays_df[[\"DAY\", \"MONTH\", \"DEP_TIME\", \"DEP_DELAY\", \"DEPARTURE_TIME_OF_DAY_DUMMY\", \\\n",
    "              \"OP_CARRIER_FL_NUM\", \"TAXI_OUT\", \"AIR_TIME\", \"TAXI_IN\", \\\n",
    "              \"ARRIVAL_TIME_OF_DAY_DUMMY\", \"CARRIER_DELAY\", \"DISTANCE\", \"WEEKDAY_DUMMY\", \"AIRLINE_DUMMY\", \\\n",
    "       \"WEATHER_DELAY\", \"NAS_DELAY\", \"SECURITY_DELAY\", \"LATE_AIRCRAFT_DELAY\",]]\n",
    "y = delays_df[\"ARRIVAL_DELAY_OVER_15_MINUTES\"].values.reshape(-1, 1)\n",
    "print(X.shape, y.shape)"
   ]
  },
  {
   "cell_type": "code",
   "execution_count": 64,
   "metadata": {},
   "outputs": [
    {
     "name": "stdout",
     "output_type": "stream",
     "text": [
      "0.9321613311767578 seconds\n"
     ]
    }
   ],
   "source": [
    "# Split for train and test datasets\n",
    "from sklearn.model_selection import train_test_split\n",
    "start = time.time()\n",
    "\n",
    "X_train, X_test, y_train, y_test = train_test_split(X, y, random_state=rng)\n",
    "end = time.time()\n",
    "print(f\"{end-start} seconds\")"
   ]
  },
  {
   "cell_type": "code",
   "execution_count": 65,
   "metadata": {
    "scrolled": true
   },
   "outputs": [
    {
     "name": "stdout",
     "output_type": "stream",
     "text": [
      "1.2436063289642334 seconds\n"
     ]
    }
   ],
   "source": [
    "# Try out a min/max scaler for the data\n",
    "from sklearn.preprocessing import MinMaxScaler\n",
    "start = time.time()\n",
    "\n",
    "scaler = MinMaxScaler()\n",
    "X_train = scaler.fit_transform(X_train)\n",
    "X_test = scaler.transform(X_test)\n",
    "end = time.time()\n",
    "print(f\"{end-start} seconds\")"
   ]
  },
  {
   "cell_type": "code",
   "execution_count": 66,
   "metadata": {},
   "outputs": [
    {
     "name": "stdout",
     "output_type": "stream",
     "text": [
      "380.3071200847626 seconds\n"
     ]
    }
   ],
   "source": [
    "# Set up and fit the Gradient Booster\n",
    "\n",
    "from sklearn.ensemble import GradientBoostingClassifier\n",
    "start = time.time()\n",
    "\n",
    "gbc = GradientBoostingClassifier(n_estimators=100, random_state=rng)\n",
    "gbc.fit(X_train, y_train)\n",
    "end = time.time()\n",
    "print(f\"{end-start} seconds\")"
   ]
  },
  {
   "cell_type": "code",
   "execution_count": 67,
   "metadata": {},
   "outputs": [
    {
     "name": "stdout",
     "output_type": "stream",
     "text": [
      "Accuracy Score: 80.98030503553362\n",
      "4.571773052215576 seconds\n"
     ]
    }
   ],
   "source": [
    "# And it went done to 80.98%.\n",
    "from sklearn.metrics import accuracy_score\n",
    "start = time.time()\n",
    "\n",
    "predictions = gbc.predict(X_test)\n",
    "prediction_p = gbc.predict_proba(X_test)\n",
    "y_transposed = (np.transpose(y_test)).flatten()\n",
    "print(f\"Accuracy Score: {accuracy_score(y_transposed, predictions)*100}\")\n",
    "end = time.time()\n",
    "print(f\"{end-start} seconds\")"
   ]
  },
  {
   "cell_type": "code",
   "execution_count": 68,
   "metadata": {
    "scrolled": false
   },
   "outputs": [
    {
     "data": {
      "text/html": [
       "<div>\n",
       "<style scoped>\n",
       "    .dataframe tbody tr th:only-of-type {\n",
       "        vertical-align: middle;\n",
       "    }\n",
       "\n",
       "    .dataframe tbody tr th {\n",
       "        vertical-align: top;\n",
       "    }\n",
       "\n",
       "    .dataframe thead th {\n",
       "        text-align: right;\n",
       "    }\n",
       "</style>\n",
       "<table border=\"1\" class=\"dataframe\">\n",
       "  <thead>\n",
       "    <tr style=\"text-align: right;\">\n",
       "      <th>Predicted Delays</th>\n",
       "      <th>0</th>\n",
       "      <th>1</th>\n",
       "    </tr>\n",
       "    <tr>\n",
       "      <th>Actual Delays</th>\n",
       "      <th></th>\n",
       "      <th></th>\n",
       "    </tr>\n",
       "  </thead>\n",
       "  <tbody>\n",
       "    <tr>\n",
       "      <th>0</th>\n",
       "      <td>277290</td>\n",
       "      <td>27816</td>\n",
       "    </tr>\n",
       "    <tr>\n",
       "      <th>1</th>\n",
       "      <td>52232</td>\n",
       "      <td>63531</td>\n",
       "    </tr>\n",
       "  </tbody>\n",
       "</table>\n",
       "</div>"
      ],
      "text/plain": [
       "Predicted Delays       0      1\n",
       "Actual Delays                  \n",
       "0                 277290  27816\n",
       "1                  52232  63531"
      ]
     },
     "execution_count": 68,
     "metadata": {},
     "output_type": "execute_result"
    }
   ],
   "source": [
    "pd.crosstab(y_transposed, predictions, rownames=[\"Actual Delays\"], colnames=[\"Predicted Delays\"])"
   ]
  },
  {
   "cell_type": "markdown",
   "metadata": {},
   "source": [
    "ARRIVAL DELAY 8 FEATURES SCALED SGB (84.04%)"
   ]
  },
  {
   "cell_type": "code",
   "execution_count": 4,
   "metadata": {},
   "outputs": [
    {
     "name": "stdout",
     "output_type": "stream",
     "text": [
      "(1683475, 8) (1683475, 1)\n"
     ]
    }
   ],
   "source": [
    "# Try to get an arrival delay model over 90%\n",
    "\n",
    "X = delays_df[[\"DEP_TIME\", \"DEP_DELAY\", \"DEPARTURE_TIME_OF_DAY_DUMMY\", \\\n",
    "              \"OP_CARRIER_FL_NUM\", \"AIR_TIME\",\n",
    "              \"ARRIVAL_TIME_OF_DAY_DUMMY\",\"WEEKDAY_DUMMY\", \"AIRLINE_DUMMY\", ]]\n",
    "y = delays_df[\"ARRIVAL_DELAY\"].values.reshape(-1, 1)\n",
    "print(X.shape, y.shape)"
   ]
  },
  {
   "cell_type": "code",
   "execution_count": 5,
   "metadata": {},
   "outputs": [
    {
     "name": "stdout",
     "output_type": "stream",
     "text": [
      "0.6772623062133789 seconds\n"
     ]
    }
   ],
   "source": [
    "# Split for train and test datasets\n",
    "from sklearn.model_selection import train_test_split\n",
    "start = time.time()\n",
    "\n",
    "X_train, X_test, y_train, y_test = train_test_split(X, y, random_state=rng)\n",
    "end = time.time()\n",
    "print(f\"{end-start} seconds\")"
   ]
  },
  {
   "cell_type": "code",
   "execution_count": 6,
   "metadata": {},
   "outputs": [
    {
     "name": "stdout",
     "output_type": "stream",
     "text": [
      "0.8187565803527832 seconds\n"
     ]
    }
   ],
   "source": [
    "# Try out a min/max scaler for the data\n",
    "from sklearn.preprocessing import MinMaxScaler\n",
    "start = time.time()\n",
    "\n",
    "scaler = MinMaxScaler()\n",
    "X_train = scaler.fit_transform(X_train)\n",
    "X_test = scaler.transform(X_test)\n",
    "end = time.time()\n",
    "print(f\"{end-start} seconds\")"
   ]
  },
  {
   "cell_type": "code",
   "execution_count": 7,
   "metadata": {},
   "outputs": [
    {
     "name": "stdout",
     "output_type": "stream",
     "text": [
      "243.99114513397217 seconds\n"
     ]
    }
   ],
   "source": [
    "# Set up and fit the Gradient Booster\n",
    "\n",
    "from sklearn.ensemble import GradientBoostingClassifier\n",
    "start = time.time()\n",
    "\n",
    "gbc = GradientBoostingClassifier(n_estimators=100, random_state=rng)\n",
    "gbc.fit(X_train, y_train)\n",
    "end = time.time()\n",
    "print(f\"{end-start} seconds\")"
   ]
  },
  {
   "cell_type": "code",
   "execution_count": 8,
   "metadata": {
    "scrolled": true
   },
   "outputs": [
    {
     "name": "stdout",
     "output_type": "stream",
     "text": [
      "Accuracy Score: 84.03374921887809\n",
      "6.459548234939575 seconds\n"
     ]
    }
   ],
   "source": [
    "# And it went done to 84.034%.\n",
    "from sklearn.metrics import accuracy_score\n",
    "start = time.time()\n",
    "\n",
    "predictions = gbc.predict(X_test)\n",
    "prediction_p = gbc.predict_proba(X_test)\n",
    "y_transposed = (np.transpose(y_test)).flatten()\n",
    "print(f\"Accuracy Score: {accuracy_score(y_transposed, predictions)*100}\")\n",
    "end = time.time()\n",
    "print(f\"{end-start} seconds\")"
   ]
  },
  {
   "cell_type": "markdown",
   "metadata": {},
   "source": [
    "ARRIVAL DELAY 3 FEATURES SCALED SGB (83.87%)"
   ]
  },
  {
   "cell_type": "code",
   "execution_count": 24,
   "metadata": {},
   "outputs": [
    {
     "name": "stdout",
     "output_type": "stream",
     "text": [
      "(1683475, 3) (1683475, 1)\n"
     ]
    }
   ],
   "source": [
    "# Try again to get an arrival delay model over 90%\n",
    "\n",
    "X = delays_df[[\"DEP_TIME\", \"DEP_DELAY\", \"AIR_TIME\"]]\n",
    "y = delays_df[\"ARRIVAL_DELAY\"].values.reshape(-1, 1)\n",
    "print(X.shape, y.shape)"
   ]
  },
  {
   "cell_type": "code",
   "execution_count": 25,
   "metadata": {},
   "outputs": [
    {
     "name": "stdout",
     "output_type": "stream",
     "text": [
      "0.46752142906188965 seconds\n"
     ]
    }
   ],
   "source": [
    "# Split for train and test datasets\n",
    "from sklearn.model_selection import train_test_split\n",
    "start = time.time()\n",
    "\n",
    "X_train, X_test, y_train, y_test = train_test_split(X, y, random_state=rng)\n",
    "end = time.time()\n",
    "print(f\"{end-start} seconds\")"
   ]
  },
  {
   "cell_type": "code",
   "execution_count": 26,
   "metadata": {},
   "outputs": [
    {
     "name": "stdout",
     "output_type": "stream",
     "text": [
      "0.13906121253967285 seconds\n"
     ]
    }
   ],
   "source": [
    "# Try out a min/max scaler for the data\n",
    "from sklearn.preprocessing import MinMaxScaler\n",
    "start = time.time()\n",
    "\n",
    "scaler = MinMaxScaler()\n",
    "X_train = scaler.fit_transform(X_train)\n",
    "X_test = scaler.transform(X_test)\n",
    "end = time.time()\n",
    "print(f\"{end-start} seconds\")"
   ]
  },
  {
   "cell_type": "code",
   "execution_count": 27,
   "metadata": {},
   "outputs": [
    {
     "name": "stdout",
     "output_type": "stream",
     "text": [
      "170.77050852775574 seconds\n"
     ]
    }
   ],
   "source": [
    "# Set up and fit the Gradient Booster\n",
    "\n",
    "from sklearn.ensemble import GradientBoostingClassifier\n",
    "start = time.time()\n",
    "\n",
    "gbc = GradientBoostingClassifier(n_estimators=100, random_state=rng)\n",
    "gbc.fit(X_train, y_train)\n",
    "end = time.time()\n",
    "print(f\"{end-start} seconds\")"
   ]
  },
  {
   "cell_type": "code",
   "execution_count": 28,
   "metadata": {},
   "outputs": [
    {
     "name": "stdout",
     "output_type": "stream",
     "text": [
      "Accuracy Score: 83.86908990683561\n",
      "6.020639896392822 seconds\n"
     ]
    }
   ],
   "source": [
    "# And it went done to 83.869%.\n",
    "from sklearn.metrics import accuracy_score\n",
    "start = time.time()\n",
    "\n",
    "predictions = gbc.predict(X_test)\n",
    "prediction_p = gbc.predict_proba(X_test)\n",
    "y_transposed = (np.transpose(y_test)).flatten()\n",
    "print(f\"Accuracy Score: {accuracy_score(y_transposed, predictions)*100}\")\n",
    "end = time.time()\n",
    "print(f\"{end-start} seconds\")"
   ]
  },
  {
   "cell_type": "code",
   "execution_count": 29,
   "metadata": {
    "scrolled": true
   },
   "outputs": [
    {
     "data": {
      "text/html": [
       "<div>\n",
       "<style scoped>\n",
       "    .dataframe tbody tr th:only-of-type {\n",
       "        vertical-align: middle;\n",
       "    }\n",
       "\n",
       "    .dataframe tbody tr th {\n",
       "        vertical-align: top;\n",
       "    }\n",
       "\n",
       "    .dataframe thead th {\n",
       "        text-align: right;\n",
       "    }\n",
       "</style>\n",
       "<table border=\"1\" class=\"dataframe\">\n",
       "  <thead>\n",
       "    <tr style=\"text-align: right;\">\n",
       "      <th>Predicted Delays</th>\n",
       "      <th>Delayed</th>\n",
       "      <th>On Time</th>\n",
       "    </tr>\n",
       "    <tr>\n",
       "      <th>Actual Delays</th>\n",
       "      <th></th>\n",
       "      <th></th>\n",
       "    </tr>\n",
       "  </thead>\n",
       "  <tbody>\n",
       "    <tr>\n",
       "      <th>Delayed</th>\n",
       "      <td>81686</td>\n",
       "      <td>56099</td>\n",
       "    </tr>\n",
       "    <tr>\n",
       "      <th>On Time</th>\n",
       "      <td>11791</td>\n",
       "      <td>271293</td>\n",
       "    </tr>\n",
       "  </tbody>\n",
       "</table>\n",
       "</div>"
      ],
      "text/plain": [
       "Predicted Delays  Delayed  On Time\n",
       "Actual Delays                     \n",
       "Delayed             81686    56099\n",
       "On Time             11791   271293"
      ]
     },
     "execution_count": 29,
     "metadata": {},
     "output_type": "execute_result"
    }
   ],
   "source": [
    "pd.crosstab(y_transposed, predictions, rownames=[\"Actual Delays\"], colnames=[\"Predicted Delays\"])"
   ]
  },
  {
   "cell_type": "markdown",
   "metadata": {},
   "source": [
    "ARRIVAL DELAY 26b FEATURES SCALED SGB"
   ]
  },
  {
   "cell_type": "code",
   "execution_count": 34,
   "metadata": {},
   "outputs": [
    {
     "name": "stdout",
     "output_type": "stream",
     "text": [
      "(1683475, 26) (1683475, 1)\n"
     ]
    }
   ],
   "source": [
    "# Try out a final model for arrival delays.  Seems more features the better.\n",
    "\n",
    "X = delays_df[[\"DAY\", \"MONTH\", \"DEP_TIME\", \"DEP_DELAY\", \"DEPARTURE_TIME_OF_DAY_DUMMY\", \\\n",
    "              \"OP_CARRIER_FL_NUM\", \"TAXI_OUT\", \"AIR_TIME\", \"TAXI_IN\", \"WHEELS_ON\", \"WHEELS_OFF\",\\\n",
    "              \"ARRIVAL_TIME_OF_DAY_DUMMY\", \"CARRIER_DELAY\", \"DISTANCE\", \"WEEKDAY_DUMMY\", \"AIRLINE_DUMMY\", \\\n",
    "       \"WEATHER_DELAY\", \"NAS_DELAY\", \"SECURITY_DELAY\", \"LATE_AIRCRAFT_DELAY\", \"CANCELLED\", \"DIVERTED\", \\\n",
    "              \"EAST_COAST_ORIGIN\", \"WEST_COAST_ORIGIN\", \"EAST_COAST_DEST\", \"WEST_COAST_DEST\",]]\n",
    "y = delays_df[\"ARRIVAL_DELAY\"].values.reshape(-1, 1)\n",
    "print(X.shape, y.shape)"
   ]
  },
  {
   "cell_type": "code",
   "execution_count": 35,
   "metadata": {},
   "outputs": [
    {
     "name": "stdout",
     "output_type": "stream",
     "text": [
      "1.2902185916900635 seconds\n"
     ]
    }
   ],
   "source": [
    "# Split for train and test datasets\n",
    "from sklearn.model_selection import train_test_split\n",
    "start = time.time()\n",
    "\n",
    "X_train, X_test, y_train, y_test = train_test_split(X, y, random_state=rng)\n",
    "end = time.time()\n",
    "print(f\"{end-start} seconds\")"
   ]
  },
  {
   "cell_type": "code",
   "execution_count": 36,
   "metadata": {},
   "outputs": [
    {
     "name": "stdout",
     "output_type": "stream",
     "text": [
      "1.980269432067871 seconds\n"
     ]
    }
   ],
   "source": [
    "# Try out a min/max scaler for the data\n",
    "from sklearn.preprocessing import MinMaxScaler\n",
    "start = time.time()\n",
    "\n",
    "scaler = MinMaxScaler()\n",
    "X_train = scaler.fit_transform(X_train)\n",
    "X_test = scaler.transform(X_test)\n",
    "end = time.time()\n",
    "print(f\"{end-start} seconds\")"
   ]
  },
  {
   "cell_type": "code",
   "execution_count": 37,
   "metadata": {},
   "outputs": [
    {
     "name": "stdout",
     "output_type": "stream",
     "text": [
      "467.5918173789978 seconds\n"
     ]
    }
   ],
   "source": [
    "# Set up and fit the Gradient Booster\n",
    "\n",
    "from sklearn.ensemble import GradientBoostingClassifier\n",
    "start = time.time()\n",
    "\n",
    "gbc = GradientBoostingClassifier(n_estimators=100, random_state=rng)\n",
    "gbc.fit(X_train, y_train)\n",
    "end = time.time()\n",
    "print(f\"{end-start} seconds\")"
   ]
  },
  {
   "cell_type": "code",
   "execution_count": 38,
   "metadata": {},
   "outputs": [
    {
     "name": "stdout",
     "output_type": "stream",
     "text": [
      "Accuracy Score: 88.95570830828595\n",
      "7.048933982849121 seconds\n"
     ]
    }
   ],
   "source": [
    "# This is the best of the bunch for arrival delays\n",
    "from sklearn.metrics import accuracy_score\n",
    "start = time.time()\n",
    "\n",
    "predictions = gbc.predict(X_test)\n",
    "prediction_p = gbc.predict_proba(X_test)\n",
    "y_transposed = (np.transpose(y_test)).flatten()\n",
    "print(f\"Accuracy Score: {accuracy_score(y_transposed, predictions)*100}\")\n",
    "end = time.time()\n",
    "print(f\"{end-start} seconds\")"
   ]
  },
  {
   "cell_type": "code",
   "execution_count": null,
   "metadata": {},
   "outputs": [],
   "source": [
    "pd.crosstab(y_transposed, predictions, rownames=[\"Actual Delays\"], colnames=[\"Predicted Delays\"])"
   ]
  },
  {
   "cell_type": "markdown",
   "metadata": {},
   "source": [
    "DEPARTURE DELAY 3 CATEGORIES SCALED SGB (70.52%)"
   ]
  },
  {
   "cell_type": "code",
   "execution_count": 10,
   "metadata": {
    "scrolled": true
   },
   "outputs": [
    {
     "name": "stdout",
     "output_type": "stream",
     "text": [
      "(1683475, 10) (1683475, 1)\n"
     ]
    }
   ],
   "source": [
    "# Try the 3 categorical y for Departure Delays\n",
    "\n",
    "X = delays_df[[\"DAY\", \"MONTH\", \"DEP_TIME\", \"DEPARTURE_TIME_OF_DAY_DUMMY\", \"WEEKDAY_DUMMY\", \"AIRLINE_DUMMY\", \\\n",
    "               \"OP_CARRIER_FL_NUM\", \"TAXI_OUT\", \"WHEELS_OFF\",\"WEATHER_DELAY\",]]\n",
    "\n",
    "y = delays_df[\"DEPARTURE_DELAY_TEST\"].values.reshape(-1, 1)\n",
    "print(X.shape, y.shape)"
   ]
  },
  {
   "cell_type": "code",
   "execution_count": 11,
   "metadata": {},
   "outputs": [],
   "source": [
    "y = pd.factorize(delays_df[\"DEPARTURE_DELAY_TEST\"])[0]"
   ]
  },
  {
   "cell_type": "code",
   "execution_count": 12,
   "metadata": {
    "scrolled": true
   },
   "outputs": [
    {
     "name": "stdout",
     "output_type": "stream",
     "text": [
      "0.5515913963317871 seconds\n"
     ]
    }
   ],
   "source": [
    "# Split for train and test datasets\n",
    "from sklearn.model_selection import train_test_split\n",
    "start = time.time()\n",
    "\n",
    "X_train, X_test, y_train, y_test = train_test_split(X, y, random_state=rng)\n",
    "end = time.time()\n",
    "print(f\"{end-start} seconds\")"
   ]
  },
  {
   "cell_type": "code",
   "execution_count": 13,
   "metadata": {},
   "outputs": [
    {
     "name": "stdout",
     "output_type": "stream",
     "text": [
      "0.9294767379760742 seconds\n"
     ]
    }
   ],
   "source": [
    "# Try out a min/max scaler for the data\n",
    "from sklearn.preprocessing import MinMaxScaler\n",
    "start = time.time()\n",
    "\n",
    "scaler = MinMaxScaler()\n",
    "X_train = scaler.fit_transform(X_train)\n",
    "X_test = scaler.transform(X_test)\n",
    "end = time.time()\n",
    "print(f\"{end-start} seconds\")"
   ]
  },
  {
   "cell_type": "code",
   "execution_count": 14,
   "metadata": {},
   "outputs": [
    {
     "name": "stdout",
     "output_type": "stream",
     "text": [
      "933.300167798996 seconds\n"
     ]
    }
   ],
   "source": [
    "# Set up and fit the Gradient Booster\n",
    "\n",
    "from sklearn.ensemble import GradientBoostingClassifier\n",
    "start = time.time()\n",
    "\n",
    "gbc = GradientBoostingClassifier(n_estimators=100, random_state=rng)\n",
    "gbc.fit(X_train, y_train)\n",
    "end = time.time()\n",
    "print(f\"{end-start} seconds\")"
   ]
  },
  {
   "cell_type": "code",
   "execution_count": 15,
   "metadata": {},
   "outputs": [
    {
     "name": "stdout",
     "output_type": "stream",
     "text": [
      "Accuracy Score: 70.52622074802373\n",
      "11.630414724349976 seconds\n"
     ]
    }
   ],
   "source": [
    "# 15 minutes for 70.52%....\n",
    "from sklearn.metrics import accuracy_score\n",
    "start = time.time()\n",
    "\n",
    "predictions = gbc.predict(X_test)\n",
    "prediction_p = gbc.predict_proba(X_test)\n",
    "y_transposed = (np.transpose(y_test)).flatten()\n",
    "print(f\"Accuracy Score: {accuracy_score(y_transposed, predictions)*100}\")\n",
    "end = time.time()\n",
    "print(f\"{end-start} seconds\")"
   ]
  },
  {
   "cell_type": "code",
   "execution_count": 16,
   "metadata": {
    "scrolled": true
   },
   "outputs": [
    {
     "data": {
      "text/html": [
       "<div>\n",
       "<style scoped>\n",
       "    .dataframe tbody tr th:only-of-type {\n",
       "        vertical-align: middle;\n",
       "    }\n",
       "\n",
       "    .dataframe tbody tr th {\n",
       "        vertical-align: top;\n",
       "    }\n",
       "\n",
       "    .dataframe thead th {\n",
       "        text-align: right;\n",
       "    }\n",
       "</style>\n",
       "<table border=\"1\" class=\"dataframe\">\n",
       "  <thead>\n",
       "    <tr style=\"text-align: right;\">\n",
       "      <th>Predicted Delays</th>\n",
       "      <th>0</th>\n",
       "      <th>1</th>\n",
       "      <th>2</th>\n",
       "    </tr>\n",
       "    <tr>\n",
       "      <th>Actual Delays</th>\n",
       "      <th></th>\n",
       "      <th></th>\n",
       "      <th></th>\n",
       "    </tr>\n",
       "  </thead>\n",
       "  <tbody>\n",
       "    <tr>\n",
       "      <th>0</th>\n",
       "      <td>280489</td>\n",
       "      <td>1174</td>\n",
       "      <td>791</td>\n",
       "    </tr>\n",
       "    <tr>\n",
       "      <th>1</th>\n",
       "      <td>53169</td>\n",
       "      <td>14803</td>\n",
       "      <td>1259</td>\n",
       "    </tr>\n",
       "    <tr>\n",
       "      <th>2</th>\n",
       "      <td>65522</td>\n",
       "      <td>2131</td>\n",
       "      <td>1531</td>\n",
       "    </tr>\n",
       "  </tbody>\n",
       "</table>\n",
       "</div>"
      ],
      "text/plain": [
       "Predicted Delays       0      1     2\n",
       "Actual Delays                        \n",
       "0                 280489   1174   791\n",
       "1                  53169  14803  1259\n",
       "2                  65522   2131  1531"
      ]
     },
     "execution_count": 16,
     "metadata": {},
     "output_type": "execute_result"
    }
   ],
   "source": [
    "pd.crosstab(y_transposed, predictions, rownames=[\"Actual Delays\"], colnames=[\"Predicted Delays\"])"
   ]
  },
  {
   "cell_type": "markdown",
   "metadata": {},
   "source": [
    "ARRIVAL DELAY 3 CATEGORIES SCALED SGB"
   ]
  },
  {
   "cell_type": "code",
   "execution_count": 17,
   "metadata": {},
   "outputs": [
    {
     "name": "stdout",
     "output_type": "stream",
     "text": [
      "(1683475, 10) (1683475, 1)\n"
     ]
    }
   ],
   "source": [
    "# Try the 3 categorical y for Arrival Delays\n",
    "\n",
    "X = delays_df[[\"DAY\", \"MONTH\", \"DEP_TIME\", \"DEPARTURE_TIME_OF_DAY_DUMMY\", \"WEEKDAY_DUMMY\", \"AIRLINE_DUMMY\", \\\n",
    "               \"OP_CARRIER_FL_NUM\", \"TAXI_OUT\", \"WHEELS_OFF\",\"WEATHER_DELAY\",]]\n",
    "\n",
    "y = delays_df[\"ARRIVAL_DELAY_TEST\"].values.reshape(-1, 1)\n",
    "print(X.shape, y.shape)"
   ]
  },
  {
   "cell_type": "code",
   "execution_count": 18,
   "metadata": {},
   "outputs": [],
   "source": [
    "y = pd.factorize(delays_df[\"ARRIVAL_DELAY_TEST\"])[0]"
   ]
  },
  {
   "cell_type": "code",
   "execution_count": 19,
   "metadata": {},
   "outputs": [
    {
     "name": "stdout",
     "output_type": "stream",
     "text": [
      "0.5445461273193359 seconds\n"
     ]
    }
   ],
   "source": [
    "# Split for train and test datasets\n",
    "from sklearn.model_selection import train_test_split\n",
    "start = time.time()\n",
    "\n",
    "X_train, X_test, y_train, y_test = train_test_split(X, y, random_state=rng)\n",
    "end = time.time()\n",
    "print(f\"{end-start} seconds\")"
   ]
  },
  {
   "cell_type": "code",
   "execution_count": 20,
   "metadata": {},
   "outputs": [
    {
     "name": "stdout",
     "output_type": "stream",
     "text": [
      "0.9118351936340332 seconds\n"
     ]
    }
   ],
   "source": [
    "# Try out a min/max scaler for the data\n",
    "from sklearn.preprocessing import MinMaxScaler\n",
    "start = time.time()\n",
    "\n",
    "scaler = MinMaxScaler()\n",
    "X_train = scaler.fit_transform(X_train)\n",
    "X_test = scaler.transform(X_test)\n",
    "end = time.time()\n",
    "print(f\"{end-start} seconds\")"
   ]
  },
  {
   "cell_type": "code",
   "execution_count": 21,
   "metadata": {},
   "outputs": [
    {
     "name": "stdout",
     "output_type": "stream",
     "text": [
      "913.2641911506653 seconds\n"
     ]
    }
   ],
   "source": [
    "# Set up and fit the Gradient Booster\n",
    "\n",
    "from sklearn.ensemble import GradientBoostingClassifier\n",
    "start = time.time()\n",
    "\n",
    "gbc = GradientBoostingClassifier(n_estimators=100, random_state=rng)\n",
    "gbc.fit(X_train, y_train)\n",
    "end = time.time()\n",
    "print(f\"{end-start} seconds\")"
   ]
  },
  {
   "cell_type": "code",
   "execution_count": 22,
   "metadata": {},
   "outputs": [
    {
     "name": "stdout",
     "output_type": "stream",
     "text": [
      "Accuracy Score: 72.27094416552418\n",
      "10.930592060089111 seconds\n"
     ]
    }
   ],
   "source": [
    "# Another 15 minutes for 72.271%...\n",
    "\n",
    "from sklearn.metrics import accuracy_score\n",
    "start = time.time()\n",
    "\n",
    "predictions = gbc.predict(X_test)\n",
    "prediction_p = gbc.predict_proba(X_test)\n",
    "y_transposed = (np.transpose(y_test)).flatten()\n",
    "print(f\"Accuracy Score: {accuracy_score(y_transposed, predictions)*100}\")\n",
    "end = time.time()\n",
    "print(f\"{end-start} seconds\")"
   ]
  },
  {
   "cell_type": "code",
   "execution_count": 23,
   "metadata": {
    "scrolled": true
   },
   "outputs": [
    {
     "data": {
      "text/html": [
       "<div>\n",
       "<style scoped>\n",
       "    .dataframe tbody tr th:only-of-type {\n",
       "        vertical-align: middle;\n",
       "    }\n",
       "\n",
       "    .dataframe tbody tr th {\n",
       "        vertical-align: top;\n",
       "    }\n",
       "\n",
       "    .dataframe thead th {\n",
       "        text-align: right;\n",
       "    }\n",
       "</style>\n",
       "<table border=\"1\" class=\"dataframe\">\n",
       "  <thead>\n",
       "    <tr style=\"text-align: right;\">\n",
       "      <th>Predicted Delays</th>\n",
       "      <th>0</th>\n",
       "      <th>1</th>\n",
       "      <th>2</th>\n",
       "    </tr>\n",
       "    <tr>\n",
       "      <th>Actual Delays</th>\n",
       "      <th></th>\n",
       "      <th></th>\n",
       "      <th></th>\n",
       "    </tr>\n",
       "  </thead>\n",
       "  <tbody>\n",
       "    <tr>\n",
       "      <th>0</th>\n",
       "      <td>277940</td>\n",
       "      <td>2590</td>\n",
       "      <td>2554</td>\n",
       "    </tr>\n",
       "    <tr>\n",
       "      <th>1</th>\n",
       "      <td>44885</td>\n",
       "      <td>21990</td>\n",
       "      <td>3074</td>\n",
       "    </tr>\n",
       "    <tr>\n",
       "      <th>2</th>\n",
       "      <td>58797</td>\n",
       "      <td>4803</td>\n",
       "      <td>4236</td>\n",
       "    </tr>\n",
       "  </tbody>\n",
       "</table>\n",
       "</div>"
      ],
      "text/plain": [
       "Predicted Delays       0      1     2\n",
       "Actual Delays                        \n",
       "0                 277940   2590  2554\n",
       "1                  44885  21990  3074\n",
       "2                  58797   4803  4236"
      ]
     },
     "execution_count": 23,
     "metadata": {},
     "output_type": "execute_result"
    }
   ],
   "source": [
    "pd.crosstab(y_transposed, predictions, rownames=[\"Actual Delays\"], colnames=[\"Predicted Delays\"])"
   ]
  },
  {
   "cell_type": "code",
   "execution_count": 39,
   "metadata": {},
   "outputs": [
    {
     "data": {
      "text/html": [
       "<div>\n",
       "<style scoped>\n",
       "    .dataframe tbody tr th:only-of-type {\n",
       "        vertical-align: middle;\n",
       "    }\n",
       "\n",
       "    .dataframe tbody tr th {\n",
       "        vertical-align: top;\n",
       "    }\n",
       "\n",
       "    .dataframe thead th {\n",
       "        text-align: right;\n",
       "    }\n",
       "</style>\n",
       "<table border=\"1\" class=\"dataframe\">\n",
       "  <thead>\n",
       "    <tr style=\"text-align: right;\">\n",
       "      <th></th>\n",
       "      <th>Model</th>\n",
       "      <th>Model Type</th>\n",
       "      <th>Features</th>\n",
       "      <th>Test Data R2</th>\n",
       "    </tr>\n",
       "  </thead>\n",
       "  <tbody>\n",
       "    <tr>\n",
       "      <th>0</th>\n",
       "      <td>Depature Delay</td>\n",
       "      <td>Scaled</td>\n",
       "      <td>10</td>\n",
       "      <td>0.73160</td>\n",
       "    </tr>\n",
       "    <tr>\n",
       "      <th>1</th>\n",
       "      <td>Departure Delay 15+ Minutes</td>\n",
       "      <td>Scaled</td>\n",
       "      <td>10</td>\n",
       "      <td>0.99000</td>\n",
       "    </tr>\n",
       "    <tr>\n",
       "      <th>2</th>\n",
       "      <td>Departure Delay 3 Categories</td>\n",
       "      <td>Scaled</td>\n",
       "      <td>10</td>\n",
       "      <td>0.70520</td>\n",
       "    </tr>\n",
       "    <tr>\n",
       "      <th>3</th>\n",
       "      <td>Arrival Delay</td>\n",
       "      <td>Scaled</td>\n",
       "      <td>18</td>\n",
       "      <td>0.88830</td>\n",
       "    </tr>\n",
       "    <tr>\n",
       "      <th>4</th>\n",
       "      <td></td>\n",
       "      <td>Scaled</td>\n",
       "      <td>18</td>\n",
       "      <td>0.80980</td>\n",
       "    </tr>\n",
       "    <tr>\n",
       "      <th>5</th>\n",
       "      <td></td>\n",
       "      <td>Scaled</td>\n",
       "      <td>8</td>\n",
       "      <td>0.84040</td>\n",
       "    </tr>\n",
       "    <tr>\n",
       "      <th>6</th>\n",
       "      <td></td>\n",
       "      <td>Scaled</td>\n",
       "      <td>3</td>\n",
       "      <td>0.83870</td>\n",
       "    </tr>\n",
       "    <tr>\n",
       "      <th>7</th>\n",
       "      <td>Arrival Delay 15+ Minutes</td>\n",
       "      <td>Scaled</td>\n",
       "      <td>26</td>\n",
       "      <td>0.88960</td>\n",
       "    </tr>\n",
       "    <tr>\n",
       "      <th>8</th>\n",
       "      <td>Arrival Delay 3 Categories</td>\n",
       "      <td>Scaled</td>\n",
       "      <td>18</td>\n",
       "      <td>0.72271</td>\n",
       "    </tr>\n",
       "  </tbody>\n",
       "</table>\n",
       "</div>"
      ],
      "text/plain": [
       "                          Model Model Type  Features  Test Data R2\n",
       "0                Depature Delay     Scaled        10       0.73160\n",
       "1   Departure Delay 15+ Minutes     Scaled        10       0.99000\n",
       "2  Departure Delay 3 Categories     Scaled        10       0.70520\n",
       "3                 Arrival Delay     Scaled        18       0.88830\n",
       "4                                   Scaled        18       0.80980\n",
       "5                                   Scaled         8       0.84040\n",
       "6                                   Scaled         3       0.83870\n",
       "7     Arrival Delay 15+ Minutes     Scaled        26       0.88960\n",
       "8    Arrival Delay 3 Categories     Scaled        18       0.72271"
      ]
     },
     "execution_count": 39,
     "metadata": {},
     "output_type": "execute_result"
    }
   ],
   "source": [
    "SGB_ML_outcomes = {\n",
    "    \"Model\": [\"Depature Delay\", \"Departure Delay 15+ Minutes\", \"Departure Delay 3 Categories\", \\\n",
    "              \"Arrival Delay\", \"\", \"\", \"\", \"Arrival Delay 15+ Minutes\", \"Arrival Delay 3 Categories\"],\n",
    "    \n",
    "    \"Model Type\": [\"Scaled\", \"Scaled\", \"Scaled\", \"Scaled\", \"Scaled\", \"Scaled\", \"Scaled\", \"Scaled\", \"Scaled\", ],\n",
    "    \n",
    "    \"Features\": [10, 10, 10, 18, 18, 8, 3, 26, 18],\n",
    "    \n",
    "    \"Test Data R2\": [.7316, .99, .7052, .8883, .8098, .8404, .8387, .8896, .72271]\n",
    "    \n",
    "                }\n",
    "\n",
    "SGB_ML_outcomes_df = pd.DataFrame(SGB_ML_outcomes)\n",
    "SGB_ML_outcomes_df"
   ]
  }
 ],
 "metadata": {
  "kernelspec": {
   "display_name": "Python 3",
   "language": "python",
   "name": "python3"
  },
  "language_info": {
   "codemirror_mode": {
    "name": "ipython",
    "version": 3
   },
   "file_extension": ".py",
   "mimetype": "text/x-python",
   "name": "python",
   "nbconvert_exporter": "python",
   "pygments_lexer": "ipython3",
   "version": "3.7.4"
  }
 },
 "nbformat": 4,
 "nbformat_minor": 2
}
