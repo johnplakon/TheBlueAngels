{
 "cells": [
  {
   "cell_type": "markdown",
   "metadata": {},
   "source": [
    "#### Here we will try to improve upon the remaining 3 models which have not hit at least 90% accuracy.  The 6 models tested are:\n",
    "\n",
    "\n",
    "1) Departure Delays -> 95.86%\n",
    "2) Departure Delays Over 15 Minutes -> 99%\n",
    "3) Departure Delays in 3 Categories: On Time, Delays under 15 Minutes, Delays over 15 Minutes -> 70.52%\n",
    "\n",
    "4) Arrival Delays -> 95.37%\n",
    "5) Arrival Delays Over 15 Minutes -> 83.73%\n",
    "6) Arrival Delays in 3 Categories: On Time, Delays under 15 Minutes, Delays over 15 Minutes -> 85.86%\n",
    "\n",
    "Models 3, 5 and 6 will be tested for improved R2 scores before being compared to the second quarter data for predictions."
   ]
  },
  {
   "cell_type": "code",
   "execution_count": 2,
   "metadata": {},
   "outputs": [],
   "source": [
    "import pandas as pd\n",
    "import numpy as np\n",
    "import seaborn as sns\n",
    "import matplotlib.pyplot as plt\n",
    "%matplotlib inline\n",
    "\n",
    "import seaborn as sns\n",
    "import time\n",
    "\n",
    "import warnings\n",
    "warnings.simplefilter('ignore')\n",
    "\n",
    "# RNG used for seeding\n",
    "rng = int(np.random.randint(low=1, high=2000, size=1))"
   ]
  },
  {
   "cell_type": "code",
   "execution_count": 3,
   "metadata": {},
   "outputs": [],
   "source": [
    "# Read in first quarter dataset\n",
    "delays_df = pd.read_csv(\"Delay_first_quarter1.csv\")"
   ]
  },
  {
   "cell_type": "code",
   "execution_count": 4,
   "metadata": {},
   "outputs": [],
   "source": [
    "# Do some additional cleaning\n",
    "delays_df = delays_df.fillna(0)"
   ]
  },
  {
   "cell_type": "code",
   "execution_count": 5,
   "metadata": {},
   "outputs": [],
   "source": [
    "# Fix the variable for arrival delay over 15 minutes \n",
    "delays_df[\"ARRIVAL_DELAY_OVER_15_MINUTES\"] = 1*np.ravel(delays_df[\"ARRIVAL_DELAY_TEST\"] == \"Long Delay\")"
   ]
  },
  {
   "cell_type": "markdown",
   "metadata": {},
   "source": [
    "#### TRY TO IMPROVE THE ARRIVAL DELAY 15+ MINUTES & 3 CATEGORIES ARRIVAL/DEPARTURE DELAY VARIABLES"
   ]
  },
  {
   "cell_type": "markdown",
   "metadata": {},
   "source": [
    "#### ARRIVAL DELAYS 3 CATEGORIES RANDOM FOREST 26 FEATURES (81.44%)"
   ]
  },
  {
   "cell_type": "code",
   "execution_count": 4,
   "metadata": {},
   "outputs": [
    {
     "name": "stdout",
     "output_type": "stream",
     "text": [
      "(1683475, 26) (1683475, 1)\n"
     ]
    }
   ],
   "source": [
    "# This model produced the best R2 score for arrival delays outside of linear regression model.\n",
    "# Try with 3 categories for delays.\n",
    "\n",
    "X = delays_df[[\"DAY\", \"MONTH\", \"DEP_TIME\", \"DEP_DELAY\", \"DEPARTURE_TIME_OF_DAY_DUMMY\", \\\n",
    "              \"OP_CARRIER_FL_NUM\", \"TAXI_OUT\", \"AIR_TIME\", \"TAXI_IN\", \"WHEELS_ON\", \"WHEELS_OFF\",\\\n",
    "              \"ARRIVAL_TIME_OF_DAY_DUMMY\", \"CARRIER_DELAY\", \"DISTANCE\", \"WEEKDAY_DUMMY\", \"AIRLINE_DUMMY\", \\\n",
    "       \"WEATHER_DELAY\", \"NAS_DELAY\", \"SECURITY_DELAY\", \"LATE_AIRCRAFT_DELAY\", \"CANCELLED\", \"DIVERTED\", \\\n",
    "              \"EAST_COAST_ORIGIN\", \"WEST_COAST_ORIGIN\", \"EAST_COAST_DEST\", \"WEST_COAST_DEST\",]]\n",
    "y = delays_df[\"ARRIVAL_DELAY_TEST\"].values.reshape(-1, 1)\n",
    "print(X.shape, y.shape)"
   ]
  },
  {
   "cell_type": "code",
   "execution_count": 5,
   "metadata": {},
   "outputs": [
    {
     "name": "stdout",
     "output_type": "stream",
     "text": [
      "1.1813807487487793 seconds\n"
     ]
    }
   ],
   "source": [
    "# Split for train and test datasets\n",
    "from sklearn.model_selection import train_test_split\n",
    "start = time.time()\n",
    "\n",
    "X_train, X_test, y_train, y_test = train_test_split(X, y, random_state=rng)\n",
    "end = time.time()\n",
    "print(f\"{end-start} seconds\")"
   ]
  },
  {
   "cell_type": "code",
   "execution_count": 6,
   "metadata": {},
   "outputs": [
    {
     "name": "stdout",
     "output_type": "stream",
     "text": [
      "199.17975568771362 seconds\n"
     ]
    }
   ],
   "source": [
    "# Set up the random forest classifier\n",
    "\n",
    "from sklearn.ensemble import RandomForestClassifier\n",
    "start = time.time()\n",
    "\n",
    "clf = RandomForestClassifier(n_estimators=100, max_depth=2, random_state=rng, oob_score=True)\n",
    "clf.fit(X_train, y_train)\n",
    "end = time.time()\n",
    "print(f\"{end-start} seconds\")"
   ]
  },
  {
   "cell_type": "code",
   "execution_count": 7,
   "metadata": {},
   "outputs": [
    {
     "name": "stdout",
     "output_type": "stream",
     "text": [
      "Accuracy Score: 81.44173127505233\n",
      "11.019038200378418 seconds\n"
     ]
    }
   ],
   "source": [
    "# Nope. Went down again.\n",
    "from sklearn.metrics import accuracy_score\n",
    "start = time.time()\n",
    "\n",
    "predictions = clf.predict(X_test)\n",
    "y_transposed = (np.transpose(y_test)).flatten()\n",
    "print(f\"Accuracy Score: {accuracy_score(y_test, predictions)*100}\")\n",
    "end = time.time()\n",
    "print(f\"{end-start} seconds\")"
   ]
  },
  {
   "cell_type": "code",
   "execution_count": 8,
   "metadata": {
    "scrolled": true
   },
   "outputs": [
    {
     "data": {
      "text/html": [
       "<div>\n",
       "<style scoped>\n",
       "    .dataframe tbody tr th:only-of-type {\n",
       "        vertical-align: middle;\n",
       "    }\n",
       "\n",
       "    .dataframe tbody tr th {\n",
       "        vertical-align: top;\n",
       "    }\n",
       "\n",
       "    .dataframe thead th {\n",
       "        text-align: right;\n",
       "    }\n",
       "</style>\n",
       "<table border=\"1\" class=\"dataframe\">\n",
       "  <thead>\n",
       "    <tr style=\"text-align: right;\">\n",
       "      <th>Predicted Delays</th>\n",
       "      <th>Long Delay</th>\n",
       "      <th>On Time</th>\n",
       "    </tr>\n",
       "    <tr>\n",
       "      <th>Actual Delays</th>\n",
       "      <th></th>\n",
       "      <th></th>\n",
       "    </tr>\n",
       "  </thead>\n",
       "  <tbody>\n",
       "    <tr>\n",
       "      <th>Long Delay</th>\n",
       "      <td>59309</td>\n",
       "      <td>10246</td>\n",
       "    </tr>\n",
       "    <tr>\n",
       "      <th>On Time</th>\n",
       "      <td>0</td>\n",
       "      <td>283454</td>\n",
       "    </tr>\n",
       "    <tr>\n",
       "      <th>Small Delay</th>\n",
       "      <td>1644</td>\n",
       "      <td>66216</td>\n",
       "    </tr>\n",
       "  </tbody>\n",
       "</table>\n",
       "</div>"
      ],
      "text/plain": [
       "Predicted Delays  Long Delay  On Time\n",
       "Actual Delays                        \n",
       "Long Delay             59309    10246\n",
       "On Time                    0   283454\n",
       "Small Delay             1644    66216"
      ]
     },
     "execution_count": 8,
     "metadata": {},
     "output_type": "execute_result"
    }
   ],
   "source": [
    "pd.crosstab(y_transposed, predictions, rownames=[\"Actual Delays\"], colnames=[\"Predicted Delays\"])"
   ]
  },
  {
   "cell_type": "code",
   "execution_count": 10,
   "metadata": {},
   "outputs": [
    {
     "data": {
      "text/html": [
       "<div>\n",
       "<style scoped>\n",
       "    .dataframe tbody tr th:only-of-type {\n",
       "        vertical-align: middle;\n",
       "    }\n",
       "\n",
       "    .dataframe tbody tr th {\n",
       "        vertical-align: top;\n",
       "    }\n",
       "\n",
       "    .dataframe thead tr th {\n",
       "        text-align: left;\n",
       "    }\n",
       "</style>\n",
       "<table border=\"1\" class=\"dataframe\">\n",
       "  <thead>\n",
       "    <tr>\n",
       "      <th></th>\n",
       "      <th>index</th>\n",
       "      <th>Importance</th>\n",
       "    </tr>\n",
       "  </thead>\n",
       "  <tbody>\n",
       "    <tr>\n",
       "      <th>0</th>\n",
       "      <td>DAY</td>\n",
       "      <td>1.619994e-07</td>\n",
       "    </tr>\n",
       "    <tr>\n",
       "      <th>1</th>\n",
       "      <td>MONTH</td>\n",
       "      <td>0.000000e+00</td>\n",
       "    </tr>\n",
       "    <tr>\n",
       "      <th>2</th>\n",
       "      <td>DEP_TIME</td>\n",
       "      <td>2.531886e-02</td>\n",
       "    </tr>\n",
       "    <tr>\n",
       "      <th>3</th>\n",
       "      <td>DEP_DELAY</td>\n",
       "      <td>2.863979e-01</td>\n",
       "    </tr>\n",
       "    <tr>\n",
       "      <th>4</th>\n",
       "      <td>DEPARTURE_TIME_OF_DAY_DUMMY</td>\n",
       "      <td>4.077417e-03</td>\n",
       "    </tr>\n",
       "    <tr>\n",
       "      <th>5</th>\n",
       "      <td>OP_CARRIER_FL_NUM</td>\n",
       "      <td>2.010768e-03</td>\n",
       "    </tr>\n",
       "    <tr>\n",
       "      <th>6</th>\n",
       "      <td>TAXI_OUT</td>\n",
       "      <td>5.357769e-02</td>\n",
       "    </tr>\n",
       "    <tr>\n",
       "      <th>7</th>\n",
       "      <td>AIR_TIME</td>\n",
       "      <td>1.453767e-02</td>\n",
       "    </tr>\n",
       "    <tr>\n",
       "      <th>8</th>\n",
       "      <td>TAXI_IN</td>\n",
       "      <td>1.859486e-02</td>\n",
       "    </tr>\n",
       "    <tr>\n",
       "      <th>9</th>\n",
       "      <td>WHEELS_ON</td>\n",
       "      <td>6.678716e-03</td>\n",
       "    </tr>\n",
       "    <tr>\n",
       "      <th>10</th>\n",
       "      <td>WHEELS_OFF</td>\n",
       "      <td>2.068896e-02</td>\n",
       "    </tr>\n",
       "    <tr>\n",
       "      <th>11</th>\n",
       "      <td>ARRIVAL_TIME_OF_DAY_DUMMY</td>\n",
       "      <td>1.375487e-04</td>\n",
       "    </tr>\n",
       "    <tr>\n",
       "      <th>12</th>\n",
       "      <td>CARRIER_DELAY</td>\n",
       "      <td>1.802134e-01</td>\n",
       "    </tr>\n",
       "    <tr>\n",
       "      <th>13</th>\n",
       "      <td>DISTANCE</td>\n",
       "      <td>1.157330e-04</td>\n",
       "    </tr>\n",
       "    <tr>\n",
       "      <th>14</th>\n",
       "      <td>WEEKDAY_DUMMY</td>\n",
       "      <td>0.000000e+00</td>\n",
       "    </tr>\n",
       "    <tr>\n",
       "      <th>15</th>\n",
       "      <td>AIRLINE_DUMMY</td>\n",
       "      <td>1.372653e-04</td>\n",
       "    </tr>\n",
       "    <tr>\n",
       "      <th>16</th>\n",
       "      <td>WEATHER_DELAY</td>\n",
       "      <td>3.287991e-02</td>\n",
       "    </tr>\n",
       "    <tr>\n",
       "      <th>17</th>\n",
       "      <td>NAS_DELAY</td>\n",
       "      <td>2.081206e-01</td>\n",
       "    </tr>\n",
       "    <tr>\n",
       "      <th>18</th>\n",
       "      <td>SECURITY_DELAY</td>\n",
       "      <td>0.000000e+00</td>\n",
       "    </tr>\n",
       "    <tr>\n",
       "      <th>19</th>\n",
       "      <td>LATE_AIRCRAFT_DELAY</td>\n",
       "      <td>1.437989e-01</td>\n",
       "    </tr>\n",
       "    <tr>\n",
       "      <th>20</th>\n",
       "      <td>CANCELLED</td>\n",
       "      <td>2.713305e-03</td>\n",
       "    </tr>\n",
       "    <tr>\n",
       "      <th>21</th>\n",
       "      <td>DIVERTED</td>\n",
       "      <td>0.000000e+00</td>\n",
       "    </tr>\n",
       "    <tr>\n",
       "      <th>22</th>\n",
       "      <td>EAST_COAST_ORIGIN</td>\n",
       "      <td>8.484699e-08</td>\n",
       "    </tr>\n",
       "    <tr>\n",
       "      <th>23</th>\n",
       "      <td>WEST_COAST_ORIGIN</td>\n",
       "      <td>1.141960e-07</td>\n",
       "    </tr>\n",
       "    <tr>\n",
       "      <th>24</th>\n",
       "      <td>EAST_COAST_DEST</td>\n",
       "      <td>1.504776e-07</td>\n",
       "    </tr>\n",
       "    <tr>\n",
       "      <th>25</th>\n",
       "      <td>WEST_COAST_DEST</td>\n",
       "      <td>0.000000e+00</td>\n",
       "    </tr>\n",
       "  </tbody>\n",
       "</table>\n",
       "</div>"
      ],
      "text/plain": [
       "                          index    Importance\n",
       "0                           DAY  1.619994e-07\n",
       "1                         MONTH  0.000000e+00\n",
       "2                      DEP_TIME  2.531886e-02\n",
       "3                     DEP_DELAY  2.863979e-01\n",
       "4   DEPARTURE_TIME_OF_DAY_DUMMY  4.077417e-03\n",
       "5             OP_CARRIER_FL_NUM  2.010768e-03\n",
       "6                      TAXI_OUT  5.357769e-02\n",
       "7                      AIR_TIME  1.453767e-02\n",
       "8                       TAXI_IN  1.859486e-02\n",
       "9                     WHEELS_ON  6.678716e-03\n",
       "10                   WHEELS_OFF  2.068896e-02\n",
       "11    ARRIVAL_TIME_OF_DAY_DUMMY  1.375487e-04\n",
       "12                CARRIER_DELAY  1.802134e-01\n",
       "13                     DISTANCE  1.157330e-04\n",
       "14                WEEKDAY_DUMMY  0.000000e+00\n",
       "15                AIRLINE_DUMMY  1.372653e-04\n",
       "16                WEATHER_DELAY  3.287991e-02\n",
       "17                    NAS_DELAY  2.081206e-01\n",
       "18               SECURITY_DELAY  0.000000e+00\n",
       "19          LATE_AIRCRAFT_DELAY  1.437989e-01\n",
       "20                    CANCELLED  2.713305e-03\n",
       "21                     DIVERTED  0.000000e+00\n",
       "22            EAST_COAST_ORIGIN  8.484699e-08\n",
       "23            WEST_COAST_ORIGIN  1.141960e-07\n",
       "24              EAST_COAST_DEST  1.504776e-07\n",
       "25              WEST_COAST_DEST  0.000000e+00"
      ]
     },
     "execution_count": 10,
     "metadata": {},
     "output_type": "execute_result"
    }
   ],
   "source": [
    "# See if feature importances yields any interesting information\n",
    "importance_df = pd.DataFrame(clf.feature_importances_, X.columns, columns=[[\"Importance\"]]).reset_index()\n",
    "importance_df"
   ]
  },
  {
   "cell_type": "markdown",
   "metadata": {},
   "source": [
    "#### ARRIVAL DELAYS 3 CATEGORIES LOGISTIC 26 FEATURES (88.62%)"
   ]
  },
  {
   "cell_type": "code",
   "execution_count": 44,
   "metadata": {},
   "outputs": [
    {
     "name": "stdout",
     "output_type": "stream",
     "text": [
      "(1683475, 26) (1683475, 1)\n"
     ]
    }
   ],
   "source": [
    "X = delays_df[[\"DAY\", \"MONTH\", \"DEP_TIME\", \"DEP_DELAY\", \"DEPARTURE_DELAY_DUMMY\", \\\n",
    "              \"OP_CARRIER_FL_NUM\", \"TAXI_OUT\", \"AIR_TIME\", \"TAXI_IN\", \"WHEELS_ON\", \"WHEELS_OFF\",\\\n",
    "              \"ARRIVAL_TIME_OF_DAY_DUMMY\", \"CARRIER_DELAY\", \"DISTANCE\", \"WEEKDAY_DUMMY\", \"AIRLINE_DUMMY\", \\\n",
    "       \"WEATHER_DELAY\", \"NAS_DELAY\", \"SECURITY_DELAY\", \"LATE_AIRCRAFT_DELAY\", \"CANCELLED\", \"DIVERTED\", \\\n",
    "              \"EAST_COAST_ORIGIN\", \"WEST_COAST_ORIGIN\", \"EAST_COAST_DEST\", \"WEST_COAST_DEST\"]]\n",
    "y = delays_df[\"ARRIVAL_DELAY_TEST\"].values.reshape(-1, 1)\n",
    "print(X.shape, y.shape)"
   ]
  },
  {
   "cell_type": "code",
   "execution_count": 45,
   "metadata": {},
   "outputs": [
    {
     "name": "stdout",
     "output_type": "stream",
     "text": [
      "1.295076608657837 seconds\n"
     ]
    }
   ],
   "source": [
    "# Split for train and test datasets\n",
    "from sklearn.model_selection import train_test_split\n",
    "start = time.time()\n",
    "\n",
    "X_train, X_test, y_train, y_test = train_test_split(X, y, random_state=rng)\n",
    "end = time.time()\n",
    "print(f\"{end-start} seconds\")"
   ]
  },
  {
   "cell_type": "code",
   "execution_count": 46,
   "metadata": {},
   "outputs": [
    {
     "name": "stdout",
     "output_type": "stream",
     "text": [
      "464.55329418182373 seconds\n"
     ]
    }
   ],
   "source": [
    "# Set up the logistic regression classifier\n",
    "\n",
    "from sklearn.linear_model import LogisticRegression\n",
    "start = time.time()\n",
    "\n",
    "classifier = LogisticRegression(penalty='l2')\n",
    "classifier.fit(X_train, y_train)\n",
    "end = time.time()\n",
    "print(f\"{end-start} seconds\")"
   ]
  },
  {
   "cell_type": "code",
   "execution_count": 47,
   "metadata": {},
   "outputs": [
    {
     "name": "stdout",
     "output_type": "stream",
     "text": [
      "Accuracy Score: 88.62187521532829\n",
      "1.5945193767547607 seconds\n"
     ]
    }
   ],
   "source": [
    "\n",
    "from sklearn.metrics import accuracy_score\n",
    "start = time.time()\n",
    "\n",
    "predictions = classifier.predict(X_test)\n",
    "y_transposed = (np.transpose(y_test)).flatten()\n",
    "print(f\"Accuracy Score: {accuracy_score(y_test, predictions)*100}\")\n",
    "end = time.time()\n",
    "print(f\"{end-start} seconds\")"
   ]
  },
  {
   "cell_type": "code",
   "execution_count": 48,
   "metadata": {
    "scrolled": true
   },
   "outputs": [
    {
     "data": {
      "text/html": [
       "<div>\n",
       "<style scoped>\n",
       "    .dataframe tbody tr th:only-of-type {\n",
       "        vertical-align: middle;\n",
       "    }\n",
       "\n",
       "    .dataframe tbody tr th {\n",
       "        vertical-align: top;\n",
       "    }\n",
       "\n",
       "    .dataframe thead th {\n",
       "        text-align: right;\n",
       "    }\n",
       "</style>\n",
       "<table border=\"1\" class=\"dataframe\">\n",
       "  <thead>\n",
       "    <tr style=\"text-align: right;\">\n",
       "      <th>Predicted Delays</th>\n",
       "      <th>Long Delay</th>\n",
       "      <th>On Time</th>\n",
       "      <th>Small Delay</th>\n",
       "    </tr>\n",
       "    <tr>\n",
       "      <th>Actual Delays</th>\n",
       "      <th></th>\n",
       "      <th></th>\n",
       "      <th></th>\n",
       "    </tr>\n",
       "  </thead>\n",
       "  <tbody>\n",
       "    <tr>\n",
       "      <th>Long Delay</th>\n",
       "      <td>69807</td>\n",
       "      <td>2</td>\n",
       "      <td>80</td>\n",
       "    </tr>\n",
       "    <tr>\n",
       "      <th>On Time</th>\n",
       "      <td>0</td>\n",
       "      <td>272123</td>\n",
       "      <td>11062</td>\n",
       "    </tr>\n",
       "    <tr>\n",
       "      <th>Small Delay</th>\n",
       "      <td>2604</td>\n",
       "      <td>34139</td>\n",
       "      <td>31052</td>\n",
       "    </tr>\n",
       "  </tbody>\n",
       "</table>\n",
       "</div>"
      ],
      "text/plain": [
       "Predicted Delays  Long Delay  On Time  Small Delay\n",
       "Actual Delays                                     \n",
       "Long Delay             69807        2           80\n",
       "On Time                    0   272123        11062\n",
       "Small Delay             2604    34139        31052"
      ]
     },
     "execution_count": 48,
     "metadata": {},
     "output_type": "execute_result"
    }
   ],
   "source": [
    "pd.crosstab(y_transposed, predictions, rownames=[\"Actual Delays\"], colnames=[\"Predicted Delays\"])"
   ]
  },
  {
   "cell_type": "markdown",
   "metadata": {},
   "source": [
    "#### ARRIVAL DELAYS 3 CATEGORIES LOGISTIC 32 FEATURES (89.81%)  [BEST WORKING MODEL]"
   ]
  },
  {
   "cell_type": "code",
   "execution_count": 63,
   "metadata": {
    "scrolled": true
   },
   "outputs": [
    {
     "name": "stdout",
     "output_type": "stream",
     "text": [
      "(1683475, 32) (1683475, 1)\n"
     ]
    }
   ],
   "source": [
    "# Add more features to improve the model.\n",
    "\n",
    "X = delays_df[[\"DAY\", \"MONTH\", \"DEP_TIME\", \"DEP_DELAY\", \"DEPARTURE_DELAY_DUMMY\", \"DEPARTURE_TIME_OF_DAY_DUMMY\", \\\n",
    "              \"OP_CARRIER_FL_NUM\", \"TAXI_OUT\", \"AIR_TIME\", \"TAXI_IN\", \"WHEELS_ON\", \"WHEELS_OFF\",\\\n",
    "              \"ARRIVAL_TIME_OF_DAY_DUMMY\", \"CARRIER_DELAY\", \"DISTANCE\", \"WEEKDAY_DUMMY\", \"AIRLINE_DUMMY\", \\\n",
    "              \"WEATHER_DELAY\", \"NAS_DELAY\", \"SECURITY_DELAY\", \"LATE_AIRCRAFT_DELAY\", \"CANCELLED\", \"DIVERTED\", \\\n",
    "              \"EAST_COAST_ORIGIN\", \"WEST_COAST_ORIGIN\", \"EAST_COAST_DEST\", \"WEST_COAST_DEST\", \"CRS_ARR_TIME\",\n",
    "              'ORIGIN_LATITUDE', 'ORIGIN_LONGITUDE', 'DEST_LATITUDE', 'DEST_LONGITUDE']]\n",
    "y = delays_df[\"ARRIVAL_DELAY_TEST\"].values.reshape(-1, 1)\n",
    "print(X.shape, y.shape)"
   ]
  },
  {
   "cell_type": "code",
   "execution_count": 57,
   "metadata": {},
   "outputs": [
    {
     "data": {
      "text/plain": [
       "Index(['FL_DATE', 'DAY', 'MONTH', 'WEEKDAY', 'OP_CARRIER', 'AIRLINE',\n",
       "       'OP_CARRIER_FL_NUM', 'ORIGIN', 'ORIGIN_AIRPORT', 'ORIGIN_CITY',\n",
       "       'ORIGIN_STATE', 'ORIGIN_LATITUDE', 'ORIGIN_LONGITUDE',\n",
       "       'EAST_COAST_ORIGIN', 'WEST_COAST_ORIGIN', 'CRS_DEP_TIME', 'DEP_TIME',\n",
       "       'DEPARTURE_TIME_OF_DAY', 'DEPARTURE_TIME_OF_DAY_DUMMY', 'DEP_DELAY',\n",
       "       'DEPARTURE_DELAY', 'DEPARTURE_DELAY_OVER_15_MINUTES',\n",
       "       'DEPARTURE_DELAY_OVER_30_MINUTES', 'DEPARTURE_DELAY_OVER_45_MINUTES',\n",
       "       'DEPARTURE_DELAY_OVER_60_MINUTES', 'TAXI_OUT', 'WHEELS_OFF', 'AIR_TIME',\n",
       "       'CRS_ELAPSED_TIME', 'ACTUAL_ELAPSED_TIME', 'DISTANCE', 'WHEELS_ON',\n",
       "       'TAXI_IN', 'DEST', 'DEST_AIRPORT', 'DEST_CITY', 'DEST_STATE',\n",
       "       'DEST_LATITUDE', 'DEST_LONGITUDE', 'EAST_COAST_DEST', 'WEST_COAST_DEST',\n",
       "       'CRS_ARR_TIME', 'ARR_TIME', 'ARR_DELAY', 'ARRIVAL_DELAY',\n",
       "       'ARRIVAL_DELAY_OVER_15_MINUTES', 'ARRIVAL_DELAY_OVER_30_MINUTES',\n",
       "       'ARRIVAL_DELAY_OVER_45_MINUTES', 'ARRIVAL_DELAY_OVER_60_MINUTES',\n",
       "       'ARRIVAL_DELAY_OVER_60_MINUTES.1', 'ARRIVAL_TIME_OF_DAY',\n",
       "       'ARRIVAL_TIME_OF_DAY_DUMMY', 'CANCELLED', 'DIVERTED', 'CARRIER_DELAY',\n",
       "       'WEATHER_DELAY', 'NAS_DELAY', 'SECURITY_DELAY', 'LATE_AIRCRAFT_DELAY',\n",
       "       'WEEKDAY_DUMMY', 'AIRLINE_DUMMY', 'DEPARTURE_DELAY_DUMMY',\n",
       "       'ARRIVAL_DELAY_DUMMY', 'DEPARTURE_DELAY_TEST', 'ARRIVAL_DELAY_TEST'],\n",
       "      dtype='object')"
      ]
     },
     "execution_count": 57,
     "metadata": {},
     "output_type": "execute_result"
    }
   ],
   "source": [
    "delays_df.columns"
   ]
  },
  {
   "cell_type": "code",
   "execution_count": 52,
   "metadata": {},
   "outputs": [
    {
     "name": "stdout",
     "output_type": "stream",
     "text": [
      "1.5891118049621582 seconds\n"
     ]
    }
   ],
   "source": [
    "# Split for train and test datasets\n",
    "from sklearn.model_selection import train_test_split\n",
    "start = time.time()\n",
    "\n",
    "X_train, X_test, y_train, y_test = train_test_split(X, y, random_state=rng)\n",
    "end = time.time()\n",
    "print(f\"{end-start} seconds\")"
   ]
  },
  {
   "cell_type": "code",
   "execution_count": 53,
   "metadata": {},
   "outputs": [
    {
     "name": "stdout",
     "output_type": "stream",
     "text": [
      "494.2785077095032 seconds\n"
     ]
    }
   ],
   "source": [
    "# Set up the logistic regression classifier\n",
    "\n",
    "from sklearn.linear_model import LogisticRegression\n",
    "start = time.time()\n",
    "\n",
    "classifier = LogisticRegression(penalty='l2')\n",
    "classifier.fit(X_train, y_train)\n",
    "end = time.time()\n",
    "print(f\"{end-start} seconds\")"
   ]
  },
  {
   "cell_type": "code",
   "execution_count": 54,
   "metadata": {},
   "outputs": [
    {
     "name": "stdout",
     "output_type": "stream",
     "text": [
      "Accuracy Score: 89.81488301585529\n",
      "1.4657037258148193 seconds\n"
     ]
    }
   ],
   "source": [
    "# 89.81%! SO CLOSE!\n",
    "from sklearn.metrics import accuracy_score\n",
    "start = time.time()\n",
    "\n",
    "predictions = classifier.predict(X_test)\n",
    "y_transposed = (np.transpose(y_test)).flatten()\n",
    "print(f\"Accuracy Score: {accuracy_score(y_test, predictions)*100}\")\n",
    "end = time.time()\n",
    "print(f\"{end-start} seconds\")"
   ]
  },
  {
   "cell_type": "code",
   "execution_count": 55,
   "metadata": {
    "scrolled": true
   },
   "outputs": [
    {
     "data": {
      "text/html": [
       "<div>\n",
       "<style scoped>\n",
       "    .dataframe tbody tr th:only-of-type {\n",
       "        vertical-align: middle;\n",
       "    }\n",
       "\n",
       "    .dataframe tbody tr th {\n",
       "        vertical-align: top;\n",
       "    }\n",
       "\n",
       "    .dataframe thead th {\n",
       "        text-align: right;\n",
       "    }\n",
       "</style>\n",
       "<table border=\"1\" class=\"dataframe\">\n",
       "  <thead>\n",
       "    <tr style=\"text-align: right;\">\n",
       "      <th>Predicted Delays</th>\n",
       "      <th>Long Delay</th>\n",
       "      <th>On Time</th>\n",
       "      <th>Small Delay</th>\n",
       "    </tr>\n",
       "    <tr>\n",
       "      <th>Actual Delays</th>\n",
       "      <th></th>\n",
       "      <th></th>\n",
       "      <th></th>\n",
       "    </tr>\n",
       "  </thead>\n",
       "  <tbody>\n",
       "    <tr>\n",
       "      <th>Long Delay</th>\n",
       "      <td>69824</td>\n",
       "      <td>10</td>\n",
       "      <td>55</td>\n",
       "    </tr>\n",
       "    <tr>\n",
       "      <th>On Time</th>\n",
       "      <td>0</td>\n",
       "      <td>270618</td>\n",
       "      <td>12567</td>\n",
       "    </tr>\n",
       "    <tr>\n",
       "      <th>Small Delay</th>\n",
       "      <td>2580</td>\n",
       "      <td>27654</td>\n",
       "      <td>37561</td>\n",
       "    </tr>\n",
       "  </tbody>\n",
       "</table>\n",
       "</div>"
      ],
      "text/plain": [
       "Predicted Delays  Long Delay  On Time  Small Delay\n",
       "Actual Delays                                     \n",
       "Long Delay             69824       10           55\n",
       "On Time                    0   270618        12567\n",
       "Small Delay             2580    27654        37561"
      ]
     },
     "execution_count": 55,
     "metadata": {},
     "output_type": "execute_result"
    }
   ],
   "source": [
    "pd.crosstab(y_transposed, predictions, rownames=[\"Actual Delays\"], colnames=[\"Predicted Delays\"])"
   ]
  },
  {
   "cell_type": "markdown",
   "metadata": {},
   "source": [
    "#### ARRIVAL DELAYS 3 CATEGORIES LOGISTIC 34 FEATURES (89.81%)"
   ]
  },
  {
   "cell_type": "code",
   "execution_count": 59,
   "metadata": {},
   "outputs": [
    {
     "name": "stdout",
     "output_type": "stream",
     "text": [
      "(1683475, 34) (1683475, 1)\n"
     ]
    }
   ],
   "source": [
    "# Add 2 more features\n",
    "\n",
    "X = delays_df[[\"DAY\", \"MONTH\", \"DEP_TIME\", \"DEP_DELAY\", \"DEPARTURE_DELAY_DUMMY\", \"DEPARTURE_TIME_OF_DAY_DUMMY\", \\\n",
    "              \"OP_CARRIER_FL_NUM\", \"TAXI_OUT\", \"AIR_TIME\", \"TAXI_IN\", \"WHEELS_ON\", \"WHEELS_OFF\", \"CRS_DEP_TIME\",\\\n",
    "              \"ARRIVAL_TIME_OF_DAY_DUMMY\", \"CARRIER_DELAY\", \"DISTANCE\", \"WEEKDAY_DUMMY\", \"AIRLINE_DUMMY\", \\\n",
    "              \"WEATHER_DELAY\", \"NAS_DELAY\", \"SECURITY_DELAY\", \"LATE_AIRCRAFT_DELAY\", \"CANCELLED\", \"DIVERTED\", \\\n",
    "              \"EAST_COAST_ORIGIN\", \"WEST_COAST_ORIGIN\", \"EAST_COAST_DEST\", \"WEST_COAST_DEST\", \"CRS_ARR_TIME\",\n",
    "              'ORIGIN_LATITUDE', 'ORIGIN_LONGITUDE', 'DEST_LATITUDE', 'DEST_LONGITUDE', 'DEPARTURE_DELAY_OVER_15_MINUTES']]\n",
    "y = delays_df[\"ARRIVAL_DELAY_TEST\"].values.reshape(-1, 1)\n",
    "print(X.shape, y.shape)"
   ]
  },
  {
   "cell_type": "code",
   "execution_count": 60,
   "metadata": {},
   "outputs": [
    {
     "name": "stdout",
     "output_type": "stream",
     "text": [
      "1.645864486694336 seconds\n"
     ]
    }
   ],
   "source": [
    "# Split for train and test datasets\n",
    "from sklearn.model_selection import train_test_split\n",
    "start = time.time()\n",
    "\n",
    "X_train, X_test, y_train, y_test = train_test_split(X, y, random_state=rng)\n",
    "end = time.time()\n",
    "print(f\"{end-start} seconds\")"
   ]
  },
  {
   "cell_type": "code",
   "execution_count": 61,
   "metadata": {},
   "outputs": [
    {
     "name": "stdout",
     "output_type": "stream",
     "text": [
      "679.0673863887787 seconds\n"
     ]
    }
   ],
   "source": [
    "# Set up the logistic regression classifier\n",
    "\n",
    "from sklearn.linear_model import LogisticRegression\n",
    "start = time.time()\n",
    "\n",
    "classifier = LogisticRegression(penalty='l2')\n",
    "classifier.fit(X_train, y_train)\n",
    "end = time.time()\n",
    "print(f\"{end-start} seconds\")"
   ]
  },
  {
   "cell_type": "code",
   "execution_count": 62,
   "metadata": {},
   "outputs": [
    {
     "name": "stdout",
     "output_type": "stream",
     "text": [
      "Accuracy Score: 89.7911226533672\n",
      "1.4984793663024902 seconds\n"
     ]
    }
   ],
   "source": [
    "# DANG. 89.79%. So close.\n",
    "from sklearn.metrics import accuracy_score\n",
    "start = time.time()\n",
    "\n",
    "predictions = classifier.predict(X_test)\n",
    "y_transposed = (np.transpose(y_test)).flatten()\n",
    "print(f\"Accuracy Score: {accuracy_score(y_test, predictions)*100}\")\n",
    "end = time.time()\n",
    "print(f\"{end-start} seconds\")"
   ]
  },
  {
   "cell_type": "code",
   "execution_count": null,
   "metadata": {},
   "outputs": [],
   "source": [
    "pd.crosstab(y_transposed, predictions, rownames=[\"Actual Delays\"], colnames=[\"Predicted Delays\"])"
   ]
  },
  {
   "cell_type": "markdown",
   "metadata": {},
   "source": [
    "#### ARRIVAL DELAYS OVER 15 MINUTES 26 FEATURES SCALED SGBOOSTER (99.77%) [BEST WORKING MODEL]"
   ]
  },
  {
   "cell_type": "code",
   "execution_count": 14,
   "metadata": {},
   "outputs": [
    {
     "name": "stdout",
     "output_type": "stream",
     "text": [
      "(1683475, 26) (1683475, 1)\n"
     ]
    }
   ],
   "source": [
    "# Try out the arrival delays over 15 minutes\n",
    "\n",
    "X = delays_df[[\"DAY\", \"MONTH\", \"DEP_TIME\", \"DEP_DELAY\", \"DEPARTURE_TIME_OF_DAY_DUMMY\", \\\n",
    "              \"OP_CARRIER_FL_NUM\", \"TAXI_OUT\", \"AIR_TIME\", \"TAXI_IN\", \"WHEELS_ON\", \"WHEELS_OFF\",\\\n",
    "              \"ARRIVAL_TIME_OF_DAY_DUMMY\", \"CARRIER_DELAY\", \"DISTANCE\", \"WEEKDAY_DUMMY\", \"AIRLINE_DUMMY\", \\\n",
    "       \"WEATHER_DELAY\", \"NAS_DELAY\", \"SECURITY_DELAY\", \"LATE_AIRCRAFT_DELAY\", \"CANCELLED\", \"DIVERTED\", \\\n",
    "              \"EAST_COAST_ORIGIN\", \"WEST_COAST_ORIGIN\", \"EAST_COAST_DEST\", \"WEST_COAST_DEST\",]]\n",
    "y = delays_df[\"ARRIVAL_DELAY_OVER_15_MINUTES\"].values.reshape(-1, 1)\n",
    "print(X.shape, y.shape)"
   ]
  },
  {
   "cell_type": "code",
   "execution_count": 15,
   "metadata": {},
   "outputs": [
    {
     "name": "stdout",
     "output_type": "stream",
     "text": [
      "1.1578106880187988 seconds\n"
     ]
    }
   ],
   "source": [
    "# Split for train and test datasets\n",
    "from sklearn.model_selection import train_test_split\n",
    "start = time.time()\n",
    "\n",
    "X_train, X_test, y_train, y_test = train_test_split(X, y, random_state=rng)\n",
    "end = time.time()\n",
    "print(f\"{end-start} seconds\")"
   ]
  },
  {
   "cell_type": "code",
   "execution_count": 16,
   "metadata": {},
   "outputs": [
    {
     "name": "stdout",
     "output_type": "stream",
     "text": [
      "1.832472801208496 seconds\n"
     ]
    }
   ],
   "source": [
    "# Try out a min/max scaler for the data\n",
    "from sklearn.preprocessing import MinMaxScaler\n",
    "start = time.time()\n",
    "\n",
    "scaler = MinMaxScaler()\n",
    "X_train = scaler.fit_transform(X_train)\n",
    "X_test = scaler.transform(X_test)\n",
    "end = time.time()\n",
    "print(f\"{end-start} seconds\")"
   ]
  },
  {
   "cell_type": "code",
   "execution_count": 17,
   "metadata": {},
   "outputs": [
    {
     "name": "stdout",
     "output_type": "stream",
     "text": [
      "418.4396855831146 seconds\n"
     ]
    }
   ],
   "source": [
    "# Set up and fit the Gradient Booster\n",
    "\n",
    "from sklearn.ensemble import GradientBoostingClassifier\n",
    "start = time.time()\n",
    "\n",
    "gbc = GradientBoostingClassifier(n_estimators=100, random_state=rng)\n",
    "gbc.fit(X_train, y_train)\n",
    "end = time.time()\n",
    "print(f\"{end-start} seconds\")"
   ]
  },
  {
   "cell_type": "code",
   "execution_count": 18,
   "metadata": {},
   "outputs": [
    {
     "name": "stdout",
     "output_type": "stream",
     "text": [
      "Accuracy Score: 99.76667324036696\n",
      "2.424741268157959 seconds\n"
     ]
    }
   ],
   "source": [
    "# This is the best of the bunch for arrival delays\n",
    "from sklearn.metrics import accuracy_score\n",
    "start = time.time()\n",
    "\n",
    "predictions = gbc.predict(X_test)\n",
    "prediction_p = gbc.predict_proba(X_test)\n",
    "y_transposed = (np.transpose(y_test)).flatten()\n",
    "print(f\"Accuracy Score: {accuracy_score(y_transposed, predictions)*100}\")\n",
    "end = time.time()\n",
    "print(f\"{end-start} seconds\")"
   ]
  },
  {
   "cell_type": "code",
   "execution_count": 19,
   "metadata": {
    "scrolled": true
   },
   "outputs": [
    {
     "data": {
      "text/html": [
       "<div>\n",
       "<style scoped>\n",
       "    .dataframe tbody tr th:only-of-type {\n",
       "        vertical-align: middle;\n",
       "    }\n",
       "\n",
       "    .dataframe tbody tr th {\n",
       "        vertical-align: top;\n",
       "    }\n",
       "\n",
       "    .dataframe thead th {\n",
       "        text-align: right;\n",
       "    }\n",
       "</style>\n",
       "<table border=\"1\" class=\"dataframe\">\n",
       "  <thead>\n",
       "    <tr style=\"text-align: right;\">\n",
       "      <th>Predicted Delays</th>\n",
       "      <th>0</th>\n",
       "      <th>1</th>\n",
       "    </tr>\n",
       "    <tr>\n",
       "      <th>Actual Delays</th>\n",
       "      <th></th>\n",
       "      <th></th>\n",
       "    </tr>\n",
       "  </thead>\n",
       "  <tbody>\n",
       "    <tr>\n",
       "      <th>0</th>\n",
       "      <td>350081</td>\n",
       "      <td>886</td>\n",
       "    </tr>\n",
       "    <tr>\n",
       "      <th>1</th>\n",
       "      <td>96</td>\n",
       "      <td>69806</td>\n",
       "    </tr>\n",
       "  </tbody>\n",
       "</table>\n",
       "</div>"
      ],
      "text/plain": [
       "Predicted Delays       0      1\n",
       "Actual Delays                  \n",
       "0                 350081    886\n",
       "1                     96  69806"
      ]
     },
     "execution_count": 19,
     "metadata": {},
     "output_type": "execute_result"
    }
   ],
   "source": [
    "pd.crosstab(y_transposed, predictions, rownames=[\"Actual Delays\"], colnames=[\"Predicted Delays\"])"
   ]
  },
  {
   "cell_type": "markdown",
   "metadata": {},
   "source": [
    "#### ARRIVAL DELAYS 3 CATEGORIES 26 FEATURES SCALED SGBOOSTER (89%)"
   ]
  },
  {
   "cell_type": "code",
   "execution_count": 21,
   "metadata": {},
   "outputs": [
    {
     "name": "stdout",
     "output_type": "stream",
     "text": [
      "(1683475, 26) (1683475, 1)\n"
     ]
    }
   ],
   "source": [
    "# Since this model worked so well, try it out on the 3 categories arrival delays variable.\n",
    "\n",
    "X = delays_df[[\"DAY\", \"MONTH\", \"DEP_TIME\", \"DEP_DELAY\", \"DEPARTURE_TIME_OF_DAY_DUMMY\", \\\n",
    "              \"OP_CARRIER_FL_NUM\", \"TAXI_OUT\", \"AIR_TIME\", \"TAXI_IN\", \"WHEELS_ON\", \"WHEELS_OFF\",\\\n",
    "              \"ARRIVAL_TIME_OF_DAY_DUMMY\", \"CARRIER_DELAY\", \"DISTANCE\", \"WEEKDAY_DUMMY\", \"AIRLINE_DUMMY\", \\\n",
    "       \"WEATHER_DELAY\", \"NAS_DELAY\", \"SECURITY_DELAY\", \"LATE_AIRCRAFT_DELAY\", \"CANCELLED\", \"DIVERTED\", \\\n",
    "              \"EAST_COAST_ORIGIN\", \"WEST_COAST_ORIGIN\", \"EAST_COAST_DEST\", \"WEST_COAST_DEST\"]]\n",
    "y = delays_df[\"ARRIVAL_DELAY_TEST\"].values.reshape(-1, 1)\n",
    "print(X.shape, y.shape)"
   ]
  },
  {
   "cell_type": "code",
   "execution_count": 22,
   "metadata": {},
   "outputs": [
    {
     "name": "stdout",
     "output_type": "stream",
     "text": [
      "1.3664414882659912 seconds\n"
     ]
    }
   ],
   "source": [
    "# Split for train and test datasets\n",
    "from sklearn.model_selection import train_test_split\n",
    "start = time.time()\n",
    "\n",
    "X_train, X_test, y_train, y_test = train_test_split(X, y, random_state=rng)\n",
    "end = time.time()\n",
    "print(f\"{end-start} seconds\")"
   ]
  },
  {
   "cell_type": "code",
   "execution_count": 23,
   "metadata": {},
   "outputs": [
    {
     "name": "stdout",
     "output_type": "stream",
     "text": [
      "2.053082227706909 seconds\n"
     ]
    }
   ],
   "source": [
    "# Try out a min/max scaler for the data\n",
    "from sklearn.preprocessing import MinMaxScaler\n",
    "start = time.time()\n",
    "\n",
    "scaler = MinMaxScaler()\n",
    "X_train = scaler.fit_transform(X_train)\n",
    "X_test = scaler.transform(X_test)\n",
    "end = time.time()\n",
    "print(f\"{end-start} seconds\")"
   ]
  },
  {
   "cell_type": "code",
   "execution_count": 24,
   "metadata": {},
   "outputs": [
    {
     "name": "stdout",
     "output_type": "stream",
     "text": [
      "1408.5215063095093 seconds\n"
     ]
    }
   ],
   "source": [
    "# Set up and fit the Gradient Booster\n",
    "\n",
    "from sklearn.ensemble import GradientBoostingClassifier\n",
    "start = time.time()\n",
    "\n",
    "gbc = GradientBoostingClassifier(n_estimators=100, random_state=rng)\n",
    "gbc.fit(X_train, y_train)\n",
    "end = time.time()\n",
    "print(f\"{end-start} seconds\")"
   ]
  },
  {
   "cell_type": "code",
   "execution_count": 25,
   "metadata": {},
   "outputs": [
    {
     "name": "stdout",
     "output_type": "stream",
     "text": [
      "Accuracy Score: 88.99871456438939\n",
      "8.84278130531311 seconds\n"
     ]
    }
   ],
   "source": [
    "# This is the best of the bunch for arrival delays\n",
    "from sklearn.metrics import accuracy_score\n",
    "start = time.time()\n",
    "\n",
    "predictions = gbc.predict(X_test)\n",
    "prediction_p = gbc.predict_proba(X_test)\n",
    "y_transposed = (np.transpose(y_test)).flatten()\n",
    "print(f\"Accuracy Score: {accuracy_score(y_transposed, predictions)*100}\")\n",
    "end = time.time()\n",
    "print(f\"{end-start} seconds\")"
   ]
  },
  {
   "cell_type": "code",
   "execution_count": 26,
   "metadata": {
    "scrolled": true
   },
   "outputs": [
    {
     "data": {
      "text/html": [
       "<div>\n",
       "<style scoped>\n",
       "    .dataframe tbody tr th:only-of-type {\n",
       "        vertical-align: middle;\n",
       "    }\n",
       "\n",
       "    .dataframe tbody tr th {\n",
       "        vertical-align: top;\n",
       "    }\n",
       "\n",
       "    .dataframe thead th {\n",
       "        text-align: right;\n",
       "    }\n",
       "</style>\n",
       "<table border=\"1\" class=\"dataframe\">\n",
       "  <thead>\n",
       "    <tr style=\"text-align: right;\">\n",
       "      <th>Predicted Delays</th>\n",
       "      <th>Long Delay</th>\n",
       "      <th>On Time</th>\n",
       "      <th>Small Delay</th>\n",
       "    </tr>\n",
       "    <tr>\n",
       "      <th>Actual Delays</th>\n",
       "      <th></th>\n",
       "      <th></th>\n",
       "      <th></th>\n",
       "    </tr>\n",
       "  </thead>\n",
       "  <tbody>\n",
       "    <tr>\n",
       "      <th>Long Delay</th>\n",
       "      <td>69834</td>\n",
       "      <td>4</td>\n",
       "      <td>64</td>\n",
       "    </tr>\n",
       "    <tr>\n",
       "      <th>On Time</th>\n",
       "      <td>0</td>\n",
       "      <td>270697</td>\n",
       "      <td>12080</td>\n",
       "    </tr>\n",
       "    <tr>\n",
       "      <th>Small Delay</th>\n",
       "      <td>1059</td>\n",
       "      <td>33094</td>\n",
       "      <td>34037</td>\n",
       "    </tr>\n",
       "  </tbody>\n",
       "</table>\n",
       "</div>"
      ],
      "text/plain": [
       "Predicted Delays  Long Delay  On Time  Small Delay\n",
       "Actual Delays                                     \n",
       "Long Delay             69834        4           64\n",
       "On Time                    0   270697        12080\n",
       "Small Delay             1059    33094        34037"
      ]
     },
     "execution_count": 26,
     "metadata": {},
     "output_type": "execute_result"
    }
   ],
   "source": [
    "pd.crosstab(y_transposed, predictions, rownames=[\"Actual Delays\"], colnames=[\"Predicted Delays\"])"
   ]
  },
  {
   "cell_type": "markdown",
   "metadata": {},
   "source": [
    "#### DEPARTURE DELAY 3 CATEGORIES LOGISTIC (79.82%)"
   ]
  },
  {
   "cell_type": "code",
   "execution_count": 14,
   "metadata": {},
   "outputs": [
    {
     "name": "stdout",
     "output_type": "stream",
     "text": [
      "(1683475, 23) (1683475, 1)\n"
     ]
    }
   ],
   "source": [
    "# Try out logistic Regression on the 3 Categories for Departure Delays.\n",
    "\n",
    "X = delays_df[[\"DAY\", \"MONTH\", \"CRS_DEP_TIME\", \"DEPARTURE_TIME_OF_DAY_DUMMY\", \"AIRLINE_DUMMY\",\\\n",
    "              \"OP_CARRIER_FL_NUM\", \"TAXI_OUT\", \"WHEELS_OFF\", \"AIR_TIME\", \"DISTANCE\", \"WEEKDAY_DUMMY\",\\\n",
    "              \"ARR_TIME\", \"CRS_ARR_TIME\", \"ARRIVAL_TIME_OF_DAY_DUMMY\", \"CARRIER_DELAY\", \\\n",
    "       \"WEATHER_DELAY\", \"NAS_DELAY\", \"SECURITY_DELAY\", \"LATE_AIRCRAFT_DELAY\",\n",
    "       \"EAST_COAST_ORIGIN\", \"WEST_COAST_ORIGIN\", \"EAST_COAST_DEST\", \"WEST_COAST_DEST\"]]\n",
    "\n",
    "y = delays_df[\"DEPARTURE_DELAY_TEST\"].values.reshape(-1, 1)\n",
    "print(X.shape, y.shape)"
   ]
  },
  {
   "cell_type": "code",
   "execution_count": 15,
   "metadata": {},
   "outputs": [],
   "source": [
    "from sklearn.model_selection import train_test_split\n",
    "\n",
    "X_train, X_test, y_train, y_test = train_test_split(X, y, random_state=rng)"
   ]
  },
  {
   "cell_type": "code",
   "execution_count": 16,
   "metadata": {},
   "outputs": [
    {
     "name": "stdout",
     "output_type": "stream",
     "text": [
      "370.8212447166443 seconds\n"
     ]
    }
   ],
   "source": [
    "# Set up the logistic regression classifier\n",
    "\n",
    "from sklearn.linear_model import LogisticRegression\n",
    "start = time.time()\n",
    "\n",
    "classifier = LogisticRegression(penalty='l2')\n",
    "classifier.fit(X_train, y_train)\n",
    "end = time.time()\n",
    "print(f\"{end-start} seconds\")"
   ]
  },
  {
   "cell_type": "code",
   "execution_count": 17,
   "metadata": {},
   "outputs": [
    {
     "name": "stdout",
     "output_type": "stream",
     "text": [
      "Accuracy Score: 79.82079934611482\n",
      "2.0579729080200195 seconds\n"
     ]
    }
   ],
   "source": [
    "# 79.82 is better. No quite there yet.\n",
    "from sklearn.metrics import accuracy_score\n",
    "start = time.time()\n",
    "\n",
    "predictions = classifier.predict(X_test)\n",
    "y_transposed = (np.transpose(y_test)).flatten()\n",
    "print(f\"Accuracy Score: {accuracy_score(y_test, predictions)*100}\")\n",
    "end = time.time()\n",
    "print(f\"{end-start} seconds\")"
   ]
  },
  {
   "cell_type": "code",
   "execution_count": 18,
   "metadata": {
    "scrolled": true
   },
   "outputs": [
    {
     "data": {
      "text/html": [
       "<div>\n",
       "<style scoped>\n",
       "    .dataframe tbody tr th:only-of-type {\n",
       "        vertical-align: middle;\n",
       "    }\n",
       "\n",
       "    .dataframe tbody tr th {\n",
       "        vertical-align: top;\n",
       "    }\n",
       "\n",
       "    .dataframe thead th {\n",
       "        text-align: right;\n",
       "    }\n",
       "</style>\n",
       "<table border=\"1\" class=\"dataframe\">\n",
       "  <thead>\n",
       "    <tr style=\"text-align: right;\">\n",
       "      <th>Predicted Delays</th>\n",
       "      <th>Long Delay</th>\n",
       "      <th>On Time</th>\n",
       "      <th>Small Delay</th>\n",
       "    </tr>\n",
       "    <tr>\n",
       "      <th>Actual Delays</th>\n",
       "      <th></th>\n",
       "      <th></th>\n",
       "      <th></th>\n",
       "    </tr>\n",
       "  </thead>\n",
       "  <tbody>\n",
       "    <tr>\n",
       "      <th>Long Delay</th>\n",
       "      <td>53322</td>\n",
       "      <td>15514</td>\n",
       "      <td>158</td>\n",
       "    </tr>\n",
       "    <tr>\n",
       "      <th>On Time</th>\n",
       "      <td>518</td>\n",
       "      <td>282165</td>\n",
       "      <td>9</td>\n",
       "    </tr>\n",
       "    <tr>\n",
       "      <th>Small Delay</th>\n",
       "      <td>5196</td>\n",
       "      <td>63533</td>\n",
       "      <td>454</td>\n",
       "    </tr>\n",
       "  </tbody>\n",
       "</table>\n",
       "</div>"
      ],
      "text/plain": [
       "Predicted Delays  Long Delay  On Time  Small Delay\n",
       "Actual Delays                                     \n",
       "Long Delay             53322    15514          158\n",
       "On Time                  518   282165            9\n",
       "Small Delay             5196    63533          454"
      ]
     },
     "execution_count": 18,
     "metadata": {},
     "output_type": "execute_result"
    }
   ],
   "source": [
    "pd.crosstab(y_transposed, predictions, rownames=[\"Actual Delays\"], colnames=[\"Predicted Delays\"])"
   ]
  },
  {
   "cell_type": "markdown",
   "metadata": {},
   "source": [
    "#### DEPARTURE DELAY 3 CATEGORIES 23 FEATURES SCALED SGB (81.21%) [BEST WORKING MODEL]"
   ]
  },
  {
   "cell_type": "code",
   "execution_count": 39,
   "metadata": {},
   "outputs": [
    {
     "name": "stdout",
     "output_type": "stream",
     "text": [
      "(1683475, 23) (1683475, 1)\n"
     ]
    }
   ],
   "source": [
    "# Try out \n",
    "\n",
    "X = delays_df[[\"DAY\", \"MONTH\", \"CRS_DEP_TIME\", \"DEPARTURE_TIME_OF_DAY_DUMMY\", \"AIRLINE_DUMMY\",\\\n",
    "              \"OP_CARRIER_FL_NUM\", \"TAXI_OUT\", \"WHEELS_OFF\", \"AIR_TIME\", \"DISTANCE\", \"WEEKDAY_DUMMY\",\\\n",
    "              \"ARR_TIME\", \"CRS_ARR_TIME\", \"ARRIVAL_TIME_OF_DAY_DUMMY\", \"CARRIER_DELAY\", \\\n",
    "       \"WEATHER_DELAY\", \"NAS_DELAY\", \"SECURITY_DELAY\", \"LATE_AIRCRAFT_DELAY\",\n",
    "       \"EAST_COAST_ORIGIN\", \"WEST_COAST_ORIGIN\", \"EAST_COAST_DEST\", \"WEST_COAST_DEST\"]]\n",
    "\n",
    "y = delays_df[\"DEPARTURE_DELAY_TEST\"].values.reshape(-1, 1)\n",
    "print(X.shape, y.shape)"
   ]
  },
  {
   "cell_type": "code",
   "execution_count": 40,
   "metadata": {},
   "outputs": [
    {
     "name": "stdout",
     "output_type": "stream",
     "text": [
      "1.6289818286895752 seconds\n"
     ]
    }
   ],
   "source": [
    "# Split for train and test datasets\n",
    "from sklearn.model_selection import train_test_split\n",
    "start = time.time()\n",
    "\n",
    "X_train, X_test, y_train, y_test = train_test_split(X, y, random_state=rng)\n",
    "end = time.time()\n",
    "print(f\"{end-start} seconds\")"
   ]
  },
  {
   "cell_type": "code",
   "execution_count": 41,
   "metadata": {},
   "outputs": [],
   "source": [
    "# Try out a min/max scaler for the data\n",
    "from sklearn.preprocessing import MinMaxScaler\n",
    "\n",
    "scaler = MinMaxScaler()\n",
    "X_train = scaler.fit_transform(X_train)\n",
    "X_test = scaler.transform(X_test)"
   ]
  },
  {
   "cell_type": "code",
   "execution_count": 42,
   "metadata": {
    "scrolled": true
   },
   "outputs": [
    {
     "name": "stdout",
     "output_type": "stream",
     "text": [
      "2137.072815179825 seconds\n"
     ]
    }
   ],
   "source": [
    "# Set up and fit the Gradient Booster\n",
    "\n",
    "from sklearn.ensemble import GradientBoostingClassifier\n",
    "start = time.time()\n",
    "\n",
    "gbc = GradientBoostingClassifier(n_estimators=100, random_state=rng)\n",
    "gbc.fit(X_train, y_train)\n",
    "end = time.time()\n",
    "print(f\"{end-start} seconds\")"
   ]
  },
  {
   "cell_type": "code",
   "execution_count": 43,
   "metadata": {},
   "outputs": [
    {
     "name": "stdout",
     "output_type": "stream",
     "text": [
      "Accuracy Score: 81.20626608279537\n"
     ]
    }
   ],
   "source": [
    "# This is the best model though 35 minutes to finish is a bit ridiculous. \n",
    "from sklearn.metrics import accuracy_score\n",
    "predictions = gbc.predict(X_test)\n",
    "prediction_p = gbc.predict_proba(X_test)\n",
    "y_transposed = (np.transpose(y_test)).flatten()\n",
    "print(f\"Accuracy Score: {accuracy_score(y_transposed, predictions)*100}\")"
   ]
  },
  {
   "cell_type": "code",
   "execution_count": null,
   "metadata": {},
   "outputs": [],
   "source": [
    "pd.crosstab(y_transposed, predictions, rownames=[\"Actual Delays\"], colnames=[\"Predicted Delays\"])"
   ]
  }
 ],
 "metadata": {
  "kernelspec": {
   "display_name": "Python 3",
   "language": "python",
   "name": "python3"
  },
  "language_info": {
   "codemirror_mode": {
    "name": "ipython",
    "version": 3
   },
   "file_extension": ".py",
   "mimetype": "text/x-python",
   "name": "python",
   "nbconvert_exporter": "python",
   "pygments_lexer": "ipython3",
   "version": "3.7.4"
  }
 },
 "nbformat": 4,
 "nbformat_minor": 2
}
