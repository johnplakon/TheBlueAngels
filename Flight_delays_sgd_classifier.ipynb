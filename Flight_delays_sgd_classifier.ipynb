{
 "cells": [
  {
   "cell_type": "markdown",
   "metadata": {},
   "source": [
    "# Stochastic Gradient Descent Classification\n",
    "\n",
    "SGDClassifying provided perhaps the most insightful look of any of the machine learning techniques that were tested with the flight delay data.  It was a great tool to stumble upon as it can work great with scaling and pca while taking under 10 seconds for a binary logistic model to be fit. \n",
    "\n",
    "SGD is quite intense.  While looking further into the theory behind it, it does a bit of the reverse of Stochastic Gradient Boosting.  While the first 2 letters mean the same, the last one stands for Descending as it works the loss function in a descending way to smooth over potential errors through each model iteration (instead of an increasing the loss function).\n",
    "\n",
    "The most concrete conclusion that can be made here is that we have found the best model for predicting if a flight will be delayed by 15 or more minutes.  Utilizing 10 features (with all of them outside of wheels off being pretty reliable to track), this model consistently produced an R2 of 99% over 4 different machine learning techniques (Decision Trees, Stochastic Gradient Boosting, SGDClassifying as well as straight up Logisitic regression).  Unfortunately, neither of the other two departure delay variables (straight up departure delays and departure delays split into 3 categories) could match these results.  It was ultimately determined that in order to make good models for them, they would have to rely on information that would be impossible to consistently get for them (such as arrival time and the arrival delay dummy being significant for the 3 category departure delay model).  In conclusion, departure delays of 15+ minutes will be the final variable used out of the 3 for departure delay predictions.\n",
    "\n",
    "Unfortunately, as per usual, the models used for arrival delays were not up to the same standard.  The best score produced was 83.73% for arrival delays over 15 minutes with 33 features.  The final push for this project will be to figure out a model to break that glass ceiling of 90% for arrival delays."
   ]
  },
  {
   "cell_type": "code",
   "execution_count": 1,
   "metadata": {},
   "outputs": [],
   "source": [
    "import pandas as pd\n",
    "import numpy as np\n",
    "import seaborn as sns\n",
    "import matplotlib.pyplot as plt\n",
    "%matplotlib inline\n",
    "\n",
    "import seaborn as sns\n",
    "import time\n",
    "\n",
    "import warnings\n",
    "warnings.simplefilter('ignore')\n",
    "\n",
    "# RNG used for seeding\n",
    "rng = int(np.random.randint(low=1, high=2000, size=1))\n",
    "\n",
    "# xgboost has similar problems to tensorflow when installing so it will not be utilizied. Same with parfit.\n",
    "# from xgboost import XGBClassifier\n",
    "# import parfit.parfit as pf"
   ]
  },
  {
   "cell_type": "code",
   "execution_count": 2,
   "metadata": {},
   "outputs": [],
   "source": [
    "# Read in first quarter dataset\n",
    "delays_df = pd.read_csv(\"Delay_first_quarter1.csv\")"
   ]
  },
  {
   "cell_type": "code",
   "execution_count": 3,
   "metadata": {},
   "outputs": [],
   "source": [
    "# Do some additional cleaning\n",
    "delays_df = delays_df.fillna(0)"
   ]
  },
  {
   "cell_type": "markdown",
   "metadata": {},
   "source": [
    "#### DEPARTURE DELAY SBGCLASSIFIER SCALED PCA WITH GRID SEARCH (67.99%)"
   ]
  },
  {
   "cell_type": "code",
   "execution_count": 40,
   "metadata": {
    "scrolled": true
   },
   "outputs": [
    {
     "name": "stdout",
     "output_type": "stream",
     "text": [
      "(1683475, 10) (1683475, 1)\n"
     ]
    }
   ],
   "source": [
    "# Try out SGD classifier on best departure delay model.\n",
    "\n",
    "X = delays_df[[\"DAY\", \"MONTH\", \"DEP_TIME\", \"DEPARTURE_TIME_OF_DAY_DUMMY\", \"WEEKDAY_DUMMY\", \"AIRLINE_DUMMY\", \\\n",
    "               \"OP_CARRIER_FL_NUM\", \"TAXI_OUT\", \"WHEELS_OFF\",\"WEATHER_DELAY\",]]\n",
    "\n",
    "y = delays_df[\"DEPARTURE_DELAY\"].values.reshape(-1, 1)\n",
    "print(X.shape, y.shape)"
   ]
  },
  {
   "cell_type": "code",
   "execution_count": 41,
   "metadata": {},
   "outputs": [],
   "source": [
    "from sklearn.model_selection import train_test_split\n",
    "\n",
    "X_train, X_test, y_train, y_test = train_test_split(X, y, random_state=rng)"
   ]
  },
  {
   "cell_type": "code",
   "execution_count": 36,
   "metadata": {},
   "outputs": [
    {
     "name": "stdout",
     "output_type": "stream",
     "text": [
      "2.32086181640625 seconds\n"
     ]
    }
   ],
   "source": [
    "# Try out PCA if needed\n",
    "from sklearn.decomposition import PCA\n",
    "start = time.time()\n",
    "\n",
    "pca = PCA(.95)\n",
    "pca.fit(X)\n",
    "X_train = pca.transform(X_train)\n",
    "X_test = pca.transform(X_test)\n",
    "end = time.time()\n",
    "print(f\"{end-start} seconds\")"
   ]
  },
  {
   "cell_type": "code",
   "execution_count": 42,
   "metadata": {},
   "outputs": [
    {
     "name": "stdout",
     "output_type": "stream",
     "text": [
      "0.9809563159942627 seconds\n"
     ]
    }
   ],
   "source": [
    "# Try out a min/max scaler for the data if needed\n",
    "from sklearn.preprocessing import MinMaxScaler\n",
    "start = time.time()\n",
    "\n",
    "scaler = MinMaxScaler()\n",
    "X_train = scaler.fit_transform(X_train)\n",
    "X_test = scaler.transform(X_test)\n",
    "end = time.time()\n",
    "print(f\"{end-start} seconds\")"
   ]
  },
  {
   "cell_type": "code",
   "execution_count": 38,
   "metadata": {},
   "outputs": [
    {
     "name": "stdout",
     "output_type": "stream",
     "text": [
      "201.20335936546326 seconds\n"
     ]
    }
   ],
   "source": [
    "# SGDClassifier with Grid Search\n",
    "from sklearn.linear_model import SGDClassifier\n",
    "from sklearn.model_selection import GridSearchCV\n",
    "start = time.time()\n",
    "\n",
    "sgd = SGDClassifier(random_state=rng)\n",
    "\n",
    "grid = {\n",
    "    'alpha': [1e-4, 1e-3, 1e-2, 1e-1, 1e0, 1e1, 1e2, 1e3], # learning rate\n",
    "    'max_iter': [10], # number of epochs\n",
    "    'loss': ['log'], # logistic regression,\n",
    "    'penalty': ['l2'],\n",
    "    'n_jobs': [-1]\n",
    "}\n",
    "\n",
    "grid_search = GridSearchCV(sgd, grid)\n",
    "grid_search.fit(X_train, y_train)\n",
    "end = time.time()\n",
    "print(f\"{end-start} seconds\")"
   ]
  },
  {
   "cell_type": "code",
   "execution_count": 39,
   "metadata": {
    "scrolled": true
   },
   "outputs": [
    {
     "name": "stdout",
     "output_type": "stream",
     "text": [
      "Accuracy Score: 67.21093737006052\n",
      "3.1169469356536865 seconds\n"
     ]
    }
   ],
   "source": [
    "# Yuck.  Perhaps try without the grid search to simplify things\n",
    "\n",
    "from sklearn.metrics import accuracy_score\n",
    "start = time.time()\n",
    "\n",
    "model = grid_search.best_estimator_\n",
    "predictions = model.predict(X_test)\n",
    "y_transposed = (np.transpose(y_test)).flatten()\n",
    "print(f\"Accuracy Score: {accuracy_score(y_transposed, predictions)*100}\")\n",
    "end = time.time()\n",
    "print(f\"{end-start} seconds\")"
   ]
  },
  {
   "cell_type": "code",
   "execution_count": 26,
   "metadata": {},
   "outputs": [
    {
     "name": "stdout",
     "output_type": "stream",
     "text": [
      "2.414828300476074 seconds\n"
     ]
    }
   ],
   "source": [
    "# Try out PCA if needed\n",
    "from sklearn.decomposition import PCA\n",
    "start = time.time()\n",
    "\n",
    "pca = PCA(.95)\n",
    "pca.fit(X)\n",
    "X_train = pca.transform(X_train)\n",
    "X_test = pca.transform(X_test)\n",
    "end = time.time()\n",
    "print(f\"{end-start} seconds\")"
   ]
  },
  {
   "cell_type": "code",
   "execution_count": 27,
   "metadata": {},
   "outputs": [
    {
     "name": "stdout",
     "output_type": "stream",
     "text": [
      "0.4174480438232422 seconds\n"
     ]
    }
   ],
   "source": [
    "# Try out a min/max scaler for the data if needed\n",
    "from sklearn.preprocessing import MinMaxScaler\n",
    "start = time.time()\n",
    "\n",
    "scaler = MinMaxScaler()\n",
    "X_train = scaler.fit_transform(X_train)\n",
    "X_test = scaler.transform(X_test)\n",
    "end = time.time()\n",
    "print(f\"{end-start} seconds\")"
   ]
  },
  {
   "cell_type": "code",
   "execution_count": 43,
   "metadata": {},
   "outputs": [
    {
     "name": "stdout",
     "output_type": "stream",
     "text": [
      "5.4937591552734375 seconds\n"
     ]
    }
   ],
   "source": [
    "# SGDClassifier -> Runs surprisingly fast\n",
    "from sklearn.linear_model import SGDClassifier\n",
    "start = time.time()\n",
    "\n",
    "sgd = SGDClassifier(random_state=rng)\n",
    "sgd.fit(X_train, y_train)\n",
    "end = time.time()\n",
    "print(f\"{end-start} seconds\")"
   ]
  },
  {
   "cell_type": "code",
   "execution_count": 44,
   "metadata": {
    "scrolled": true
   },
   "outputs": [
    {
     "name": "stdout",
     "output_type": "stream",
     "text": [
      "Accuracy Score: 67.21212538818492\n",
      "3.24591326713562 seconds\n"
     ]
    }
   ],
   "source": [
    "# Both models produced the same score (67%)\n",
    "\n",
    "from sklearn.metrics import accuracy_score\n",
    "start = time.time()\n",
    "\n",
    "predictions = sgd.predict(X_test)\n",
    "y_transposed = (np.transpose(y_test)).flatten()\n",
    "print(f\"Accuracy Score: {accuracy_score(y_transposed, predictions)*100}\")\n",
    "end = time.time()\n",
    "print(f\"{end-start} seconds\")"
   ]
  },
  {
   "cell_type": "code",
   "execution_count": 45,
   "metadata": {
    "scrolled": true
   },
   "outputs": [
    {
     "data": {
      "text/html": [
       "<div>\n",
       "<style scoped>\n",
       "    .dataframe tbody tr th:only-of-type {\n",
       "        vertical-align: middle;\n",
       "    }\n",
       "\n",
       "    .dataframe tbody tr th {\n",
       "        vertical-align: top;\n",
       "    }\n",
       "\n",
       "    .dataframe thead th {\n",
       "        text-align: right;\n",
       "    }\n",
       "</style>\n",
       "<table border=\"1\" class=\"dataframe\">\n",
       "  <thead>\n",
       "    <tr style=\"text-align: right;\">\n",
       "      <th>Predicted Delays</th>\n",
       "      <th>Delayed</th>\n",
       "      <th>On Time</th>\n",
       "    </tr>\n",
       "    <tr>\n",
       "      <th>Actual Delays</th>\n",
       "      <th></th>\n",
       "      <th></th>\n",
       "    </tr>\n",
       "  </thead>\n",
       "  <tbody>\n",
       "    <tr>\n",
       "      <th>Delayed</th>\n",
       "      <td>5</td>\n",
       "      <td>137994</td>\n",
       "    </tr>\n",
       "    <tr>\n",
       "      <th>On Time</th>\n",
       "      <td>0</td>\n",
       "      <td>282870</td>\n",
       "    </tr>\n",
       "  </tbody>\n",
       "</table>\n",
       "</div>"
      ],
      "text/plain": [
       "Predicted Delays  Delayed  On Time\n",
       "Actual Delays                     \n",
       "Delayed                 5   137994\n",
       "On Time                 0   282870"
      ]
     },
     "execution_count": 45,
     "metadata": {},
     "output_type": "execute_result"
    }
   ],
   "source": [
    "# Good at predicting on time. Whether that is correct or not is a whole another story.\n",
    "pd.crosstab(y_transposed, predictions, rownames=[\"Actual Delays\"], colnames=[\"Predicted Delays\"])"
   ]
  },
  {
   "cell_type": "markdown",
   "metadata": {},
   "source": [
    "#### DEPARTURE DELAY 15+ MINUTES SBGCLASSIFIER PCA SCALED (99%)"
   ]
  },
  {
   "cell_type": "code",
   "execution_count": 53,
   "metadata": {},
   "outputs": [
    {
     "name": "stdout",
     "output_type": "stream",
     "text": [
      "(1683475, 10) (1683475, 1)\n"
     ]
    }
   ],
   "source": [
    "# Try out SGD classifier on best departure delay over 15 minutes model.\n",
    "\n",
    "X = delays_df[[\"DAY\", \"MONTH\", \"DEP_TIME\", \"DEPARTURE_TIME_OF_DAY_DUMMY\", \"WEEKDAY_DUMMY\", \"AIRLINE_DUMMY\", \\\n",
    "               \"OP_CARRIER_FL_NUM\", \"TAXI_OUT\", \"WHEELS_OFF\",\"WEATHER_DELAY\",]]\n",
    "\n",
    "y = delays_df[\"DEPARTURE_DELAY_OVER_15_MINUTES\"].values.reshape(-1, 1)\n",
    "print(X.shape, y.shape)"
   ]
  },
  {
   "cell_type": "code",
   "execution_count": 54,
   "metadata": {},
   "outputs": [],
   "source": [
    "from sklearn.model_selection import train_test_split\n",
    "\n",
    "X_train, X_test, y_train, y_test = train_test_split(X, y, random_state=rng)"
   ]
  },
  {
   "cell_type": "code",
   "execution_count": 48,
   "metadata": {},
   "outputs": [
    {
     "name": "stdout",
     "output_type": "stream",
     "text": [
      "2.4059107303619385 seconds\n"
     ]
    }
   ],
   "source": [
    "# Try out PCA if needed\n",
    "from sklearn.decomposition import PCA\n",
    "start = time.time()\n",
    "\n",
    "pca = PCA(.95)\n",
    "pca.fit(X)\n",
    "X_train = pca.transform(X_train)\n",
    "X_test = pca.transform(X_test)\n",
    "end = time.time()\n",
    "print(f\"{end-start} seconds\")"
   ]
  },
  {
   "cell_type": "code",
   "execution_count": 55,
   "metadata": {},
   "outputs": [
    {
     "name": "stdout",
     "output_type": "stream",
     "text": [
      "0.9359583854675293 seconds\n"
     ]
    }
   ],
   "source": [
    "# Try out a min/max scaler for the data if needed\n",
    "from sklearn.preprocessing import MinMaxScaler\n",
    "start = time.time()\n",
    "\n",
    "scaler = MinMaxScaler()\n",
    "X_train = scaler.fit_transform(X_train)\n",
    "X_test = scaler.transform(X_test)\n",
    "end = time.time()\n",
    "print(f\"{end-start} seconds\")"
   ]
  },
  {
   "cell_type": "code",
   "execution_count": 56,
   "metadata": {},
   "outputs": [
    {
     "name": "stdout",
     "output_type": "stream",
     "text": [
      "2.404978036880493 seconds\n"
     ]
    }
   ],
   "source": [
    "# SGDClassifier\n",
    "from sklearn.linear_model import SGDClassifier\n",
    "from sklearn.model_selection import GridSearchCV\n",
    "start = time.time()\n",
    "\n",
    "sgd = SGDClassifier(random_state=rng)\n",
    "sgd.fit(X_train, y_train)\n",
    "end = time.time()\n",
    "print(f\"{end-start} seconds\")"
   ]
  },
  {
   "cell_type": "code",
   "execution_count": 57,
   "metadata": {
    "scrolled": true
   },
   "outputs": [
    {
     "name": "stdout",
     "output_type": "stream",
     "text": [
      "Accuracy Score: 99.00158956825045\n",
      "0.15599703788757324 seconds\n"
     ]
    }
   ],
   "source": [
    "# Seems this is the honey bucket model for departure delays over 15 minutes as this is the fourth model for predictions with\n",
    "# around 99% accuracy.\n",
    "\n",
    "from sklearn.metrics import accuracy_score\n",
    "start = time.time()\n",
    "\n",
    "predictions = sgd.predict(X_test)\n",
    "y_transposed = (np.transpose(y_test)).flatten()\n",
    "print(f\"Accuracy Score: {accuracy_score(y_transposed, predictions)*100}\")\n",
    "end = time.time()\n",
    "print(f\"{end-start} seconds\")"
   ]
  },
  {
   "cell_type": "code",
   "execution_count": 58,
   "metadata": {
    "scrolled": true
   },
   "outputs": [
    {
     "data": {
      "text/html": [
       "<div>\n",
       "<style scoped>\n",
       "    .dataframe tbody tr th:only-of-type {\n",
       "        vertical-align: middle;\n",
       "    }\n",
       "\n",
       "    .dataframe tbody tr th {\n",
       "        vertical-align: top;\n",
       "    }\n",
       "\n",
       "    .dataframe thead th {\n",
       "        text-align: right;\n",
       "    }\n",
       "</style>\n",
       "<table border=\"1\" class=\"dataframe\">\n",
       "  <thead>\n",
       "    <tr style=\"text-align: right;\">\n",
       "      <th>Predicted Delays</th>\n",
       "      <th>0</th>\n",
       "    </tr>\n",
       "    <tr>\n",
       "      <th>Actual Delays</th>\n",
       "      <th></th>\n",
       "    </tr>\n",
       "  </thead>\n",
       "  <tbody>\n",
       "    <tr>\n",
       "      <th>0</th>\n",
       "      <td>416667</td>\n",
       "    </tr>\n",
       "    <tr>\n",
       "      <th>1</th>\n",
       "      <td>4202</td>\n",
       "    </tr>\n",
       "  </tbody>\n",
       "</table>\n",
       "</div>"
      ],
      "text/plain": [
       "Predicted Delays       0\n",
       "Actual Delays           \n",
       "0                 416667\n",
       "1                   4202"
      ]
     },
     "execution_count": 58,
     "metadata": {},
     "output_type": "execute_result"
    }
   ],
   "source": [
    "# A bit odd to see it predict all flight on time or delayed < 15 minutes.\n",
    "pd.crosstab(y_transposed, predictions, rownames=[\"Actual Delays\"], colnames=[\"Predicted Delays\"])"
   ]
  },
  {
   "cell_type": "markdown",
   "metadata": {},
   "source": [
    "#### DEPARTURE DELAY 4 FEATURES SCALED PCA SGDCLASSIFIER (67%)"
   ]
  },
  {
   "cell_type": "code",
   "execution_count": 67,
   "metadata": {
    "scrolled": true
   },
   "outputs": [
    {
     "name": "stdout",
     "output_type": "stream",
     "text": [
      "(1683475, 4) (1683475, 1)\n"
     ]
    }
   ],
   "source": [
    "# Try out Departure Delay again.\n",
    "\n",
    "X = delays_df[[\"DEP_TIME\", \"DEPARTURE_TIME_OF_DAY_DUMMY\", \"WEEKDAY_DUMMY\", \"AIRLINE_DUMMY\"]]\n",
    "\n",
    "y = delays_df[\"DEPARTURE_DELAY\"].values.reshape(-1, 1)\n",
    "print(X.shape, y.shape)"
   ]
  },
  {
   "cell_type": "code",
   "execution_count": 68,
   "metadata": {},
   "outputs": [],
   "source": [
    "from sklearn.model_selection import train_test_split\n",
    "\n",
    "X_train, X_test, y_train, y_test = train_test_split(X, y, random_state=rng)"
   ]
  },
  {
   "cell_type": "code",
   "execution_count": 69,
   "metadata": {},
   "outputs": [
    {
     "name": "stdout",
     "output_type": "stream",
     "text": [
      "0.9819846153259277 seconds\n"
     ]
    }
   ],
   "source": [
    "# Try out PCA if needed\n",
    "from sklearn.decomposition import PCA\n",
    "start = time.time()\n",
    "\n",
    "pca = PCA(.95)\n",
    "pca.fit(X)\n",
    "X_train = pca.transform(X_train)\n",
    "X_test = pca.transform(X_test)\n",
    "end = time.time()\n",
    "print(f\"{end-start} seconds\")"
   ]
  },
  {
   "cell_type": "code",
   "execution_count": 70,
   "metadata": {
    "scrolled": true
   },
   "outputs": [
    {
     "name": "stdout",
     "output_type": "stream",
     "text": [
      "0.041997432708740234 seconds\n"
     ]
    }
   ],
   "source": [
    "# Try out a min/max scaler for the data if needed\n",
    "from sklearn.preprocessing import MinMaxScaler\n",
    "start = time.time()\n",
    "\n",
    "scaler = MinMaxScaler()\n",
    "X_train = scaler.fit_transform(X_train)\n",
    "X_test = scaler.transform(X_test)\n",
    "end = time.time()\n",
    "print(f\"{end-start} seconds\")"
   ]
  },
  {
   "cell_type": "code",
   "execution_count": 71,
   "metadata": {},
   "outputs": [
    {
     "name": "stdout",
     "output_type": "stream",
     "text": [
      "4.854905843734741 seconds\n"
     ]
    }
   ],
   "source": [
    "# SGDClassifier\n",
    "from sklearn.linear_model import SGDClassifier\n",
    "from sklearn.model_selection import GridSearchCV\n",
    "start = time.time()\n",
    "\n",
    "sgd = SGDClassifier(random_state=rng)\n",
    "sgd.fit(X_train, y_train)\n",
    "end = time.time()\n",
    "print(f\"{end-start} seconds\")"
   ]
  },
  {
   "cell_type": "code",
   "execution_count": 72,
   "metadata": {},
   "outputs": [
    {
     "name": "stdout",
     "output_type": "stream",
     "text": [
      "Accuracy Score: 67.21093737006052\n",
      "3.016428232192993 seconds\n"
     ]
    }
   ],
   "source": [
    "# Perhaps it maybe time to give up on departure delays and just use delays of 15+ minutes. \n",
    "\n",
    "from sklearn.metrics import accuracy_score\n",
    "start = time.time()\n",
    "\n",
    "predictions = sgd.predict(X_test)\n",
    "y_transposed = (np.transpose(y_test)).flatten()\n",
    "print(f\"Accuracy Score: {accuracy_score(y_transposed, predictions)*100}\")\n",
    "end = time.time()\n",
    "print(f\"{end-start} seconds\")"
   ]
  },
  {
   "cell_type": "markdown",
   "metadata": {},
   "source": [
    "#### USE SGBCLASSIFIER WITH GRID SEARCH TO FIND BEST MODEL FOR DEPARTURE DELAY\n",
    "\n",
    "##### 46 FEATURES USING THE BEST MODEL SCORE (100%)"
   ]
  },
  {
   "cell_type": "code",
   "execution_count": 68,
   "metadata": {
    "scrolled": true
   },
   "outputs": [
    {
     "name": "stdout",
     "output_type": "stream",
     "text": [
      "(1683475, 47) (1683475, 1)\n"
     ]
    }
   ],
   "source": [
    "# Use a grid search and find the best overall score with Departure delay\n",
    "\n",
    "y = delays_df[\"DEPARTURE_DELAY\"].values.reshape(-1, 1)\n",
    "\n",
    "numerics = ['int16', 'int32', 'int64', 'float16', 'float32', 'float64']\n",
    "X = delays_df.select_dtypes(include=numerics)\n",
    "\n",
    "print(X.shape, y.shape)"
   ]
  },
  {
   "cell_type": "code",
   "execution_count": 69,
   "metadata": {},
   "outputs": [
    {
     "name": "stdout",
     "output_type": "stream",
     "text": [
      "1.9019725322723389 seconds\n"
     ]
    }
   ],
   "source": [
    "# Split for train and test datasets\n",
    "from sklearn.model_selection import train_test_split\n",
    "start = time.time()\n",
    "\n",
    "X_train, X_test, y_train, y_test = train_test_split(X, y, random_state=rng)\n",
    "end = time.time()\n",
    "print(f\"{end-start} seconds\")"
   ]
  },
  {
   "cell_type": "code",
   "execution_count": 70,
   "metadata": {},
   "outputs": [
    {
     "name": "stdout",
     "output_type": "stream",
     "text": [
      "3.181917190551758 seconds\n"
     ]
    }
   ],
   "source": [
    "# Try out a min/max scaler for the data if needed\n",
    "from sklearn.preprocessing import MinMaxScaler\n",
    "start = time.time()\n",
    "\n",
    "scaler = MinMaxScaler()\n",
    "X_train = scaler.fit_transform(X_train)\n",
    "X_test = scaler.transform(X_test)\n",
    "end = time.time()\n",
    "print(f\"{end-start} seconds\")"
   ]
  },
  {
   "cell_type": "code",
   "execution_count": 7,
   "metadata": {},
   "outputs": [
    {
     "name": "stdout",
     "output_type": "stream",
     "text": [
      "6.4533913135528564 seconds\n"
     ]
    }
   ],
   "source": [
    "# SGDClassifier\n",
    "from sklearn.linear_model import SGDClassifier\n",
    "from sklearn.model_selection import GridSearchCV\n",
    "start = time.time()\n",
    "\n",
    "sgd = SGDClassifier(random_state=rng)\n",
    "sgd.fit(X_train, y_train)\n",
    "end = time.time()\n",
    "print(f\"{end-start} seconds\")"
   ]
  },
  {
   "cell_type": "code",
   "execution_count": 8,
   "metadata": {},
   "outputs": [
    {
     "name": "stdout",
     "output_type": "stream",
     "text": [
      "Accuracy Score: 100.0\n",
      "3.5334360599517822 seconds\n"
     ]
    }
   ],
   "source": [
    "# I am not sure I believe this.  Odd. \n",
    "\n",
    "from sklearn.metrics import accuracy_score\n",
    "start = time.time()\n",
    "\n",
    "predictions = sgd.predict(X_test)\n",
    "y_transposed = (np.transpose(y_test)).flatten()\n",
    "print(f\"Accuracy Score: {accuracy_score(y_transposed, predictions)*100}\")\n",
    "end = time.time()\n",
    "print(f\"{end-start} seconds\")"
   ]
  },
  {
   "cell_type": "code",
   "execution_count": 9,
   "metadata": {
    "scrolled": true
   },
   "outputs": [
    {
     "data": {
      "text/html": [
       "<div>\n",
       "<style scoped>\n",
       "    .dataframe tbody tr th:only-of-type {\n",
       "        vertical-align: middle;\n",
       "    }\n",
       "\n",
       "    .dataframe tbody tr th {\n",
       "        vertical-align: top;\n",
       "    }\n",
       "\n",
       "    .dataframe thead th {\n",
       "        text-align: right;\n",
       "    }\n",
       "</style>\n",
       "<table border=\"1\" class=\"dataframe\">\n",
       "  <thead>\n",
       "    <tr style=\"text-align: right;\">\n",
       "      <th>Predicted Delays</th>\n",
       "      <th>Delayed</th>\n",
       "      <th>On Time</th>\n",
       "    </tr>\n",
       "    <tr>\n",
       "      <th>Actual Delays</th>\n",
       "      <th></th>\n",
       "      <th></th>\n",
       "    </tr>\n",
       "  </thead>\n",
       "  <tbody>\n",
       "    <tr>\n",
       "      <th>Delayed</th>\n",
       "      <td>137830</td>\n",
       "      <td>0</td>\n",
       "    </tr>\n",
       "    <tr>\n",
       "      <th>On Time</th>\n",
       "      <td>0</td>\n",
       "      <td>283039</td>\n",
       "    </tr>\n",
       "  </tbody>\n",
       "</table>\n",
       "</div>"
      ],
      "text/plain": [
       "Predicted Delays  Delayed  On Time\n",
       "Actual Delays                     \n",
       "Delayed            137830        0\n",
       "On Time                 0   283039"
      ]
     },
     "execution_count": 9,
     "metadata": {},
     "output_type": "execute_result"
    }
   ],
   "source": [
    "# 47 features seemed to improve the model quite a bit.\n",
    "pd.crosstab(y_transposed, predictions, rownames=[\"Actual Delays\"], colnames=[\"Predicted Delays\"])"
   ]
  },
  {
   "cell_type": "code",
   "execution_count": 71,
   "metadata": {},
   "outputs": [
    {
     "name": "stdout",
     "output_type": "stream",
     "text": [
      "251.5979974269867 seconds\n"
     ]
    }
   ],
   "source": [
    "# SGDClassifier with Grid Search\n",
    "from sklearn.linear_model import SGDClassifier\n",
    "from sklearn.model_selection import GridSearchCV\n",
    "start = time.time()\n",
    "\n",
    "sgd = SGDClassifier(random_state=rng)\n",
    "\n",
    "grid = {\n",
    "    'alpha': [1e-4, 1e-3, 1e-2, 1e-1, 1e0, 1e1, 1e2, 1e3], # learning rate\n",
    "    'max_iter': [10], # number of epochs\n",
    "    'loss': ['log'], # logistic regression,\n",
    "    'penalty': ['l2'],\n",
    "    'n_jobs': [-1]\n",
    "}\n",
    "\n",
    "grid_search = GridSearchCV(sgd, grid)\n",
    "grid_search.fit(X_train, y_train)\n",
    "end = time.time()\n",
    "print(f\"{end-start} seconds\")"
   ]
  },
  {
   "cell_type": "code",
   "execution_count": 72,
   "metadata": {},
   "outputs": [
    {
     "name": "stdout",
     "output_type": "stream",
     "text": [
      "Accuracy Score: 100.0\n",
      "3.260974884033203 seconds\n"
     ]
    }
   ],
   "source": [
    "# The best score utilizing the 46 features here is 100%.  Yureka!\n",
    "\n",
    "from sklearn.tree import DecisionTreeClassifier\n",
    "from sklearn.metrics import accuracy_score\n",
    "start = time.time()\n",
    "\n",
    "model = grid_search.best_estimator_\n",
    "predictions = model.predict(X_test)\n",
    "y_transposed = (np.transpose(y_test)).flatten()\n",
    "print(f\"Accuracy Score: {accuracy_score(y_transposed, predictions)*100}\")\n",
    "end = time.time()\n",
    "print(f\"{end-start} seconds\")"
   ]
  },
  {
   "cell_type": "markdown",
   "metadata": {},
   "source": [
    "#### DEPARTURE DELAY RANDOM FOREST FEATURE IMPORTANCE"
   ]
  },
  {
   "cell_type": "code",
   "execution_count": 7,
   "metadata": {},
   "outputs": [
    {
     "name": "stdout",
     "output_type": "stream",
     "text": [
      "(1683475, 47) (1683475, 1)\n"
     ]
    }
   ],
   "source": [
    "# A method to use to narrow down this model is feature_importance_ however it is not working for the grid_search.\n",
    "# It did work for the random forest classifier so that will be tested here.\n",
    "\n",
    "y = delays_df[\"DEPARTURE_DELAY\"].values.reshape(-1, 1)\n",
    "\n",
    "numerics = ['int16', 'int32', 'int64', 'float16', 'float32', 'float64']\n",
    "X = delays_df.select_dtypes(include=numerics)\n",
    "\n",
    "print(X.shape, y.shape)"
   ]
  },
  {
   "cell_type": "code",
   "execution_count": 8,
   "metadata": {},
   "outputs": [
    {
     "name": "stdout",
     "output_type": "stream",
     "text": [
      "2.068992853164673 seconds\n"
     ]
    }
   ],
   "source": [
    "# Split for train and test datasets\n",
    "from sklearn.model_selection import train_test_split\n",
    "start = time.time()\n",
    "\n",
    "X_train, X_test, y_train, y_test = train_test_split(X, y, random_state=rng)\n",
    "end = time.time()\n",
    "print(f\"{end-start} seconds\")"
   ]
  },
  {
   "cell_type": "code",
   "execution_count": 9,
   "metadata": {},
   "outputs": [
    {
     "name": "stdout",
     "output_type": "stream",
     "text": [
      "3.255887985229492 seconds\n"
     ]
    }
   ],
   "source": [
    "# Try out a min/max scaler for the data if needed\n",
    "from sklearn.preprocessing import MinMaxScaler\n",
    "start = time.time()\n",
    "\n",
    "scaler = MinMaxScaler()\n",
    "X_train = scaler.fit_transform(X_train)\n",
    "X_test = scaler.transform(X_test)\n",
    "end = time.time()\n",
    "print(f\"{end-start} seconds\")"
   ]
  },
  {
   "cell_type": "code",
   "execution_count": 10,
   "metadata": {
    "scrolled": true
   },
   "outputs": [
    {
     "name": "stdout",
     "output_type": "stream",
     "text": [
      "185.31030941009521 seconds\n"
     ]
    }
   ],
   "source": [
    "# Set up the random forest classifier\n",
    "\n",
    "from sklearn.ensemble import RandomForestClassifier\n",
    "start = time.time()\n",
    "\n",
    "clf = RandomForestClassifier(n_estimators=100, max_depth=2, random_state=rng, oob_score=True)\n",
    "clf.fit(X_train, y_train) \n",
    "end = time.time()\n",
    "print(f\"{end-start} seconds\")"
   ]
  },
  {
   "cell_type": "code",
   "execution_count": 12,
   "metadata": {
    "scrolled": true
   },
   "outputs": [
    {
     "data": {
      "text/html": [
       "<div>\n",
       "<style scoped>\n",
       "    .dataframe tbody tr th:only-of-type {\n",
       "        vertical-align: middle;\n",
       "    }\n",
       "\n",
       "    .dataframe tbody tr th {\n",
       "        vertical-align: top;\n",
       "    }\n",
       "\n",
       "    .dataframe thead tr th {\n",
       "        text-align: left;\n",
       "    }\n",
       "</style>\n",
       "<table border=\"1\" class=\"dataframe\">\n",
       "  <thead>\n",
       "    <tr>\n",
       "      <th></th>\n",
       "      <th>index</th>\n",
       "      <th>Importance</th>\n",
       "    </tr>\n",
       "  </thead>\n",
       "  <tbody>\n",
       "    <tr>\n",
       "      <th>0</th>\n",
       "      <td>DAY</td>\n",
       "      <td>2.235823e-07</td>\n",
       "    </tr>\n",
       "    <tr>\n",
       "      <th>1</th>\n",
       "      <td>MONTH</td>\n",
       "      <td>0.000000e+00</td>\n",
       "    </tr>\n",
       "    <tr>\n",
       "      <th>2</th>\n",
       "      <td>OP_CARRIER_FL_NUM</td>\n",
       "      <td>2.988311e-05</td>\n",
       "    </tr>\n",
       "    <tr>\n",
       "      <th>3</th>\n",
       "      <td>ORIGIN_LATITUDE</td>\n",
       "      <td>2.948623e-06</td>\n",
       "    </tr>\n",
       "    <tr>\n",
       "      <th>4</th>\n",
       "      <td>ORIGIN_LONGITUDE</td>\n",
       "      <td>2.147621e-06</td>\n",
       "    </tr>\n",
       "    <tr>\n",
       "      <th>5</th>\n",
       "      <td>EAST_COAST_ORIGIN</td>\n",
       "      <td>6.954277e-07</td>\n",
       "    </tr>\n",
       "    <tr>\n",
       "      <th>6</th>\n",
       "      <td>WEST_COAST_ORIGIN</td>\n",
       "      <td>2.937212e-07</td>\n",
       "    </tr>\n",
       "    <tr>\n",
       "      <th>7</th>\n",
       "      <td>CRS_DEP_TIME</td>\n",
       "      <td>6.631807e-03</td>\n",
       "    </tr>\n",
       "    <tr>\n",
       "      <th>8</th>\n",
       "      <td>DEP_TIME</td>\n",
       "      <td>2.589541e-02</td>\n",
       "    </tr>\n",
       "    <tr>\n",
       "      <th>9</th>\n",
       "      <td>DEPARTURE_TIME_OF_DAY_DUMMY</td>\n",
       "      <td>7.261635e-04</td>\n",
       "    </tr>\n",
       "    <tr>\n",
       "      <th>10</th>\n",
       "      <td>DEP_DELAY</td>\n",
       "      <td>1.774262e-01</td>\n",
       "    </tr>\n",
       "    <tr>\n",
       "      <th>11</th>\n",
       "      <td>DEPARTURE_DELAY_OVER_15_MINUTES</td>\n",
       "      <td>2.542307e-04</td>\n",
       "    </tr>\n",
       "    <tr>\n",
       "      <th>12</th>\n",
       "      <td>DEPARTURE_DELAY_OVER_30_MINUTES</td>\n",
       "      <td>0.000000e+00</td>\n",
       "    </tr>\n",
       "    <tr>\n",
       "      <th>13</th>\n",
       "      <td>DEPARTURE_DELAY_OVER_45_MINUTES</td>\n",
       "      <td>0.000000e+00</td>\n",
       "    </tr>\n",
       "    <tr>\n",
       "      <th>14</th>\n",
       "      <td>DEPARTURE_DELAY_OVER_60_MINUTES</td>\n",
       "      <td>0.000000e+00</td>\n",
       "    </tr>\n",
       "    <tr>\n",
       "      <th>15</th>\n",
       "      <td>TAXI_OUT</td>\n",
       "      <td>3.439419e-03</td>\n",
       "    </tr>\n",
       "    <tr>\n",
       "      <th>16</th>\n",
       "      <td>WHEELS_OFF</td>\n",
       "      <td>7.962996e-03</td>\n",
       "    </tr>\n",
       "    <tr>\n",
       "      <th>17</th>\n",
       "      <td>AIR_TIME</td>\n",
       "      <td>1.252013e-04</td>\n",
       "    </tr>\n",
       "    <tr>\n",
       "      <th>18</th>\n",
       "      <td>CRS_ELAPSED_TIME</td>\n",
       "      <td>1.516989e-04</td>\n",
       "    </tr>\n",
       "    <tr>\n",
       "      <th>19</th>\n",
       "      <td>ACTUAL_ELAPSED_TIME</td>\n",
       "      <td>0.000000e+00</td>\n",
       "    </tr>\n",
       "    <tr>\n",
       "      <th>20</th>\n",
       "      <td>DISTANCE</td>\n",
       "      <td>9.925279e-05</td>\n",
       "    </tr>\n",
       "    <tr>\n",
       "      <th>21</th>\n",
       "      <td>WHEELS_ON</td>\n",
       "      <td>5.306904e-03</td>\n",
       "    </tr>\n",
       "    <tr>\n",
       "      <th>22</th>\n",
       "      <td>TAXI_IN</td>\n",
       "      <td>2.100485e-04</td>\n",
       "    </tr>\n",
       "    <tr>\n",
       "      <th>23</th>\n",
       "      <td>DEST_LATITUDE</td>\n",
       "      <td>1.110441e-06</td>\n",
       "    </tr>\n",
       "    <tr>\n",
       "      <th>24</th>\n",
       "      <td>DEST_LONGITUDE</td>\n",
       "      <td>2.487449e-06</td>\n",
       "    </tr>\n",
       "    <tr>\n",
       "      <th>25</th>\n",
       "      <td>EAST_COAST_DEST</td>\n",
       "      <td>0.000000e+00</td>\n",
       "    </tr>\n",
       "    <tr>\n",
       "      <th>26</th>\n",
       "      <td>WEST_COAST_DEST</td>\n",
       "      <td>0.000000e+00</td>\n",
       "    </tr>\n",
       "    <tr>\n",
       "      <th>27</th>\n",
       "      <td>CRS_ARR_TIME</td>\n",
       "      <td>4.791199e-03</td>\n",
       "    </tr>\n",
       "    <tr>\n",
       "      <th>28</th>\n",
       "      <td>ARR_TIME</td>\n",
       "      <td>9.484715e-03</td>\n",
       "    </tr>\n",
       "    <tr>\n",
       "      <th>29</th>\n",
       "      <td>ARR_DELAY</td>\n",
       "      <td>1.708801e-01</td>\n",
       "    </tr>\n",
       "    <tr>\n",
       "      <th>30</th>\n",
       "      <td>ARRIVAL_DELAY_OVER_15_MINUTES</td>\n",
       "      <td>6.054812e-02</td>\n",
       "    </tr>\n",
       "    <tr>\n",
       "      <th>31</th>\n",
       "      <td>ARRIVAL_DELAY_OVER_30_MINUTES</td>\n",
       "      <td>6.991894e-03</td>\n",
       "    </tr>\n",
       "    <tr>\n",
       "      <th>32</th>\n",
       "      <td>ARRIVAL_DELAY_OVER_45_MINUTES</td>\n",
       "      <td>0.000000e+00</td>\n",
       "    </tr>\n",
       "    <tr>\n",
       "      <th>33</th>\n",
       "      <td>ARRIVAL_DELAY_OVER_60_MINUTES</td>\n",
       "      <td>0.000000e+00</td>\n",
       "    </tr>\n",
       "    <tr>\n",
       "      <th>34</th>\n",
       "      <td>ARRIVAL_DELAY_OVER_60_MINUTES.1</td>\n",
       "      <td>0.000000e+00</td>\n",
       "    </tr>\n",
       "    <tr>\n",
       "      <th>35</th>\n",
       "      <td>ARRIVAL_TIME_OF_DAY_DUMMY</td>\n",
       "      <td>8.920480e-03</td>\n",
       "    </tr>\n",
       "    <tr>\n",
       "      <th>36</th>\n",
       "      <td>CANCELLED</td>\n",
       "      <td>3.633751e-04</td>\n",
       "    </tr>\n",
       "    <tr>\n",
       "      <th>37</th>\n",
       "      <td>DIVERTED</td>\n",
       "      <td>0.000000e+00</td>\n",
       "    </tr>\n",
       "    <tr>\n",
       "      <th>38</th>\n",
       "      <td>CARRIER_DELAY</td>\n",
       "      <td>1.155149e-01</td>\n",
       "    </tr>\n",
       "    <tr>\n",
       "      <th>39</th>\n",
       "      <td>WEATHER_DELAY</td>\n",
       "      <td>4.708727e-03</td>\n",
       "    </tr>\n",
       "    <tr>\n",
       "      <th>40</th>\n",
       "      <td>NAS_DELAY</td>\n",
       "      <td>4.369512e-02</td>\n",
       "    </tr>\n",
       "    <tr>\n",
       "      <th>41</th>\n",
       "      <td>SECURITY_DELAY</td>\n",
       "      <td>0.000000e+00</td>\n",
       "    </tr>\n",
       "    <tr>\n",
       "      <th>42</th>\n",
       "      <td>LATE_AIRCRAFT_DELAY</td>\n",
       "      <td>7.760323e-02</td>\n",
       "    </tr>\n",
       "    <tr>\n",
       "      <th>43</th>\n",
       "      <td>WEEKDAY_DUMMY</td>\n",
       "      <td>0.000000e+00</td>\n",
       "    </tr>\n",
       "    <tr>\n",
       "      <th>44</th>\n",
       "      <td>AIRLINE_DUMMY</td>\n",
       "      <td>1.674749e-04</td>\n",
       "    </tr>\n",
       "    <tr>\n",
       "      <th>45</th>\n",
       "      <td>DEPARTURE_DELAY_DUMMY</td>\n",
       "      <td>1.855885e-01</td>\n",
       "    </tr>\n",
       "    <tr>\n",
       "      <th>46</th>\n",
       "      <td>ARRIVAL_DELAY_DUMMY</td>\n",
       "      <td>8.247303e-02</td>\n",
       "    </tr>\n",
       "  </tbody>\n",
       "</table>\n",
       "</div>"
      ],
      "text/plain": [
       "                              index    Importance\n",
       "0                               DAY  2.235823e-07\n",
       "1                             MONTH  0.000000e+00\n",
       "2                 OP_CARRIER_FL_NUM  2.988311e-05\n",
       "3                   ORIGIN_LATITUDE  2.948623e-06\n",
       "4                  ORIGIN_LONGITUDE  2.147621e-06\n",
       "5                 EAST_COAST_ORIGIN  6.954277e-07\n",
       "6                 WEST_COAST_ORIGIN  2.937212e-07\n",
       "7                      CRS_DEP_TIME  6.631807e-03\n",
       "8                          DEP_TIME  2.589541e-02\n",
       "9       DEPARTURE_TIME_OF_DAY_DUMMY  7.261635e-04\n",
       "10                        DEP_DELAY  1.774262e-01\n",
       "11  DEPARTURE_DELAY_OVER_15_MINUTES  2.542307e-04\n",
       "12  DEPARTURE_DELAY_OVER_30_MINUTES  0.000000e+00\n",
       "13  DEPARTURE_DELAY_OVER_45_MINUTES  0.000000e+00\n",
       "14  DEPARTURE_DELAY_OVER_60_MINUTES  0.000000e+00\n",
       "15                         TAXI_OUT  3.439419e-03\n",
       "16                       WHEELS_OFF  7.962996e-03\n",
       "17                         AIR_TIME  1.252013e-04\n",
       "18                 CRS_ELAPSED_TIME  1.516989e-04\n",
       "19              ACTUAL_ELAPSED_TIME  0.000000e+00\n",
       "20                         DISTANCE  9.925279e-05\n",
       "21                        WHEELS_ON  5.306904e-03\n",
       "22                          TAXI_IN  2.100485e-04\n",
       "23                    DEST_LATITUDE  1.110441e-06\n",
       "24                   DEST_LONGITUDE  2.487449e-06\n",
       "25                  EAST_COAST_DEST  0.000000e+00\n",
       "26                  WEST_COAST_DEST  0.000000e+00\n",
       "27                     CRS_ARR_TIME  4.791199e-03\n",
       "28                         ARR_TIME  9.484715e-03\n",
       "29                        ARR_DELAY  1.708801e-01\n",
       "30    ARRIVAL_DELAY_OVER_15_MINUTES  6.054812e-02\n",
       "31    ARRIVAL_DELAY_OVER_30_MINUTES  6.991894e-03\n",
       "32    ARRIVAL_DELAY_OVER_45_MINUTES  0.000000e+00\n",
       "33    ARRIVAL_DELAY_OVER_60_MINUTES  0.000000e+00\n",
       "34  ARRIVAL_DELAY_OVER_60_MINUTES.1  0.000000e+00\n",
       "35        ARRIVAL_TIME_OF_DAY_DUMMY  8.920480e-03\n",
       "36                        CANCELLED  3.633751e-04\n",
       "37                         DIVERTED  0.000000e+00\n",
       "38                    CARRIER_DELAY  1.155149e-01\n",
       "39                    WEATHER_DELAY  4.708727e-03\n",
       "40                        NAS_DELAY  4.369512e-02\n",
       "41                   SECURITY_DELAY  0.000000e+00\n",
       "42              LATE_AIRCRAFT_DELAY  7.760323e-02\n",
       "43                    WEEKDAY_DUMMY  0.000000e+00\n",
       "44                    AIRLINE_DUMMY  1.674749e-04\n",
       "45            DEPARTURE_DELAY_DUMMY  1.855885e-01\n",
       "46              ARRIVAL_DELAY_DUMMY  8.247303e-02"
      ]
     },
     "execution_count": 12,
     "metadata": {},
     "output_type": "execute_result"
    }
   ],
   "source": [
    "importance_df = pd.DataFrame(clf.feature_importances_, X.columns, columns=[[\"Importance\"]]).reset_index()\n",
    "importance_df"
   ]
  },
  {
   "cell_type": "markdown",
   "metadata": {},
   "source": [
    "#### DEPARTURE DELAY MODEL TRIMDOWN 46 TO 34 FEATURES"
   ]
  },
  {
   "cell_type": "code",
   "execution_count": 42,
   "metadata": {},
   "outputs": [
    {
     "name": "stdout",
     "output_type": "stream",
     "text": [
      "(1683475, 34) (1683475, 1)\n"
     ]
    }
   ],
   "source": [
    "# Drop some of the columns that conflict with departure delays and try again.\n",
    "\n",
    "y = delays_df[\"DEPARTURE_DELAY\"].values.reshape(-1, 1)\n",
    "\n",
    "numerics = ['int16', 'int32', 'int64', 'float16', 'float32', 'float64']\n",
    "X = delays_df.select_dtypes(include=numerics)\n",
    "X = X.drop(['DEPARTURE_TIME_OF_DAY_DUMMY', 'DEP_DELAY', 'DEPARTURE_DELAY_OVER_15_MINUTES', 'DEPARTURE_DELAY_OVER_30_MINUTES', \\\n",
    "            'DEPARTURE_DELAY_OVER_45_MINUTES', 'DEPARTURE_DELAY_OVER_60_MINUTES', \\\n",
    "            'ARR_DELAY', 'ARRIVAL_DELAY_OVER_15_MINUTES', 'ARRIVAL_DELAY_OVER_30_MINUTES', \\\n",
    "            'ARRIVAL_DELAY_OVER_45_MINUTES', 'ARRIVAL_DELAY_OVER_60_MINUTES', \\\n",
    "            'ARRIVAL_DELAY_OVER_60_MINUTES.1', 'ARRIVAL_TIME_OF_DAY_DUMMY',], axis = 1)\n",
    "\n",
    "print(X.shape, y.shape)"
   ]
  },
  {
   "cell_type": "code",
   "execution_count": 33,
   "metadata": {},
   "outputs": [
    {
     "name": "stdout",
     "output_type": "stream",
     "text": [
      "1.638005018234253 seconds\n"
     ]
    }
   ],
   "source": [
    "# Split for train and test datasets\n",
    "from sklearn.model_selection import train_test_split\n",
    "start = time.time()\n",
    "\n",
    "X_train, X_test, y_train, y_test = train_test_split(X, y, random_state=rng)\n",
    "end = time.time()\n",
    "print(f\"{end-start} seconds\")"
   ]
  },
  {
   "cell_type": "code",
   "execution_count": 34,
   "metadata": {},
   "outputs": [
    {
     "name": "stdout",
     "output_type": "stream",
     "text": [
      "2.252122402191162 seconds\n"
     ]
    }
   ],
   "source": [
    "# Try out a min/max scaler for the data if needed\n",
    "from sklearn.preprocessing import MinMaxScaler\n",
    "start = time.time()\n",
    "\n",
    "scaler = MinMaxScaler()\n",
    "X_train = scaler.fit_transform(X_train)\n",
    "X_test = scaler.transform(X_test)\n",
    "end = time.time()\n",
    "print(f\"{end-start} seconds\")"
   ]
  },
  {
   "cell_type": "code",
   "execution_count": 35,
   "metadata": {},
   "outputs": [
    {
     "name": "stdout",
     "output_type": "stream",
     "text": [
      "5.610364675521851 seconds\n"
     ]
    }
   ],
   "source": [
    "# SGDClassifier\n",
    "from sklearn.linear_model import SGDClassifier\n",
    "from sklearn.model_selection import GridSearchCV\n",
    "start = time.time()\n",
    "\n",
    "sgd = SGDClassifier(random_state=rng)\n",
    "sgd.fit(X_train, y_train)\n",
    "end = time.time()\n",
    "print(f\"{end-start} seconds\")"
   ]
  },
  {
   "cell_type": "code",
   "execution_count": 36,
   "metadata": {},
   "outputs": [
    {
     "name": "stdout",
     "output_type": "stream",
     "text": [
      "Accuracy Score: 100.0\n",
      "3.6655337810516357 seconds\n"
     ]
    }
   ],
   "source": [
    "# This is another good sign.  Look back at the feature importance to try to get a good model with less features\n",
    "# 34 features is a bit too much of a logistical possibility to consistently have to update the model for predictions.\n",
    "\n",
    "from sklearn.metrics import accuracy_score\n",
    "start = time.time()\n",
    "\n",
    "predictions = sgd.predict(X_test)\n",
    "y_transposed = (np.transpose(y_test)).flatten()\n",
    "print(f\"Accuracy Score: {accuracy_score(y_transposed, predictions)*100}\")\n",
    "end = time.time()\n",
    "print(f\"{end-start} seconds\")"
   ]
  },
  {
   "cell_type": "code",
   "execution_count": 37,
   "metadata": {
    "scrolled": true
   },
   "outputs": [
    {
     "data": {
      "text/html": [
       "<div>\n",
       "<style scoped>\n",
       "    .dataframe tbody tr th:only-of-type {\n",
       "        vertical-align: middle;\n",
       "    }\n",
       "\n",
       "    .dataframe tbody tr th {\n",
       "        vertical-align: top;\n",
       "    }\n",
       "\n",
       "    .dataframe thead th {\n",
       "        text-align: right;\n",
       "    }\n",
       "</style>\n",
       "<table border=\"1\" class=\"dataframe\">\n",
       "  <thead>\n",
       "    <tr style=\"text-align: right;\">\n",
       "      <th>Predicted Delays</th>\n",
       "      <th>Delayed</th>\n",
       "      <th>On Time</th>\n",
       "    </tr>\n",
       "    <tr>\n",
       "      <th>Actual Delays</th>\n",
       "      <th></th>\n",
       "      <th></th>\n",
       "    </tr>\n",
       "  </thead>\n",
       "  <tbody>\n",
       "    <tr>\n",
       "      <th>Delayed</th>\n",
       "      <td>137791</td>\n",
       "      <td>0</td>\n",
       "    </tr>\n",
       "    <tr>\n",
       "      <th>On Time</th>\n",
       "      <td>0</td>\n",
       "      <td>283078</td>\n",
       "    </tr>\n",
       "  </tbody>\n",
       "</table>\n",
       "</div>"
      ],
      "text/plain": [
       "Predicted Delays  Delayed  On Time\n",
       "Actual Delays                     \n",
       "Delayed            137791        0\n",
       "On Time                 0   283078"
      ]
     },
     "execution_count": 37,
     "metadata": {},
     "output_type": "execute_result"
    }
   ],
   "source": [
    "pd.crosstab(y_transposed, predictions, rownames=[\"Actual Delays\"], colnames=[\"Predicted Delays\"])"
   ]
  },
  {
   "cell_type": "markdown",
   "metadata": {},
   "source": [
    "#### DEPARTURE DELAY MODEL TRIMDOWN 34 TO 30 FEATURES (71.475%)"
   ]
  },
  {
   "cell_type": "code",
   "execution_count": 24,
   "metadata": {
    "scrolled": false
   },
   "outputs": [
    {
     "data": {
      "text/plain": [
       "Index(['DAY', 'MONTH', 'OP_CARRIER_FL_NUM', 'ORIGIN_LATITUDE',\n",
       "       'ORIGIN_LONGITUDE', 'EAST_COAST_ORIGIN', 'WEST_COAST_ORIGIN',\n",
       "       'CRS_DEP_TIME', 'DEP_TIME', 'TAXI_OUT', 'WHEELS_OFF', 'AIR_TIME',\n",
       "       'CRS_ELAPSED_TIME', 'ACTUAL_ELAPSED_TIME', 'DISTANCE', 'WHEELS_ON',\n",
       "       'TAXI_IN', 'DEST_LATITUDE', 'DEST_LONGITUDE', 'EAST_COAST_DEST',\n",
       "       'WEST_COAST_DEST', 'CRS_ARR_TIME', 'ARR_TIME', 'CANCELLED', 'DIVERTED',\n",
       "       'CARRIER_DELAY', 'WEATHER_DELAY', 'NAS_DELAY', 'SECURITY_DELAY',\n",
       "       'LATE_AIRCRAFT_DELAY', 'WEEKDAY_DUMMY', 'AIRLINE_DUMMY',\n",
       "       'DEPARTURE_DELAY_DUMMY', 'ARRIVAL_DELAY_DUMMY'],\n",
       "      dtype='object')"
      ]
     },
     "execution_count": 24,
     "metadata": {},
     "output_type": "execute_result"
    }
   ],
   "source": [
    "# Continue to drop features that both conflict with departure delays and have a low feature importance.\n",
    "\n",
    "y = delays_df[\"DEPARTURE_DELAY\"].values.reshape(-1, 1)\n",
    "\n",
    "X.columns"
   ]
  },
  {
   "cell_type": "code",
   "execution_count": 38,
   "metadata": {},
   "outputs": [
    {
     "name": "stdout",
     "output_type": "stream",
     "text": [
      "1.5662486553192139 seconds\n"
     ]
    }
   ],
   "source": [
    "# Split for train and test datasets\n",
    "from sklearn.model_selection import train_test_split\n",
    "start = time.time()\n",
    "\n",
    "X_train, X_test, y_train, y_test = train_test_split(X, y, random_state=rng)\n",
    "end = time.time()\n",
    "print(f\"{end-start} seconds\")"
   ]
  },
  {
   "cell_type": "code",
   "execution_count": 39,
   "metadata": {},
   "outputs": [
    {
     "name": "stdout",
     "output_type": "stream",
     "text": [
      "2.477146863937378 seconds\n"
     ]
    }
   ],
   "source": [
    "# Try out a min/max scaler for the data if needed\n",
    "from sklearn.preprocessing import MinMaxScaler\n",
    "start = time.time()\n",
    "\n",
    "scaler = MinMaxScaler()\n",
    "X_train = scaler.fit_transform(X_train)\n",
    "X_test = scaler.transform(X_test)\n",
    "end = time.time()\n",
    "print(f\"{end-start} seconds\")"
   ]
  },
  {
   "cell_type": "code",
   "execution_count": 40,
   "metadata": {},
   "outputs": [
    {
     "name": "stdout",
     "output_type": "stream",
     "text": [
      "204.14404678344727 seconds\n"
     ]
    }
   ],
   "source": [
    "# Set up the random forest classifier\n",
    "\n",
    "from sklearn.ensemble import RandomForestClassifier\n",
    "start = time.time()\n",
    "\n",
    "clf = RandomForestClassifier(n_estimators=100, max_depth=2, random_state=rng, oob_score=True)\n",
    "clf.fit(X_train, y_train) \n",
    "end = time.time()\n",
    "print(f\"{end-start} seconds\")"
   ]
  },
  {
   "cell_type": "code",
   "execution_count": 41,
   "metadata": {},
   "outputs": [
    {
     "data": {
      "text/html": [
       "<div>\n",
       "<style scoped>\n",
       "    .dataframe tbody tr th:only-of-type {\n",
       "        vertical-align: middle;\n",
       "    }\n",
       "\n",
       "    .dataframe tbody tr th {\n",
       "        vertical-align: top;\n",
       "    }\n",
       "\n",
       "    .dataframe thead tr th {\n",
       "        text-align: left;\n",
       "    }\n",
       "</style>\n",
       "<table border=\"1\" class=\"dataframe\">\n",
       "  <thead>\n",
       "    <tr>\n",
       "      <th></th>\n",
       "      <th>index</th>\n",
       "      <th>Importance</th>\n",
       "    </tr>\n",
       "  </thead>\n",
       "  <tbody>\n",
       "    <tr>\n",
       "      <th>0</th>\n",
       "      <td>DAY</td>\n",
       "      <td>3.217066e-03</td>\n",
       "    </tr>\n",
       "    <tr>\n",
       "      <th>1</th>\n",
       "      <td>MONTH</td>\n",
       "      <td>0.000000e+00</td>\n",
       "    </tr>\n",
       "    <tr>\n",
       "      <th>2</th>\n",
       "      <td>OP_CARRIER_FL_NUM</td>\n",
       "      <td>1.011075e-04</td>\n",
       "    </tr>\n",
       "    <tr>\n",
       "      <th>3</th>\n",
       "      <td>ORIGIN_LATITUDE</td>\n",
       "      <td>3.044551e-04</td>\n",
       "    </tr>\n",
       "    <tr>\n",
       "      <th>4</th>\n",
       "      <td>ORIGIN_LONGITUDE</td>\n",
       "      <td>5.325754e-06</td>\n",
       "    </tr>\n",
       "    <tr>\n",
       "      <th>5</th>\n",
       "      <td>EAST_COAST_ORIGIN</td>\n",
       "      <td>0.000000e+00</td>\n",
       "    </tr>\n",
       "    <tr>\n",
       "      <th>6</th>\n",
       "      <td>WEST_COAST_ORIGIN</td>\n",
       "      <td>0.000000e+00</td>\n",
       "    </tr>\n",
       "    <tr>\n",
       "      <th>7</th>\n",
       "      <td>CRS_DEP_TIME</td>\n",
       "      <td>2.807475e-02</td>\n",
       "    </tr>\n",
       "    <tr>\n",
       "      <th>8</th>\n",
       "      <td>DEP_TIME</td>\n",
       "      <td>4.215495e-02</td>\n",
       "    </tr>\n",
       "    <tr>\n",
       "      <th>9</th>\n",
       "      <td>TAXI_OUT</td>\n",
       "      <td>8.555668e-03</td>\n",
       "    </tr>\n",
       "    <tr>\n",
       "      <th>10</th>\n",
       "      <td>WHEELS_OFF</td>\n",
       "      <td>2.565947e-02</td>\n",
       "    </tr>\n",
       "    <tr>\n",
       "      <th>11</th>\n",
       "      <td>AIR_TIME</td>\n",
       "      <td>9.083235e-03</td>\n",
       "    </tr>\n",
       "    <tr>\n",
       "      <th>12</th>\n",
       "      <td>CRS_ELAPSED_TIME</td>\n",
       "      <td>1.316470e-06</td>\n",
       "    </tr>\n",
       "    <tr>\n",
       "      <th>13</th>\n",
       "      <td>ACTUAL_ELAPSED_TIME</td>\n",
       "      <td>1.764891e-03</td>\n",
       "    </tr>\n",
       "    <tr>\n",
       "      <th>14</th>\n",
       "      <td>DISTANCE</td>\n",
       "      <td>9.407331e-04</td>\n",
       "    </tr>\n",
       "    <tr>\n",
       "      <th>15</th>\n",
       "      <td>WHEELS_ON</td>\n",
       "      <td>3.535185e-02</td>\n",
       "    </tr>\n",
       "    <tr>\n",
       "      <th>16</th>\n",
       "      <td>TAXI_IN</td>\n",
       "      <td>1.123565e-03</td>\n",
       "    </tr>\n",
       "    <tr>\n",
       "      <th>17</th>\n",
       "      <td>DEST_LATITUDE</td>\n",
       "      <td>7.448762e-07</td>\n",
       "    </tr>\n",
       "    <tr>\n",
       "      <th>18</th>\n",
       "      <td>DEST_LONGITUDE</td>\n",
       "      <td>0.000000e+00</td>\n",
       "    </tr>\n",
       "    <tr>\n",
       "      <th>19</th>\n",
       "      <td>EAST_COAST_DEST</td>\n",
       "      <td>0.000000e+00</td>\n",
       "    </tr>\n",
       "    <tr>\n",
       "      <th>20</th>\n",
       "      <td>WEST_COAST_DEST</td>\n",
       "      <td>0.000000e+00</td>\n",
       "    </tr>\n",
       "    <tr>\n",
       "      <th>21</th>\n",
       "      <td>CRS_ARR_TIME</td>\n",
       "      <td>2.634324e-02</td>\n",
       "    </tr>\n",
       "    <tr>\n",
       "      <th>22</th>\n",
       "      <td>ARR_TIME</td>\n",
       "      <td>1.478471e-02</td>\n",
       "    </tr>\n",
       "    <tr>\n",
       "      <th>23</th>\n",
       "      <td>CANCELLED</td>\n",
       "      <td>6.900804e-03</td>\n",
       "    </tr>\n",
       "    <tr>\n",
       "      <th>24</th>\n",
       "      <td>DIVERTED</td>\n",
       "      <td>0.000000e+00</td>\n",
       "    </tr>\n",
       "    <tr>\n",
       "      <th>25</th>\n",
       "      <td>CARRIER_DELAY</td>\n",
       "      <td>8.659163e-02</td>\n",
       "    </tr>\n",
       "    <tr>\n",
       "      <th>26</th>\n",
       "      <td>WEATHER_DELAY</td>\n",
       "      <td>3.763311e-02</td>\n",
       "    </tr>\n",
       "    <tr>\n",
       "      <th>27</th>\n",
       "      <td>NAS_DELAY</td>\n",
       "      <td>7.627191e-02</td>\n",
       "    </tr>\n",
       "    <tr>\n",
       "      <th>28</th>\n",
       "      <td>SECURITY_DELAY</td>\n",
       "      <td>7.764751e-05</td>\n",
       "    </tr>\n",
       "    <tr>\n",
       "      <th>29</th>\n",
       "      <td>LATE_AIRCRAFT_DELAY</td>\n",
       "      <td>1.855708e-01</td>\n",
       "    </tr>\n",
       "    <tr>\n",
       "      <th>30</th>\n",
       "      <td>WEEKDAY_DUMMY</td>\n",
       "      <td>0.000000e+00</td>\n",
       "    </tr>\n",
       "    <tr>\n",
       "      <th>31</th>\n",
       "      <td>AIRLINE_DUMMY</td>\n",
       "      <td>1.224122e-04</td>\n",
       "    </tr>\n",
       "    <tr>\n",
       "      <th>32</th>\n",
       "      <td>DEPARTURE_DELAY_DUMMY</td>\n",
       "      <td>2.647448e-01</td>\n",
       "    </tr>\n",
       "    <tr>\n",
       "      <th>33</th>\n",
       "      <td>ARRIVAL_DELAY_DUMMY</td>\n",
       "      <td>1.446198e-01</td>\n",
       "    </tr>\n",
       "  </tbody>\n",
       "</table>\n",
       "</div>"
      ],
      "text/plain": [
       "                    index    Importance\n",
       "0                     DAY  3.217066e-03\n",
       "1                   MONTH  0.000000e+00\n",
       "2       OP_CARRIER_FL_NUM  1.011075e-04\n",
       "3         ORIGIN_LATITUDE  3.044551e-04\n",
       "4        ORIGIN_LONGITUDE  5.325754e-06\n",
       "5       EAST_COAST_ORIGIN  0.000000e+00\n",
       "6       WEST_COAST_ORIGIN  0.000000e+00\n",
       "7            CRS_DEP_TIME  2.807475e-02\n",
       "8                DEP_TIME  4.215495e-02\n",
       "9                TAXI_OUT  8.555668e-03\n",
       "10             WHEELS_OFF  2.565947e-02\n",
       "11               AIR_TIME  9.083235e-03\n",
       "12       CRS_ELAPSED_TIME  1.316470e-06\n",
       "13    ACTUAL_ELAPSED_TIME  1.764891e-03\n",
       "14               DISTANCE  9.407331e-04\n",
       "15              WHEELS_ON  3.535185e-02\n",
       "16                TAXI_IN  1.123565e-03\n",
       "17          DEST_LATITUDE  7.448762e-07\n",
       "18         DEST_LONGITUDE  0.000000e+00\n",
       "19        EAST_COAST_DEST  0.000000e+00\n",
       "20        WEST_COAST_DEST  0.000000e+00\n",
       "21           CRS_ARR_TIME  2.634324e-02\n",
       "22               ARR_TIME  1.478471e-02\n",
       "23              CANCELLED  6.900804e-03\n",
       "24               DIVERTED  0.000000e+00\n",
       "25          CARRIER_DELAY  8.659163e-02\n",
       "26          WEATHER_DELAY  3.763311e-02\n",
       "27              NAS_DELAY  7.627191e-02\n",
       "28         SECURITY_DELAY  7.764751e-05\n",
       "29    LATE_AIRCRAFT_DELAY  1.855708e-01\n",
       "30          WEEKDAY_DUMMY  0.000000e+00\n",
       "31          AIRLINE_DUMMY  1.224122e-04\n",
       "32  DEPARTURE_DELAY_DUMMY  2.647448e-01\n",
       "33    ARRIVAL_DELAY_DUMMY  1.446198e-01"
      ]
     },
     "execution_count": 41,
     "metadata": {},
     "output_type": "execute_result"
    }
   ],
   "source": [
    "importance_df = pd.DataFrame(clf.feature_importances_, X.columns, columns=[[\"Importance\"]]).reset_index()\n",
    "importance_df"
   ]
  },
  {
   "cell_type": "code",
   "execution_count": 43,
   "metadata": {},
   "outputs": [],
   "source": [
    "X = X.drop(['DEP_TIME', 'ARR_TIME','DEPARTURE_DELAY_DUMMY','ARRIVAL_DELAY_DUMMY'], axis = 1)"
   ]
  },
  {
   "cell_type": "code",
   "execution_count": 44,
   "metadata": {
    "scrolled": true
   },
   "outputs": [
    {
     "name": "stdout",
     "output_type": "stream",
     "text": [
      "(1683475, 30) (1683475, 1)\n"
     ]
    }
   ],
   "source": [
    "print(X.shape, y.shape)"
   ]
  },
  {
   "cell_type": "code",
   "execution_count": 45,
   "metadata": {},
   "outputs": [
    {
     "name": "stdout",
     "output_type": "stream",
     "text": [
      "1.423994779586792 seconds\n"
     ]
    }
   ],
   "source": [
    "# Split for train and test datasets\n",
    "from sklearn.model_selection import train_test_split\n",
    "start = time.time()\n",
    "\n",
    "X_train, X_test, y_train, y_test = train_test_split(X, y, random_state=rng)\n",
    "end = time.time()\n",
    "print(f\"{end-start} seconds\")"
   ]
  },
  {
   "cell_type": "code",
   "execution_count": 49,
   "metadata": {},
   "outputs": [
    {
     "name": "stdout",
     "output_type": "stream",
     "text": [
      "7.795314311981201 seconds\n"
     ]
    }
   ],
   "source": [
    "# Try out PCA if needed\n",
    "from sklearn.decomposition import PCA\n",
    "start = time.time()\n",
    "\n",
    "pca = PCA(.95)\n",
    "pca.fit(X)\n",
    "X_train = pca.transform(X_train)\n",
    "X_test = pca.transform(X_test)\n",
    "end = time.time()\n",
    "print(f\"{end-start} seconds\")"
   ]
  },
  {
   "cell_type": "code",
   "execution_count": 53,
   "metadata": {},
   "outputs": [
    {
     "name": "stdout",
     "output_type": "stream",
     "text": [
      "0.38097596168518066 seconds\n"
     ]
    }
   ],
   "source": [
    "# Try out a min/max scaler for the data if needed\n",
    "from sklearn.preprocessing import MinMaxScaler\n",
    "start = time.time()\n",
    "\n",
    "scaler = MinMaxScaler()\n",
    "X_train = scaler.fit_transform(X_train)\n",
    "X_test = scaler.transform(X_test)\n",
    "end = time.time()\n",
    "print(f\"{end-start} seconds\")"
   ]
  },
  {
   "cell_type": "code",
   "execution_count": 54,
   "metadata": {},
   "outputs": [
    {
     "name": "stdout",
     "output_type": "stream",
     "text": [
      "4.772235870361328 seconds\n"
     ]
    }
   ],
   "source": [
    "# SGDClassifier\n",
    "from sklearn.linear_model import SGDClassifier\n",
    "from sklearn.model_selection import GridSearchCV\n",
    "start = time.time()\n",
    "\n",
    "sgd = SGDClassifier(random_state=rng)\n",
    "sgd.fit(X_train, y_train)\n",
    "end = time.time()\n",
    "print(f\"{end-start} seconds\")"
   ]
  },
  {
   "cell_type": "code",
   "execution_count": 55,
   "metadata": {},
   "outputs": [
    {
     "name": "stdout",
     "output_type": "stream",
     "text": [
      "Accuracy Score: 67.26035892403574\n",
      "2.896061897277832 seconds\n"
     ]
    }
   ],
   "source": [
    "# Seems like it may not work as departure delays seem to heavily rely on arrival time and arrival delays.\n",
    "# This could work with preexisting flights but be irrelevant for new flight paths.\n",
    "\n",
    "from sklearn.metrics import accuracy_score\n",
    "start = time.time()\n",
    "\n",
    "predictions = sgd.predict(X_test)\n",
    "y_transposed = (np.transpose(y_test)).flatten()\n",
    "print(f\"Accuracy Score: {accuracy_score(y_transposed, predictions)*100}\")\n",
    "end = time.time()\n",
    "print(f\"{end-start} seconds\")"
   ]
  },
  {
   "cell_type": "code",
   "execution_count": 31,
   "metadata": {
    "scrolled": true
   },
   "outputs": [
    {
     "data": {
      "text/html": [
       "<div>\n",
       "<style scoped>\n",
       "    .dataframe tbody tr th:only-of-type {\n",
       "        vertical-align: middle;\n",
       "    }\n",
       "\n",
       "    .dataframe tbody tr th {\n",
       "        vertical-align: top;\n",
       "    }\n",
       "\n",
       "    .dataframe thead th {\n",
       "        text-align: right;\n",
       "    }\n",
       "</style>\n",
       "<table border=\"1\" class=\"dataframe\">\n",
       "  <thead>\n",
       "    <tr style=\"text-align: right;\">\n",
       "      <th>Predicted Delays</th>\n",
       "      <th>Delayed</th>\n",
       "      <th>On Time</th>\n",
       "    </tr>\n",
       "    <tr>\n",
       "      <th>Actual Delays</th>\n",
       "      <th></th>\n",
       "      <th></th>\n",
       "    </tr>\n",
       "  </thead>\n",
       "  <tbody>\n",
       "    <tr>\n",
       "      <th>Delayed</th>\n",
       "      <td>23130</td>\n",
       "      <td>114661</td>\n",
       "    </tr>\n",
       "    <tr>\n",
       "      <th>On Time</th>\n",
       "      <td>65</td>\n",
       "      <td>283013</td>\n",
       "    </tr>\n",
       "  </tbody>\n",
       "</table>\n",
       "</div>"
      ],
      "text/plain": [
       "Predicted Delays  Delayed  On Time\n",
       "Actual Delays                     \n",
       "Delayed             23130   114661\n",
       "On Time                65   283013"
      ]
     },
     "execution_count": 31,
     "metadata": {},
     "output_type": "execute_result"
    }
   ],
   "source": [
    "pd.crosstab(y_transposed, predictions, rownames=[\"Actual Delays\"], colnames=[\"Predicted Delays\"])"
   ]
  },
  {
   "cell_type": "markdown",
   "metadata": {},
   "source": [
    "#### DEPARTURE DELAY 3 CATEGORIES SCBCLASSIFIER SCALED PCA (67.26%)"
   ]
  },
  {
   "cell_type": "code",
   "execution_count": 56,
   "metadata": {},
   "outputs": [
    {
     "name": "stdout",
     "output_type": "stream",
     "text": [
      "(1683475, 10) (1683475, 1)\n"
     ]
    }
   ],
   "source": [
    "# Try the 3 categorical y for Departure Delays\n",
    "\n",
    "X = delays_df[[\"DAY\", \"MONTH\", \"DEP_TIME\", \"DEPARTURE_TIME_OF_DAY_DUMMY\", \"WEEKDAY_DUMMY\", \"AIRLINE_DUMMY\", \\\n",
    "               \"OP_CARRIER_FL_NUM\", \"TAXI_OUT\", \"WHEELS_OFF\",\"WEATHER_DELAY\",]]\n",
    "\n",
    "y = delays_df[\"DEPARTURE_DELAY_TEST\"].values.reshape(-1, 1)\n",
    "print(X.shape, y.shape)"
   ]
  },
  {
   "cell_type": "code",
   "execution_count": 57,
   "metadata": {},
   "outputs": [
    {
     "name": "stdout",
     "output_type": "stream",
     "text": [
      "0.7909786701202393 seconds\n"
     ]
    }
   ],
   "source": [
    "# Split for train and test datasets\n",
    "from sklearn.model_selection import train_test_split\n",
    "start = time.time()\n",
    "\n",
    "X_train, X_test, y_train, y_test = train_test_split(X, y, random_state=rng)\n",
    "end = time.time()\n",
    "print(f\"{end-start} seconds\")"
   ]
  },
  {
   "cell_type": "code",
   "execution_count": 58,
   "metadata": {},
   "outputs": [
    {
     "name": "stdout",
     "output_type": "stream",
     "text": [
      "2.3417959213256836 seconds\n"
     ]
    }
   ],
   "source": [
    "# Try out PCA if needed\n",
    "from sklearn.decomposition import PCA\n",
    "start = time.time()\n",
    "\n",
    "pca = PCA(.95)\n",
    "pca.fit(X)\n",
    "X_train = pca.transform(X_train)\n",
    "X_test = pca.transform(X_test)\n",
    "end = time.time()\n",
    "print(f\"{end-start} seconds\")"
   ]
  },
  {
   "cell_type": "code",
   "execution_count": 59,
   "metadata": {},
   "outputs": [
    {
     "name": "stdout",
     "output_type": "stream",
     "text": [
      "0.3640408515930176 seconds\n"
     ]
    }
   ],
   "source": [
    "# Try out a min/max scaler for the data if needed\n",
    "from sklearn.preprocessing import MinMaxScaler\n",
    "start = time.time()\n",
    "\n",
    "scaler = MinMaxScaler()\n",
    "X_train = scaler.fit_transform(X_train)\n",
    "X_test = scaler.transform(X_test)\n",
    "end = time.time()\n",
    "print(f\"{end-start} seconds\")"
   ]
  },
  {
   "cell_type": "code",
   "execution_count": 49,
   "metadata": {},
   "outputs": [
    {
     "name": "stdout",
     "output_type": "stream",
     "text": [
      "7.795314311981201 seconds\n"
     ]
    }
   ],
   "source": [
    "# Try out PCA if needed\n",
    "from sklearn.decomposition import PCA\n",
    "start = time.time()\n",
    "\n",
    "pca = PCA(.95)\n",
    "pca.fit(X)\n",
    "X_train = pca.transform(X_train)\n",
    "X_test = pca.transform(X_test)\n",
    "end = time.time()\n",
    "print(f\"{end-start} seconds\")"
   ]
  },
  {
   "cell_type": "code",
   "execution_count": 60,
   "metadata": {},
   "outputs": [
    {
     "name": "stdout",
     "output_type": "stream",
     "text": [
      "8.164777755737305 seconds\n"
     ]
    }
   ],
   "source": [
    "# SGDClassifier\n",
    "from sklearn.linear_model import SGDClassifier\n",
    "from sklearn.model_selection import GridSearchCV\n",
    "start = time.time()\n",
    "\n",
    "sgd = SGDClassifier(random_state=rng)\n",
    "sgd.fit(X_train, y_train)\n",
    "end = time.time()\n",
    "print(f\"{end-start} seconds\")"
   ]
  },
  {
   "cell_type": "code",
   "execution_count": 61,
   "metadata": {},
   "outputs": [
    {
     "name": "stdout",
     "output_type": "stream",
     "text": [
      "Accuracy Score: 67.26035892403574\n",
      "1.5279765129089355 seconds\n"
     ]
    }
   ],
   "source": [
    "# Perhaps trying this out with the 34 feature model may produce a better if unrealistic result.\n",
    "\n",
    "from sklearn.metrics import accuracy_score\n",
    "start = time.time()\n",
    "\n",
    "predictions = sgd.predict(X_test)\n",
    "y_transposed = (np.transpose(y_test)).flatten()\n",
    "print(f\"Accuracy Score: {accuracy_score(y_transposed, predictions)*100}\")\n",
    "end = time.time()\n",
    "print(f\"{end-start} seconds\")"
   ]
  },
  {
   "cell_type": "code",
   "execution_count": 62,
   "metadata": {
    "scrolled": true
   },
   "outputs": [
    {
     "data": {
      "text/html": [
       "<div>\n",
       "<style scoped>\n",
       "    .dataframe tbody tr th:only-of-type {\n",
       "        vertical-align: middle;\n",
       "    }\n",
       "\n",
       "    .dataframe tbody tr th {\n",
       "        vertical-align: top;\n",
       "    }\n",
       "\n",
       "    .dataframe thead th {\n",
       "        text-align: right;\n",
       "    }\n",
       "</style>\n",
       "<table border=\"1\" class=\"dataframe\">\n",
       "  <thead>\n",
       "    <tr style=\"text-align: right;\">\n",
       "      <th>Predicted Delays</th>\n",
       "      <th>On Time</th>\n",
       "    </tr>\n",
       "    <tr>\n",
       "      <th>Actual Delays</th>\n",
       "      <th></th>\n",
       "    </tr>\n",
       "  </thead>\n",
       "  <tbody>\n",
       "    <tr>\n",
       "      <th>Long Delay</th>\n",
       "      <td>69140</td>\n",
       "    </tr>\n",
       "    <tr>\n",
       "      <th>On Time</th>\n",
       "      <td>283078</td>\n",
       "    </tr>\n",
       "    <tr>\n",
       "      <th>Small Delay</th>\n",
       "      <td>68651</td>\n",
       "    </tr>\n",
       "  </tbody>\n",
       "</table>\n",
       "</div>"
      ],
      "text/plain": [
       "Predicted Delays  On Time\n",
       "Actual Delays            \n",
       "Long Delay          69140\n",
       "On Time            283078\n",
       "Small Delay         68651"
      ]
     },
     "execution_count": 62,
     "metadata": {},
     "output_type": "execute_result"
    }
   ],
   "source": [
    "pd.crosstab(y_transposed, predictions, rownames=[\"Actual Delays\"], colnames=[\"Predicted Delays\"])"
   ]
  },
  {
   "cell_type": "markdown",
   "metadata": {},
   "source": [
    "#### DEPARTURE DELAY 3 CATEGORIES 34 FEATURE SGDCLASSIFIER SCALED PCA"
   ]
  },
  {
   "cell_type": "code",
   "execution_count": 75,
   "metadata": {
    "scrolled": true
   },
   "outputs": [
    {
     "name": "stdout",
     "output_type": "stream",
     "text": [
      "(1683475, 34) (1683475, 1)\n"
     ]
    }
   ],
   "source": [
    "# Try out the 34 feature model\n",
    "\n",
    "y = delays_df[\"DEPARTURE_DELAY_TEST\"].values.reshape(-1, 1)\n",
    "\n",
    "numerics = ['int16', 'int32', 'int64', 'float16', 'float32', 'float64']\n",
    "X = delays_df.select_dtypes(include=numerics)\n",
    "X = X.drop(['DEPARTURE_TIME_OF_DAY_DUMMY', 'DEP_DELAY', 'DEPARTURE_DELAY_OVER_15_MINUTES', 'DEPARTURE_DELAY_OVER_30_MINUTES', \\\n",
    "            'DEPARTURE_DELAY_OVER_45_MINUTES', 'DEPARTURE_DELAY_OVER_60_MINUTES', \\\n",
    "            'ARR_DELAY', 'ARRIVAL_DELAY_OVER_15_MINUTES', 'ARRIVAL_DELAY_OVER_30_MINUTES', \\\n",
    "            'ARRIVAL_DELAY_OVER_45_MINUTES', 'ARRIVAL_DELAY_OVER_60_MINUTES', \\\n",
    "            'ARRIVAL_DELAY_OVER_60_MINUTES.1', 'ARRIVAL_TIME_OF_DAY_DUMMY',], axis = 1)\n",
    "\n",
    "print(X.shape, y.shape)"
   ]
  },
  {
   "cell_type": "code",
   "execution_count": 76,
   "metadata": {},
   "outputs": [
    {
     "name": "stdout",
     "output_type": "stream",
     "text": [
      "1.5199692249298096 seconds\n"
     ]
    }
   ],
   "source": [
    "# Split for train and test datasets\n",
    "from sklearn.model_selection import train_test_split\n",
    "start = time.time()\n",
    "\n",
    "X_train, X_test, y_train, y_test = train_test_split(X, y, random_state=rng)\n",
    "end = time.time()\n",
    "print(f\"{end-start} seconds\")"
   ]
  },
  {
   "cell_type": "code",
   "execution_count": 77,
   "metadata": {},
   "outputs": [
    {
     "name": "stdout",
     "output_type": "stream",
     "text": [
      "2.288613796234131 seconds\n"
     ]
    }
   ],
   "source": [
    "# Try out a min/max scaler for the data if needed\n",
    "from sklearn.preprocessing import MinMaxScaler\n",
    "start = time.time()\n",
    "\n",
    "scaler = MinMaxScaler()\n",
    "X_train = scaler.fit_transform(X_train)\n",
    "X_test = scaler.transform(X_test)\n",
    "end = time.time()\n",
    "print(f\"{end-start} seconds\")"
   ]
  },
  {
   "cell_type": "code",
   "execution_count": 78,
   "metadata": {},
   "outputs": [
    {
     "name": "stdout",
     "output_type": "stream",
     "text": [
      "11.069297313690186 seconds\n"
     ]
    }
   ],
   "source": [
    "# SGDClassifier\n",
    "from sklearn.linear_model import SGDClassifier\n",
    "from sklearn.model_selection import GridSearchCV\n",
    "start = time.time()\n",
    "\n",
    "sgd = SGDClassifier(random_state=rng)\n",
    "sgd.fit(X_train, y_train)\n",
    "end = time.time()\n",
    "print(f\"{end-start} seconds\")"
   ]
  },
  {
   "cell_type": "code",
   "execution_count": 79,
   "metadata": {},
   "outputs": [
    {
     "name": "stdout",
     "output_type": "stream",
     "text": [
      "Accuracy Score: 91.73234426864416\n",
      "1.4033496379852295 seconds\n"
     ]
    }
   ],
   "source": [
    "# Perhaps trying this out with the 34 feature model may produce a better if unrealistic result.\n",
    "\n",
    "from sklearn.metrics import accuracy_score\n",
    "start = time.time()\n",
    "\n",
    "predictions = sgd.predict(X_test)\n",
    "y_transposed = (np.transpose(y_test)).flatten()\n",
    "print(f\"Accuracy Score: {accuracy_score(y_transposed, predictions)*100}\")\n",
    "end = time.time()\n",
    "print(f\"{end-start} seconds\")"
   ]
  },
  {
   "cell_type": "code",
   "execution_count": 80,
   "metadata": {
    "scrolled": true
   },
   "outputs": [
    {
     "data": {
      "text/html": [
       "<div>\n",
       "<style scoped>\n",
       "    .dataframe tbody tr th:only-of-type {\n",
       "        vertical-align: middle;\n",
       "    }\n",
       "\n",
       "    .dataframe tbody tr th {\n",
       "        vertical-align: top;\n",
       "    }\n",
       "\n",
       "    .dataframe thead th {\n",
       "        text-align: right;\n",
       "    }\n",
       "</style>\n",
       "<table border=\"1\" class=\"dataframe\">\n",
       "  <thead>\n",
       "    <tr style=\"text-align: right;\">\n",
       "      <th>Predicted Delays</th>\n",
       "      <th>Long Delay</th>\n",
       "      <th>On Time</th>\n",
       "      <th>Small Delay</th>\n",
       "    </tr>\n",
       "    <tr>\n",
       "      <th>Actual Delays</th>\n",
       "      <th></th>\n",
       "      <th></th>\n",
       "      <th></th>\n",
       "    </tr>\n",
       "  </thead>\n",
       "  <tbody>\n",
       "    <tr>\n",
       "      <th>Long Delay</th>\n",
       "      <td>66093</td>\n",
       "      <td>0</td>\n",
       "      <td>3047</td>\n",
       "    </tr>\n",
       "    <tr>\n",
       "      <th>On Time</th>\n",
       "      <td>0</td>\n",
       "      <td>283078</td>\n",
       "      <td>0</td>\n",
       "    </tr>\n",
       "    <tr>\n",
       "      <th>Small Delay</th>\n",
       "      <td>31749</td>\n",
       "      <td>0</td>\n",
       "      <td>36902</td>\n",
       "    </tr>\n",
       "  </tbody>\n",
       "</table>\n",
       "</div>"
      ],
      "text/plain": [
       "Predicted Delays  Long Delay  On Time  Small Delay\n",
       "Actual Delays                                     \n",
       "Long Delay             66093        0         3047\n",
       "On Time                    0   283078            0\n",
       "Small Delay            31749        0        36902"
      ]
     },
     "execution_count": 80,
     "metadata": {},
     "output_type": "execute_result"
    }
   ],
   "source": [
    "pd.crosstab(y_transposed, predictions, rownames=[\"Actual Delays\"], colnames=[\"Predicted Delays\"])"
   ]
  },
  {
   "cell_type": "code",
   "execution_count": 81,
   "metadata": {},
   "outputs": [],
   "source": [
    "# Trying this again by dropping variables that conflict with y\n",
    "X = X.drop(['DEP_TIME', 'ARR_TIME','DEPARTURE_DELAY_DUMMY','ARRIVAL_DELAY_DUMMY'], axis = 1)"
   ]
  },
  {
   "cell_type": "code",
   "execution_count": 82,
   "metadata": {},
   "outputs": [
    {
     "name": "stdout",
     "output_type": "stream",
     "text": [
      "1.4039931297302246 seconds\n"
     ]
    }
   ],
   "source": [
    "# Split for train and test datasets\n",
    "from sklearn.model_selection import train_test_split\n",
    "start = time.time()\n",
    "\n",
    "X_train, X_test, y_train, y_test = train_test_split(X, y, random_state=rng)\n",
    "end = time.time()\n",
    "print(f\"{end-start} seconds\")"
   ]
  },
  {
   "cell_type": "code",
   "execution_count": 83,
   "metadata": {},
   "outputs": [
    {
     "name": "stdout",
     "output_type": "stream",
     "text": [
      "2.0187394618988037 seconds\n"
     ]
    }
   ],
   "source": [
    "# Try out a min/max scaler for the data if needed\n",
    "from sklearn.preprocessing import MinMaxScaler\n",
    "start = time.time()\n",
    "\n",
    "scaler = MinMaxScaler()\n",
    "X_train = scaler.fit_transform(X_train)\n",
    "X_test = scaler.transform(X_test)\n",
    "end = time.time()\n",
    "print(f\"{end-start} seconds\")"
   ]
  },
  {
   "cell_type": "code",
   "execution_count": 84,
   "metadata": {},
   "outputs": [
    {
     "name": "stdout",
     "output_type": "stream",
     "text": [
      "13.720370769500732 seconds\n"
     ]
    }
   ],
   "source": [
    "# SGDClassifier\n",
    "from sklearn.linear_model import SGDClassifier\n",
    "from sklearn.model_selection import GridSearchCV\n",
    "start = time.time()\n",
    "\n",
    "sgd = SGDClassifier(random_state=rng)\n",
    "sgd.fit(X_train, y_train)\n",
    "end = time.time()\n",
    "print(f\"{end-start} seconds\")"
   ]
  },
  {
   "cell_type": "code",
   "execution_count": 85,
   "metadata": {},
   "outputs": [
    {
     "name": "stdout",
     "output_type": "stream",
     "text": [
      "Accuracy Score: 70.40409248483495\n",
      "1.7947876453399658 seconds\n"
     ]
    }
   ],
   "source": [
    "# Further proof that using this model with 3 categories is highly dependent on variables that are unrealistic to have for\n",
    "# predictions.\n",
    "\n",
    "from sklearn.metrics import accuracy_score\n",
    "start = time.time()\n",
    "\n",
    "predictions = sgd.predict(X_test)\n",
    "y_transposed = (np.transpose(y_test)).flatten()\n",
    "print(f\"Accuracy Score: {accuracy_score(y_transposed, predictions)*100}\")\n",
    "end = time.time()\n",
    "print(f\"{end-start} seconds\")"
   ]
  },
  {
   "cell_type": "code",
   "execution_count": 86,
   "metadata": {
    "scrolled": true
   },
   "outputs": [
    {
     "data": {
      "text/html": [
       "<div>\n",
       "<style scoped>\n",
       "    .dataframe tbody tr th:only-of-type {\n",
       "        vertical-align: middle;\n",
       "    }\n",
       "\n",
       "    .dataframe tbody tr th {\n",
       "        vertical-align: top;\n",
       "    }\n",
       "\n",
       "    .dataframe thead th {\n",
       "        text-align: right;\n",
       "    }\n",
       "</style>\n",
       "<table border=\"1\" class=\"dataframe\">\n",
       "  <thead>\n",
       "    <tr style=\"text-align: right;\">\n",
       "      <th>Predicted Delays</th>\n",
       "      <th>Long Delay</th>\n",
       "      <th>On Time</th>\n",
       "    </tr>\n",
       "    <tr>\n",
       "      <th>Actual Delays</th>\n",
       "      <th></th>\n",
       "      <th></th>\n",
       "    </tr>\n",
       "  </thead>\n",
       "  <tbody>\n",
       "    <tr>\n",
       "      <th>Long Delay</th>\n",
       "      <td>13269</td>\n",
       "      <td>55871</td>\n",
       "    </tr>\n",
       "    <tr>\n",
       "      <th>On Time</th>\n",
       "      <td>38</td>\n",
       "      <td>283040</td>\n",
       "    </tr>\n",
       "    <tr>\n",
       "      <th>Small Delay</th>\n",
       "      <td>4</td>\n",
       "      <td>68647</td>\n",
       "    </tr>\n",
       "  </tbody>\n",
       "</table>\n",
       "</div>"
      ],
      "text/plain": [
       "Predicted Delays  Long Delay  On Time\n",
       "Actual Delays                        \n",
       "Long Delay             13269    55871\n",
       "On Time                   38   283040\n",
       "Small Delay                4    68647"
      ]
     },
     "execution_count": 86,
     "metadata": {},
     "output_type": "execute_result"
    }
   ],
   "source": [
    "pd.crosstab(y_transposed, predictions, rownames=[\"Actual Delays\"], colnames=[\"Predicted Delays\"])"
   ]
  },
  {
   "cell_type": "markdown",
   "metadata": {},
   "source": [
    "#### ARRIVAL DELAY 26 FEATURES SGBCLASSIFIER SCALED (76.39%)"
   ]
  },
  {
   "cell_type": "code",
   "execution_count": 102,
   "metadata": {
    "scrolled": true
   },
   "outputs": [
    {
     "name": "stdout",
     "output_type": "stream",
     "text": [
      "(1683475, 26) (1683475, 1)\n"
     ]
    }
   ],
   "source": [
    "# Arrival Delay 26 features using SGDclassification\n",
    "\n",
    "X = delays_df[[\"DAY\", \"MONTH\", \"DEP_TIME\", \"DEP_DELAY\", \"DEPARTURE_TIME_OF_DAY_DUMMY\", \\\n",
    "              \"OP_CARRIER_FL_NUM\", \"TAXI_OUT\", \"AIR_TIME\", \"TAXI_IN\", \"WHEELS_ON\", \"WHEELS_OFF\",\\\n",
    "              \"ARRIVAL_TIME_OF_DAY_DUMMY\", \"CARRIER_DELAY\", \"DISTANCE\", \"WEEKDAY_DUMMY\", \"AIRLINE_DUMMY\", \\\n",
    "       \"WEATHER_DELAY\", \"NAS_DELAY\", \"SECURITY_DELAY\", \"LATE_AIRCRAFT_DELAY\", \"CANCELLED\", \"DIVERTED\", \\\n",
    "              \"EAST_COAST_ORIGIN\", \"WEST_COAST_ORIGIN\", \"EAST_COAST_DEST\", \"WEST_COAST_DEST\",]]\n",
    "y = delays_df[\"ARRIVAL_DELAY\"].values.reshape(-1, 1)\n",
    "print(X.shape, y.shape)"
   ]
  },
  {
   "cell_type": "code",
   "execution_count": 103,
   "metadata": {},
   "outputs": [
    {
     "name": "stdout",
     "output_type": "stream",
     "text": [
      "1.4695534706115723 seconds\n"
     ]
    }
   ],
   "source": [
    "# Split for train and test datasets\n",
    "from sklearn.model_selection import train_test_split\n",
    "start = time.time()\n",
    "\n",
    "X_train, X_test, y_train, y_test = train_test_split(X, y, random_state=rng)\n",
    "end = time.time()\n",
    "print(f\"{end-start} seconds\")"
   ]
  },
  {
   "cell_type": "code",
   "execution_count": 104,
   "metadata": {},
   "outputs": [
    {
     "name": "stdout",
     "output_type": "stream",
     "text": [
      "1.7988338470458984 seconds\n"
     ]
    }
   ],
   "source": [
    "# Try out a min/max scaler for the data if needed\n",
    "from sklearn.preprocessing import MinMaxScaler\n",
    "start = time.time()\n",
    "\n",
    "scaler = MinMaxScaler()\n",
    "X_train = scaler.fit_transform(X_train)\n",
    "X_test = scaler.transform(X_test)\n",
    "end = time.time()\n",
    "print(f\"{end-start} seconds\")"
   ]
  },
  {
   "cell_type": "code",
   "execution_count": 105,
   "metadata": {
    "scrolled": true
   },
   "outputs": [
    {
     "name": "stdout",
     "output_type": "stream",
     "text": [
      "6.722989559173584 seconds\n"
     ]
    }
   ],
   "source": [
    "# SGDClassifier\n",
    "from sklearn.linear_model import SGDClassifier\n",
    "from sklearn.model_selection import GridSearchCV\n",
    "start = time.time()\n",
    "\n",
    "sgd = SGDClassifier(random_state=rng)\n",
    "sgd.fit(X_train, y_train)\n",
    "end = time.time()\n",
    "print(f\"{end-start} seconds\")"
   ]
  },
  {
   "cell_type": "code",
   "execution_count": 106,
   "metadata": {},
   "outputs": [
    {
     "name": "stdout",
     "output_type": "stream",
     "text": [
      "Accuracy Score: 76.38790217383557\n",
      "3.3022053241729736 seconds\n"
     ]
    }
   ],
   "source": [
    "# Eh not that best way to start off. The best score for any of the arrival models is .8896 and this does not cut it.\n",
    "\n",
    "from sklearn.metrics import accuracy_score\n",
    "start = time.time()\n",
    "\n",
    "predictions = sgd.predict(X_test)\n",
    "y_transposed = (np.transpose(y_test)).flatten()\n",
    "print(f\"Accuracy Score: {accuracy_score(y_transposed, predictions)*100}\")\n",
    "end = time.time()\n",
    "print(f\"{end-start} seconds\")"
   ]
  },
  {
   "cell_type": "code",
   "execution_count": 107,
   "metadata": {
    "scrolled": true
   },
   "outputs": [
    {
     "data": {
      "text/html": [
       "<div>\n",
       "<style scoped>\n",
       "    .dataframe tbody tr th:only-of-type {\n",
       "        vertical-align: middle;\n",
       "    }\n",
       "\n",
       "    .dataframe tbody tr th {\n",
       "        vertical-align: top;\n",
       "    }\n",
       "\n",
       "    .dataframe thead th {\n",
       "        text-align: right;\n",
       "    }\n",
       "</style>\n",
       "<table border=\"1\" class=\"dataframe\">\n",
       "  <thead>\n",
       "    <tr style=\"text-align: right;\">\n",
       "      <th>Predicted Delays</th>\n",
       "      <th>Delayed</th>\n",
       "      <th>On Time</th>\n",
       "    </tr>\n",
       "    <tr>\n",
       "      <th>Actual Delays</th>\n",
       "      <th></th>\n",
       "      <th></th>\n",
       "    </tr>\n",
       "  </thead>\n",
       "  <tbody>\n",
       "    <tr>\n",
       "      <th>Delayed</th>\n",
       "      <td>39558</td>\n",
       "      <td>98318</td>\n",
       "    </tr>\n",
       "    <tr>\n",
       "      <th>On Time</th>\n",
       "      <td>1058</td>\n",
       "      <td>281935</td>\n",
       "    </tr>\n",
       "  </tbody>\n",
       "</table>\n",
       "</div>"
      ],
      "text/plain": [
       "Predicted Delays  Delayed  On Time\n",
       "Actual Delays                     \n",
       "Delayed             39558    98318\n",
       "On Time              1058   281935"
      ]
     },
     "execution_count": 107,
     "metadata": {},
     "output_type": "execute_result"
    }
   ],
   "source": [
    "pd.crosstab(y_transposed, predictions, rownames=[\"Actual Delays\"], colnames=[\"Predicted Delays\"])"
   ]
  },
  {
   "cell_type": "markdown",
   "metadata": {},
   "source": [
    "#### ARRIVAL DELAY 33 FEATURES SCALED SGBCLASSIFIER (82.27%)"
   ]
  },
  {
   "cell_type": "code",
   "execution_count": 110,
   "metadata": {},
   "outputs": [
    {
     "name": "stdout",
     "output_type": "stream",
     "text": [
      "(1683475, 33) (1683475, 1)\n"
     ]
    }
   ],
   "source": [
    "# Try out the 33 feature model minus the arrival delay dummy variable\n",
    "\n",
    "y = delays_df[\"ARRIVAL_DELAY\"].values.reshape(-1, 1)\n",
    "\n",
    "numerics = ['int16', 'int32', 'int64', 'float16', 'float32', 'float64']\n",
    "X = delays_df.select_dtypes(include=numerics)\n",
    "X = X.drop(['DEPARTURE_TIME_OF_DAY_DUMMY', 'DEP_DELAY', 'DEPARTURE_DELAY_OVER_15_MINUTES', 'DEPARTURE_DELAY_OVER_30_MINUTES', \\\n",
    "            'DEPARTURE_DELAY_OVER_45_MINUTES', 'DEPARTURE_DELAY_OVER_60_MINUTES', \\\n",
    "            'ARR_DELAY', 'ARRIVAL_DELAY_OVER_15_MINUTES', 'ARRIVAL_DELAY_OVER_30_MINUTES', \\\n",
    "            'ARRIVAL_DELAY_OVER_45_MINUTES', 'ARRIVAL_DELAY_OVER_60_MINUTES', \\\n",
    "            'ARRIVAL_DELAY_OVER_60_MINUTES.1', 'ARRIVAL_TIME_OF_DAY_DUMMY', 'ARRIVAL_DELAY_DUMMY'], axis = 1)\n",
    "\n",
    "print(X.shape, y.shape)"
   ]
  },
  {
   "cell_type": "code",
   "execution_count": 111,
   "metadata": {},
   "outputs": [
    {
     "name": "stdout",
     "output_type": "stream",
     "text": [
      "1.5790274143218994 seconds\n"
     ]
    }
   ],
   "source": [
    "# Split for train and test datasets\n",
    "from sklearn.model_selection import train_test_split\n",
    "start = time.time()\n",
    "\n",
    "X_train, X_test, y_train, y_test = train_test_split(X, y, random_state=rng)\n",
    "end = time.time()\n",
    "print(f\"{end-start} seconds\")"
   ]
  },
  {
   "cell_type": "code",
   "execution_count": 112,
   "metadata": {},
   "outputs": [
    {
     "name": "stdout",
     "output_type": "stream",
     "text": [
      "2.3608081340789795 seconds\n"
     ]
    }
   ],
   "source": [
    "# Try out a min/max scaler for the data if needed\n",
    "from sklearn.preprocessing import MinMaxScaler\n",
    "start = time.time()\n",
    "\n",
    "scaler = MinMaxScaler()\n",
    "X_train = scaler.fit_transform(X_train)\n",
    "X_test = scaler.transform(X_test)\n",
    "end = time.time()\n",
    "print(f\"{end-start} seconds\")"
   ]
  },
  {
   "cell_type": "code",
   "execution_count": 113,
   "metadata": {},
   "outputs": [
    {
     "name": "stdout",
     "output_type": "stream",
     "text": [
      "7.064920663833618 seconds\n"
     ]
    }
   ],
   "source": [
    "# SGDClassifier\n",
    "from sklearn.linear_model import SGDClassifier\n",
    "from sklearn.model_selection import GridSearchCV\n",
    "start = time.time()\n",
    "\n",
    "sgd = SGDClassifier(random_state=rng)\n",
    "sgd.fit(X_train, y_train)\n",
    "end = time.time()\n",
    "print(f\"{end-start} seconds\")"
   ]
  },
  {
   "cell_type": "code",
   "execution_count": 114,
   "metadata": {
    "scrolled": true
   },
   "outputs": [
    {
     "name": "stdout",
     "output_type": "stream",
     "text": [
      "Accuracy Score: 82.27025511501203\n",
      "3.7160470485687256 seconds\n"
     ]
    }
   ],
   "source": [
    "# This is better but not anything better than what we were getting with other models.\n",
    "\n",
    "from sklearn.metrics import accuracy_score\n",
    "start = time.time()\n",
    "\n",
    "predictions = sgd.predict(X_test)\n",
    "y_transposed = (np.transpose(y_test)).flatten()\n",
    "print(f\"Accuracy Score: {accuracy_score(y_transposed, predictions)*100}\")\n",
    "end = time.time()\n",
    "print(f\"{end-start} seconds\")"
   ]
  },
  {
   "cell_type": "code",
   "execution_count": 115,
   "metadata": {
    "scrolled": true
   },
   "outputs": [
    {
     "data": {
      "text/html": [
       "<div>\n",
       "<style scoped>\n",
       "    .dataframe tbody tr th:only-of-type {\n",
       "        vertical-align: middle;\n",
       "    }\n",
       "\n",
       "    .dataframe tbody tr th {\n",
       "        vertical-align: top;\n",
       "    }\n",
       "\n",
       "    .dataframe thead th {\n",
       "        text-align: right;\n",
       "    }\n",
       "</style>\n",
       "<table border=\"1\" class=\"dataframe\">\n",
       "  <thead>\n",
       "    <tr style=\"text-align: right;\">\n",
       "      <th>Predicted Delays</th>\n",
       "      <th>Delayed</th>\n",
       "      <th>On Time</th>\n",
       "    </tr>\n",
       "    <tr>\n",
       "      <th>Actual Delays</th>\n",
       "      <th></th>\n",
       "      <th></th>\n",
       "    </tr>\n",
       "  </thead>\n",
       "  <tbody>\n",
       "    <tr>\n",
       "      <th>Delayed</th>\n",
       "      <td>102912</td>\n",
       "      <td>34964</td>\n",
       "    </tr>\n",
       "    <tr>\n",
       "      <th>On Time</th>\n",
       "      <td>39655</td>\n",
       "      <td>243338</td>\n",
       "    </tr>\n",
       "  </tbody>\n",
       "</table>\n",
       "</div>"
      ],
      "text/plain": [
       "Predicted Delays  Delayed  On Time\n",
       "Actual Delays                     \n",
       "Delayed            102912    34964\n",
       "On Time             39655   243338"
      ]
     },
     "execution_count": 115,
     "metadata": {},
     "output_type": "execute_result"
    }
   ],
   "source": [
    "pd.crosstab(y_transposed, predictions, rownames=[\"Actual Delays\"], colnames=[\"Predicted Delays\"])"
   ]
  },
  {
   "cell_type": "markdown",
   "metadata": {},
   "source": [
    "#### ARRIVAL DELAY OVER 15 MINUTES 33 FEATURES SCALED SGBCLASSIFIER (83.73%)"
   ]
  },
  {
   "cell_type": "code",
   "execution_count": 116,
   "metadata": {},
   "outputs": [
    {
     "name": "stdout",
     "output_type": "stream",
     "text": [
      "(1683475, 33) (1683475, 1)\n"
     ]
    }
   ],
   "source": [
    "# Try out the 33 feature model minus the arrival delay dummy variable\n",
    "\n",
    "y = delays_df[\"ARRIVAL_DELAY_OVER_15_MINUTES\"].values.reshape(-1, 1)\n",
    "\n",
    "numerics = ['int16', 'int32', 'int64', 'float16', 'float32', 'float64']\n",
    "X = delays_df.select_dtypes(include=numerics)\n",
    "X = X.drop(['DEPARTURE_TIME_OF_DAY_DUMMY', 'DEP_DELAY', 'DEPARTURE_DELAY_OVER_15_MINUTES', 'DEPARTURE_DELAY_OVER_30_MINUTES', \\\n",
    "            'DEPARTURE_DELAY_OVER_45_MINUTES', 'DEPARTURE_DELAY_OVER_60_MINUTES', \\\n",
    "            'ARR_DELAY', 'ARRIVAL_DELAY_OVER_15_MINUTES', 'ARRIVAL_DELAY_OVER_30_MINUTES', \\\n",
    "            'ARRIVAL_DELAY_OVER_45_MINUTES', 'ARRIVAL_DELAY_OVER_60_MINUTES', \\\n",
    "            'ARRIVAL_DELAY_OVER_60_MINUTES.1', 'ARRIVAL_TIME_OF_DAY_DUMMY', 'ARRIVAL_DELAY_DUMMY'], axis = 1)\n",
    "\n",
    "print(X.shape, y.shape)"
   ]
  },
  {
   "cell_type": "code",
   "execution_count": 117,
   "metadata": {
    "scrolled": true
   },
   "outputs": [
    {
     "name": "stdout",
     "output_type": "stream",
     "text": [
      "1.3400073051452637 seconds\n"
     ]
    }
   ],
   "source": [
    "# Split for train and test datasets\n",
    "from sklearn.model_selection import train_test_split\n",
    "start = time.time()\n",
    "\n",
    "X_train, X_test, y_train, y_test = train_test_split(X, y, random_state=rng)\n",
    "end = time.time()\n",
    "print(f\"{end-start} seconds\")"
   ]
  },
  {
   "cell_type": "code",
   "execution_count": 118,
   "metadata": {},
   "outputs": [
    {
     "name": "stdout",
     "output_type": "stream",
     "text": [
      "2.400963544845581 seconds\n"
     ]
    }
   ],
   "source": [
    "# Try out a min/max scaler for the data if needed\n",
    "from sklearn.preprocessing import MinMaxScaler\n",
    "start = time.time()\n",
    "\n",
    "scaler = MinMaxScaler()\n",
    "X_train = scaler.fit_transform(X_train)\n",
    "X_test = scaler.transform(X_test)\n",
    "end = time.time()\n",
    "print(f\"{end-start} seconds\")"
   ]
  },
  {
   "cell_type": "code",
   "execution_count": 119,
   "metadata": {},
   "outputs": [
    {
     "name": "stdout",
     "output_type": "stream",
     "text": [
      "5.123867034912109 seconds\n"
     ]
    }
   ],
   "source": [
    "# SGDClassifier\n",
    "from sklearn.linear_model import SGDClassifier\n",
    "from sklearn.model_selection import GridSearchCV\n",
    "start = time.time()\n",
    "\n",
    "sgd = SGDClassifier(random_state=rng)\n",
    "sgd.fit(X_train, y_train)\n",
    "end = time.time()\n",
    "print(f\"{end-start} seconds\")"
   ]
  },
  {
   "cell_type": "code",
   "execution_count": 120,
   "metadata": {},
   "outputs": [
    {
     "name": "stdout",
     "output_type": "stream",
     "text": [
      "Accuracy Score: 83.7298541826554\n",
      "0.1680006980895996 seconds\n"
     ]
    }
   ],
   "source": [
    "# This is better but not anything better than what we were getting with other models either.\n",
    "\n",
    "from sklearn.metrics import accuracy_score\n",
    "start = time.time()\n",
    "\n",
    "predictions = sgd.predict(X_test)\n",
    "y_transposed = (np.transpose(y_test)).flatten()\n",
    "print(f\"Accuracy Score: {accuracy_score(y_transposed, predictions)*100}\")\n",
    "end = time.time()\n",
    "print(f\"{end-start} seconds\")"
   ]
  },
  {
   "cell_type": "code",
   "execution_count": 121,
   "metadata": {
    "scrolled": true
   },
   "outputs": [
    {
     "data": {
      "text/html": [
       "<div>\n",
       "<style scoped>\n",
       "    .dataframe tbody tr th:only-of-type {\n",
       "        vertical-align: middle;\n",
       "    }\n",
       "\n",
       "    .dataframe tbody tr th {\n",
       "        vertical-align: top;\n",
       "    }\n",
       "\n",
       "    .dataframe thead th {\n",
       "        text-align: right;\n",
       "    }\n",
       "</style>\n",
       "<table border=\"1\" class=\"dataframe\">\n",
       "  <thead>\n",
       "    <tr style=\"text-align: right;\">\n",
       "      <th>Predicted Delays</th>\n",
       "      <th>0</th>\n",
       "      <th>1</th>\n",
       "    </tr>\n",
       "    <tr>\n",
       "      <th>Actual Delays</th>\n",
       "      <th></th>\n",
       "      <th></th>\n",
       "    </tr>\n",
       "  </thead>\n",
       "  <tbody>\n",
       "    <tr>\n",
       "      <th>0</th>\n",
       "      <td>293157</td>\n",
       "      <td>12139</td>\n",
       "    </tr>\n",
       "    <tr>\n",
       "      <th>1</th>\n",
       "      <td>56337</td>\n",
       "      <td>59236</td>\n",
       "    </tr>\n",
       "  </tbody>\n",
       "</table>\n",
       "</div>"
      ],
      "text/plain": [
       "Predicted Delays       0      1\n",
       "Actual Delays                  \n",
       "0                 293157  12139\n",
       "1                  56337  59236"
      ]
     },
     "execution_count": 121,
     "metadata": {},
     "output_type": "execute_result"
    }
   ],
   "source": [
    "pd.crosstab(y_transposed, predictions, rownames=[\"Actual Delays\"], colnames=[\"Predicted Delays\"])"
   ]
  },
  {
   "cell_type": "markdown",
   "metadata": {},
   "source": [
    "#### ARRIVAL DELAY OVER 15 MINUTES 26 FEATURES SCALED SGBCLASSIFIER (72.54%)"
   ]
  },
  {
   "cell_type": "code",
   "execution_count": 124,
   "metadata": {},
   "outputs": [
    {
     "name": "stdout",
     "output_type": "stream",
     "text": [
      "(1683475, 26) (1683475, 1)\n"
     ]
    }
   ],
   "source": [
    "# Try out this model that produced the best score for a previous arrival delays model on delays of 15+ minutes.\n",
    "\n",
    "X = delays_df[[\"DAY\", \"MONTH\", \"DEP_TIME\", \"DEP_DELAY\", \"DEPARTURE_TIME_OF_DAY_DUMMY\", \\\n",
    "              \"OP_CARRIER_FL_NUM\", \"TAXI_OUT\", \"AIR_TIME\", \"TAXI_IN\", \"WHEELS_ON\", \"WHEELS_OFF\",\\\n",
    "              \"ARRIVAL_TIME_OF_DAY_DUMMY\", \"CARRIER_DELAY\", \"DISTANCE\", \"WEEKDAY_DUMMY\", \"AIRLINE_DUMMY\", \\\n",
    "       \"WEATHER_DELAY\", \"NAS_DELAY\", \"SECURITY_DELAY\", \"LATE_AIRCRAFT_DELAY\", \"CANCELLED\", \"DIVERTED\", \\\n",
    "              \"EAST_COAST_ORIGIN\", \"WEST_COAST_ORIGIN\", \"EAST_COAST_DEST\", \"WEST_COAST_DEST\",]]\n",
    "y = delays_df[\"ARRIVAL_DELAY_OVER_15_MINUTES\"].values.reshape(-1, 1)\n",
    "print(X.shape, y.shape)"
   ]
  },
  {
   "cell_type": "code",
   "execution_count": 125,
   "metadata": {},
   "outputs": [
    {
     "name": "stdout",
     "output_type": "stream",
     "text": [
      "1.2449698448181152 seconds\n"
     ]
    }
   ],
   "source": [
    "# Split for train and test datasets\n",
    "from sklearn.model_selection import train_test_split\n",
    "start = time.time()\n",
    "\n",
    "X_train, X_test, y_train, y_test = train_test_split(X, y, random_state=rng)\n",
    "end = time.time()\n",
    "print(f\"{end-start} seconds\")"
   ]
  },
  {
   "cell_type": "code",
   "execution_count": 126,
   "metadata": {},
   "outputs": [
    {
     "name": "stdout",
     "output_type": "stream",
     "text": [
      "2.0329737663269043 seconds\n"
     ]
    }
   ],
   "source": [
    "# Try out a min/max scaler for the data if needed\n",
    "from sklearn.preprocessing import MinMaxScaler\n",
    "start = time.time()\n",
    "\n",
    "scaler = MinMaxScaler()\n",
    "X_train = scaler.fit_transform(X_train)\n",
    "X_test = scaler.transform(X_test)\n",
    "end = time.time()\n",
    "print(f\"{end-start} seconds\")"
   ]
  },
  {
   "cell_type": "code",
   "execution_count": 127,
   "metadata": {},
   "outputs": [
    {
     "name": "stdout",
     "output_type": "stream",
     "text": [
      "4.787930011749268 seconds\n"
     ]
    }
   ],
   "source": [
    "# SGDClassifier\n",
    "from sklearn.linear_model import SGDClassifier\n",
    "from sklearn.model_selection import GridSearchCV\n",
    "start = time.time()\n",
    "\n",
    "sgd = SGDClassifier(random_state=rng)\n",
    "sgd.fit(X_train, y_train)\n",
    "end = time.time()\n",
    "print(f\"{end-start} seconds\")"
   ]
  },
  {
   "cell_type": "code",
   "execution_count": 128,
   "metadata": {
    "scrolled": true
   },
   "outputs": [
    {
     "name": "stdout",
     "output_type": "stream",
     "text": [
      "Accuracy Score: 72.53919865801473\n",
      "0.19199514389038086 seconds\n"
     ]
    }
   ],
   "source": [
    "# As I suspected, removing features significantly lowers the model accuracy.\n",
    "\n",
    "from sklearn.metrics import accuracy_score\n",
    "start = time.time()\n",
    "\n",
    "predictions = sgd.predict(X_test)\n",
    "y_transposed = (np.transpose(y_test)).flatten()\n",
    "print(f\"Accuracy Score: {accuracy_score(y_transposed, predictions)*100}\")\n",
    "end = time.time()\n",
    "print(f\"{end-start} seconds\")"
   ]
  },
  {
   "cell_type": "code",
   "execution_count": 130,
   "metadata": {},
   "outputs": [
    {
     "data": {
      "text/html": [
       "<div>\n",
       "<style scoped>\n",
       "    .dataframe tbody tr th:only-of-type {\n",
       "        vertical-align: middle;\n",
       "    }\n",
       "\n",
       "    .dataframe tbody tr th {\n",
       "        vertical-align: top;\n",
       "    }\n",
       "\n",
       "    .dataframe thead th {\n",
       "        text-align: right;\n",
       "    }\n",
       "</style>\n",
       "<table border=\"1\" class=\"dataframe\">\n",
       "  <thead>\n",
       "    <tr style=\"text-align: right;\">\n",
       "      <th>Predicted Delays</th>\n",
       "      <th>0</th>\n",
       "      <th>1</th>\n",
       "    </tr>\n",
       "    <tr>\n",
       "      <th>Actual Delays</th>\n",
       "      <th></th>\n",
       "      <th></th>\n",
       "    </tr>\n",
       "  </thead>\n",
       "  <tbody>\n",
       "    <tr>\n",
       "      <th>0</th>\n",
       "      <td>305295</td>\n",
       "      <td>1</td>\n",
       "    </tr>\n",
       "    <tr>\n",
       "      <th>1</th>\n",
       "      <td>115573</td>\n",
       "      <td>0</td>\n",
       "    </tr>\n",
       "  </tbody>\n",
       "</table>\n",
       "</div>"
      ],
      "text/plain": [
       "Predicted Delays       0  1\n",
       "Actual Delays              \n",
       "0                 305295  1\n",
       "1                 115573  0"
      ]
     },
     "execution_count": 130,
     "metadata": {},
     "output_type": "execute_result"
    }
   ],
   "source": [
    "pd.crosstab(y_transposed, predictions, rownames=[\"Actual Delays\"], colnames=[\"Predicted Delays\"])"
   ]
  },
  {
   "cell_type": "markdown",
   "metadata": {},
   "source": [
    "#### ARRIVAL DELAY 3 CATEGORIES 33 FEATURES SCALED SGBCLASSIFIER (79.26%)"
   ]
  },
  {
   "cell_type": "code",
   "execution_count": 131,
   "metadata": {},
   "outputs": [
    {
     "name": "stdout",
     "output_type": "stream",
     "text": [
      "(1683475, 33) (1683475, 1)\n"
     ]
    }
   ],
   "source": [
    "# Try out the 33 feature model minus the arrival delay dummy variable\n",
    "\n",
    "y = delays_df[\"ARRIVAL_DELAY_TEST\"].values.reshape(-1, 1)\n",
    "\n",
    "numerics = ['int16', 'int32', 'int64', 'float16', 'float32', 'float64']\n",
    "X = delays_df.select_dtypes(include=numerics)\n",
    "X = X.drop(['DEPARTURE_TIME_OF_DAY_DUMMY', 'DEP_DELAY', 'DEPARTURE_DELAY_OVER_15_MINUTES', 'DEPARTURE_DELAY_OVER_30_MINUTES', \\\n",
    "            'DEPARTURE_DELAY_OVER_45_MINUTES', 'DEPARTURE_DELAY_OVER_60_MINUTES', \\\n",
    "            'ARR_DELAY', 'ARRIVAL_DELAY_OVER_15_MINUTES', 'ARRIVAL_DELAY_OVER_30_MINUTES', \\\n",
    "            'ARRIVAL_DELAY_OVER_45_MINUTES', 'ARRIVAL_DELAY_OVER_60_MINUTES', \\\n",
    "            'ARRIVAL_DELAY_OVER_60_MINUTES.1', 'ARRIVAL_TIME_OF_DAY_DUMMY', 'ARRIVAL_DELAY_DUMMY'], axis = 1)\n",
    "\n",
    "print(X.shape, y.shape)"
   ]
  },
  {
   "cell_type": "code",
   "execution_count": 132,
   "metadata": {},
   "outputs": [
    {
     "name": "stdout",
     "output_type": "stream",
     "text": [
      "1.5709190368652344 seconds\n"
     ]
    }
   ],
   "source": [
    "# Split for train and test datasets\n",
    "from sklearn.model_selection import train_test_split\n",
    "start = time.time()\n",
    "\n",
    "X_train, X_test, y_train, y_test = train_test_split(X, y, random_state=rng)\n",
    "end = time.time()\n",
    "print(f\"{end-start} seconds\")"
   ]
  },
  {
   "cell_type": "code",
   "execution_count": 133,
   "metadata": {},
   "outputs": [
    {
     "name": "stdout",
     "output_type": "stream",
     "text": [
      "2.620950222015381 seconds\n"
     ]
    }
   ],
   "source": [
    "# Try out a min/max scaler for the data if needed\n",
    "from sklearn.preprocessing import MinMaxScaler\n",
    "start = time.time()\n",
    "\n",
    "scaler = MinMaxScaler()\n",
    "X_train = scaler.fit_transform(X_train)\n",
    "X_test = scaler.transform(X_test)\n",
    "end = time.time()\n",
    "print(f\"{end-start} seconds\")"
   ]
  },
  {
   "cell_type": "code",
   "execution_count": 134,
   "metadata": {},
   "outputs": [
    {
     "name": "stdout",
     "output_type": "stream",
     "text": [
      "13.653743267059326 seconds\n"
     ]
    }
   ],
   "source": [
    "# SGDClassifier\n",
    "from sklearn.linear_model import SGDClassifier\n",
    "from sklearn.model_selection import GridSearchCV\n",
    "start = time.time()\n",
    "\n",
    "sgd = SGDClassifier(random_state=rng)\n",
    "sgd.fit(X_train, y_train)\n",
    "end = time.time()\n",
    "print(f\"{end-start} seconds\")"
   ]
  },
  {
   "cell_type": "code",
   "execution_count": 135,
   "metadata": {
    "scrolled": true
   },
   "outputs": [
    {
     "name": "stdout",
     "output_type": "stream",
     "text": [
      "Accuracy Score: 79.26528207114328\n",
      "1.5239343643188477 seconds\n"
     ]
    }
   ],
   "source": [
    "#  Meh.  Perhaps it would be good to figure out which variables in the \n",
    "# entire model are significant like what was performed with the departure delay data.\n",
    "\n",
    "from sklearn.metrics import accuracy_score\n",
    "start = time.time()\n",
    "\n",
    "predictions = sgd.predict(X_test)\n",
    "y_transposed = (np.transpose(y_test)).flatten()\n",
    "print(f\"Accuracy Score: {accuracy_score(y_transposed, predictions)*100}\")\n",
    "end = time.time()\n",
    "print(f\"{end-start} seconds\")"
   ]
  },
  {
   "cell_type": "code",
   "execution_count": 136,
   "metadata": {
    "scrolled": true
   },
   "outputs": [
    {
     "data": {
      "text/html": [
       "<div>\n",
       "<style scoped>\n",
       "    .dataframe tbody tr th:only-of-type {\n",
       "        vertical-align: middle;\n",
       "    }\n",
       "\n",
       "    .dataframe tbody tr th {\n",
       "        vertical-align: top;\n",
       "    }\n",
       "\n",
       "    .dataframe thead th {\n",
       "        text-align: right;\n",
       "    }\n",
       "</style>\n",
       "<table border=\"1\" class=\"dataframe\">\n",
       "  <thead>\n",
       "    <tr style=\"text-align: right;\">\n",
       "      <th>Predicted Delays</th>\n",
       "      <th>Long Delay</th>\n",
       "      <th>On Time</th>\n",
       "      <th>Small Delay</th>\n",
       "    </tr>\n",
       "    <tr>\n",
       "      <th>Actual Delays</th>\n",
       "      <th></th>\n",
       "      <th></th>\n",
       "      <th></th>\n",
       "    </tr>\n",
       "  </thead>\n",
       "  <tbody>\n",
       "    <tr>\n",
       "      <th>Long Delay</th>\n",
       "      <td>57853</td>\n",
       "      <td>12060</td>\n",
       "      <td>89</td>\n",
       "    </tr>\n",
       "    <tr>\n",
       "      <th>On Time</th>\n",
       "      <td>7357</td>\n",
       "      <td>275631</td>\n",
       "      <td>5</td>\n",
       "    </tr>\n",
       "    <tr>\n",
       "      <th>Small Delay</th>\n",
       "      <td>19894</td>\n",
       "      <td>47861</td>\n",
       "      <td>119</td>\n",
       "    </tr>\n",
       "  </tbody>\n",
       "</table>\n",
       "</div>"
      ],
      "text/plain": [
       "Predicted Delays  Long Delay  On Time  Small Delay\n",
       "Actual Delays                                     \n",
       "Long Delay             57853    12060           89\n",
       "On Time                 7357   275631            5\n",
       "Small Delay            19894    47861          119"
      ]
     },
     "execution_count": 136,
     "metadata": {},
     "output_type": "execute_result"
    }
   ],
   "source": [
    "pd.crosstab(y_transposed, predictions, rownames=[\"Actual Delays\"], colnames=[\"Predicted Delays\"])"
   ]
  },
  {
   "cell_type": "code",
   "execution_count": 138,
   "metadata": {},
   "outputs": [
    {
     "data": {
      "text/html": [
       "<div>\n",
       "<style scoped>\n",
       "    .dataframe tbody tr th:only-of-type {\n",
       "        vertical-align: middle;\n",
       "    }\n",
       "\n",
       "    .dataframe tbody tr th {\n",
       "        vertical-align: top;\n",
       "    }\n",
       "\n",
       "    .dataframe thead th {\n",
       "        text-align: right;\n",
       "    }\n",
       "</style>\n",
       "<table border=\"1\" class=\"dataframe\">\n",
       "  <thead>\n",
       "    <tr style=\"text-align: right;\">\n",
       "      <th></th>\n",
       "      <th>Model</th>\n",
       "      <th>Model Type</th>\n",
       "      <th>Features</th>\n",
       "      <th>Test Data R2</th>\n",
       "    </tr>\n",
       "  </thead>\n",
       "  <tbody>\n",
       "    <tr>\n",
       "      <th>0</th>\n",
       "      <td>Depature Delay</td>\n",
       "      <td>Scaled SGD+PCA+Grid</td>\n",
       "      <td>10</td>\n",
       "      <td>0.6799</td>\n",
       "    </tr>\n",
       "    <tr>\n",
       "      <th>1</th>\n",
       "      <td></td>\n",
       "      <td>Scaled SGD</td>\n",
       "      <td>30</td>\n",
       "      <td>0.6726</td>\n",
       "    </tr>\n",
       "    <tr>\n",
       "      <th>2</th>\n",
       "      <td>Departure Delay 15+ Minutes</td>\n",
       "      <td>Scaled SGD+PCA</td>\n",
       "      <td>10</td>\n",
       "      <td>0.9900</td>\n",
       "    </tr>\n",
       "    <tr>\n",
       "      <th>3</th>\n",
       "      <td>Departure Delay 3 Categories</td>\n",
       "      <td>Scaled SGD+PCA</td>\n",
       "      <td>10</td>\n",
       "      <td>0.6726</td>\n",
       "    </tr>\n",
       "    <tr>\n",
       "      <th>4</th>\n",
       "      <td>Arrival Delay</td>\n",
       "      <td>Scaled SGD</td>\n",
       "      <td>26</td>\n",
       "      <td>0.7639</td>\n",
       "    </tr>\n",
       "    <tr>\n",
       "      <th>5</th>\n",
       "      <td></td>\n",
       "      <td>Scaled SGD</td>\n",
       "      <td>33</td>\n",
       "      <td>0.8273</td>\n",
       "    </tr>\n",
       "    <tr>\n",
       "      <th>6</th>\n",
       "      <td>Arrival Delay 15+ Minutes</td>\n",
       "      <td>Scaled SGD</td>\n",
       "      <td>33</td>\n",
       "      <td>0.8373</td>\n",
       "    </tr>\n",
       "    <tr>\n",
       "      <th>7</th>\n",
       "      <td></td>\n",
       "      <td>Scaled SGD</td>\n",
       "      <td>26</td>\n",
       "      <td>0.7254</td>\n",
       "    </tr>\n",
       "    <tr>\n",
       "      <th>8</th>\n",
       "      <td>Arrival Delay 3 Categories</td>\n",
       "      <td>Scaled SGD</td>\n",
       "      <td>33</td>\n",
       "      <td>0.7926</td>\n",
       "    </tr>\n",
       "  </tbody>\n",
       "</table>\n",
       "</div>"
      ],
      "text/plain": [
       "                          Model           Model Type  Features  Test Data R2\n",
       "0                Depature Delay  Scaled SGD+PCA+Grid        10        0.6799\n",
       "1                                         Scaled SGD        30        0.6726\n",
       "2   Departure Delay 15+ Minutes       Scaled SGD+PCA        10        0.9900\n",
       "3  Departure Delay 3 Categories       Scaled SGD+PCA        10        0.6726\n",
       "4                 Arrival Delay           Scaled SGD        26        0.7639\n",
       "5                                         Scaled SGD        33        0.8273\n",
       "6     Arrival Delay 15+ Minutes           Scaled SGD        33        0.8373\n",
       "7                                         Scaled SGD        26        0.7254\n",
       "8    Arrival Delay 3 Categories           Scaled SGD        33        0.7926"
      ]
     },
     "execution_count": 138,
     "metadata": {},
     "output_type": "execute_result"
    }
   ],
   "source": [
    "SGD_ML_outcomes = {\n",
    "    \"Model\": [\"Depature Delay\", \"\", \"Departure Delay 15+ Minutes\", \"Departure Delay 3 Categories\", \\\n",
    "              \"Arrival Delay\", \"\", \"Arrival Delay 15+ Minutes\", \"\", \"Arrival Delay 3 Categories\"],\n",
    "    \n",
    "    \"Model Type\": [\"Scaled SGD+PCA+Grid\", \"Scaled SGD\", \"Scaled SGD+PCA\", \"Scaled SGD+PCA\", \\\n",
    "                   \"Scaled SGD\", \"Scaled SGD\", \"Scaled SGD\", \"Scaled SGD\", \"Scaled SGD\"],\n",
    "    \n",
    "    \"Features\": [10, 30, 10, 10, 26, 33, 33, 26, 33],\n",
    "    \n",
    "    \"Test Data R2\": [.6799, .6726, .99, .6726, .7639, .8273, .8373, .7254, .7926]\n",
    "    \n",
    "                }\n",
    "\n",
    "SGD_ML_outcomes_df = pd.DataFrame(SGD_ML_outcomes)\n",
    "SGD_ML_outcomes_df"
   ]
  }
 ],
 "metadata": {
  "kernelspec": {
   "display_name": "Python 3",
   "language": "python",
   "name": "python3"
  },
  "language_info": {
   "codemirror_mode": {
    "name": "ipython",
    "version": 3
   },
   "file_extension": ".py",
   "mimetype": "text/x-python",
   "name": "python",
   "nbconvert_exporter": "python",
   "pygments_lexer": "ipython3",
   "version": "3.7.4"
  }
 },
 "nbformat": 4,
 "nbformat_minor": 2
}
