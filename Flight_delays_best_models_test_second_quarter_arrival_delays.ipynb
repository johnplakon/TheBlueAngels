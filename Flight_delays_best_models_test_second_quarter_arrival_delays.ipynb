{
 "cells": [
  {
   "cell_type": "markdown",
   "metadata": {},
   "source": [
    "#### A Test to See How Our Best Models Predict Delays with the Real Data from the Second Quarter 2019!\n",
    "\n",
    "Unfortunately, arrival delay predictions were nowhere near the quality of their departure delay counterparts.  Perhaps this is due to the extra variance which can be seen when departure/arrival delays bar graphs are compared side by side.\n",
    "\n",
    "Like departure delays, arrival delay were tested in 3 scenarios:\n",
    "\n",
    "1) Arrival Delays\n",
    "\n",
    "2) Arrival Delays over 15 minutes\n",
    "\n",
    "3) Arrival Delays broken up into 3 subcategories:\n",
    "\n",
    "    1) Flight On Time\n",
    "\n",
    "    2) Flight Delayed less than or equal to 15 minutes\n",
    "\n",
    "    3) Flight Delayed over 15 minutes.\n",
    "    \n",
    "    \n",
    "While a model for departure delays of over 15 minutes was consistently producing an R2 score over 99%, the best outcome among the 3 scenarios was arrival delays over 15 minutes which produced an R2 score just under 71%.  More work would have to be done with this model to improve its prediction accuracy.\n",
    "\n",
    "While the linear models yielded good results, the categorical model once again fell short, this time producing an R2 score of just over 51%.  Perhaps it could be concluded that using a true/false variable outcome would work best for predicting both departure and arrival delays as both of those models held up the best with predictions against real data."
   ]
  },
  {
   "cell_type": "code",
   "execution_count": 2,
   "metadata": {},
   "outputs": [],
   "source": [
    "import pandas as pd\n",
    "import numpy as np\n",
    "import seaborn as sns\n",
    "import matplotlib.pyplot as plt\n",
    "%matplotlib inline\n",
    "\n",
    "import seaborn as sns\n",
    "import time\n",
    "\n",
    "import warnings\n",
    "warnings.simplefilter('ignore')\n",
    "\n",
    "# RNG used for seeding\n",
    "rng = int(np.random.randint(low=1, high=2000, size=1))"
   ]
  },
  {
   "cell_type": "code",
   "execution_count": 3,
   "metadata": {},
   "outputs": [],
   "source": [
    "# Get the first and second quarter in for comparision.\n",
    "delays_df = pd.read_csv(\"Delay_first_quarter1.csv\")"
   ]
  },
  {
   "cell_type": "code",
   "execution_count": 4,
   "metadata": {},
   "outputs": [],
   "source": [
    "delays_df2 = pd.read_csv(\"Delay_second_quarter2.csv\") "
   ]
  },
  {
   "cell_type": "code",
   "execution_count": 22,
   "metadata": {},
   "outputs": [],
   "source": [
    "# Fix for arrival delay over 15 minutes dummy variable\n",
    "delays_df[\"ARRIVAL_DELAY_OVER_15_MINUTES\"] = 1*np.ravel(delays_df[\"ARRIVAL_DELAY_TEST\"] == \"Long Delay\")\n",
    "delays_df2[\"ARRIVAL_DELAY_OVER_15_MINUTES\"] = 1*np.ravel(delays_df2[\"ARRIVAL_DELAY_TEST\"] == \"Long Delay\")"
   ]
  },
  {
   "cell_type": "code",
   "execution_count": 17,
   "metadata": {},
   "outputs": [
    {
     "data": {
      "text/html": [
       "<div>\n",
       "<style scoped>\n",
       "    .dataframe tbody tr th:only-of-type {\n",
       "        vertical-align: middle;\n",
       "    }\n",
       "\n",
       "    .dataframe tbody tr th {\n",
       "        vertical-align: top;\n",
       "    }\n",
       "\n",
       "    .dataframe thead th {\n",
       "        text-align: right;\n",
       "    }\n",
       "</style>\n",
       "<table border=\"1\" class=\"dataframe\">\n",
       "  <thead>\n",
       "    <tr style=\"text-align: right;\">\n",
       "      <th></th>\n",
       "      <th>Model Variable</th>\n",
       "      <th>Model Type</th>\n",
       "      <th>Features</th>\n",
       "      <th>Test Data R2</th>\n",
       "      <th>Second Quarter R2</th>\n",
       "    </tr>\n",
       "  </thead>\n",
       "  <tbody>\n",
       "    <tr>\n",
       "      <th>0</th>\n",
       "      <td>Depature Delay</td>\n",
       "      <td>Linear Regression</td>\n",
       "      <td>10</td>\n",
       "      <td>0.9431</td>\n",
       "      <td>0.94</td>\n",
       "    </tr>\n",
       "    <tr>\n",
       "      <th>1</th>\n",
       "      <td>Departure Delay Over 15 Minutes</td>\n",
       "      <td>Scaled Stochastic Gradient Descending + PCA</td>\n",
       "      <td>10</td>\n",
       "      <td>0.99</td>\n",
       "      <td>0.9977</td>\n",
       "    </tr>\n",
       "    <tr>\n",
       "      <th>2</th>\n",
       "      <td>Departure Delay 3 Categories</td>\n",
       "      <td>Scaled Stochastic Gradient Boosting</td>\n",
       "      <td>23</td>\n",
       "      <td>0.8121</td>\n",
       "      <td>0.5776</td>\n",
       "    </tr>\n",
       "    <tr>\n",
       "      <th>3</th>\n",
       "      <td></td>\n",
       "      <td></td>\n",
       "      <td></td>\n",
       "      <td></td>\n",
       "      <td></td>\n",
       "    </tr>\n",
       "    <tr>\n",
       "      <th>4</th>\n",
       "      <td>Arrival Delay</td>\n",
       "      <td>Linear Regression</td>\n",
       "      <td>16</td>\n",
       "      <td>0.9537</td>\n",
       "      <td>0.9609</td>\n",
       "    </tr>\n",
       "    <tr>\n",
       "      <th>5</th>\n",
       "      <td>Arrival Delay</td>\n",
       "      <td>Logistic Regression</td>\n",
       "      <td>18</td>\n",
       "      <td>0.8847</td>\n",
       "      <td>0.5172</td>\n",
       "    </tr>\n",
       "    <tr>\n",
       "      <th>6</th>\n",
       "      <td>Arrival Delay Over 15 Minutes</td>\n",
       "      <td>Scaled Stochastic Gradient Boosting</td>\n",
       "      <td>26</td>\n",
       "      <td>0.9977</td>\n",
       "      <td>0.7079</td>\n",
       "    </tr>\n",
       "    <tr>\n",
       "      <th>7</th>\n",
       "      <td>Arrival Delay 3 Categories</td>\n",
       "      <td>Logistic Regression</td>\n",
       "      <td>32</td>\n",
       "      <td>0.8981</td>\n",
       "      <td>0.5088</td>\n",
       "    </tr>\n",
       "    <tr>\n",
       "      <th>8</th>\n",
       "      <td></td>\n",
       "      <td></td>\n",
       "      <td></td>\n",
       "      <td></td>\n",
       "      <td></td>\n",
       "    </tr>\n",
       "  </tbody>\n",
       "</table>\n",
       "</div>"
      ],
      "text/plain": [
       "                    Model Variable  \\\n",
       "0                   Depature Delay   \n",
       "1  Departure Delay Over 15 Minutes   \n",
       "2     Departure Delay 3 Categories   \n",
       "3                                    \n",
       "4                    Arrival Delay   \n",
       "5                    Arrival Delay   \n",
       "6    Arrival Delay Over 15 Minutes   \n",
       "7       Arrival Delay 3 Categories   \n",
       "8                                    \n",
       "\n",
       "                                    Model Type Features Test Data R2  \\\n",
       "0                            Linear Regression       10       0.9431   \n",
       "1  Scaled Stochastic Gradient Descending + PCA       10         0.99   \n",
       "2          Scaled Stochastic Gradient Boosting       23       0.8121   \n",
       "3                                                                      \n",
       "4                            Linear Regression       16       0.9537   \n",
       "5                          Logistic Regression       18       0.8847   \n",
       "6          Scaled Stochastic Gradient Boosting       26       0.9977   \n",
       "7                          Logistic Regression       32       0.8981   \n",
       "8                                                                      \n",
       "\n",
       "  Second Quarter R2  \n",
       "0              0.94  \n",
       "1            0.9977  \n",
       "2            0.5776  \n",
       "3                    \n",
       "4            0.9609  \n",
       "5            0.5172  \n",
       "6            0.7079  \n",
       "7            0.5088  \n",
       "8                    "
      ]
     },
     "execution_count": 17,
     "metadata": {},
     "output_type": "execute_result"
    }
   ],
   "source": [
    "# Best models for the 6 tested dependent variables.\n",
    "# 4 over 95%, the other two over 89% and 81%.  Seems like it is time to compare with the real data.\n",
    "Best_model = {\n",
    "    \"Model Variable\": [\"Depature Delay\", \"Departure Delay Over 15 Minutes\", \"Departure Delay 3 Categories\", \"\", \\\n",
    "              \"Arrival Delay\", \"Arrival Delay\", \"Arrival Delay Over 15 Minutes\", \"Arrival Delay 3 Categories\", \"\"],\n",
    "    \n",
    "    \n",
    "    \n",
    "    \"Model Type\": [\"Linear Regression\", \"Scaled Stochastic Gradient Descending + PCA\", \\\n",
    "                   \"Scaled Stochastic Gradient Boosting\", \"\", \"Linear Regression\", \"Logistic Regression\", \\\n",
    "                   \"Scaled Stochastic Gradient Boosting\", \"Logistic Regression\", \"\"],\n",
    "    \n",
    "    \n",
    "    \n",
    "    \"Features\": [10, 10, 23, \"\", 16, 18, 26, 32, \"\"],\n",
    "    \n",
    "    \"Test Data R2\": [.9431, .99, .8121, \"\", .9537, .8847, .9977, .8981, \"\"],\n",
    "    \n",
    "    \"Second Quarter R2\": [.94, .9977, .5776, \"\", .9609, .5172, .7079, .5088, \"\"]\n",
    "    \n",
    "                }\n",
    "\n",
    "Best_model_df = pd.DataFrame(Best_model)\n",
    "Best_model_df"
   ]
  },
  {
   "cell_type": "markdown",
   "metadata": {},
   "source": [
    "#### BEST ARRIVAL DELAY MODEL -> ARRIVAL DELAY TIMES\n",
    "\n",
    "#### LINEAR REGRESSION WITH 16 FEATURES (96.09%)"
   ]
  },
  {
   "cell_type": "code",
   "execution_count": 7,
   "metadata": {},
   "outputs": [
    {
     "name": "stdout",
     "output_type": "stream",
     "text": [
      "(1683475, 16) (1683475, 1)\n"
     ]
    }
   ],
   "source": [
    "X = delays_df[[\"DAY\", \"MONTH\", \"OP_CARRIER_FL_NUM\", \"AIR_TIME\", \"DISTANCE\", \"WHEELS_OFF\", \"TAXI_OUT\", \\\n",
    "               \"DEPARTURE_TIME_OF_DAY_DUMMY\", \"DEPARTURE_DELAY_DUMMY\", \"CRS_ARR_TIME\", \"ARRIVAL_TIME_OF_DAY_DUMMY\", \\\n",
    "               \"CARRIER_DELAY\", \"WEATHER_DELAY\", \"NAS_DELAY\", \"SECURITY_DELAY\", \"LATE_AIRCRAFT_DELAY\"]]\n",
    "y = delays_df[\"ARR_DELAY\"].values.reshape(-1, 1)\n",
    "print(X.shape, y.shape)"
   ]
  },
  {
   "cell_type": "code",
   "execution_count": 10,
   "metadata": {},
   "outputs": [
    {
     "name": "stdout",
     "output_type": "stream",
     "text": [
      "4.680936813354492 seconds\n"
     ]
    }
   ],
   "source": [
    "from sklearn.model_selection import train_test_split\n",
    "from sklearn.preprocessing import StandardScaler\n",
    "start = time.time()\n",
    "\n",
    "X_train, X_test, y_train, y_test = train_test_split(X, y, random_state=rng)\n",
    "\n",
    "X_scaler = StandardScaler().fit(X_train)\n",
    "y_scaler = StandardScaler().fit(y_train)\n",
    "\n",
    "X_train_scaled = X_scaler.transform(X_train)\n",
    "X_test_scaled = X_scaler.transform(X_test)\n",
    "y_train_scaled = y_scaler.transform(y_train)\n",
    "y_test_scaled = y_scaler.transform(y_test)\n",
    "\n",
    "from sklearn.linear_model import LinearRegression\n",
    "model = LinearRegression()\n",
    "model.fit(X_train_scaled, y_train_scaled)\n",
    "end = time.time()\n",
    "print(f\"{end-start} seconds\")"
   ]
  },
  {
   "cell_type": "code",
   "execution_count": 12,
   "metadata": {},
   "outputs": [
    {
     "name": "stdout",
     "output_type": "stream",
     "text": [
      "MSE: 0.04566464809330771, R2: 0.9542262008069549\n"
     ]
    }
   ],
   "source": [
    "from sklearn.metrics import mean_squared_error\n",
    "\n",
    "predictions = model.predict(X_test_scaled)\n",
    "MSE = mean_squared_error(y_test_scaled, predictions)\n",
    "r2 = model.score(X_test_scaled, y_test_scaled)\n",
    "print(f\"MSE: {MSE}, R2: {r2}\")"
   ]
  },
  {
   "cell_type": "code",
   "execution_count": 13,
   "metadata": {},
   "outputs": [
    {
     "name": "stdout",
     "output_type": "stream",
     "text": [
      "(1816125, 16) (1816125, 1)\n"
     ]
    }
   ],
   "source": [
    "# Test out with the second quarter data\n",
    "X = delays_df2[[\"DAY\", \"MONTH\", \"OP_CARRIER_FL_NUM\", \"AIR_TIME\", \"DISTANCE\", \"WHEELS_OFF\", \"TAXI_OUT\", \\\n",
    "               \"DEPARTURE_TIME_OF_DAY_DUMMY\", \"DEPARTURE_DELAY_DUMMY\", \"CRS_ARR_TIME\", \"ARRIVAL_TIME_OF_DAY_DUMMY\", \\\n",
    "               \"CARRIER_DELAY\", \"WEATHER_DELAY\", \"NAS_DELAY\", \"SECURITY_DELAY\", \"LATE_AIRCRAFT_DELAY\"]]\n",
    "y = delays_df2[\"ARR_DELAY\"].values.reshape(-1, 1)\n",
    "print(X.shape, y.shape)"
   ]
  },
  {
   "cell_type": "code",
   "execution_count": 14,
   "metadata": {},
   "outputs": [],
   "source": [
    "from sklearn.model_selection import train_test_split\n",
    "from sklearn.preprocessing import StandardScaler\n",
    "start = time.time()\n",
    "\n",
    "X_train, X_test, y_train, y_test = train_test_split(X, y, random_state=rng)\n",
    "\n",
    "X_scaler = StandardScaler().fit(X_train)\n",
    "y_scaler = StandardScaler().fit(y_train)\n",
    "\n",
    "X_train_scaled = X_scaler.transform(X_train)\n",
    "X_test_scaled = X_scaler.transform(X_test)\n",
    "y_train_scaled = y_scaler.transform(y_train)\n",
    "y_test_scaled = y_scaler.transform(y_test)"
   ]
  },
  {
   "cell_type": "code",
   "execution_count": 16,
   "metadata": {},
   "outputs": [
    {
     "name": "stdout",
     "output_type": "stream",
     "text": [
      "MSE: 1.9665093232425084, R2: 0.9608624480993\n"
     ]
    }
   ],
   "source": [
    "# 96.09.  Not bad here again.\n",
    "MSE = mean_squared_error(y_test_scaled[:100000], predictions[:100000])\n",
    "r2 = model.score(X_test_scaled[:100000], y_test_scaled[:100000])\n",
    "print(f\"MSE: {MSE}, R2: {r2}\")"
   ]
  },
  {
   "cell_type": "markdown",
   "metadata": {},
   "source": [
    "#### BEST ARRIVAL DELAY MODEL -> ARRIVAL DELAY TIMES DUMMY\n",
    "\n",
    "#### LOGISTIC REGRESSION WITH 18 FEATURES "
   ]
  },
  {
   "cell_type": "code",
   "execution_count": 11,
   "metadata": {
    "scrolled": true
   },
   "outputs": [
    {
     "name": "stdout",
     "output_type": "stream",
     "text": [
      "(1683475, 18) (1683475, 1)\n"
     ]
    }
   ],
   "source": [
    "X = delays_df[[\"DAY\", \"MONTH\", \"DEP_TIME\", \"DEP_DELAY\", \"DEPARTURE_TIME_OF_DAY_DUMMY\", \\\n",
    "              \"OP_CARRIER_FL_NUM\", \"TAXI_OUT\", \"AIR_TIME\", \"TAXI_IN\", \\\n",
    "              \"ARRIVAL_TIME_OF_DAY_DUMMY\", \"CARRIER_DELAY\", \"DISTANCE\", \"WEEKDAY_DUMMY\", \"AIRLINE_DUMMY\", \\\n",
    "       \"WEATHER_DELAY\", \"NAS_DELAY\", \"SECURITY_DELAY\", \"LATE_AIRCRAFT_DELAY\",]]\n",
    "y = delays_df[\"ARRIVAL_DELAY\"].values.reshape(-1, 1)\n",
    "print(X.shape, y.shape)"
   ]
  },
  {
   "cell_type": "code",
   "execution_count": 12,
   "metadata": {},
   "outputs": [
    {
     "name": "stdout",
     "output_type": "stream",
     "text": [
      "72.26071691513062 seconds\n"
     ]
    }
   ],
   "source": [
    "from sklearn.model_selection import train_test_split\n",
    "from sklearn.linear_model import LogisticRegression\n",
    "start = time.time()\n",
    "\n",
    "X_train, X_test, y_train, y_test = train_test_split(X, y, random_state=rng)\n",
    "classifier = LogisticRegression(penalty='l2')\n",
    "classifier.fit(X_train, y_train)\n",
    "end = time.time()\n",
    "print(f\"{end-start} seconds\")"
   ]
  },
  {
   "cell_type": "code",
   "execution_count": 7,
   "metadata": {},
   "outputs": [
    {
     "name": "stdout",
     "output_type": "stream",
     "text": [
      "Accuracy Score: 88.47313534615284\n",
      "2.8837475776672363 seconds\n"
     ]
    }
   ],
   "source": [
    "from sklearn.metrics import accuracy_score\n",
    "start = time.time()\n",
    "\n",
    "predictions = classifier.predict(X_test)\n",
    "y_transposed = (np.transpose(y_test)).flatten()\n",
    "print(f\"Accuracy Score: {accuracy_score(y_test, predictions)*100}\")\n",
    "end = time.time()\n",
    "print(f\"{end-start} seconds\")"
   ]
  },
  {
   "cell_type": "code",
   "execution_count": 13,
   "metadata": {},
   "outputs": [
    {
     "name": "stdout",
     "output_type": "stream",
     "text": [
      "(1816125, 18) (1816125, 1)\n"
     ]
    }
   ],
   "source": [
    "# Try out using the second quarter data\n",
    "X = delays_df2[[\"DAY\", \"MONTH\", \"DEP_TIME\", \"DEP_DELAY\", \"DEPARTURE_TIME_OF_DAY_DUMMY\", \\\n",
    "              \"OP_CARRIER_FL_NUM\", \"TAXI_OUT\", \"AIR_TIME\", \"TAXI_IN\", \\\n",
    "              \"ARRIVAL_TIME_OF_DAY_DUMMY\", \"CARRIER_DELAY\", \"DISTANCE\", \"WEEKDAY_DUMMY\", \"AIRLINE_DUMMY\", \\\n",
    "       \"WEATHER_DELAY\", \"NAS_DELAY\", \"SECURITY_DELAY\", \"LATE_AIRCRAFT_DELAY\",]]\n",
    "y = delays_df2[\"ARRIVAL_DELAY\"].values.reshape(-1, 1)\n",
    "print(X.shape, y.shape)"
   ]
  },
  {
   "cell_type": "code",
   "execution_count": 9,
   "metadata": {},
   "outputs": [
    {
     "name": "stdout",
     "output_type": "stream",
     "text": [
      "103.186598777771 seconds\n"
     ]
    }
   ],
   "source": [
    "from sklearn.model_selection import train_test_split\n",
    "from sklearn.linear_model import LogisticRegression\n",
    "start = time.time()\n",
    "\n",
    "X_train, X_test, y_train, y_test = train_test_split(X, y, random_state=rng)\n",
    "classifier = LogisticRegression(penalty='l2')\n",
    "classifier.fit(X_train, y_train)\n",
    "end = time.time()\n",
    "print(f\"{end-start} seconds\")"
   ]
  },
  {
   "cell_type": "code",
   "execution_count": 16,
   "metadata": {},
   "outputs": [
    {
     "name": "stdout",
     "output_type": "stream",
     "text": [
      "Accuracy Score: 57.152\n",
      "0.6170988082885742 seconds\n"
     ]
    }
   ],
   "source": [
    "from sklearn.metrics import accuracy_score\n",
    "start = time.time()\n",
    "\n",
    "# predictions = classifier.predict(X_test)\n",
    "y_transposed = (np.transpose(y_test)).flatten()\n",
    "print(f\"Accuracy Score: {accuracy_score(y_test[:100000], predictions[:100000])*100}\")\n",
    "end = time.time()\n",
    "print(f\"{end-start} seconds\")"
   ]
  },
  {
   "cell_type": "code",
   "execution_count": null,
   "metadata": {},
   "outputs": [],
   "source": [
    "pd.crosstab(y_transposed[:100000], predictions[:100000], rownames=[\"Actual Delays\"], colnames=[\"Predicted Delays\"])"
   ]
  },
  {
   "cell_type": "markdown",
   "metadata": {},
   "source": [
    "#### BEST ARRIVAL DELAY OVER 15 MINUTES DUMMY\n",
    "\n",
    "#### SCALED STOCHASTIC GRADIENT BOOSTING 26 FEATURES (70.79%)"
   ]
  },
  {
   "cell_type": "code",
   "execution_count": 23,
   "metadata": {},
   "outputs": [
    {
     "name": "stdout",
     "output_type": "stream",
     "text": [
      "(1683475, 26) (1683475, 1)\n"
     ]
    }
   ],
   "source": [
    "X = delays_df[[\"DAY\", \"MONTH\", \"DEP_TIME\", \"DEP_DELAY\", \"DEPARTURE_TIME_OF_DAY_DUMMY\", \\\n",
    "              \"OP_CARRIER_FL_NUM\", \"TAXI_OUT\", \"AIR_TIME\", \"TAXI_IN\", \"WHEELS_ON\", \"WHEELS_OFF\",\\\n",
    "              \"ARRIVAL_TIME_OF_DAY_DUMMY\", \"CARRIER_DELAY\", \"DISTANCE\", \"WEEKDAY_DUMMY\", \"AIRLINE_DUMMY\", \\\n",
    "       \"WEATHER_DELAY\", \"NAS_DELAY\", \"SECURITY_DELAY\", \"LATE_AIRCRAFT_DELAY\", \"CANCELLED\", \"DIVERTED\", \\\n",
    "              \"EAST_COAST_ORIGIN\", \"WEST_COAST_ORIGIN\", \"EAST_COAST_DEST\", \"WEST_COAST_DEST\",]]\n",
    "y = delays_df[\"ARRIVAL_DELAY_OVER_15_MINUTES\"].values.reshape(-1, 1)\n",
    "print(X.shape, y.shape)"
   ]
  },
  {
   "cell_type": "code",
   "execution_count": 24,
   "metadata": {},
   "outputs": [
    {
     "name": "stdout",
     "output_type": "stream",
     "text": [
      "1.0739738941192627 seconds\n"
     ]
    }
   ],
   "source": [
    "# Split for train and test datasets\n",
    "from sklearn.model_selection import train_test_split\n",
    "start = time.time()\n",
    "\n",
    "X_train, X_test, y_train, y_test = train_test_split(X, y, random_state=rng)\n",
    "end = time.time()\n",
    "print(f\"{end-start} seconds\")"
   ]
  },
  {
   "cell_type": "code",
   "execution_count": 25,
   "metadata": {},
   "outputs": [
    {
     "name": "stdout",
     "output_type": "stream",
     "text": [
      "1.853917121887207 seconds\n"
     ]
    }
   ],
   "source": [
    "# Try out a min/max scaler for the data\n",
    "from sklearn.preprocessing import MinMaxScaler\n",
    "start = time.time()\n",
    "\n",
    "scaler = MinMaxScaler()\n",
    "X_train = scaler.fit_transform(X_train)\n",
    "X_test = scaler.transform(X_test)\n",
    "end = time.time()\n",
    "print(f\"{end-start} seconds\")"
   ]
  },
  {
   "cell_type": "code",
   "execution_count": 26,
   "metadata": {},
   "outputs": [
    {
     "name": "stdout",
     "output_type": "stream",
     "text": [
      "437.2535951137543 seconds\n"
     ]
    }
   ],
   "source": [
    "# Set up and fit the Gradient Booster\n",
    "\n",
    "from sklearn.ensemble import GradientBoostingClassifier\n",
    "start = time.time()\n",
    "\n",
    "gbc = GradientBoostingClassifier(n_estimators=100, random_state=rng)\n",
    "gbc.fit(X_train, y_train)\n",
    "end = time.time()\n",
    "print(f\"{end-start} seconds\")"
   ]
  },
  {
   "cell_type": "code",
   "execution_count": 27,
   "metadata": {},
   "outputs": [
    {
     "name": "stdout",
     "output_type": "stream",
     "text": [
      "Accuracy Score: 99.76833646574113\n",
      "2.445967197418213 seconds\n"
     ]
    }
   ],
   "source": [
    "# \n",
    "from sklearn.metrics import accuracy_score\n",
    "start = time.time()\n",
    "\n",
    "predictions = gbc.predict(X_test)\n",
    "prediction_p = gbc.predict_proba(X_test)\n",
    "y_transposed = (np.transpose(y_test)).flatten()\n",
    "print(f\"Accuracy Score: {accuracy_score(y_transposed, predictions)*100}\")\n",
    "end = time.time()\n",
    "print(f\"{end-start} seconds\")"
   ]
  },
  {
   "cell_type": "code",
   "execution_count": 28,
   "metadata": {},
   "outputs": [
    {
     "name": "stdout",
     "output_type": "stream",
     "text": [
      "(1816125, 26) (1816125, 1)\n"
     ]
    }
   ],
   "source": [
    "# Set up with second quarter data\n",
    "X = delays_df2[[\"DAY\", \"MONTH\", \"DEP_TIME\", \"DEP_DELAY\", \"DEPARTURE_TIME_OF_DAY_DUMMY\", \\\n",
    "              \"OP_CARRIER_FL_NUM\", \"TAXI_OUT\", \"AIR_TIME\", \"TAXI_IN\", \"WHEELS_ON\", \"WHEELS_OFF\",\\\n",
    "              \"ARRIVAL_TIME_OF_DAY_DUMMY\", \"CARRIER_DELAY\", \"DISTANCE\", \"WEEKDAY_DUMMY\", \"AIRLINE_DUMMY\", \\\n",
    "       \"WEATHER_DELAY\", \"NAS_DELAY\", \"SECURITY_DELAY\", \"LATE_AIRCRAFT_DELAY\", \"CANCELLED\", \"DIVERTED\", \\\n",
    "              \"EAST_COAST_ORIGIN\", \"WEST_COAST_ORIGIN\", \"EAST_COAST_DEST\", \"WEST_COAST_DEST\",]]\n",
    "\n",
    "y = delays_df2[\"ARRIVAL_DELAY_OVER_15_MINUTES\"].values.reshape(-1, 1)\n",
    "print(X.shape, y.shape)"
   ]
  },
  {
   "cell_type": "code",
   "execution_count": 29,
   "metadata": {},
   "outputs": [
    {
     "name": "stdout",
     "output_type": "stream",
     "text": [
      "1.1600158214569092 seconds\n"
     ]
    }
   ],
   "source": [
    "# Split for train and test datasets\n",
    "from sklearn.model_selection import train_test_split\n",
    "start = time.time()\n",
    "\n",
    "X_train, X_test, y_train, y_test = train_test_split(X, y, random_state=rng)\n",
    "end = time.time()\n",
    "print(f\"{end-start} seconds\")"
   ]
  },
  {
   "cell_type": "code",
   "execution_count": 30,
   "metadata": {},
   "outputs": [
    {
     "name": "stdout",
     "output_type": "stream",
     "text": [
      "1.8129653930664062 seconds\n"
     ]
    }
   ],
   "source": [
    "# Try out a min/max scaler for the data\n",
    "from sklearn.preprocessing import MinMaxScaler\n",
    "start = time.time()\n",
    "\n",
    "scaler = MinMaxScaler()\n",
    "X_train = scaler.fit_transform(X_train)\n",
    "X_test = scaler.transform(X_test)\n",
    "end = time.time()\n",
    "print(f\"{end-start} seconds\")"
   ]
  },
  {
   "cell_type": "code",
   "execution_count": 32,
   "metadata": {},
   "outputs": [
    {
     "name": "stdout",
     "output_type": "stream",
     "text": [
      "Accuracy Score: 70.787\n",
      "0.021996736526489258 seconds\n"
     ]
    }
   ],
   "source": [
    "# y_test is from the second quarter while predictions are for the first quarter of data\n",
    "# 70.787% is not bad.  Not great either.\n",
    "from sklearn.metrics import accuracy_score\n",
    "start = time.time()\n",
    "\n",
    "# predictions = gbc.predict(X_test)\n",
    "# prediction_p = gbc.predict_proba(X_test)\n",
    "y_transposed = (np.transpose(y_test)).flatten()\n",
    "print(f\"Accuracy Score: {accuracy_score(y_transposed[:100000], predictions[:100000])*100}\")\n",
    "end = time.time()\n",
    "print(f\"{end-start} seconds\")"
   ]
  },
  {
   "cell_type": "code",
   "execution_count": 33,
   "metadata": {},
   "outputs": [
    {
     "data": {
      "text/html": [
       "<div>\n",
       "<style scoped>\n",
       "    .dataframe tbody tr th:only-of-type {\n",
       "        vertical-align: middle;\n",
       "    }\n",
       "\n",
       "    .dataframe tbody tr th {\n",
       "        vertical-align: top;\n",
       "    }\n",
       "\n",
       "    .dataframe thead th {\n",
       "        text-align: right;\n",
       "    }\n",
       "</style>\n",
       "<table border=\"1\" class=\"dataframe\">\n",
       "  <thead>\n",
       "    <tr style=\"text-align: right;\">\n",
       "      <th>Predicted Delays</th>\n",
       "      <th>0</th>\n",
       "      <th>1</th>\n",
       "    </tr>\n",
       "    <tr>\n",
       "      <th>Actual Delays</th>\n",
       "      <th></th>\n",
       "      <th></th>\n",
       "    </tr>\n",
       "  </thead>\n",
       "  <tbody>\n",
       "    <tr>\n",
       "      <th>0</th>\n",
       "      <td>67649</td>\n",
       "      <td>13602</td>\n",
       "    </tr>\n",
       "    <tr>\n",
       "      <th>1</th>\n",
       "      <td>15611</td>\n",
       "      <td>3138</td>\n",
       "    </tr>\n",
       "  </tbody>\n",
       "</table>\n",
       "</div>"
      ],
      "text/plain": [
       "Predicted Delays      0      1\n",
       "Actual Delays                 \n",
       "0                 67649  13602\n",
       "1                 15611   3138"
      ]
     },
     "execution_count": 33,
     "metadata": {},
     "output_type": "execute_result"
    }
   ],
   "source": [
    "pd.crosstab(y_transposed[:100000], predictions[:100000], rownames=[\"Actual Delays\"], colnames=[\"Predicted Delays\"])"
   ]
  },
  {
   "cell_type": "markdown",
   "metadata": {},
   "source": [
    "#### BEST ARRIVAL DELAY 3 CATEGORIES\n",
    "\n",
    "#### LOGISTIC REGRESSION 32 FEATURES"
   ]
  },
  {
   "cell_type": "code",
   "execution_count": 35,
   "metadata": {},
   "outputs": [
    {
     "name": "stdout",
     "output_type": "stream",
     "text": [
      "(1683475, 32) (1683475, 1)\n"
     ]
    }
   ],
   "source": [
    "X = delays_df[[\"DAY\", \"MONTH\", \"DEP_TIME\", \"DEP_DELAY\", \"DEPARTURE_DELAY_DUMMY\", \"DEPARTURE_TIME_OF_DAY_DUMMY\", \\\n",
    "              \"OP_CARRIER_FL_NUM\", \"TAXI_OUT\", \"AIR_TIME\", \"TAXI_IN\", \"WHEELS_ON\", \"WHEELS_OFF\",\\\n",
    "              \"ARRIVAL_TIME_OF_DAY_DUMMY\", \"CARRIER_DELAY\", \"DISTANCE\", \"WEEKDAY_DUMMY\", \"AIRLINE_DUMMY\", \\\n",
    "              \"WEATHER_DELAY\", \"NAS_DELAY\", \"SECURITY_DELAY\", \"LATE_AIRCRAFT_DELAY\", \"CANCELLED\", \"DIVERTED\", \\\n",
    "              \"EAST_COAST_ORIGIN\", \"WEST_COAST_ORIGIN\", \"EAST_COAST_DEST\", \"WEST_COAST_DEST\", \"CRS_ARR_TIME\",\n",
    "              'ORIGIN_LATITUDE', 'ORIGIN_LONGITUDE', 'DEST_LATITUDE', 'DEST_LONGITUDE']]\n",
    "y = delays_df[\"ARRIVAL_DELAY_TEST\"].values.reshape(-1, 1)\n",
    "print(X.shape, y.shape)"
   ]
  },
  {
   "cell_type": "code",
   "execution_count": 36,
   "metadata": {},
   "outputs": [
    {
     "name": "stdout",
     "output_type": "stream",
     "text": [
      "1.434030532836914 seconds\n"
     ]
    }
   ],
   "source": [
    "# Split for train and test datasets\n",
    "from sklearn.model_selection import train_test_split\n",
    "start = time.time()\n",
    "\n",
    "X_train, X_test, y_train, y_test = train_test_split(X, y, random_state=rng)\n",
    "end = time.time()\n",
    "print(f\"{end-start} seconds\")"
   ]
  },
  {
   "cell_type": "code",
   "execution_count": 37,
   "metadata": {},
   "outputs": [
    {
     "name": "stdout",
     "output_type": "stream",
     "text": [
      "559.5249679088593 seconds\n"
     ]
    }
   ],
   "source": [
    "# Set up the logistic regression classifier\n",
    "\n",
    "from sklearn.linear_model import LogisticRegression\n",
    "start = time.time()\n",
    "\n",
    "classifier = LogisticRegression(penalty='l2')\n",
    "classifier.fit(X_train, y_train)\n",
    "end = time.time()\n",
    "print(f\"{end-start} seconds\")"
   ]
  },
  {
   "cell_type": "code",
   "execution_count": 38,
   "metadata": {},
   "outputs": [
    {
     "name": "stdout",
     "output_type": "stream",
     "text": [
      "Accuracy Score: 89.83365370222089\n",
      "1.5060200691223145 seconds\n"
     ]
    }
   ],
   "source": [
    "from sklearn.metrics import accuracy_score\n",
    "start = time.time()\n",
    "\n",
    "predictions = classifier.predict(X_test)\n",
    "y_transposed = (np.transpose(y_test)).flatten()\n",
    "print(f\"Accuracy Score: {accuracy_score(y_test, predictions)*100}\")\n",
    "end = time.time()\n",
    "print(f\"{end-start} seconds\")"
   ]
  },
  {
   "cell_type": "code",
   "execution_count": 43,
   "metadata": {},
   "outputs": [
    {
     "name": "stdout",
     "output_type": "stream",
     "text": [
      "(1816125, 32) (1816125, 1)\n"
     ]
    }
   ],
   "source": [
    "# Set up with the second quarter dataset\n",
    "\n",
    "X = delays_df2[[\"DAY\", \"MONTH\", \"DEP_TIME\", \"DEP_DELAY\", \"DEPARTURE_DELAY_DUMMY\", \"DEPARTURE_TIME_OF_DAY_DUMMY\", \\\n",
    "              \"OP_CARRIER_FL_NUM\", \"TAXI_OUT\", \"AIR_TIME\", \"TAXI_IN\", \"WHEELS_ON\", \"WHEELS_OFF\",\\\n",
    "              \"ARRIVAL_TIME_OF_DAY_DUMMY\", \"CARRIER_DELAY\", \"DISTANCE\", \"WEEKDAY_DUMMY\", \"AIRLINE_DUMMY\", \\\n",
    "              \"WEATHER_DELAY\", \"NAS_DELAY\", \"SECURITY_DELAY\", \"LATE_AIRCRAFT_DELAY\", \"CANCELLED\", \"DIVERTED\", \\\n",
    "              \"EAST_COAST_ORIGIN\", \"WEST_COAST_ORIGIN\", \"EAST_COAST_DEST\", \"WEST_COAST_DEST\", \"CRS_ARR_TIME\",\n",
    "              'ORIGIN_LATITUDE', 'ORIGIN_LONGITUDE', 'DEST_LATITUDE', 'DEST_LONGITUDE']]\n",
    "y = delays_df2[\"ARRIVAL_DELAY_TEST\"].values.reshape(-1, 1)\n",
    "print(X.shape, y.shape)"
   ]
  },
  {
   "cell_type": "code",
   "execution_count": 44,
   "metadata": {},
   "outputs": [
    {
     "name": "stdout",
     "output_type": "stream",
     "text": [
      "1.9675931930541992 seconds\n"
     ]
    }
   ],
   "source": [
    "# Split for train and test datasets\n",
    "from sklearn.model_selection import train_test_split\n",
    "start = time.time()\n",
    "\n",
    "X_train, X_test, y_train, y_test = train_test_split(X, y, random_state=rng)\n",
    "end = time.time()\n",
    "print(f\"{end-start} seconds\")"
   ]
  },
  {
   "cell_type": "code",
   "execution_count": 45,
   "metadata": {},
   "outputs": [
    {
     "name": "stdout",
     "output_type": "stream",
     "text": [
      "Accuracy Score: 50.88399999999999\n",
      "0.2689526081085205 seconds\n"
     ]
    }
   ],
   "source": [
    "# It seems that the categorical predictions may not work out here.\n",
    "from sklearn.metrics import accuracy_score\n",
    "start = time.time()\n",
    "\n",
    "# predictions = classifier.predict(X_test)\n",
    "y_transposed = (np.transpose(y_test)).flatten()\n",
    "print(f\"Accuracy Score: {accuracy_score(y_test[:100000], predictions[:100000])*100}\")\n",
    "end = time.time()\n",
    "print(f\"{end-start} seconds\")"
   ]
  },
  {
   "cell_type": "code",
   "execution_count": 42,
   "metadata": {},
   "outputs": [
    {
     "data": {
      "text/html": [
       "<div>\n",
       "<style scoped>\n",
       "    .dataframe tbody tr th:only-of-type {\n",
       "        vertical-align: middle;\n",
       "    }\n",
       "\n",
       "    .dataframe tbody tr th {\n",
       "        vertical-align: top;\n",
       "    }\n",
       "\n",
       "    .dataframe thead th {\n",
       "        text-align: right;\n",
       "    }\n",
       "</style>\n",
       "<table border=\"1\" class=\"dataframe\">\n",
       "  <thead>\n",
       "    <tr style=\"text-align: right;\">\n",
       "      <th>Predicted Delays</th>\n",
       "      <th>Long Delay</th>\n",
       "      <th>On Time</th>\n",
       "      <th>Small Delay</th>\n",
       "    </tr>\n",
       "    <tr>\n",
       "      <th>Actual Delays</th>\n",
       "      <th></th>\n",
       "      <th></th>\n",
       "      <th></th>\n",
       "    </tr>\n",
       "  </thead>\n",
       "  <tbody>\n",
       "    <tr>\n",
       "      <th>Long Delay</th>\n",
       "      <td>69830</td>\n",
       "      <td>9</td>\n",
       "      <td>43</td>\n",
       "    </tr>\n",
       "    <tr>\n",
       "      <th>On Time</th>\n",
       "      <td>0</td>\n",
       "      <td>270934</td>\n",
       "      <td>12156</td>\n",
       "    </tr>\n",
       "    <tr>\n",
       "      <th>Small Delay</th>\n",
       "      <td>2539</td>\n",
       "      <td>28040</td>\n",
       "      <td>37318</td>\n",
       "    </tr>\n",
       "  </tbody>\n",
       "</table>\n",
       "</div>"
      ],
      "text/plain": [
       "Predicted Delays  Long Delay  On Time  Small Delay\n",
       "Actual Delays                                     \n",
       "Long Delay             69830        9           43\n",
       "On Time                    0   270934        12156\n",
       "Small Delay             2539    28040        37318"
      ]
     },
     "execution_count": 42,
     "metadata": {},
     "output_type": "execute_result"
    }
   ],
   "source": [
    "pd.crosstab(y_transposed[:100000], predictions[:100000], rownames=[\"Actual Delays\"], colnames=[\"Predicted Delays\"])"
   ]
  }
 ],
 "metadata": {
  "kernelspec": {
   "display_name": "Python 3",
   "language": "python",
   "name": "python3"
  },
  "language_info": {
   "codemirror_mode": {
    "name": "ipython",
    "version": 3
   },
   "file_extension": ".py",
   "mimetype": "text/x-python",
   "name": "python",
   "nbconvert_exporter": "python",
   "pygments_lexer": "ipython3",
   "version": "3.7.4"
  }
 },
 "nbformat": 4,
 "nbformat_minor": 2
}
